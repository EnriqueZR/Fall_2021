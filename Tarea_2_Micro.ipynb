{
  "nbformat": 4,
  "nbformat_minor": 0,
  "metadata": {
    "colab": {
      "name": "Tarea_2_Micro.ipynb",
      "provenance": [],
      "include_colab_link": true
    },
    "kernelspec": {
      "display_name": "R",
      "name": "ir"
    },
    "language_info": {
      "name": "R"
    }
  },
  "cells": [
    {
      "cell_type": "markdown",
      "metadata": {
        "id": "view-in-github",
        "colab_type": "text"
      },
      "source": [
        "<a href=\"https://colab.research.google.com/github/EnriqueZR/Fall_2021/blob/main/Tarea_2_Micro.ipynb\" target=\"_parent\"><img src=\"https://colab.research.google.com/assets/colab-badge.svg\" alt=\"Open In Colab\"/></a>"
      ]
    },
    {
      "cell_type": "markdown",
      "metadata": {
        "id": "qp5nCO_jhyvd"
      },
      "source": [
        "Para esta tarea utilizaremos como base de datos la Encuesta Nacional de Ingreso y Gasto de los Hogares (ENIGH), que es una de las bases principales recabadas por INEGI. Esta encuesta se usa para generar estimaciones de desigualdad y de equipamiento de los hogares. Tambi ́en se emplea para entender c ́omo los hogares distribuyen su gasto, entre otras cosas. En esta tarea exploraremos la desigualdad de salarios entre hombres y mujeres con datos de 2020.\n"
      ]
    },
    {
      "cell_type": "code",
      "metadata": {
        "id": "euTtcZLNnVmF"
      },
      "source": [
        "install.packages('read.csv')"
      ],
      "execution_count": null,
      "outputs": []
    },
    {
      "cell_type": "code",
      "metadata": {
        "id": "BBJBZJhVSGfJ"
      },
      "source": [
        "#Paquetes necesarios:\n",
        "install.packages('tidyverse')\n",
        "install.packages('stargazer')\n",
        "install.packages('haven')"
      ],
      "execution_count": null,
      "outputs": []
    },
    {
      "cell_type": "code",
      "metadata": {
        "id": "TDjamc1aSJ0t"
      },
      "source": [
        "install.packages('stats')\n",
        "install.packages('car')\n",
        "install.packages('sandwich')"
      ],
      "execution_count": null,
      "outputs": []
    },
    {
      "cell_type": "code",
      "metadata": {
        "id": "Ia9MEoMQSMJJ"
      },
      "source": [
        "library('tidyverse')\n",
        "library('stargazer')\n",
        "library('haven')\n",
        "library('stats')\n",
        "library('car')\n",
        "library('sandwich')"
      ],
      "execution_count": null,
      "outputs": []
    },
    {
      "cell_type": "code",
      "metadata": {
        "id": "ZAfiWqMSnWl4"
      },
      "source": [
        "#Primero descargamos la base de datos\n",
        "datos_enigh<-as.data.frame(read.csv(\"/content/enigh_tarea.csv\", header = TRUE))"
      ],
      "execution_count": null,
      "outputs": []
    },
    {
      "cell_type": "code",
      "metadata": {
        "id": "vDv4m0-AnyG5"
      },
      "source": [
        "#Cargamos la base de datos en R \n",
        "#setwd(\"~/Desktop/tarea2_microa_plicada\")\n",
        "#datos_enigh <- read.csv(\"enigh_tarea.csv\")\n",
        "df_enigh <- as.data.frame(datos_enigh)\n"
      ],
      "execution_count": null,
      "outputs": []
    },
    {
      "cell_type": "markdown",
      "metadata": {
        "id": "mEUgwmpih7N0"
      },
      "source": [
        "#1. Vamos a iniciar realizando una comparación del salario de los hombres y las mujeres en México.\n",
        "\n",
        "\n",
        "\n",
        "\n"
      ]
    },
    {
      "cell_type": "markdown",
      "metadata": {
        "id": "6orUjV_jh9zb"
      },
      "source": [
        "(a) Construye dos variables dummy, una para los datos que pertenecen a los hombres (llámala hombre) y otra para los datos que pertenecen a las mujeres (llámala mujer). Reporta la media del salario de los hombres y de las mujeres. Grafica utilizando un histograma la distribución de los salarios de los hombres y las mujeres."
      ]
    },
    {
      "cell_type": "code",
      "metadata": {
        "id": "H4yTuVZqU_Gq"
      },
      "source": [
        "\n",
        "#Creamos una dummy para hombre y mujer\n",
        "df_enigh <- datos_enigh %>% mutate(hombre = ifelse(sexo ==1,1,0) ) %>% mutate(mujer = ifelse(sexo ==2,1,0) )\n",
        "names(df_enigh)\n",
        "################################################\n",
        "#Ajustamos la base a las variables que vamos a usar\n",
        "df_enigh <- df_enigh %>% \n",
        "  dplyr::select(sexo, ing_tri, habla_ind, hrs_trab, edad, num_trabaj, \n",
        "                escolaridad_yrs, hrs_qh, hombre, mujer, tm_40hrs)\n",
        "#Vamos a contar los NA\n",
        "summary(df_enigh) #máximo se van a tirar 8204 missing values (NA)\n",
        "df_enigh <- na.omit(df_enigh)\n",
        "\n"
      ],
      "execution_count": null,
      "outputs": []
    },
    {
      "cell_type": "code",
      "metadata": {
        "id": "_zEBa9p9WhyG"
      },
      "source": [
        "install.packages('plyr')"
      ],
      "execution_count": null,
      "outputs": []
    },
    {
      "cell_type": "code",
      "metadata": {
        "id": "G3QbbDsNWjTz"
      },
      "source": [
        "library(plyr)"
      ],
      "execution_count": null,
      "outputs": []
    },
    {
      "cell_type": "code",
      "metadata": {
        "colab": {
          "base_uri": "https://localhost:8080/",
          "height": 177
        },
        "id": "LGEQ8oBhWMM8",
        "outputId": "5fbc1686-6e87-40e3-91f3-80237bdae1ec"
      },
      "source": [
        "#Creamos una dummy para hombre y mujer pero ahora como factor\n",
        "df_enigh$sex_factor = ifelse(df_enigh$sexo ==1,\"Hombre\",\"Mujer\")\n",
        "names(df_enigh)\n",
        "#Media\n",
        "ingreso_promedio_sx <- ddply(df_enigh, \"sex_factor\", summarise, ing.tri.mean=mean(ing_tri))\n",
        "ingreso_promedio_sx\n",
        "#Mediana\n",
        "#cdat2 <- ddply(df_enigh, \"sex_factor\", summarise, ing.tri.medi=median(ing_tri))\n",
        "#cdat2\n"
      ],
      "execution_count": null,
      "outputs": [
        {
          "output_type": "display_data",
          "data": {
            "text/plain": [
              " [1] \"sexo\"            \"ing_tri\"         \"habla_ind\"       \"hrs_trab\"       \n",
              " [5] \"edad\"            \"num_trabaj\"      \"escolaridad_yrs\" \"hrs_qh\"         \n",
              " [9] \"hombre\"          \"mujer\"           \"tm_40hrs\"        \"sex_factor\"     "
            ],
            "text/latex": "\\begin{enumerate*}\n\\item 'sexo'\n\\item 'ing\\_tri'\n\\item 'habla\\_ind'\n\\item 'hrs\\_trab'\n\\item 'edad'\n\\item 'num\\_trabaj'\n\\item 'escolaridad\\_yrs'\n\\item 'hrs\\_qh'\n\\item 'hombre'\n\\item 'mujer'\n\\item 'tm\\_40hrs'\n\\item 'sex\\_factor'\n\\end{enumerate*}\n",
            "text/markdown": "1. 'sexo'\n2. 'ing_tri'\n3. 'habla_ind'\n4. 'hrs_trab'\n5. 'edad'\n6. 'num_trabaj'\n7. 'escolaridad_yrs'\n8. 'hrs_qh'\n9. 'hombre'\n10. 'mujer'\n11. 'tm_40hrs'\n12. 'sex_factor'\n\n\n",
            "text/html": [
              "<style>\n",
              ".list-inline {list-style: none; margin:0; padding: 0}\n",
              ".list-inline>li {display: inline-block}\n",
              ".list-inline>li:not(:last-child)::after {content: \"\\00b7\"; padding: 0 .5ex}\n",
              "</style>\n",
              "<ol class=list-inline><li>'sexo'</li><li>'ing_tri'</li><li>'habla_ind'</li><li>'hrs_trab'</li><li>'edad'</li><li>'num_trabaj'</li><li>'escolaridad_yrs'</li><li>'hrs_qh'</li><li>'hombre'</li><li>'mujer'</li><li>'tm_40hrs'</li><li>'sex_factor'</li></ol>\n"
            ]
          },
          "metadata": {}
        },
        {
          "output_type": "display_data",
          "data": {
            "text/plain": [
              "  sex_factor ing.tri.mean\n",
              "1 Hombre     21357.44    \n",
              "2 Mujer      16700.97    "
            ],
            "text/latex": "A data.frame: 2 × 2\n\\begin{tabular}{ll}\n sex\\_factor & ing.tri.mean\\\\\n <chr> & <dbl>\\\\\n\\hline\n\t Hombre & 21357.44\\\\\n\t Mujer  & 16700.97\\\\\n\\end{tabular}\n",
            "text/markdown": "\nA data.frame: 2 × 2\n\n| sex_factor &lt;chr&gt; | ing.tri.mean &lt;dbl&gt; |\n|---|---|\n| Hombre | 21357.44 |\n| Mujer  | 16700.97 |\n\n",
            "text/html": [
              "<table class=\"dataframe\">\n",
              "<caption>A data.frame: 2 × 2</caption>\n",
              "<thead>\n",
              "\t<tr><th scope=col>sex_factor</th><th scope=col>ing.tri.mean</th></tr>\n",
              "\t<tr><th scope=col>&lt;chr&gt;</th><th scope=col>&lt;dbl&gt;</th></tr>\n",
              "</thead>\n",
              "<tbody>\n",
              "\t<tr><td>Hombre</td><td>21357.44</td></tr>\n",
              "\t<tr><td>Mujer </td><td>16700.97</td></tr>\n",
              "</tbody>\n",
              "</table>\n"
            ]
          },
          "metadata": {}
        }
      ]
    },
    {
      "cell_type": "code",
      "metadata": {
        "colab": {
          "base_uri": "https://localhost:8080/",
          "height": 34
        },
        "id": "0pgoGPg2v7mL",
        "outputId": "a758535c-f82d-446f-97e0-e1f1172428fc"
      },
      "source": [
        "#Diferencia en porcentajes del ingreso trimestral promedio de hombres y mujeres para responder la 1_b)\n",
        "(4656.47*100)/16700.97\n"
      ],
      "execution_count": null,
      "outputs": [
        {
          "output_type": "display_data",
          "data": {
            "text/plain": [
              "[1] 27.88143"
            ],
            "text/latex": "27.8814344316528",
            "text/markdown": "27.8814344316528",
            "text/html": [
              "27.8814344316528"
            ]
          },
          "metadata": {}
        }
      ]
    },
    {
      "cell_type": "markdown",
      "metadata": {
        "id": "zvS_8-r3xTZs"
      },
      "source": [
        "# RESPUESTA_P1_(A): historgrama de abajo. "
      ]
    },
    {
      "cell_type": "code",
      "metadata": {
        "id": "lVhEqdBGVDMu",
        "colab": {
          "base_uri": "https://localhost:8080/",
          "height": 436
        },
        "outputId": "a129bafb-7234-4f9d-b687-10dbbd845c70"
      },
      "source": [
        "# Overlaid histograms with means\n",
        "ggplot(df_enigh, aes(x=ing_tri, fill=sex_factor)) +\n",
        "  geom_histogram(binwidth=1500, alpha=.5, position=\"identity\") +\n",
        "  geom_vline(data=ingreso_promedio_sx, aes(xintercept=ing.tri.mean,  colour=sex_factor),\n",
        "             linetype=\"dashed\", size=1)  + \n",
        "  scale_fill_manual(values = c(\"#E69F00\", \"#56B4E9\"), name =\"Sexo\") +\n",
        "  scale_color_manual(values = c(\"#E69F00\", \"#56B4E9\"), name =\"Media\") +\n",
        "  ggtitle(\"Ingreso trimestral\") + ylab(\"Densidad\") + xlab(\"Ingreso Trimestral\")"
      ],
      "execution_count": null,
      "outputs": [
        {
          "output_type": "display_data",
          "data": {
            "image/png": "[encoded data removed]",
            "text/plain": [
              "plot without title"
            ]
          },
          "metadata": {
            "image/png": {
              "width": 420,
              "height": 420
            }
          }
        }
      ]
    },
    {
      "cell_type": "markdown",
      "metadata": {
        "id": "f1xIiiQch9_8"
      },
      "source": [
        "(b) Estima la siguiente especificación:\n",
        "\n",
        "$ln(ing  _- trim_{i})=\\beta_{0}+\\beta_{1}mujer+U_{i}$\n",
        "\n"
      ]
    },
    {
      "cell_type": "code",
      "metadata": {
        "id": "SHtGoYvvi2Od",
        "colab": {
          "base_uri": "https://localhost:8080/",
          "height": 502
        },
        "outputId": "41edeec3-0bba-46ea-b09e-46f1f34c4107"
      },
      "source": [
        "p1b_reg1 <- lm(log(ing_tri)~ mujer, df_enigh)\n",
        "p1b_reg1 \n",
        "stargazer(p1b_reg1, type = \"text\",\n",
        "          covariate.labels = c(\"Mujer\"),\n",
        "          column.labels = c(\"Logarítmo del ingreso trimestral\"), out=\"tabla1reg.txt\")"
      ],
      "execution_count": null,
      "outputs": [
        {
          "output_type": "display_data",
          "data": {
            "text/plain": [
              "\n",
              "Call:\n",
              "lm(formula = log(ing_tri) ~ mujer, data = df_enigh)\n",
              "\n",
              "Coefficients:\n",
              "(Intercept)        mujer  \n",
              "     9.6010      -0.4108  \n"
            ]
          },
          "metadata": {}
        },
        {
          "output_type": "stream",
          "name": "stdout",
          "text": [
            "\n",
            "====================================================\n",
            "                          Dependent variable:       \n",
            "                    --------------------------------\n",
            "                              log(ing_tri)          \n",
            "                    Logarítmo del ingreso trimestral\n",
            "----------------------------------------------------\n",
            "Mujer                          -0.411***            \n",
            "                                (0.007)             \n",
            "                                                    \n",
            "Constant                        9.601***            \n",
            "                                (0.004)             \n",
            "                                                    \n",
            "----------------------------------------------------\n",
            "Observations                    107,896             \n",
            "R2                               0.032              \n",
            "Adjusted R2                      0.032              \n",
            "Residual Std. Error       1.109 (df = 107894)       \n",
            "F Statistic          3,579.639*** (df = 1; 107894)  \n",
            "====================================================\n",
            "Note:                    *p<0.1; **p<0.05; ***p<0.01\n"
          ]
        }
      ]
    },
    {
      "cell_type": "markdown",
      "metadata": {
        "id": "bsQY8XbBkOrz"
      },
      "source": [
        "##¿Cómo se comparan los resultados de tu estimación con los resultados del inciso anterior?\n",
        "\n",
        "# **RESPUESTA_P1_B):** \n",
        "# La b1 de nuestra regresión nos dice que el ingreso promedio trimestral de las mujeres en México es 41.1% menor que el ingreso promedio de los hombres.\n",
        "\n",
        "# La diferencia de la estimacion respecto a la diferencia de promedios es mayor, ya que si solo comparamos los promedios de ingreso trimestral las mujeres ganan 27.88% menos que los hombres tomando a los hombres como referencia. \n",
        "\n",
        "\n",
        "\n",
        "\n",
        "\n",
        "\n",
        "\n"
      ]
    },
    {
      "cell_type": "markdown",
      "metadata": {
        "id": "MNtkhZ1tkboI"
      },
      "source": [
        "(c) Cuando evaluamos la significancia estadísitica de la diferencia de medias es muy común encontrar esta fórmula:\n",
        "\n",
        "#$t = \\frac{\\bar{X}_{H}-\\bar{X}_{M}}{\\sqrt{\\frac{S^{2}_{H}}{N_{H}}+\\frac{S^{2}_{M}}{N_{M}}}}$\n",
        "\n",
        "\n",
        "\n",
        "\n",
        "\n",
        "\n",
        "donde $X_{H}$ y $X_{M}$ representan la media de hombres y mujeres (de salarios en este caso), $S^{2}_{H}$ y $S^{2}_{M}$  representan la varianza de X para hombres y mujeres, y $N_{H}$ y $N_{M}$ representan el número de observaciones de hombres y mujeres.\n",
        "\n"
      ]
    },
    {
      "cell_type": "markdown",
      "metadata": {
        "id": "t0eyY7gfmkq_"
      },
      "source": [
        "(i) Explica por qué el denominador de la ecuación (1) representa una varianza heterocedástica.\n",
        "\n",
        "\n",
        "## **RESPUESTA_P1_C) (i):** Es una varianza heterocedastica porque las varianzas del ingreso trimestral de los hombres y las muejres son distintas, además, los tamaños de la muestra son diferentes. \n",
        "\n"
      ]
    },
    {
      "cell_type": "markdown",
      "metadata": {
        "id": "b6MsyeaIRiYE"
      },
      "source": [
        "(ii) Si en vez de utilizar dicha varianza heterocedástica quisieras utilizar una homocedástica, ¿cómo modificarías la ecuación (1)? Hazlo y compara los valores que obtienes de dichas varianzas.\n",
        "\n"
      ]
    },
    {
      "cell_type": "markdown",
      "metadata": {
        "id": "cN8JHR-hX5TR"
      },
      "source": [
        "\n",
        "\n",
        "#$t = \\frac{\\bar{X}_{H}-\\bar{X}_{M}}{\\sqrt{\\frac{S^{2}_{H}}{N_{H}}+\\frac{S^{2}_{M}}{N_{M}}}}$\n",
        "\n",
        "## RESPUESTA_P1_C(ii): Lo que haria es usar la diferencia de promedios que obtuvimos en la parte (a) y la parte de la varianza en lugar de usar dos partes usaria la varianza completa de la muestra, la que no divide por género:\n",
        "\n",
        "# $t = \\frac{\\bar{X}_{H}-\\bar{X}_{M}}{\\sqrt{\\frac{S^{2}_{MT}}{N_{MT}}}}$\n",
        "\n",
        "\n"
      ]
    },
    {
      "cell_type": "code",
      "metadata": {
        "colab": {
          "base_uri": "https://localhost:8080/",
          "height": 52
        },
        "id": "lQKmPyFtawAV",
        "outputId": "5e114c21-1dfb-48b8-c69d-c991410bca29"
      },
      "source": [
        "# P1_C) (ii) \n",
        "\n",
        "var_hete <- (var(df_enigh$ing_tri[df_enigh$hombre==1])/67803) + (var(df_enigh$ing_tri[df_enigh$mujer==1])/48096)\n",
        "var_hom <- var(df_enigh$ing_tri)/(115899)\n",
        "var_hete\n",
        "var_hom\n",
        "\n",
        "#La varianza heterocedastica es muy grande"
      ],
      "execution_count": null,
      "outputs": [
        {
          "output_type": "display_data",
          "data": {
            "text/plain": [
              "[1] 9524.594"
            ],
            "text/latex": "9524.59371927816",
            "text/markdown": "9524.59371927816",
            "text/html": [
              "9524.59371927816"
            ]
          },
          "metadata": {}
        },
        {
          "output_type": "display_data",
          "data": {
            "text/plain": [
              "[1] 2418.091"
            ],
            "text/latex": "2418.09111249422",
            "text/markdown": "2418.09111249422",
            "text/html": [
              "2418.09111249422"
            ]
          },
          "metadata": {}
        }
      ]
    },
    {
      "cell_type": "markdown",
      "metadata": {
        "id": "341u1TeVRkDB"
      },
      "source": [
        "iii) Utiliza bootstrap para evaluar si ambas varianzas (la homocedástica y heterocedástica) son distintas. Emplea 1,000 repeticiones. Indica claramente cuál es el valor-p que obtienes de dicha evaluación y las conclusiones a las que llegas."
      ]
    },
    {
      "cell_type": "code",
      "metadata": {
        "id": "0BH6LHjZg_gg"
      },
      "source": [
        "  #[1] Boostrap para la varianza heterocedastica\n",
        "   var_boots_h1=function(muestra){\n",
        "         muestra_n = sample_n(muestra, 115899, replace = TRUE)\n",
        "         var_h1=(var(muestra_n$ing_tri[muestra_n$hombre==1])/67803)\n",
        "          +(var(muestra_n$ing_tri[muestra_n$mujer==1])/48096)\n",
        "          return(var_h1)\n",
        "       }\n",
        "\n",
        "p1_var_h1 <- as.data.frame(replicate(1000, var_boots_h1(df_enigh)))\n",
        "\n",
        "p1_var_h1 <- p1_var_h1|>\n",
        " mutate(var_h1=replicate(1000, var_boots_h1(df_enigh))) |>\n",
        " select(var_h1)"
      ],
      "execution_count": null,
      "outputs": []
    },
    {
      "cell_type": "code",
      "metadata": {
        "id": "xePOPZjMhAT-"
      },
      "source": [
        "   #[2] Boostrap para la varianza homocedastica\n",
        " var_boots_h0=function(muestra){\n",
        "         muestra_n = sample_n(muestra, 115899, replace = TRUE)\n",
        "         var_h0=(var(muestra_n$ing_tri)/115899)\n",
        "          return(var_h0)\n",
        "       }\n",
        "\n",
        "\n",
        "\n",
        "p1_var_h0 <- as.data.frame(replicate(1000, var_boots_h0(df_enigh)))\n",
        "\n",
        "p1_var_h0 <- p1_var_h0|>\n",
        " mutate(var_h0=replicate(1000, var_boots_h0(df_enigh))) |>\n",
        " select(var_h0)"
      ],
      "execution_count": null,
      "outputs": []
    },
    {
      "cell_type": "code",
      "metadata": {
        "colab": {
          "base_uri": "https://localhost:8080/",
          "height": 207
        },
        "id": "82b_6VmOgnWu",
        "outputId": "1eb82686-1f22-4bdf-d617-16a491665ae7"
      },
      "source": [
        "  #[3] Prueba F de las varianzas empiricas\n",
        "var.test(p1_var_h0$var_h0, p1_var_h1$var_h1, ratio=1, alternativa=\"two.sided\", conf.level = 0.95 )\n"
      ],
      "execution_count": null,
      "outputs": [
        {
          "output_type": "display_data",
          "data": {
            "text/plain": [
              "\n",
              "\tF test to compare two variances\n",
              "\n",
              "data:  muchasVarBoots_homo$var_homo and muchasVarBoots_hetero$var_hetero\n",
              "F = 0.20595, num df = 999, denom df = 999, p-value < 2.2e-16\n",
              "alternative hypothesis: true ratio of variances is not equal to 1\n",
              "95 percent confidence interval:\n",
              " 0.1819173 0.2331626\n",
              "sample estimates:\n",
              "ratio of variances \n",
              "         0.2059522 \n"
            ]
          },
          "metadata": {}
        }
      ]
    },
    {
      "cell_type": "markdown",
      "metadata": {
        "id": "9k4jS-9By1b2"
      },
      "source": [
        "#RESPUESTA_P1_C(iii):\n",
        "#En esta prueba F nuestra hipotesis nula es que la varianza homcoedastica y la varianza heterocedastica son iguales y las alternativa que son diferentes.\n",
        "\n",
        "#El valor-p es muy pequeño  2.2e-16 por lo que podemos concluir  que no podemos rechazar la hipotesis alternativa de que las varianzas empiricas son diferentes. \n",
        "\n"
      ]
    },
    {
      "cell_type": "markdown",
      "metadata": {
        "id": "R1gbMMyW14_N"
      },
      "source": [
        "## 2. Diferencias de características. \n",
        "Desde los 70s, un tema que se ha medido en distintos contextos es la diferencia salarial entre las mujeres y los hombres. Un argumento que justifica la existencia de diferencias salariales es que los hombres y las mujeres tienen características distintas. En este inciso utilizaremos un conjunto de caracter ́ısticas que sospechamos pueden ser, en promedio, distintas entre hombres y mujeres: vivir en un hogar donde algún miembro habla una lengua indígena (habla_ind), horas trabajadas a la semana (hrs_trab), (edad), número de trabajos que tiene el individuo (num_trabaj), años de escolaridad (educ) y horas a la semana dedicadas al que hacer del hogar (hrs_qh). La Tabla 2 describe a mayor detalle estas variables.\n"
      ]
    },
    {
      "cell_type": "markdown",
      "metadata": {
        "id": "J3Anapjr20he"
      },
      "source": [
        "a) Utilizando estas características haz una tabla descriptiva que incluya solamente promedios. En las filas de tu tabla debes poner las caracter ́ısticas y debes incluir dos columnas: una para hombres y otra para mujeres. En una tercera columna calcula la diferencia de los promedio y en una cuarta columna calcula el valor-p de esta diferencia. Emplea errores heteroced ́asticos. Agrega asteriscos en la tercera columna para indicar si la diferencia es significativa a los niveles usuales (10%, 5% y 1%).\n",
        "\n",
        "\n",
        "![Captura de Pantalla 2021-10-25 a la(s) 19.40.21.png](data:image/png;base64,iVBORw0KGgoAAAANSUhEUgAAAxQAAADoCAYAAAB2O6JuAAAEGWlDQ1BrQ0dDb2xvclNwYWNlR2VuZXJpY1JHQgAAOI2NVV1oHFUUPrtzZyMkzlNsNIV0qD8NJQ2TVjShtLp/3d02bpZJNtoi6GT27s6Yyc44M7v9oU9FUHwx6psUxL+3gCAo9Q/bPrQvlQol2tQgKD60+INQ6Ium65k7M5lpurHeZe58853vnnvuuWfvBei5qliWkRQBFpquLRcy4nOHj4g9K5CEh6AXBqFXUR0rXalMAjZPC3e1W99Dwntf2dXd/p+tt0YdFSBxH2Kz5qgLiI8B8KdVy3YBevqRHz/qWh72Yui3MUDEL3q44WPXw3M+fo1pZuQs4tOIBVVTaoiXEI/MxfhGDPsxsNZfoE1q66ro5aJim3XdoLFw72H+n23BaIXzbcOnz5mfPoTvYVz7KzUl5+FRxEuqkp9G/Ajia219thzg25abkRE/BpDc3pqvphHvRFys2weqvp+krbWKIX7nhDbzLOItiM8358pTwdirqpPFnMF2xLc1WvLyOwTAibpbmvHHcvttU57y5+XqNZrLe3lE/Pq8eUj2fXKfOe3pfOjzhJYtB/yll5SDFcSDiH+hRkH25+L+sdxKEAMZahrlSX8ukqMOWy/jXW2m6M9LDBc31B9LFuv6gVKg/0Szi3KAr1kGq1GMjU/aLbnq6/lRxc4XfJ98hTargX++DbMJBSiYMIe9Ck1YAxFkKEAG3xbYaKmDDgYyFK0UGYpfoWYXG+fAPPI6tJnNwb7ClP7IyF+D+bjOtCpkhz6CFrIa/I6sFtNl8auFXGMTP34sNwI/JhkgEtmDz14ySfaRcTIBInmKPE32kxyyE2Tv+thKbEVePDfW/byMM1Kmm0XdObS7oGD/MypMXFPXrCwOtoYjyyn7BV29/MZfsVzpLDdRtuIZnbpXzvlf+ev8MvYr/Gqk4H/kV/G3csdazLuyTMPsbFhzd1UabQbjFvDRmcWJxR3zcfHkVw9GfpbJmeev9F08WW8uDkaslwX6avlWGU6NRKz0g/SHtCy9J30o/ca9zX3Kfc19zn3BXQKRO8ud477hLnAfc1/G9mrzGlrfexZ5GLdn6ZZrrEohI2wVHhZywjbhUWEy8icMCGNCUdiBlq3r+xafL549HQ5jH+an+1y+LlYBifuxAvRN/lVVVOlwlCkdVm9NOL5BE4wkQ2SMlDZU97hX86EilU/lUmkQUztTE6mx1EEPh7OmdqBtAvv8HdWpbrJS6tJj3n0CWdM6busNzRV3S9KTYhqvNiqWmuroiKgYhshMjmhTh9ptWhsF7970j/SbMrsPE1suR5z7DMC+P/Hs+y7ijrQAlhyAgccjbhjPygfeBTjzhNqy28EdkUh8C+DU9+z2v/oyeH791OncxHOs5y2AtTc7nb/f73TWPkD/qwBnjX8BoJ98VQNcC+8AAABWZVhJZk1NACoAAAAIAAGHaQAEAAAAAQAAABoAAAAAAAOShgAHAAAAEgAAAESgAgAEAAAAAQAAAxSgAwAEAAAAAQAAAOgAAAAAQVNDSUkAAABTY3JlZW5zaG901gOaHwAAAdZpVFh0WE1MOmNvbS5hZG9iZS54bXAAAAAAADx4OnhtcG1ldGEgeG1sbnM6eD0iYWRvYmU6bnM6bWV0YS8iIHg6eG1wdGs9IlhNUCBDb3JlIDUuNC4wIj4KICAgPHJkZjpSREYgeG1sbnM6cmRmPSJodHRwOi8vd3d3LnczLm9yZy8xOTk5LzAyLzIyLXJkZi1zeW50YXgtbnMjIj4KICAgICAgPHJkZjpEZXNjcmlwdGlvbiByZGY6YWJvdXQ9IiIKICAgICAgICAgICAgeG1sbnM6ZXhpZj0iaHR0cDovL25zLmFkb2JlLmNvbS9leGlmLzEuMC8iPgogICAgICAgICA8ZXhpZjpQaXhlbFhEaW1lbnNpb24+Nzg4PC9leGlmOlBpeGVsWERpbWVuc2lvbj4KICAgICAgICAgPGV4aWY6VXNlckNvbW1lbnQ+U2NyZWVuc2hvdDwvZXhpZjpVc2VyQ29tbWVudD4KICAgICAgICAgPGV4aWY6UGl4ZWxZRGltZW5zaW9uPjIzMjwvZXhpZjpQaXhlbFlEaW1lbnNpb24+CiAgICAgIDwvcmRmOkRlc2NyaXB0aW9uPgogICA8L3JkZjpSREY+CjwveDp4bXBtZXRhPgomZnbXAABAAElEQVR4AeydB5jVxNfGD1JElA5iQ7EXFBDBLiIKVkDsXezYe0c/G/aGFXsXG4pixQZYsICIKEUUEURpCiIgSNkvv9G5/2xIcu/dXbaw73meJbnJzGTmnZMzp02oMnPmzIKqA4Zb3babmUgICIGSR6DX3WOtw/6blHzDanGFR+CD/t+Ld1b4WV4+AxTvLB9cK1Or4qHKNNvFGyu8slLxmlBtISAEhIAQEAJCQAgIASEgBCozAjIoKvPsa+xCQAgIASEgBISAEBACQqCYCMigKCaAqi4EhIAQEAJCQAgIASEgBCozAjIoKvPsa+xCQAgIASEgBISAEBACQqCYCMigKCaAqi4EhIAQEAJCQAgIASEgBCozAjIoKvPsa+xCQAgIASEgBISAEBACQqCYCMigKCaAqi4EhIAQEAJCQAgIASEgBCozAjIoKvPsa+xCQAgIASEgBISAEBACQqCYCMigKCaAqi4EhIAQEAJCQAgIASEgBCozAjIoKvPsa+xCQAgIASEgBISAEBACQqCYCMigKCaAqi4EyjsCEyeNswefvNFmzPytvHdV/SslBJYuXWzPvnyfjfthZCk9UY+pKAi8/cGLNuSztzLdHTP+a3vgiRvs4WduyVwri5Np03+xp16822b/+XtZPF7PLCYC/V5/1N56/4VitqLq5RkBGRTleXbUtxUagdMvOdAefvrmQmM86fz93KJZ6GIxf0z//TcbOvxDmzN3djFbUvXyggC8c+rF3Wzx4sWZLn31zSd23Nl7OuUvczHhZO68ufb58ME2fsLohBK6vKIiAO/AJ8iaS3sdby+/8VghPho28iP7+tvP3PD/+WeB3fHAFTb3779s0422KlNIpkz92b4YMdhm/D61TPtRmR9eULDUzrr8YLvt/ssKwdD7oSvtvCuPKHQt+mPEt0Pt23HDo5f1ewVCoNoKNBYNRQgIASFQaRBYsGC+fTXqE9t2613dmD//alDOY69Tu5717vV8zuVVcMVCYMvNtrEOO+9nY74fYW++/6L9Om2ynXH8lW6QPc+9KzPYsT98Y4sW/WP77H6Ibb5xq8z1sjhp3WIn409UdghUqbKSNd+ktX09+nPDuOA3RxwTW2+5fdl1TE8uFwjIoCgX06BOCIFlEUBQDxj4rH3w8Ru2ZMki2671rnbY/qdatWrVbNToL+y5/g/agfsdFxwfcvePPugMm/HHtEBBeMHWWqOpHXnA6cFx3UzDQ4e9Z/c8eq1bALrueaTttnNnW7jwb7vyltPsiG497LV3nnZlrzjvbhsx6lN77tWHbM5fs63VFtvacYefazVq1My0pZOyR2CN1dc2jAgMCiIVo8YMN655+mLEIOv3xhN24ek3WqP6Tezdwf3tvY9etesuedAKli6xK24+1XbfpYt12rWbLVg43x5/7k4bOfpLw9g46oBTbatg3pP4wz9Dx4qJQN1gjrfeakf3V616jSAV5SWbNOVHW3ftDe2OB3ta3dXqWedOR9qTL/R2A3z46Vts3z0OtQ4Bv7z69lP2wUevW6BNWsd2XW2/Tocn8kmSHOn/1pM2bfoUW3vNZvb+xwOsccMmduSBp9l662zsnjf6+6+s7ysPujTNpms3sx7HXm6//jbRnn75/sDw6Wlrr7Gevfnei/ZpINP+nDPb2rTayQ7Y51irW6ehEVV5MkiN+iaQkavUXNX27Xiotdt+74o5UeWw1y233M4+C+TO+J9G2yYbbGk/Tfre5s3/y1oFBsWkX36wfm8+bhMmjrX69RrbPnscYtu33i12FF+PGmrPv/aQzZ7zu20ctHP8YedavbqN8uYlIrOvv/ecTZ02JYiibWnHBe3UqV1/mWfC12s0XseIdP04cbQ1W2cTO7X75U7eLVNYF4qEgFKeigSbKgmBkkFgytRJwcL4fOZv6dKlmYYHffKGvfLmU7ZBs02d9+fDT960fq8/4u7/HSiAeBXJg2cxXbT4H7v/yRtsyNC3AgWznX3/43f2fqA8hum7cSMCBbKzrbzyKvbsK33cwrs0MFqmz/jV5Uc3qLd64LXs4tq977Fe1nSt9a3b3se4MPVnwz4IN6XzcoDARs22sG/HDreFgQL1TeAxrFWrVqGFdP78uW5ulyxa5Ho7d96f7ndgTVhBcIV5n/tfGtxjfe8IvNUjrds+xwTK2rr2RKCQQXH84W7onxUGge1at3djmfjzOHf8PXBK/D57RqCM17KN1m/urm21eRtrGhgbgz55PXA89LV2O+xpu2zf0V5+8wmbOWtaLJ8gn5LkyJ9zZtnnQfrSsG8+tu23aR8oohPs7cCogdgrcecDVxoRuH32ONgZCXVWq2vIPHj2n3/+cZ7xb8Z8YW1a7myd2u9vQ4d96Bwv1P/ki3fty68/Cpwvp1jzTVsHZatwWVRCCLRqvr1zan075kvX4rdjh1n1wCiFRyb9OsEQLl33OtpWrrGyPd73TmO/VpSmTJ1o9z52XdBODds9cGwR4bjrkatdsTiZk8RLON2e6XefNajXyA7d/wSrWrWq1QzWtziCr98b8qqt3nAN54T5fsJ3gdHaJ66orhURAUUoigicqgmBkkBg4uTxxl8cfRgYFKs3WtPOOuEqd3vmrOnBZsmBgeA8JVP8hCMvdKkI8+b9Fdx7xy4753bnlRsfCMsfJ47JlOPkhCPOdwrChuttZjffe4mx2XKTDf/Ni27WdBM7/fgrXPln+t1rNWuuYicecYET0L/8+qN9M/ZLa7fjPoXa04+yRWCNJutYrVVWMzx0I7/7PDA6d3Bew3x7RRQCBWz/vY+y3YI5Rkm74KqjnWFZv24D11yYP/JtX+XLNwJ1//PmzprzR6GOrhYo8W1a7RxEwQbbTtt2CrzIze2pl+4J5E0L6xJEOKHhIz+xEd8MtZ236+h+h/kkmxypHiiTPc/p7ZTTyVMm2ITJ37s2cIQsWrzIzjnlmsC4beauRf8h1eays+9wyurkX39yeyvGjP/KutkxzvBYumRJEFGtYccccla0qn4XE4GagaG5/rqbuvWDpsaMHxmsK5u7CPbOAZ/wN+evWUGq3EL74acxwYcfRtnmm2xd6Kkffvy6LV6y2M7v0SuISjQMDJKa1v+tp1yEo3Gw5kG58NKOwbNwpi1YuCCQfzvarjvs6+rCP/8sWuDOq1WtHhg3/0bX2Qd0zCFnu+u/TZtk32lPh8OipP6RQVFSSKodIVAEBHZqu7udeNRFmZpslPT0e2BAbBESxM2abuy8yBgPnmpUX9mdkqYC4RWCagfKwG/TfnHn/h8WYYg0AwiDwxsUKAueps0MPNfBM9j066lJ4/+l0vhrOpYtAksCpan1VjvY8MCg+P7HUXb2yde4xTvfXk2d8UuQBlfgomFExDzxdbD6QftQmD/8fR1XDASIRkANG6yedUB4eVH+T76gS6bs5Ck/BOf/GhRhPskmR1ZaqYozJmioTpBi5bzbwfnUQP7Url030ZigPPRW8DUqorvIvEWLFgcRjb/d9Q6Bx3t0EI2999Egyrp2XzvxyAtcKpe7qX9KBIEWW7QNUt+ecelJE4OUp657HeXanfnHVHsoSI+bOGm8NW60hrs2bcaUZQwKPhRSt04DZ0xQaMPAIIF+nT45qPevQZELL5H+e/gBPeyZl+63C64+Jkjf7GoHdT4x4IvnAgPl3xTebVruGKTJ/Z9rPxytatJonWANHJfZC+IK6J9iISCDoljwqbIQWH4I1A4WWQSvp+nBQosBUavWqv5SkY7kvEJ1av/rfY42Ui/wWOL57nXpA4Z3B6pSVdmRUZzKw+8d2nSwG+66MMhXbmgbrvfvouz7RW489Pd/ihbpAXFUP8hbhjp3OixYkA/IFKkZ5J8vWrww81snKyYCQ798z6UFbbDuZlkHiExin8Xpx/XMlK0eKPRLgz05USqqHMG4mDt3jtu/5R0l0ba/n/CtvfDqw3bgvt3dHo57g71hP00a64rVXLmWXXDajW7D+UPBp25Ja7n4jFuiTeh3MRBo3WLnIP32cXtnUD8XHdgm+A098sxtNjP4CtdtVz3l9lVc0uuE4OqyKWfwxndz/3QGCSm4v02d7Oo3CPZdxFEaL+2wze7WItjv1W/AY/ZGsK+mZfMdbI9d97cdtungmiKiEkfspYCfvaMtroyu5YeAtIT88FJpIVBqCGy91fY25beJNnDQK/ZpsOh/N+7rYKNsmyILwC+CjXQ//jzGXn+3b+AZrG6tgvbjqE2rdjb/77nBhvC+tjAIW48eP8Lmh6IicXV0rWwQIMe9fr0Gtk2wwTZKGwd7LKBBn77uNtkPCvbXxBEbGNdfbxP7OMg9/+mX8TZn3hy3bwbvn2jFRGB2kJIybOSQYCP+HW7vAfsowh9wSBr11sGGXJT54aM+tn+CVBM+MVv9P6dDtE5R5UibQDklYvb483e4FBgiEaTlhcnLozWbNHUyzRsTlBny6ZtubOuvt6lLzSHaKipZBNYKcG8c7EXgQw98CMJHFf5eMM8a1G8UpDMtCuTOG4Ueyt6GP4O0Oj4g0TZYYzBCn37pXmMD/oefDLCGQT1SqeIoiZf4mETfYKP+wiDlqX2QrkkEgnSrVVepbasHUXX+whu0pwZRe/7vHfZSEGlrEez7EJUcAloxSg5LtSQEShQBNkTzzfXn+j/gFthNNtzSjjm4aDnB1QMDYkawefK6289xG+iOOuhU9+UfFoAo4e05YN9jnUHxQZDrWrNmTffcxo3WihbV73KAwAWn3mDku0epyerrGOH+jz4faF8F34Bvt10n58GLluP3KUdfYvc/3stuv/9yd5sPAWzb6t/P0caV17WKjcB3Y7+yceO/sUbB15U6dzrC+OpbLtQt+JLSzD+m2xPP3+1kEpthNw7kUpxnuahypFWQZtdlzyPc52y//vZzl5+/5WatC3WPtjcIjGC+Wlc/yMFvuvYG9kuwlwKaEaTdDHylf7B5e2GgUK5lh3c9uVBd/SgZBJgTPhSy/Tb/+4pTx/bdAiPhPjs/2IPVttUu/+1dCHZpB0QU46UgqvHJl++4vQ58AAKnFY6Mhg2aBF9c6mmsU4sDQzVKSby07jobuj0cAwPDhuj91gHvtG6xrHPFt1e1ajV74oW7XDowMu6QLif6WzqWAAJVZs6cWVB1wHCr2zZ7uLMEnqcmhEClQ6DX3WOtw/6bFHncKP2Lg01mhGeLS3wGdpVVVnWCO1tbfJ3jj9kzA8/R6kWOimR7hu6nI/BB/++LxTu0PjdILVh11dqF5hA+OLvnoXZo1xNtrw4HZzrB9ZWC9LbVatXJXNNJxUSgJHgnaeREDOYFUcw4QyJap6hyBE82kdKktCeegzc67IH2zya9D284nyEVFR2BovAQn+1dEkQf+GRvlP4KvipHpKL6f3v/mOM5c2flxEe0lcRLc+fPsRrBJv+0T5v3vPEkqxd8Vph0uCS+ifZXv3NHAF5RhCJ3vFRSCJQJAnGCuagdSVuco22utFI1a9Tg34110Xv6XXEQiEYv+LrXG8FmVqh58B+chSkf/gjX03nlQoC8d/5yoaLKEVLusvFjnDFBn8iLlzGRy+yUfJk0pT7qFGOOczFKfS+TeClXB0iB+2A2+wfr+yZ1LEEEZFCUIJhqSggIASFQ3hH4K4hYsPH1ojNuCv6vkQ3Ke3fVPyEgBIRAsRHYqW3H2KhJsRtWAxkEZFBkoNCJEBACQmDFR4D/WZs/kRAQAkKgsiCw9+6HVJahltk49ZWnMoNeDxYCQkAICAEhIASEgBAQAhUfARkUFX8ONQIhIASEgBAQAkJACAgBIVBmCMigKDPo9WAhIASEgBAQAkJACAgBIVDxEZBBUfHnUCMQAkJACAgBISAEhIAQEAJlhoAMijKDXg8WAkJACAgBISAEhIAQEAIVHwEZFBV/DjUCISAEhIAQEAJCQAgIASFQZgjIoCgz6PVgISAEhIAQEAJCQAgIASFQ8RGoMnjw4IIWExZU/JFoBEKgnCLw2eQqNmxKQTntnbolBISAEBACQkAICIHiIVCtefPmZhOGW73unYrXkmoLASEQi8CwHgOtZx+9X7Hg6GIqAkOGDLF27dqlltFNIRCHgHgnDhVdywcB8VA+aFXusvCKUp4qNw9o9EJACAgBISAEhIAQEAJCoFgIyKAoFnyqLASEgBAQAkJACAgBISAEKjcCMigq9/xr9EJACAgBISAEhIAQEAJCoFgIyKAoFnyqLASEgBAQAkJACAgBISAEKjcCMigq9/xr9EJACAgBISAEhIAQEAJCoFgIyKAoFnyqLASEgBAQAkJACAgBISAEKjcCMigq9/xr9EJACAgBISAEhIAQEAJCoFgIyKAoFnyqLASEgBAQAkJACAgBISAEKjcCMigq9/xr9EJACAgBISAEhIAQEAJCoFgIyKAoFnyqLASEgBAQAkJACAgBISAEKjcCFdKguPfee23QoEGlMnOTJk2ySy+9NO9nffLJJzZhwoS865XnCueff75NnTrVdfHjjz+2iRMnlufuqm9CQAgIASEgBISAEBACpYBAqkGxxx572EcffVSoG507d7Y33nij0LXS/jF8+PC8lPW//vrLevfuXaRuzpo1y4YMGZJ33eeee84GDx6cd73yXAEjDiyhvn372ocfflieu1th+gaWhxxyyDL9/fvvv+2oo44yeCmOnnrqKdt///0zf7169SpULK7+xRdfnClP3f79+7s6Rx55ZKHr3Bvw2gB3L6lOoYfpR6khsGTJEifP9t13X+vatavhYPH09ddfF5rHo48+2t8qdBwzZoydffbZhoyHb2gTGj16tB1//PHWoUMHO/PMM91vX3H8+PF29dVX24EHHugvuWNanZEjR9qpp57q+nnLLbfY4sWLC9XVj9JHINc5mT59up100knWrl076969e8aB9McffzieO/TQQ422ohSVO2n8miZ3ou3qd/lAgPm88847bb/99jN44JVXXont2J9//mkXXHCBkzGnn366DRs2LLZctovoX8iqOMcua+Bee+1le+65p91///3ZmtL95YxAteXc/nJpvkqVKnm1i1f99ddfd0yZV8ViFL777ruLUbv8Vw0rMeW/t+W3h7/99ps9/fTTRiQsSjfddJP98ssvmahQ9P7YsWNtu+22s4MPPtjdWm211QoViauPAnDOOefYRhtt5Mo2btzYHa+99lpbunSpO587d66ddtpp1nbbtu53Uh13U/+UOgIoevPmzTMWU45HHHGEtW3b1rbddlvHL7Vq1bJrrrnG9WullZb1Gf3zzz92wgkn2GWXXWaXXHKJYTDed999zoAg8njcccc5vuIaxsYzzzzj2vrhhx+soKCgkJHBjbQ6V111lZ177rmub/AdchhjVVR2COQyJ8zzMcccY4cddpjdfvvt9vLLL2c6zHqKY+mnn37KOJgyN4OTqNxJ49c0uRNuU+flB4GhQ4caRiXrFlkKp5xyiu2www62xhprFOrkk08+aVtvvbUxxwMGDHAGwbvvvluoTC4/WOfmz59vrJVhevXVV52z7aGHHnJ8iKNZVLYILLva5NkfFMsdd9zR/d12221uwaEJvK6PPvqokSbD/Tlz5hiCbLfddrNtttnGbrzxxsyTiHgQ+YApL7/88sx1f8KiiYXbunVr5x37/fff/S139H3Yeeed3XPDN1kEe/To4ZgRb5xXhA844AD77LPPXH/69OnjvO14iXkB9tlnH6OeJwwY+ovyhufORywQqkljYhze+0s7vo9gEcbJP4MjFvgTTzzhxshYscoXLFjginDv/fffd/dQBqAPPvjAOnXq5PDEm+ijB99//71TGhkXz8OLySKAd3H77bd3CoRvl3Z836L4gUG3bt0c7meddZaFDTn6wwvtybeRNj5fVsf/IdCzZ0+nwLGAhwklHgHZvn378OVC57xTG2+8sTMOMBDCAj2pPsYCvEV5/urWreva3GCDDTLXiESdfPLJmfaS6hTqjH6UGgJrrrmmMwYaNGhgTZs2tXXXXTej5M+ePdvWWmutzFwyr1Hiva5atarzMNIWXmivMDLvu+yyi9WoUcPJDpRGT3vvvbczOvxvf0yqgyfz559/tg033NBq1qzpPN3wpajsEMh1TlhrVl11VReZqF27th177LHWrFkz1/EtttjCGaJedoRHEyd30vg1Te6E29V5+UEAPQGHRb169axVq1bu75133lmmg+gkRKBWWWUVF4Fnvfrxxx9dOaJYOBratGljyJU0uYB8IRobJfTLCy+80MlAeDIpGhutp9/LD4GsBgV7Afr165f580orXSLU9cILLzhL9cUXX7S33nrLnn32WddbUoVQaNdbbz2nWKMw1a9f3yiH8vn88887IwMBh7KOJ4z28LJFCUUYTy2esiuvvNLCBgVKLdYvijjtPvjgg7Zo0aJMEzyfkDue2EceecQxODexrO+44w6755573LVp06Y5JZw0HoQc1rcnnodQxfDBoKA/EB7duDFxj/bAAErDyRX47x+UfvDEoid8N2rUKGeUcZt7GC94jkkdmDx5sjPW8DCiADJmb4zxsuIJwItAugyLOQYU48Kr+fnnnztjinaT8GNewA383n77beu4R0ejXU/0BwEB5To+X1fHfxHAWwvOhGvDxDUMDfiM8yQCf4wOPMzMkS+bVh/jHJ6g/REjRizTNPfffPNNl2rlb2ar48vpWLoIIMN4n5GNOEEg0gxmzJjhnBPcC8tr3zsUQxwKXk5ilOBF9vzDfJOecOutt7qUBl8v7RhXB6MF3iYSgncRpQPlQVR2COQ6J99++61zriEjkBfMbzZKkzvUjeNX3ybtR+WOv6dj+UaA6DpOjTRCF2GO1157bVcMg2ThwoVOJpx44okuqpVWP+4e/LTVVls5/kwzSOLq6tryQSCrQYHyicLu/8ILFMovCwSKKoyCJ5xrntZZZx3Ds7366qs7Tyge94YNG2b+Pv30U+cpI0TPAtakSRPXhq/PEUMEZemMM86wzTff3Fq2bOm8sr4MhgneEzy13GvevHlGWaZM9erV3fOrVavmlGOsak9ELiiPsUBoF+86KQJcC+f74QkkQtKoUSPnmWHBZgHGQxM3Jt++P2bDyZfjSD+wtomGoCSE97CA9e677270hzbBHQOH/mPFY0T4yAN9YyHnRacOSgQWPDjhofbjS8IPRfXXX391xg3z17lLZ2eYhPvqz/MZn69T2Y+8R6QSYDxGCUMcQck8pRGRPuaeIyl2pJRAafXJh+Z9492E/8OGM3Uff/xx9x7wvnjKVseX07F0EcDgxxmD/OMdhZCRyFgikezh6tKli5HiFCbmv0WLFm6vBLyCkwby5V577TXnTIBHDz/88HDVxPOkOkQ4UTgwLFA44xxGiY3qxnJBIJc5wQBk7X/ggQfsq6++cmsI0aY0SpM71IvjV99enNzx93QsvwhgBOKYYI1II5y36C84N5ED1MMRhqxiTxYOSq+7pLXj782cOdOdsuYR9cCxir4jKlsEshoU5513nlMyeOH5I5zuCYWTkJUn8njDeW7hspSBqVhY2CANU6GYQyyKeLlhONJ4wgSjsdDttNNO4cuZ8ylTpjhvPkozf1iqPqyWKZRwsv7662fusLGQXGTyh/HO+OhCpsB/JyhapJYgZKGkMf1X3B2y4RQuGz4nJSXcDzyJnohQEG70hDGF9wmrHQqnJ2FEhX8TVSGNBUrCj3YwWFBYs1FRx5et3RX5/vXXX2+kApB/TgQQw5k0QdJRHn74YYc9v0k5YQPtF198sQwcGOsIUVL1rrjiCpe2x6KfVp93D48QxgR7L4iShIl0Pt7jMGWrEy6r89JDgIgwDgf4hwgthIMBQxXnDtFXPINeVoV7RiQXY4EoK0YtCz2pCRDXv/zyS+eAQPmMpuOF2/HncXV4NpEwUj/5I9Jb1I9j+OfoWDwEcp0T1jnkP0bCzTff7DbWogQmEetRmtyhXhy/+vbi5I6/p2P5RADd7IYbbnDpT+geSUTWB/OLAQF5nY6PP3i9DWOCr2KSgUHqO39hZ2q0bVIyMWSQXWRmsFa+9957mShrtLx+lw4CWQ2KtG6gmPLlD0+c4z2PIyYcLxZ/LHRh5Zh9C0RA2Nxz0UUXFQqvogyzoIVzecPt0wc8H+R88gcTdg++SJEv0QYGDYuz36MQ1wabg1DC8QimjSlcNx+cwvW+++67jOcxfJ1zoiVhTFAkecHCefTROnG/k/AjwhE2DuPq+mtFHZ+vXxmPGNtECfgqD6ltKHackwPPvhjeJX7jiUEAx23aDuPG+4SRnk99oorhNDbaGzdunIuOhNsOn8fVCd/XeekigLw96KCDbODAgcs8GCOBd9M7D8IFUACIgLKAowzCi1HCSED2+mhm9H7c73AdUpxweiBLUE754gtKpajsEMh1TuCHsGxg/nC0JRE8lovcSuLXbHIn6bm6XjYIYACgr6FrkdmRRBgJKPw4EtBZIKISODgfe+yxjN5GtgqZGXwIgk3f/LGXK4nq1KnjHCCeR9ETyS7xDtWkerq+fBEolkGBN4wFAs8TigxGQdImUvYUkMLBIke6EHm/ENEHNkdDeMPwkqFAeeL3Jpts4vLkfFQjrEjTB9J28LxAtB0lIhEoZtSPIz5lSP+xliHfH1+WlwcvPIQnEKFISkrSmHw9f8wHJx9d4XlY9mxijyMiPURjiKwwLr6osOWWW7qNUnHlk64l4UcaDXPjPx2KUpEUksxnfEn9qGzX2bDG11D4uyrYG4OCxzkRP3+dI9ECeAClEcILCK8jONkTBKH0IZx92l9SfTyMREQgDGO8xsyzJ94BBDSRE0/Z6vhyOpYeAkSV/CZI3n3kFXvEcCiwv8q/p3jsiHDisIE873COsQpRh71npFpyTm6zz5dHtlCfVNQkSqvDIo/c8J+KRaaxQVtUdgikzck333yT+SQ8qXLwCI4qeIz0OdLpkoh7SXIniV99W3Fyx9/TsfwhAD/ggMXIjDpfwzyELkYUgkh6OJsCHZB1h32iyA8oTm/LNnL0NZy6rH9EYWmLPZ+iskPgf4nSRegDaRN8UQjPBBYnTMKegjhiUzC5vggqvh7hN+ewyBA285+s3HXXXZdZdNicyh4GNh8jEMPeNPqAFYzShSIEU6EohVN18N7SN77y1LFjx2Vy7Qjv8j1lFlU8emEli7FwjXFhlLDY8g1m9mYkjSk6/nxwwkjAWMCowkJP+nIBiiapK3gE+VwoFjuKQb6UhB/eBL6gcOlll1rvu3q7iFKSYpHP+PLtn8r/DwEWXtJZ4GfmnxxnDFyMEQQpqQlpxH4aUqQwYNgQxz4dvrThCaGOAQ9ve8pWx5fTsfQQ2HTTTd27iQLH4k5qJOkEeOhQ3pFzyFjSAkgnxSMY5h3kNTKMSCvGB/nPpM1Rn/0VyEiiCshS2vUbLpHNXENW45VETt51112JdajHXixkPvIYPvX7NUoPLT0pjABR+KQ5eemll9yHGviiDusziiBrHGsLayvrDcRazGZtPgBASjTrTzRVOfzMJH71ZeLkjr+nY/lDAEcWEQXkCg4wFHocGux1DfMQaw1OV2QEjg4I2YTcQi7BR+g4K6+8sotOxP0/EvAZ5XBuIquQO/AhhgrZLOwdxbDgAyXoieG9f+UPuRW/R1UCJbmg6oDhVq97pyKPlslkkUHZTyMYj2iGD32Fy+J1ZTHDeo0jFk72XCSl9KDo8+c3J8a1gUGAccDCFkcsuizEYYUqXA4lnxcnXD9pTFjuRGvCBkE2nNi/wcuBEOflSUofC/eJFw3sknAJl007T8KPfnAP4ZGNso0vW/0V9f51PQZazz5Ff7/CuIAxC7wnFDw2z+bCK74O5RG8PmfeX087FqVOWnu6lxsC5B4nbXjkvYSQWVFCViKrwhTlHeQG8ha5GyWUvDRZGi3P76Q6yEiUz2zrQ1ybulZ0BNJ4J25OWGOR92F+Yn1hXcyXF+J6ncavceV1rewRSOOhuN7F8VBcOX8NnQzHR3hN8/dyPSJ3kC20Iyo7BOCVYkUofNdzZQaiGHHGBO1kU4hQ4tOUZoRgWBD6voWPSc/2ZbIteHHPj46JF4qcZKImpLWEKRecEPQs8HGLfLgtf85LFNcvfz/XYxJ+KBxJRl607VzGF62j3/khEMUY4zfbuxN9Qjh6F72X9LsodZLa0vWSQSBN3kWNCZ4Y5Z00vimKAplUBxmZTbaWDCJqJVcE4uaENTbKU6wvSfOa67N8uWjb/rqOKw4CcTyUNrpsOllaXX+vpPjTt6dj0REo1h6Koj92xa3J3hD+Mz++ssI+i3yIXOfwZvV86qqsEBACQkAICAEhIASEgBAoCwRKJEJRFh0vr88kl50vRRWFyFkVCQEhIASEgBAQAkJACAiBioSAIhQVabbUVyEgBISAEBACQkAICAEhUM4QkEFRziZE3RECQkAICAEhIASEgBAQAhUJARkUFWm21FchIASEgBAQAkJACAgBIVDOEJBBUc4mRN0RAkJACAgBISAEhIAQEAIVCQEZFBVpttRXISAEhIAQEAJCQAgIASFQzhCQQVHOJkTdEQJCQAgIASEgBISAEBACFQkBGRQVabbUVyEgBISAEBACQkAICAEhUM4QqDJ48OCCJrMW27T6+i8pytncqDsrCAITRy62Zi31fq0g06lhCAEhIASEgBAQAhEEqjVv3tyqDhhum3btELmln0JACJQEAkOeHWjHnKn3qySwrGxtDBkyxNq1a1fZhq3xlgAC4p0SALGSNyEequQMkMfw4RWlPOUBmIoKASEgBISAEBACQkAICAEhUBgBGRSF8dAvISAEhIAQEAJCQAgIASEgBPJAQAZFHmCpqBAQAkJACAgBISAEhIAQEAKFEZBBURgP/RICQkAICAEhIASEgBAQAkIgDwRkUOQBlooKASEgBISAEBACQkAICAEhUBgBGRSF8dAvISAEhIAQEAJCQAgIASEgBPJAQAZFHmCpqBAQAkJACAgBISAEhIAQEAKFEZBBURgP/RICQkAICAEhIASEgBAQAkIgDwRkUOQBlooKASEgBISAEBACQkAICAEhUBgBGRSF8SizX1999VWZPVsPFgJCQAgIASEgBISAEBACRUWgyAbFX3/9ZZdddpnde++9tmDBArvtttuK2ofUerQ/aNCg1DJFvXn++efb1KlTi1o973o//PCDffrpp8vUu+WWW+zGG2+0JUuWLHOvIl8Iz13S2Cvy+NR3ISAEhIAQEAJCQAgIAbNq2UD45JNP7MQTT7Rbb73V9t1330zxIUOG2Kabbmp169a1zp0720477ZS5V5Inw4cPt1VWWcXat29fks26tjBUevToYWussUaJtx3X4Icffmjffvut7bjjjpnbX375pY0ZM8aefPJJq1q1aub6inASnru4sa8IYyzOGMaPH2/PPvusffPNN9avX79MU6NHj3bv26RJk2yHHXawU0891dZaa63M/fDJU089Zc8884wVFBTY/vvv78qm1cewu/zyy+2PP/6wLl262Jlnnuma+/rrr+2qq67KNF27dm2j7f79+9vjjz+euc4J7/wTTzxR6Jp+lC4C2Xhn4sSJ1rx5c8cPW2yxxTKde/311928zpkzx7bbbju78MILrU6dOo4v+vTpYx988IFtvPHG1qtXL2vQoIGrv2jRIrv22mvto48+cjxw1llnWYcOHSyJ33CQ3H333fbee+/Zqquuaocddph169Ztmb7oQtkikCQTwr267rrrbNiwYeFLjm8OPfRQO++88wpd50fv3r1t3XXXtQMOOMDJJl/gzjvvtGbNmlkSLyXJIV9fx7JHINf3+s8//3TygjlFVzzuuOOsTZs2eQ8AXZP1sVatWnbDDTcUqh+3/hUqoB+likBWg+LNN9+0ffbZx95+++1CBkXYuECRWV5UpUqV5dV0qbd70kknLfPMtm3bupdsRRqnH2R4THFj9+Uq65GFHEMAhSxMDzzwgDPit9pqKydAWZxvuummcBF3/uqrr9pzzz1nDz30kBExxICD0upjQBOZa9eunVPwUBr32msv++WXX5zAvuaaa1wbK630b/Byt912sy233NJd4x+etdpqq2V+66RsEEjinY8//tgt3BgJ9913nzMIMDjDhEIwYsQIx1ONGze2c8891x599FE755xz7JJLLnHG68svv+yMAa7h7ICuvPJK+/vvv+21116zzz77LNNkEr8NHTrUGShPP/20YeCccsopzkAuLQdOpoM6SUUgSSaEK51wwglOXvhr8AXK4TrrrOOcH/46DjJkEsYExurPP/9sL7zwgr+dcYwk8VKSHMo0oJMyRyDX9xq5sfXWWzujYsCAAXbppZfau+++m3f/x44da/Pnz7fffvutUN2k9a9QIf0oXQRmzpxZMOuxdwK9Jp6CyEDB9OnTCwJPaUHgVcgUCjxNBUH0oiAwLAoCpaMg8GRm7s2bN68gWKQKttlmm4LAg1UQGCWZe4FnrGC//fYr2H777QuClKnMdX8yd+7cgtNOO60gYMSCwLtR0LVr14JHHnnE3y645557XF+CiEhB4N3NXA+fJJUJvHoFgfHj2g48s65/33//vasaeIELBg8enGnm+OOPL/jiiy/c72ARLbj44osLAuW/IFDECl555RV3PVCuCgJlrKBly5YFlA+YPlP/4YcfLthll11cncCr567T30Bhy5R5//33Czp27FjQunXrgjPOOKMgEMDu3rhx4wrOPvtsN+6dd9654OCDDy4YNWpUpp4/ob1A0SwIFgTXBngFAjnTRiD0XRv0O1AgCn766aeCwKPk+nvggQcW+LFTIVAkCpibQw45xPU5SFcqCDwLbn733HPPAvrqiXYoR7+POeaYAngISpu7XMfun7EiHa89Jfn9ArvNNtsscbjwAu9eHAURhoIg8hN3K3MtXB8e2H333TP3AkWv4OSTT3a/A09PQWBoZO7FnTC/QTSygPdBVDoIhGVS9InZeOfzzz9P5J1wW3fccUcB8g9CZgdKoDtnnlu0aFEwZcqUglmzZhUECmRGRrkCMf+E+S16G14Lol3Ry/q9nBBI4x3/yDSZ4MtEj/CV55foPdaDwEHiLrNOoBtEKY2XcpFD0fb0e/khkAsP5fpeb7vttgWBI8R1Fl0J/QR5gw6FrpFG6FzoQWHKZf0Ll9f58kUAXvnXDZlgw+DFatSokeHFWn/99S2okCmJx+nBBx+0QHm3o446yoU4/c2rr77aeaYIm+PxJMWCED2eMfYKEEYPGMQCBvNVMkfq4qXAq4YX4/fff8/cwyLF0iXdgvx8nk/oNExJZXg2qSPrrbeei7Z03KOj87b5usGi6by84d+BYeR+EuafMGGCvfHGG0bod80113TXuU9In2f++uuvGXxIJwiMIIdN3759Mx7eQJDatGnTXN3Jkyc7TzEeQVKvGAc4QXgBseTp0/PPP++e99hjj7l74X9o78UXX7TA6DI8iniOe/bs6YrQBqkJeK3xEJH2gIeQiAgehj322MMCQZDBj70kt99+u9sXA+7gy++77rrLAqPH/aZhcMSjhYebNCY8VN6DmTZ3uY49PD6dm3tvkjy6vINEMfAIjhw5MhYu3jtfHx7Gc+hpo402cjzGb8LTM2bMcF4kwshEPKIUGMkWOAOsZs2a0Vv6XY4QQC6RnkKaKikpScR8I2eIOJCOBCEfkWUQUSrSneCbwPngvMuzZ882Ig6+jCsY+ifMb6HL7pQUvjD/Re/rd+kjkCYTknrDmnD66acvc5voRPXq1W3zzTd39+AViPUeXmQ9g9J4KRc55BrRP+UGgVzea1JskUtrr7226zd64cKFC+2dd95x0fi4CHy2Aeay/mVrQ/dLFoFUgwIFOvCQuyfuuuuu9tZbbxV6Ooon+ZBHHHGE29wM06BwUi/w2LucXPZWkDKBYsweAfLgWOyaNGniFOFwg4H95JT9wFvvhFLg+Xd5vL4MbRx77LHuGvfIEQ6H3imXVAbFmkUQ42D11Ve3zl0656QYMR6MGEK+GFZB1MHljvKsIIpgKGU1atSwDTbYINOXwBtvgVffAu+ebbjhhi63nfJhQsmnDjnI5Kuj3LO4s8EdIk/9iiuucIs4BsN3330Xrp45J7WBlBUUAQwmhDo4QhgpCHPmiK9IIdBZCNiTQgoSAp/8RE/du3c3cEVppEwQKXJ9PPzwwy3wPLq5Ze7oI/fIuaYd9tlkmzv/DI7Zxh4uW5nPwfT++++3I488chkYAu+0u0bqwY8//uhSVfhIQpii9Zlv3j9P8B1pCRBKQMOGDS2IHDrDmP0V//zzjy/q5px3K4hMZa7ppHwigIGALMAo5N1NIpS8Cy64wMln5h1CbiHX2UeBA2Lx4sVOEfAOFxwggefZAm+hcwqF247yW/geqbPIIxwRovKDQJpMiOsl+fAo/ay9UcK5eNBBB2Uus16SOx9EYF3KCqnTGBNpvJRNDmUa10m5QCDX9zqIgtree+/tdC50KuoFWR9uzQmyJZz+6HWfXAaWy/qXSzsqU7IIpO6hwAONYhmk/jjFI0h9ckql3zzs86zxWKJUs4DhGYdhwtEHFGs8VxARChYslMqLLrrIKdR+SHjJUWKSNngjiFCw8JRClCWPEyXfU1IZFCkUeJSofMj3KW4hxHCiPwhOrG+/Z4A+sAEpjYhQtGrVKlMERR5csboh3xbneAlpPxttsskmbtH2SiIRi3r16rlqKAEYN967zLMQ9uS4xhE4+T4QpUIZwKOAR4toAxEOTygSHqekufNlOaaNncVH9C8CN998s5t7NjZGifeNOcFAxmBEMejUqZP77d/PaH2MVN5PT0EKU+Z9wLDlD0KpxFDFCPWKJufU9/zk29Cx/CGAEcEfjg02QbOvwr/L4d7iFSTiipHAPgqikjg2iGISjWbBx+DAq4icQN4TeUWGBOmObqNkeJN1lN/8s5ANbKbkeZ43/T0dSxcBovo+2o1zgIhRkkyI6xkb7FnPo4ThSUYD0QtP8A3rI4TSyF4xjF2MhiReyiaHfNs6lj0Cub7X6JF+YzW99roCTmdPGBPoFhil8BGEPAnrdr4sx1zWv3B5nZcOAokGBRthEDR+kybdwQMa5E8W+kpRtJt4OSE8EV7woMyilEJs0sHjT8oTBgULF18AgVBWUE4pH+cBqV+/vgvhp3ndksoQWotu6nEP/e+fatWqFRKs/h7jYTEGD/ruCcWfTUYYRijBpD7hxYcYB+ekCiURePACeWLBRkEkPSVJyfdlk454j1jsUfyiREQIQwd8vXKBYk+0Jh+iHcYX7KkoVA1eSZu7cOG0sYfLVebzAa8NcOFg3hM/X2E8iA5h7HtlgDlhkYYvMRzj6jdt2jSTdkBblPXpUOG24SHeIwwOTwh5DFZRxUEAOckCTVQRIyGOSFEhhRHPMo4gFH7kHH9shGTxJ/q5dOlS51RaeeWVXTNs5kcmeorjN+6hKBDp6B5EP8Nft/P1dCxdBDAY+fOEs5B1wVOSTPD3g718zuHgf/sjXy9k3Ylbe3wZZA3yCjmE0yuJl3z5ODnk7+lYtgjk+l6j45DKzQcivA7odSoM22gKJOVyoWzrXy5tqEzJI5CY8sQ+ALzN4T/SnwhVpRFCgKgBebYoyEQmSMPB60lEwaco4dlCIWLB8sRvlBZywlncyPHFuPCE94K0C1KrICImUUoqE2z+cc9n4YN86o6vzx4Dbxmz94B9HBDjIZIQbCZ0wpB+sZDybF4MjAnGyac/PRHNID3MGzDRr/hQDjzIe+cebbIPgdQwFMN8iGfwciOoMW6SFm0UChROykBEV6iXVD6pD7RDPf+ZU8bOfGSbu3B7JTX2cJsr0jkpZNded63zGEcXaKJznv+DDdbGHh0MOSIIzAXKX1J95o4ook+fw7AnqkE9/i8U5hXCC0kUKmxAo3QQiROVXwSYRxxAPpqJbGEecQJAnndQGvlyGHwD4UFE7mBM8Alrzwc4SZD5RCvZq8Mi7uU/DhqMCiiJ35BrpF4RGSZlVFT+EEiSCfSUNY11IkzsAYxzQkyeNNmth+GypM15Y4V1ikgZEc8kXspFDoXb13nZIJD2Xod5Bh2JKASflw5nY6BToY8RvWLOoThdLtvokta/bPV0f/khkBihYJHx36j3j0dZD3+r3l+PHq+//nqXY8++CxY30n9QslnICH3j7YK4jzc1TGzsJc9/ULBRmUWOTb+e8KRh8fIpSzZGw4x8Jz+cxpRUBuuYb61fetml1vuu3s5L4hda2mefAuH99u3bO8WekL4n+sy+Du7hVeH/3aAs3n2UY14Q9lKQEgTRfz7ryD36iSIW/W4/gpz/3wMvIqlJLNakHORLeHr4bC95rRg4fNYzjsCInGnSGHgOSgPpZ/4b83F14q6F28GbgBebcbCXIm3uwm2V1NjDbVbEc/gfHuZ9wLBDyKLEsTeH67w3XuAybyj/bJTHwwdvEeHD24hghQ/An0hbUn1SHNhTwzsCz2F8+JxnUhZIYyNaSDgZ3oCfPPFxBL+hzl/TsewQiOMd0k1I7SQyiiEK78A3eAFJifO8A68RQSWdANmF7EFmQwMHDnQfeqAdolQ+ZYUoGSkIyEGMEZxDXtYk8RvP5D/yhI9wMmHAIAv5BLmofCDAvCbJhJdeesk52cKfiMdAjVszZsycsUx0AsODD7bAY6w3wRegMlH7OF7C4ZVNDpUP1Cp3L0h7THqvwzxDRgsGKHIJhxXEGkPqI+sLehIyCJ0Kh66XNWF0cfJSDnkDDyG70DcwVJLWv3B9nZcuAlX49GDVAcOtXvdOJf5krE4WKwRKmPCwsmBFr/syWMBEJ+I8IZTBSOEvLV0nqQxMyb2wshR+Lh7cpCgB40Ghxhvvic1BPpTnr/kjbbGoxwlgX4YXBTySxurLxR1R6PEo8p8FpeEVrsuijrcIY6q4+czea40C6inb3PlyHIsz9nA75f38uh4DrWefknm/MBx4p8IEX8Kz4XkI34+es2h7AzR6Dz5SJCKKStn9Jvc4bv9Wth7BE1H5GOWdJD5ARuIoiJNrXn7gKIlLxcvWL90vPQTy4Z04XkCWwws+JbmoPWeNZL2N8ksaL0kOFRXtkq2XDw/x5Hx5Bt5g3YquafmMIt/1L5+2VTZ3BOCVxAhF7s0kl4wuaL5kmoJNGRTdNAUbAZdNyCWVwYhJMmR4bpIxQb/ixhO36FIWCkdO/r2y7L+8TGljXbZG4SsI5Wx4hWsg1JP+1+VwuVzO4zzW+fSluGPPpY8rWpk4wRvHl2njJooRZ1BTR8ZEGnIV514cT0R5J4kP0mRkScqPioPmit/TOF5AlmdbZ3NBJmmNTOMlyaFckC1/ZfLlmSTeyGdkcbIun/oqW3IILFeDouS6qZbiECBdjIVAJASEgBAQAkJACAgBISAEygoBaaNlhXwJPJc8epEQEAJCQAgIASEgBISAEChLBBK/8lSWndKzhYAQEAJCQAgIASEgBISAEKgYCMigqBjzpF4KASEgBISAEBACQkAICIFyiYAMinI5LeqUEBACQkAICAEhIASEgBCoGAjIoKgY86ReCgEhIASEgBAQAkJACAiBcomADIpyOS3qlBAQAkJACAgBISAEhIAQqBgIyKCoGPOkXgoBISAEhIAQEAJCQAgIgXKJgAyKcjkt6pQQEAJCQAgIASEgBISAEKgYCFQZPHhwQZNZi21aff2XFBVjytTLiobAxJGLrVlLvV8Vbd7UXyEgBISAEBACQiA3BKo1b97cqg4Ybpt27ZBbDZUSAkIgLwSGPDvQjjlT71deoKmwQ2DIkCHWrl07oSEE8kZAvJM3ZKoQQUA8FAFEPxMRgFeU8pQIj24IASEgBISAEBACQkAICAEhkA0BGRTZENJ9ISAEhIAQEAJCQAgIASEgBBIRkEGRCI1uCAEhIASEgBAQAkJACAgBIZANARkU2RDSfSEgBISAEBACQkAICAEhIAQSEZBBkQiNbggBISAEhIAQEAJCQAgIASGQDQEZFNkQ0n0hIASEgBAQAkJACAgBISAEEhGQQZEIjW4IASEgBISAEBACQkAICAEhkA0BGRTZENJ9ISAEhIAQEAJCQAgIASEgBBIRkEGRCI1uCAEhIASEgBAQAkJACAgBIZANARkU2RDSfSEgBISAEBACQkAICAEhIAQSEZBBkQhN7jfuvfdeGzRokKvwww8/2Keffpp75ZiS4fZibpfopUmTJtmll16ad5uffPKJTZgwIe964Qrnn3++TZ06NXypzM8//vhjmzhxYpn3Qx0QAkJACAgBISAEhEBFQSDVoNhjjz3so48+KjSWzp072xtvvFHoWmX/MXz48Ixy/eGHH9rzzz9fLEjC7eXS0F9//WW9e/fOpegyZWbNmmVDhgxZ5nq2C88995wNHjw4W7HU+xhh9L0s6Y477rB58+ZlutC3b19jDkuTeOYhhxyS+MgBrw2wI4880g499FB74YUXMuWeeuop23///TN/vXr1cveWLFlizE/37t3t6aefzpTnZPz48Xb11VfbgQceWOh6Wp333nvPPX+fffaxl156qVA9/SgbBJLmET4J8wTn8E8Sfffdd6786NGjXZGvv/66UP2jjz46U3XkyJF26qmnWteuXe2WW26xxYsXu3vUPf7444314oorrrBff/01UwcHC3zbsWNHu/vuuzPX056TKaSTUkEgiZfS5jXaMWTRXnvtZXvuuafdf//9mdtvvvmm7bfffobegByB+vfvX4jH4NFjjz02U+e2225zvHT44Yfbzz//nLmexH8U+OKLL5xM22233eziiy+2+fPnZ+rppGQRYK2488473bzybr/yyiuxD/jzzz/tggsucHN5+umn27Bhw2LLZbuIfnL22WfHOj6T+C5bm7q/fBCotnyarVytVqlSJTPgk046KXNe1JNwe7m0gZf/9ddfdy9dLuVLokxYOSiJ9sqqDYy/Y445xlZddVXXBaJDpUm//fabU/qJFMXR7Nmz7eZbbraXX37Z3WaRbdeuna2xxho2duxY22677ezggw9291ZbbTV3XLhwoYuy/P7774WUO26i4BUUFJhXIF2F4J+kOiicKIlPPPGE/f3333bOOedYs2bNrE2bNr6qjmWAQNI8XnvttbZ06VLXo7lz59ppp51mbbdtG9tDFIMrr7zSZsyYYZSFfvnlF6tVq5Zdc8017vdKK/3P53TVVVfZueeea9tuu63jA2QOyuADDzxgJ554om211VZ2ww03OOfGTTfd5Or36NHDiETCs4cddphtvPHGTvFMe46rqH9KDYEkXkqb13DnXn31VefAeOihh5yDCIcYhGF53XXX2bPPPmuLFi0yjNOtt97aUPq33HLLTBPU87IL5ZQI/4ABA+ztt982FFH4DEriP56DXLr11ltto402sn79+lmYbzMP0kmJIDB06FD7448/3LpFNP+UU06xHXbYwa1J4Qc8+eSTbr6RScwnmRDvvvtuuEhO56xzGIislWFK4rtwGZ2XLgL/Wy2K+FwUsB133NH94VlAWYHwuj766KNuMeH+nDlznEBAmGyzzTZ24403Zp5IxAMPBkx5+eWXZ677ExgRhQavauvWrZ3ivGDBAnc7+hyeD5OzeLVq1coOOugg55X1bR1wwAEuPQmPWfv27Z13HqVyl112cV6ScBoPnmq8biygPXv2NBZgCI82go6+0CcUN0/0hxfIUxI+/j7HtPa479vYeeedHa5c88RiwKLNy0ZfvULMOD/77DMnvPv06WMPP/yw7b333g6TE044wSmHvg0MGOYD5bRDhw6ZiAXRA4R43JwxT3iaPPk+MtdhPvD3OdLXbt26OdzOOussCxtOCIzzzjvPKaq77767vfXWW5mqzD88gjeEubjvvvsMbxWeL7xiH3zwQaYsc085eAyvl58bhBKGA/W5PnPmTKeI40VBIcfzCvEsBBUEj11yySWuzq677poZbxp/OOqx7wAAQABJREFUuYp5/ANfHXfccZn3JloVzGrUqGGNGjWyxo0bW/Pmzd3YKcc7hYLGIsofRgaEQki/t9hiC/c7/A88cOaZZ4YvufOkOqS2gdkmm2xiLVu2dHjD46KyRSBpHjfYYIMMPxABPPnkkzN8Ee3xI488Yptttpk1aNAgcwsDdq211sq0QXsQsg9v8YYbbmg1a9Z0BgLvIER0lPe+du3aLirmo9pEISD6isGOTPbezKTnuAr6p1QRSOKlpHmNdo51/sILL7SmTZs6meOjWsw1axYOCOQUcgTZWrdu3Qx/rbnmmjZmzBhXn3ZZU4iyrbLKKm6tQD5///33qfwHH6M/wIOrr766k+XwqGj5IMCc4nCoV6+e0yfQs955551lHsY64+eSCDzr1Y8//ujK4ZzCOYFjCv7zsmSZRoILyLB99913mVtJfLdMQV0oNQSyGhQoFFj8/i+cooLAIAWDtIoXX3zRKYF4IyBSaVBk11tvPSckUPTr16/vyqF8osTDYCxUKLOka9AeQidKeOB5Doo64dRRo0Y5YyXuOXjnsJjbtm1rWNIo2TAkHhIIZRDLGSGEQYESCzOTIlK1atVMutKUKVPsoosucgbOa6+95rzBPmRHyggetmeeecZ5+LzS6vszbdo096w0fFyB//5Jaw8BjHWPQQVuDz74YGYsVAdflGGUTcbECwwxTtJ57rnnHncNo4WoAu3h0QmnK9F/lAGUdgwK+gOBZdyccY8xMsdQLuNknukn/cXz1HGPjoWMGp6J1wPjAGGFwUIoHmL+b7/9drvssssc3uDA77vuusulUvAb4hkYV3hDMQbXWWcdN9fcY+wsOChZCDCEIYYPYwSn//u//6OYexZ8CcFvGJjggqeNxY9npPGXq5jjP3jeaI80gSTCo4dBcf311zujkcUV4xein3gDCfGDKW2VNKFwTp8+PdMsmE6ePDnzWyflEwHed9JNjjrqqNgOIt+QqRiePqJBQRQ4IhYY1qQTeHmPbIRPeQdxXqBA8B5FiXfWG7a8O+uuu26mCEYvz4WSnpMprJNyhUB4XqMdY60hOsUaGlYMMUDXX3/9THHOKRsmHF04hrwBAH/AJ54wUlBC0/gPZxHrPTIQvlwectD3R8dlESC6Hn7Ply1hbm1HJq299truNms8UXHmi+imj2jG1U26lsR3SeV1ffkjkNWg+Pzzz51Ci1LLn19g6BoLEosKXiwYhdxarnlC+cATjdcArwR5cA0bNsz8EdpEUOAdRVlv0qSJa8PXDx/xbuFxxYtOLrf3glEm/Jwvv/zSLVpEEPBykIKENyy8TwCvMC8Anmm80Chr9J8F03vVGAcKKN55FkjGhpKKYYTgOuOMM2zzzTd3Xlu8L3GUDR/qZGsPwwuPOs/AQ4yHmsiDp+rVqzt8q1Wr5pR1FGVPKNeUx1gAewQ1yinzFW4DDyV44QVHwUChQIlMmjPfvj/mMk4UXwwZlHT4oXOXzplFhAUApZ087Dp16thOO+3kQuKM3VP3YD8A42fxYV5J5WAcpACNGzfOLSLwEPPJPdph7jGIITDAE0ZUBF4CLy8E4R+vBPnn0Sf4nWgOxhpKPLyXC3/5NtKOvEcYReFoVlx53g/4/f3333fGMREZ3heIKAzj4ojBRNi/pIl3AMUAowUDjLnGuyQq3wg8/vjjTn7B53GEYXD2WWc7/gnfR6Yho7fffnvndOjSpYv9888/rgjRRZQH5CTvR9T5gyzD4eOdGshdz6s0AK96Yz3tOeH+6LzsEYjOa7hHRHohZA+KP+sHvAVhNPpUJn4TpeKaJ2Q1Mj68fwy5iOz2BP/AR1AS/+HcIj2LD2oQPY3zZvv2dCxZBHBa4KzFiZdGOO3QFTEckR3UY01B1pDlgdMQfsiV0vgu1zZUruQRiF9tQs/Bg+89olwmtOgJBRGFyxNeArxangidhwmmIpWF9AmYCsUVIkJBLi/KClEBvORphGLsN3hRLvycn376KROW5x4K2aabblpoc5fPrwyH+ikLc2NFQyhRKN2k30D0F4UWxmeBRenNRtnwoX629vDYsEjjyYF4NmHC8Jy4GzH/hL1DKOy0g3LMGMPpRuGqKCAo11999ZVLb0mas3CdXMaJNwEDAKUiSmAQVVBatGiRiVBEy9OG7z9GEAINbwceUaImRKU8sRhC8DE8RlQKniVqlUZ+XqKCMhf+SmvX38OIJeLBIkjf6SeLIYum99ZRlpxTjFwMCsqycGPYoPBhrHvCOMLTA47wfEkR/IAXic3Y9AsjjYiUqHwjgAOFFL84IkrJuzJ33lzHcyj5RAYx9JG9Xv5iOMBryAJkNo4YUlKIaOKAICUGR4Wnm2++2aVPkW4J4ZAIG5/s0/Dvf9Jz4GvR8kOACPdjjz3mHoAiT9pJNorOa7g8DirkL44RUptQ/jt16uR+Yxj49ZQ6pLWGjQX4Ch4JO8EwQPx+HurAP5Qhep3EfzjV4DmcSxAOmG+++cZYQ0TLDwHWSPZMEV1IW3NwxCKPyHKB/NqKA9ETxgQyiYyKESNGuMvwXZKek8Z3aX3xz9Nx+SCQ1aBIeyzpMIRCvQLHeVRJ9/VRlkgdwqBAMQkvdqR14A1GUcGgIB3Hb5L19cNHNoqy+MURUQ6UcBQ0r3SSopFUPq4NrqGosrhFv56EgKNtFEu8/2mUCz4I07T2aIM9AV5Ypj0v6R7KPCkMGGyksODNxqsfRwh98AOvtDkL181lnCwK0U1Vvg0MOYh0Hr8IgC9zkA8x9+CJ8h0lxkMKHgsNkRuek6a80Cf4h3A6/OmppPgLI5hUE4wFvpbjz/GuhQ0K0qK4Rl8QrhgcvEfRvpMagDHB4l7SAhUlkH0eEEIexUFUvhHg/SYNJY4wEok8+Wgsizl7dVDawnMLH/Juo+BhVJIrzXvMH19v4UtP3qDgS1KUQYZ7uQtPIks8IYeikUDuhZ/jy+q4fBDAkZLNmRJ+cty8hu9jIBAx9oYj8heHHXNN1D+cHsl5OJqP4oihGib4g7p+0zbOKpwlafyHYyZsuFCetv1aEm5f5yWDADKD1N/u3bs7WZLUKkYC6cvse/TruV9bMWx9loCvT7lcKI3v2OclKhsEsqY8pXULLxMGAh4rPBMYBXiA44iwJJuYWTxIp2EPAoTH3affoCwhnLBgo+Q38yBgsHhJRYojoiQINJRnCM88zM8Cmg+RWkJaFUYSRKiWdugfQpB8URQ4oiwov3GUCz7Z2qMNwsIs9lA4n90/k0gEIUD6E0fU4SXGmEDhRKkOE+MCV4i9GhiFKCNJcxauy3ku4yQth7n2n7D06UnUhyeIurAXh/6BOalFeEjzIeaesXhPCG153HyKHIsMffHzioEQ94Ul+oQCReoIiyXY+lzdkuAvNqzh2eHvqquuckYA5whK5ge+hVDewul6GGWki7DosmcGwiBFOLNY0++SJNr2edHwCMaM33RZks9RWyWHALIYnkXRChNRTt4HDFTPexwxtlEyeecxEniHIKLARPwwqFEUeWf9p2LhBb9wk1Z47XXXuj1e8Ksn3kdSWHAAQawPeK95L5Oe4+vqWPYIJM0rPfO8xDlRfJxPyAqiDswve+XgM2QXyj5RMPY0hjMcMDaJmIeJj6X4j33AbxDGRRr/kQaLHgKv8SdjIoxoyZ+zFrIfkoyDcIYKTwqvXegdRCGIpLOWemKNYg0mYwJegeL0Gl8+6ZjEd0nldX35I1CsCAWeXrzKLBJ4pWAS77GKdp2QJHsByMkl+uA357AwETbzGwP5mo5fqMJtoNSgYGJs4KlNUmrwpvL5OPLz2KzL4khKVVLkJPyM8DkKLi8NX4kix56FmGgFecNsICbkPyjY4Iug434c5YpPWnu0gZWPAYWCwAuIwPWpAzwXTyDYEylCIPscVt8nFnaUBvDjZSZljDQbT3ghmTeMEoQ/35j2YeS4OfP1/DGXceKd4Esgl152qfW+q7frM8q8J1KA2PvA/NMHPOLRdCNfNukYnns8HXhWSQOiLTbQo7ij8ICB/38YmF/mEmUcYypM8CV7ZTCSV155ZbcYMoaS4K/wc6LnpBexKLIgk+KEh4eF2KejsfeHSBL7m+gzEQkWcKIHEGkNGELgyHsJvxCdwZgCX3iI9w0jG74hYpVUx88bIWbeAfgk7MWO9l2/SweBpHnk6SzOOCp4hz1hZLBnB1mRZKhjKGMwIEeQ0cw5shNnBPnP7INCfvOewXOkEELwBDzFe+YVBOQvKTV8bAP5QCoLPMr7BiU9x93UP6WKQBIvJc0r632Yl8gqwCBFwcNwYD1DViFTkbPILowNPhDg130GiCMy/Jtr7L/B+UPaEsYBBi+Uxn/sb8RYoV/INXg0HFV2DeifEkMARxb7X5EL6EnMLYYhe0vDaxd6CE5JPp6CAwFCtjCnyBXWXXQ51lb2x2JgRIl1kHI4I9HlWLNY0zFUkvgu2oZ+lx4CVQIlsqDqgOFWr3unIj8VIcKLjHKdRjAeQsSHvsJlUVbYgBXnYWWhQlhhlMBUuRgHPAtvLkprcVJAWPh4KQjFhtvx0Ym4EH54XJzngk+29lAO+cMwSCIMAoyDcD/DZbkfh70vg7GGYAjXT5ozPBMo2mHDLpdxMn+MA2EURyhDeOnj+CCufNI17/1CKfLEs/mL8in9plzSM+kTShRKmqd8+Ou6HgOtZ5/c3y94gX6G0/58SkG4D/QFBY6FN5d3wve9KMc43ihKO6qTHwJ4ePM1rJOeAJ/zbuVCRF6j3mPqwfdEa6PvUFqbyFDqxL3zSc9Ja0/3ckOgJHkn+sQ4XkJOwhdhmUs95BPGalieRduL/kZPoK3wWkSZNP6jT1CuPO4K659UBPLlobi1K+0B6CTwS3HmLInv0p6reyWPALxSrAiF71KuzIC3NEmhzaYQIUgwOMJfDfHPjzvyrPBm7bgyuVzD0xL1olAPQZeLMUHZXPDJ1h7COJtATsKWPkDZ7seNJzpnCAxyYYmaRP8/g1zGidKepLjTxzSDifu5UtycJT07W7/j+lRS/BU3HnghOtdRQ8LXwwud7d3xZYtzjOON4rSnuqWPQDY+D/cozpjgPnyfjzFBHWRonDHBvaTncE9UfhGI46U4OckIwtH0XEeUxC9p/BfXp1yfp3Ilg0Dc2pXWcjadJK2uv5fEd/6+jqWHQLH2UJRWNwlfEqoXlT0C7H3hf74lzJy06bPse6keCAEhIASEgBAQAkJACJQWAiUSoVjenQ1/HnN5P0vtpyNAHrTf9JxeUneFgBAQAkJACAgBISAEKgMCFSJCURkmQmMUAkJACAgBISAEhIAQEAIVEQEZFBVx1tRnISAEhIAQEAJCQAgIASFQThCQQVFOJkLdEAJCQAgIASEgBISAEBACFREBGRQVcdbUZyEgBISAEBACQkAICAEhUE4QkEFRTiZC3RACQkAICAEhIASEgBAQAhURARkUFXHW1GchIASEgBAQAkJACAgBIVBOEJBBUU4mQt0QAkJACAgBISAEhIAQEAIVEYEqgwcPLmgya7FNq18h/kuKioix+lzJEZg4crE1a6n3q5KzgYYvBISAEBACQmCFRaBa8+bNreqA4bZp1w4r7CA1MCFQlggMeXagHXOm3q+ynIOK+uwhQ4ZYu3btKmr31e8yREC8U4bgryCPFg+tIBNZCsOAV5TyVApA6xFCQAgIASEgBISAEBACQmBFRUAGxYo6sxqXEBACQkAICAEhIASEgBAoBQRkUJQCyHqEEBACQkAICAEhIASEgBBYURGQQbGizqzGJQSEgBAQAkJACAgBISAESgEBGRSlALIeIQSEgBAQAkJACAgBISAEVlQEZFCsqDOrcQkBISAEhIAQEAJCQAgIgVJAQAZFKYCsRwgBISAEhIAQEAJCQAgIgRUVARkUK+rMalxCQAgIASEgBISAEBACQqAUEJBBUQog6xFCQAgIASEgBISAEBACQmBFRUAGxYo6sxqXEBACQkAICAEhIASEgBAoBQQqhUExefJku/jii0sBzn8fce+999pHH32U1/PmzJljA14bkFedilg4Ohf9+/e3v/76qyIORX0WAkJACAgBISAEhIAQCBBINSj22GMPu+yyywoB1blzZ/v4448LXSvvP2bNmmWDBw/Oq5uvvPKKffPNN3nV8YWHDRtmEydO9D9zOv7www/W54E+9s8//+RUvqIWCs/F33//bQ888ID9+OOPFXU4xer3+PHj7eqrr7YDDzwwtZ0hQ4bY2WefbZdeemmhcq+//rodfPDBtu+++9pdd92V4Z3Ro0fb8ccfbx06dLAzzzzT+O3pvffesyOPPNL22Wcfe+mll/zlzJE5Oeqoo+y5555z1zD49t9//0J/xx57bKa8TsoGgeLyzvz58+2MM85wPHLOOefYggULMgPp3bu3devWzU466ST74osvMtcXLVpkV155pe22226OHz744AN3L43fkGuHHnqodezY0e6+++5MWzopOwRynZM333zT9ttvP2PNR254+uOPPwynGfM6cuRIf9m+/vrrQnLi6KOPdveWLFli8BRyqmvXrq6ur8Q9ZE337t3t6aef9pdNcicDRbk8Yd5PPfVUN5+33HKLLV68OLWfl19+uV1xxRWZMkk85GUJuiflf/3110ydfE6S1synnnqqEI/26tUrn2ZVNgsC1bLct08//dQmTJhgG2ywQbai5fb+Siul2k2x/X7nnXdsr732shYtWsTeL+mLrVu3tjfeeKOkmy137YXnYpVVVrG33nqr3PWxtDrEwl5QUFBI4Y979tixYw0F8LfffsvcRiAPGDDAbr31VqtWrZqdddZZ1rRpU6cIYvAfd9xxtt1229l9991nCM1nnnnGvvvuOyekn3jiCcNwQJFs1qyZtWnTJtPuTTfdZL/88otNnTrVXUN53HLLLTP3H3roIVtttdUyv3VSNggUh3foMYZso0aNDDmHkXDjjTfaVVddZRgJn3/+ufXt29fgu0suucTefvttN0jKwTevvfaaffbZZ5mBJ/EbBXr06GHnn3++tWvXzg477DDbeOONnVzNVNZJqSOQy5ygyF133XX27LPPGoYkxsHWW29tDRs2dLKBqPJPP/1UKLqM3KhVq5Zdc801bkxe1k+fPt3mzZtnKHMcjzjiCGvbtq1tu+22tnDhQud8+/333wspj5I7pc4WeT0QWXHuuee6OWQdwbmF4ymOkDGffPKJrb322pnbrC9xPISD8cQTT7StttrKbrjhBmeIsiblS3FrJm1wnXURRxyktczBUGL/ZNW0AZ7FJo5QVvA8eOL8wQcfdD9ZkO6//363mKCwnH766YYShOd0p512ypSjMIsUzEm5vffeO+P1+P777931Rx991DEuHhA8/yxMrVq1soMOOsjw1MURiyBCCaH1+OOPFypCG3hXttlmG8PbijALEy8LC+bNN99sWMpEDRgP/WBx3HHHHY0FHcEMc/Ibb06Y8LofcMAB7hl4l33k4cMPP7RDDjnECWe8xLQDcfRMzu+0cd55551ubLvuuqsT+JQPE95FvM94qOkf3iRPeLnff/995xU/4YQT3GXuMwb+brvtNqfkcgP8ERZ9+vRx9/AuIQhQRrbffnuXRhb2bPp2dt55Z4eXf2baXNDmlClTXFGU5vPOO8/xwe67777CGxvwOhGEbHTyySc77164XIMGDVx0Z7311nOCGu+f9yJSfpdddrEaNWq4eWPhhxDqvA+bbLKJtWzZ0il28LUnvE7Dhw+39u3b+0tWt25d22ijjdzfmmuuaWPGjLELL7wwc18nZYNAcXgHIxZeOe2006x69epOjnnDftSoUbbWWmtZzZo1nYxF4WPhnz17tqtz7bXXWu3atV3EAfkCJfEb8hqir6uuuqqT20R+RWWHQK5zwjwhx3E4YAQiN1599VXX8S222MIZmsiGMMEj8I6XF94Jidwg0wGZhdNj3XXXzThRMEAwWmkzTJI7YTTK1zlRpZ9//tk23HBDJydwFoQjVeHeYkDi9MLBFaYkHkKHRA9BxhC1CqeOZ9Pbwu3HrZncJ7UcfvY8usYaa4Sr6byYCGQ1KFDKyXv/8ssvl3kUiviMGTMy1/FEeOWc1BaMC4TSk08+aaQB4ZnA+sRAIUXDK6N4NFi4sGS57y1SDA0YCiXnhRdecELnlFNOcd6NoUOHOmUfxsGDEiafp4/R8O6771q9evUyt3kZMAR4CVDu11lnHde/TIHgBOMHwYfC/cgjj7hFl/GgWKPAEY7FOMLYYGGG8TGuwgReeHi4ziKNNxmaNm2aU9J5NgLXh3kxOPDwQPQxaZwYKgh7+kAKAQI/SrzsgwYNcqFkFHTmwb/wGAQYTCgThCppC2zpx4svvuiUeLxSEPiDH2MlLI2SgZFEv/E24cn0nkoWG8aI9xvDgmcyL2lzwTO47+cPQ4Vn4SWFJwiTJhmM1BX9DwH4IuwBQpDzziHMeQ+gzTbbzHhHPcH74A/Bcz179nTGIudx9PDDD7sUCPhAVHERmDlzpuv86quv7o7INPiFPwx8Ig7IBdKdkIMs7jgXUBZRGpEV0VSEOH4jso3y6IlF3DsP/DUdSxeBXOeENWT99dfPdI5zFLo0+vPPP50+gNOK9SG6N476XGedw5mWK0nu5IpU6ZSrWrWq7bnnns5IJGqO3obTII6uv/56F7lo3Lhx3O3Ua6z9XuHPRW9Lbey/mxgU6JPsqcXRmbTW5dKWyiyLQFaDAkUfpTQpSrFsk/+7gqWJtxxrlLQJmJBreE9hsK+++spNKN59JphwKvnkKL3e2EDZJGUDxZnyLEgo/KTLkOPLAke+XJj69evnFH8MBzwdXbp0ydxGyaJtFOo6deq4NvDchom+4d2lPyy2VapUcbdRwEgtYSHGY0OEZOWVV3aevGj4lygK4yZCgPD0ijfXwYBwcPPmzZ3SF3425xgjSePEo8PizctGOhZtxdEFF1zg+okyufnmmzvDwJfj5ScCgMcIY4LfGAkopCgUXPMEfniXUAyowzwQ/sbKJ00LPKHnn3/eRXu4jvebsTHmtLnwz+DIi03KFxEs5oUoFjxDu6J0BLxQZ++DJ9JSyHFlUT/88MPdZXgFRYF3jUgU84zRCGEsE2ZmTuOId4a5ILomqtgI4ByJGoX8xpjHgODdJQqKVxF5ByGP4CW8ycg6oqkYHZ7i+A3ZjLzyhGHCgi4qOwRynROMg3A6CBEmrqUR6wxrJtFr9iyy7vrIPPWQR+gRZAV4YzatPe5J7mRDqGzuo9dNmjTJ6XSs3ehDUUI3wJGJHpYvEUUlw4X9flAuelsuzyArBTnEEYcsGRiikkOgWi5NsaGO3DYUvuhClFbfK+KUIUoQ/o3SyOKC8YDQQZH0hBDBkwIh1HyEgYXMh9m4h6W86aabOiWJ357wuiYpRrTLgkp0wRPMmwvhofPE4opHF8UeRQwiOgOzRgnPHBEDiE1HRC4w1LC+6UuU0saJUs+izkJP6gobl8AkjTACws9BafCEp9GnPnGN3Fa8SJ7Ccxadw/r169vcuXNdURQOBADeJIg5JYUtbS5cwf/+gQ+iggmDSRGKMErLnoMZ6YIYeWFvMEYEf0SbEP54ndlrgTeJdDjeYwxylELmiHnDUCcFCv4jkoGH2i8UGPMYl/5dXLYnulJREGAOkbFh4jfX8Sjy3hJhZL8MjhdSJHGw4AQhYgvvIF9xFsBbUBy/wS/eYKUMsiJOPnJPVDoI5DonrM84rjyRjsq1NCIFzqfB4TzEmYbcwMCASKvDaEVWsXbn8nEHyZ00xMvmHnOI7kOWBDoP6wapSqR2e0KnogyyBMcVeg+RUXRI0nOzEenmODzJiIDS9DZk1IgRI1w56uGwTiLvIOE+6yUZMayh8KOo+AhkjVD4R1x00UXOi0lkwBP5t9GFyd/L9YhHA6X1sccecwsXixcbwaM5lbTXpEkT5ykLGwAoQ1FvB4KP63FEGyycPMf/+a+VxJVPuoYiDyMSXSFFC2UtidgMy8sB4aUhIsBiHFbkw3WzjZPICH3GUOClzUbjxo3LhA6jZTEKwko7576v0bJpv2mHsXlMSVXr3r27W4SS5iLcHnwAkVrhCcWWjaOiZATYKIuSEBbm4dIoerwvPpKEQofnmesIeXgIRa9Tp06OD8ixRvBj4OGB8oTAxoAVVXwEeNf4KguKAUSEi0grvEGKI/KFBRbPIvnvgz4c5CIXOIAoBxGJZINjlML8huMCR4MnUl58CoO/pmPpIpDrnBCtDsttzsMpldl6jdEZdjj58qwt8NfAgQP9pdSj5E4qPGVyE6cUe1hZd8hsIBvC78HyHUI3IlOBDBO/95V1Bl0oG/H5fJ5BBME7NNP0NtLKSYHnL82YiD6Xd4F++pTr6H39zh+BnA0KPJUo7uFFBA8ymzSZFBal8AaaXLuC4CH8hHfbT2w4zzvcDt5zvGQ+JQdrF4MmmvaDR4RQm1eU8c56og3qoNBDPNMvrL4MR9Kb/J6G8HV/zt4R9mFAKGvRz6b5CAsRAPZLsBeFMoSciTJAPg3K/Qj9kzZOFmXSVsANhT2s9IWaMIwIiL6x4ZsoUxzhUUIY4Gmgb+yDaN++fVzR1Gu0Q0qMx9LPYdpchBtkPHgzyM9mTpg7Ur/wdFU24nPF8HY2uueee1w+6B133JEpCnbsP/HeRYwGolMIZAwLv5cGviRNBW8hqQoYxf4P/oNfWfg9oRgWJQ/W19exdBDIhXcwFkgp9J8NRp7ygQcIZ4zf3I9ch3c232JzF4Xlnv/4BAs+RkUav8FHRHK9EoFswXAVlR0CaXMS5h28yKQSI0cwJFHW+HxsEsEH7MnzDkZ4CN7hy1B8AQh+geAp1r1cZYnkThLiZXcdh2xY52Et8VkSnodwsPr1hCOOBpxXOKbTiPTza6+71u3DxGDxBN/morf58nFHdCcirBBrIU5sZBi6h6hkEEh2q8e0z9ddfIib2yxKTBBWIZ4nryjHVE29RF4lYTPawQNGdAIDI0p40NhkSg44G39hMOpGPeoooQgwPmOGYUB43lu64TawbLGaCXuR/hEm9hLg/WXjDuH/KLHBnPQAUkqwdKNREl4yPjuLoYXhgeLGS8aeBvZR4L3BkIqjcB+j48Rjw54Sxuy/JR/XBl+2uv32252HkDAfG3LjCC8kUQEWejCiT0ne7rj6/hrtYEShiOLVZIEhJJo2F76uP4In4UuUGxYyPOneaPNlVqQj4wSnpUuXOqPY53Wi6DHPLOoceTdIIYPfMZ7hVwx8DApSAjEAWaghUpjIW8eARCDTPu8L4V14kneY9BUMP+YZIZ8LYXDm46HMpU2VKToCxeEd0kv54AFHlHx4B3kB8RUn0gZefvlll65EHjwpmxDX+b8rSG+AH0mJQqYl8Rt1kFXIBviU/WhhI5X7otJFABmfNCdhuYOixX5GjAiUL/Zn+fcfeYRcYk8F+yuZWyJbOMxIJWa/BTKGtZloGGnJyB0US3gNfkImQayt8B7ynr6xZrCfy3+uXXKndPkjl6eRYcHGZmQDugoOCnQlKMxDaW3F8RBZF6xJrFms/RwheIW9e173S9PbKJ+0ZqIP8iEZPhxDn5FHyDRRySFQJUhvKKg6YLjV6150zxHKSVSpL0oXSbVAEGXL1UTAoajjdYUxkgiBx4KHgIsj7/3gmXEEQ+NhSxobCh5leKniiPxh/qL1iQTQJ1LGPH377bfu84uke3lKGycRALw83lDydThiQKEQ0C+ek4sFjhcKxRbvQ3GIhYG/qIGVbS7Cz2Rs8EAu/Q7XK6/n1/UYaD375P5+sejCW0l8m+s4wTE6D9QlnQneSXt3cn2Gyi1fBPAS52NU58s7STyCjMIgjcoXL5NwGkTvJbWFosn779Maly9iat0jkMY7cXMSxzusf2QF5COLiN7HRSBYF6B82vJj0bFsEEjjIWQB73VYZ4jjoZLueTa9Ldvzsul12errfjwC8EpeEYr4ZmwZhTmpXLbruebLs5CFN0gntRsOmcWV8R6XuHtcQ+GPGgPhsii8aUov+03Ce0583fALyDVeStLF8AqFKW2ccYpiuC7n+Szg2Yy4aNtJv1ks4haMbHMRbi+XsYXLr2jnKPpxGOY7ziQclceeL5IVp3y+vJPEI1EZ5REoikzCqZOPLPLP0nH5IRA3J3G8k+QsS+tZnDFB+ZKQaWnP1b3SRQBZEJUTcTxU0r3Kprdle142vS5bfd1PRqBEDIrk5nUnFwRI72KfA+HjkiBSx8KfayyJNtWGEBACQkAICAEhIASEgBCIQ0AGRRwqpXyNz8CWJJHjLBICQkAICAEhIASEgBAQAqWBQM5feSqNzugZQkAICAEhIASEgBAQAkJACFQsBGRQVKz5Um+FgBAQAkJACAgBISAEhEC5QkAGRbmaDnVGCAgBISAEhIAQEAJCQAhULARkUFSs+VJvhYAQEAJCQAgIASEgBIRAuUJABkW5mg51RggIASEgBISAEBACQkAIVCwEZFBUrPlSb4WAEBACQkAICAEhIASEQLlCQAZFuZoOdUYICAEhIASEgBAQAkJACFQsBKoMHjy4oMmsxTatvv5Lioo1deptRUFg4sjF1qyl3q+KMl/qpxAQAkJACAgBIZAfAtWaN29uVQcMt027dsivpkoLASGQEwJDnh1ox5yp9ysnsFSoEAJDhgyxdu3aFbqmH0IgFwTEO7mgpDJpCIiH0tDRvTAC8IpSnsKI6FwICAEhIASEgBAQAkJACAiBvBCQQZEXXCosBISAEBACQkAICAEhIASEQBgBGRRhNHQuBISAEBACQkAICAEhIASEQF4IyKDICy4VFgJCQAgIASEgBISAEBACQiCMgAyKMBo6FwJCQAgIASEgBISAEBACQiAvBGRQ5AWXCgsBISAEhIAQEAJCQAgIASEQRkAGRRgNnQsBISAEhIAQEAJCQAgIASGQFwIyKPKCS4WFgBAQAkJACAgBISAEhIAQCCMggyKMhs6FgBAQAkJACAgBISAEhIAQyAsBGRR5waXCQkAICAEhIASEgBAQAkJACIQRKBGDYvLkyXbxxReH283p/L333rOHHnoop7LlqdC9995rgwYNcl364Ycf7NNPPy1P3VNfhIAQEAJCQAgIASEgBIRAqSFQLe1Je+yxh82aNcuqVq2aKfbWW29Zw4YNM785oczgwYMLXcvlx/jx423kyJF20kkn5VK83JQZPny4rbLKKta+fXv78MMP7dtvv7Udd9yx3PRPHSn/CCxZssTuueceGzhwoFWrVs06depkp59+uuv4H3/8YX369LEPPvjANt54Y+vVq5c1aNBgmUE99dRT1q9fv8z1tm3b2uWXX260/eKLL9rbb79tvMNHHXVUpsyiRYvs2muvtY8++sjq1q1rZ511lnXo0MHd7927tzOUGzVq5N7Jbbfd1l3HWTBu3LhMG927d7f9998/81snpYtASfAOPNa3b18bMmSIXXbZZdayZUs3iNGjR9utt95qEydOtObNm9upp55qW2yxhfXv398ef/zxQgOFf5544onMtb///tvxzX777WeHHXaYu47DBZ7keV26dLEzzzwzU14nZYNALnPCfN1www321Vdf2dprr22HH3647b333jZhwgQ777zzluk4sqN27dpZ5RY898orr9gLL7zg2vj666/tqquuyrRHG8g1UflFAPlz9913Gw7hVVdd1b3r3bp1i+0w8oU1qlatWo6ffKH58+fbRRddZMibFi1a2I033mg1a9a0I4880ubNm+eLueMJx59gnbt0LnQt248333zT7rvvPqtSpYqdffbZbh2kTtKama093c8NgVSDgibuvPNO22WXXVJbW2mlogU6mOyKSOF+VzRjqCLivSL2efr06U5wIuAQoEcccYRhEKDEX3LJJbbWWmvZyy+/7AT3OeecY08++eQyMIwdO9a22247O/jgg9291VZbzR0XLlzoFMLff//dfv3110L1rrzySkPxe+211+yzzz7L3MN4+fzzz52SSbv0AYMEwuinDxtttJH73bhxY3fUP2WDQEnwztSpU+2vv/6yn376yR39SD7++GM77rjjHF+xIGPMPvPMM7bbbrvZlltu6Yu5yLLnN3/xpptusl9++cVo21OPHj3s/PPPt3bt2jnFAwN5r7328rd1LAMEcpkT3nkUPZwPw4YNs3PPPdd23XVXW2eddZzB6bv95Zdf2nPPPWfrrruunXLKKaly67fffrOnn37aJk2a5Ks7fkHZvOaaa9y1ouoSmQZ1stwRGDp0qHMQMJc4Hpj3HXbYwdZYY41lns1agvHA3Ifp6quvNhxX77zzjrEmYVBgWMJvS5cudUXnzp1rp512mrXdtm24atZz1rzrrrvOnn32WcOBdvTRR9vWW2/tHOFJa2bWRlUgJwSKZgkETaNssMigAEU9Vw8//LDzZrRq1cpOOOEEp8D43tx2222uDl7RESNG+MuFjpdeeqnzfB144IHWunVrZ2EuWLDAlcHD8eijj7pFiqhAQUGBY2o8YjzvoIMOMiIfng444ADnde3YsaOLKGAxP//8885IOvbYY53HxZcl2oBHlzH17NnTeXq5h8KH95i+0CcUNU/0h5fAE+lQ9Is/xkr/REIgisCaa67pPMNEHpo2beoWZLw1EF7B448/3urUqeP4nMU9ahhQbs6cOS6CgaLPnxfoLNAYBHiWwzR79mznVYJf8QTyTvjoxKhRo5wygJeI9wijBIUTQrDD+/45eKZFZYdASfAOvAGPROfy5JNPdrKxRo0aToZhcECU8/PP88eMGWMXXnhhBgR4lMgtUVtPeJ8hPNvek4l3WlR2COQ6J6ztKGLIgzZt2tjixYudDIIvPB9wRA9AGcTJlk1usaZirIbXRGQSzhPf5gYbbFB24OjJOSGw8847OwOwXr16bq1gvcAwiCPkyb777lvoFvNPdANjoXr16oaBS+YLxPx7XhgUpJVT369rGC+HHnqobfP/7Z0FtBXFH8cHsRsLGzAIETtQFFFsRayDrdiFdcSuo2ArKjaK2HUwEDBAFLADA8XADlQEuxHd/37G87v/eZfdfbd4F+77/s657+7dnZ2d/c5vfvOrmbfuug7dLdTDwgcgY2hjy5Yt/fyIPjdkyBBfJG3ODO/XcekI1GtQYI0S7uaDdQfZmgk6d+TIkQ7GCgkFnJAYnYgiZOlQeFwHDx7sFXCsRxSVJMLDRUgUxef66693KDsYERDpVaSDtGjRwrcJaxYLGe8ubcUggAmxTCGYEO/uwIED/WRHuJbJD68KqVwYF9CkSZN8CI7wPN5b3hXPDIQ1jecNTx3WdMjItGfy5Mm+nIVysdxJOWGQ8J4iIZCGAPxJlAL+2n777X0xeNsMCDx2GB2kGuQTwhEljpQkJnZC0Vk0ceJEP3kzicOj9gzu6d69u8M7DQ+//PLL3sjB6IAYz4wXFII0J4AvqD8NikA5vJPVUPob2UfqEzI+n3AYkdaEsgnBd/AGcjLkQXgWz7URigJyVlQ9BIrpE4wIDEc8x6S/0X8hEZ1AIWzXrp0/nSW3hg0b5nljm222CatwP/30k5syZYrDiYgcNCdGnUL6MUsjQMQpHOf1NXbq1Km+yFJLLeW/4RtkDh8jjklbsnRd5AqGB5FOHL9EypKi9tz/2WefuVatWllV/hhZCRU7Z/qb9KdgBIoyKMyDSk4cTEAH47kiNzYkctYQPngzsDgttYL78FYhVLA6sSLTiIgDXjRSOlC0yPk2gpnI/YYhEWpMUkQQWNdAChIKE5EIIyY7GJ7UECIdF1xwgc8LpR3mscGAIaqAZ4a2oWDBuFjTKGu9evXygpNcY8L2SUQdvB/vTN4pdViuaFJ5nRMC5Kjj4cPjYgIWvsRwxXDGWGZiD4WtoYanBqWfbwx40pKyiHHChI1nGs8z48E8xkRJUBpIccSLyPgyQogT9WDcMeYxRkTVR6Ac3slqPQ4V6oZXyJ0PCfmJE6ZHjx650/Bphw4dfBQrdzI+QA7DN0bwKhO6qHoIFNMnyAgyDPA+J8kW1oCREWCUJrfgo379+tWJ5Ns9GCOsyezYsaN3PKJLTJs2zS7rexZHAKUf5y1zRKGEE9acEXYPv1m3Y0TWC/oY6wshHBzIHqIaRO7R85577jkrXucbIzVMxyQ6yjmo2DmzTsX6US8C//VWRjE8+vlrKIhQkAKRRsOHD/eRBXKtUYRszQEe0f333z/tttTzGCeEyIwIkRoh9FZeeeUcgxJ1aNOmjbdSrYzlZeYvbEWQmaKGVYvh07VrV38bFjHGA9ESBFynTp2sutRv3g8BbETUBK+LSAikIUAUC0FKegG8i2FBhA3eIbJH9KF3797eQM2vI1T6MZgPOeQQ7wUMN1EI78HAZywQrUOAM4Yx8llQh5FNasOAAQN8fjyCe9SoUd5gYcGlEVFFvI3mObLz+m54BMrhnazWYkTwIboKbxC5MhlOWgtOJItKMxcQscChQ/on8pg1HkS5KMd6HSN4x6Jedk7fDYtAMX2C44wdDIlS4OAju8CcaTg5iFb2798/9wJpcgvZQpocfEQqJU46eAXeIuXS0i4xSHAgwmMYGKJZGwF0Ixbus3Yqbc5JegNkh6Ww23V+m0zhHA7hUFcksoYhQgaKkaXOMVdZ5PySSy7xBofpdZRlDQdGCFTsnOlv0p+CEajXoEiqic4JF1aFZQgtEb7EM9+2bVvvObUdYrAaUdyLpQkTJuS8t/n3Nm/e3EcoYC6b9JjkzNubXz7tNwuEEGKh8kRZJkTqZqLEg5tFzZo18+s3jOlZy5FvxGTdr2uNEwF4BE8fOz5hUEAsIuODMERwExHMIiIMGMF4i9KEO2XwEM8zzzy+KpQDS2MkdRHjgnstp3X006Nn2F2DyFsYLcxqk67NfAQqwTtprcSowAuNdxADF2Libt26de4WjAR2KLN1a6Qz4JG2NIgwxYm5wfKhcxXooEERQAYU2ydEEfAW440m+wBiZ0OMEz4hJcktHICkJpMNgCFix+TWh55qjplD01Khw+fouLoIYAAQPe/Zs6fnjWJagyMXPsCRhvxiwTZzUuhsQGck6mmEnofBgZMrn9g8IiTSgNEBjTg2Q9jO8V3InBmW13H9CNSb8pRUBYo36xBsEsHzYIR3CobBmEC5GT9+vF3y4SbCp4RdUX7o+DT66KOP/CW8/qQekYqUREx0eF0ttYjoCMyOACyG2HkERcneiRAZ9ZBGxQRKDjltJt8T4yKJ8LTgNWSNBe84dOhQv24jqazONW4E8PLbQjb4iuiY7Z6ERxDeg0hlIjXQhC3eYAQxyhmRBgiDd9CgQV5ohhO0vxj8QUDjDEAxgHi+CVrOWxSQ9uANardaO1/WxjfGDWupCBuLqodAubyT1nLkNbvtmHePFFf4gMncCGXU+JRzKJt4KO2DPEZWYyBzjHGBQwhCHmJ8iKqHQFafMFczf0I41theFoIfMCBCJ90Xn38xw/bxaXKLrYKNP1iPgdOC38ytl156aU7WIX/gN4wS0ayLAPMDKZGkdocZGbQ45KG0N6D/yfgg4gWhu7GDmBG6E45colpG8C1zIk4vCFkVpkhZOb4xVIlwwLc40Fhb261bt5LmzLBeHdePQL0RCtYOWB4b1aHQEJpEGWEvevKqSZ2w6AAdj+ChDMoN6UqEOSEEC7vXkFaE0cFkZNd8geAPBgt14J0l5YqUkCRC0WLxIKkh7LAE05GTXmxkgHQPBgkTIe8EsyJU2SGAxYaE9Nl1ACuZ60mEZ5eFr0ya4IHiZR6dpPI613gRIC2PXXKYWBHQjBN4GCJSwaJ+8s/x2LExAYSgJRcZzwrjjG1e+T8ACGgiGIR7IdKWyEFFoMKHGAHkubMNJGUY0/A2qXz2jyXZAIFrbJyAMCeXmTYxnvg/BSgCjFVSEthCUlQ9BMrlHeQq8oxoA44T0lqJHuP9g+fY/QvPM5M2PBkuuMRZQpSqEIL32HYWuUj98GiYc19IHSpTWQSy+gQFD55AIcOJRp46nmPkCDny4bqZKVOnzBCdSJNbaW+AIxBPNRF98txJyWTuRjcQzboI4MgiFY5+Qm/CoYWTgbWmIQ/BS8gZ5hnmEZy8pOWiA7L5Dd84GZj/mK+McEpjbLLg3yjU84hIEMWirqRt+3GSsRsnRgRtIz0XmYVOlzZn2nP0XR4CTeIQddR06Di3aM/iPUdMRhgbCIN8IvRNGlESWRQDRSiJWBSK0cGWrzBiIcYBjEPoDG9aWr1Jz8o/h4Bj1yZC82E9MD3RiUJC9ljFhHXDnMD85+h340Gg7xEj3Jk3JI8vJmsofwzB9wjN/DEEb1k+KPeh9OEFLmSMUB6ysYIHCAUjJIwWlMn88zyDsY6gFzUcAnja0hY8lss7WW+BjA490lll67uGTGWukKJYH1KVvZ7FO0l9whyH3AllEfM4To1wLsxqZZrcyrqHa8ytYeSrvvK63jAIZPFQUguSeCipnJ0rRc5YlBQDNIuYszBaQ36mfClzZtZzdO0/BOCVeiMUWWDl50+GZfMVofBaIRMVSg/esnCXkLCO/GMUoHCxdv71Qn+jNCV54BCohRgTPCdU+Ap9rso1TgTyhZ2hQHQvKX0pn7fw4hRjTFB/1lhJM4It5crap+/qI1Au72S9QSEyOuv+8BoyVcZEiEj1j5P6hDkun6ey5vGkt0iTW0llw3MyJkI0Zt/jJB7KeptS5EySfpb0jLQ5q5Q5M6l+nZsRgZLWUMxYTWXPkENJWodICAgBISAEhIAQEAJCQAgIgVkbgbIiFDPr1cKtvWbWM1SvEBACQkAICAEhIASEgBAQAuUjMEtGKMp/LdUgBISAEBACQkAICAEhIASEQEMgIIOiIVDWM4SAEBACQkAICAEhIASEQI0iIIOiRjtWryUEhIAQEAJCQAgIASEgBBoCARkUDYGyniEEhIAQEAJCQAgIASEgBGoUARkUNdqxei0hIASEgBAQAkJACAgBIdAQCMigaAiU9QwhIASEgBAQAkJACAgBIVCjCMigqNGO1WsJASEgBISAEBACQkAICIGGQKDJmDFjouY/THeTm82S/5KiITDQM4TATEXg0zenu5ZranzNVJBVuRAQAkJACAgBIVA1BOZs3769azp0nGvTfYuqNUIPFgK1jMDYu0e4/Y/R+KrlPp5Z7zZ27FjXuXPnmVW96q1hBMQ7Ndy5DfRq4qEGAroGHgOvKOWpBjpSryAEhIAQEAJCQAgIASEgBKqFgAyKaiGv5woBISAEhIAQEAJCQAgIgRpAQAZFDXSiXkEICAEhIASEgBAQAkJACFQLARkU1UJezxUCQkAICAEhIASEgBAQAjWAgAyKGuhEvYIQEAJCQAgIASEgBISAEKgWAjIoqoW8nisEhIAQEAJCQAgIASEgBGoAARkUNdCJegUhIASEgBAQAkJACAgBIVAtBGRQVAt5PVcICAEhIASEgBAQAkJACNQAAjIoaqAT9QpCQAgIASEgBISAEBACQqBaCMigyEN+/Pjx7u+//847q59CQAgIASEgBISAEBACQkAIJCFQEwbFhx9+6J5//vmk98s898UXX7hTTjklV+aVV15xRx99tKM+kRAQAkJACAgBISAEhIAQEAL1I5BpUGy55ZbumWeeqb+WKpd4+umn3X333Vd0K3744Qc3ZswYf9/06dPdxRdf7AYOHOjatWtXdF26QQgUiwCG6x577OG22mord/XVV6fe/uijj7odd9zRdevWzT355JO5cu+++6477rjjHOP0/PPPd//884+/9s4777iDDjrInz/rrLPcV199lbsn65kvv/yy22233dzmm2/uDe3ff//d13nVVVe5HXbYwXXv3t1de+21ubo44Nouu+ziDj30UMf9RrRzn332cdtvv70bPHiwndZ3hRDI6sfwEWm8891337kzzjjD8xVOlUmTJoW3uT/++MPtu+++7t577/Xn4a00PuAa5Xr27OnuvPPOOvV88MEH7txzz/V8FV6AN3beeec6n6GPDPVF3nzzTXfkkUd6frv00ksdsllUOQTK5R3kQq9evdwWW2zhjj/+ePfnn3/6xqX16cMPP1ynn+n3Aw44wN/zxhtv1Lm23377+fPw1JVXXun5Exn50EMP5QAohd9yN+ugIggUIt9/+ukn17t3bz8P4ah99dVXc89Okz9Zc1fu5gIO0uQet95xxx1u2223ddtss427/vrrC6hNRQpGYOrUqdEPg56Ikqhr167R2LFjky7VxLm33nor2nDDDXPv8u+//+aOdSAEKoVAn8PTx1cs+KJff/01ig2G6LHHHpvhkbGiF2200UbRJ598Ek2cONHzK2P2r7/+8ueHDh0axQZDFE/EUf/+/f39xx57bPTcc89FP//8c3TaaadFJ598cq5exnTSM+053Dd58uTouuuui2Kl0tcdGytRPAFEn3/+ebTJJptEL730kq9v1KhR0V577eXLvf7661EsoP35t99+O+rYsWP0/vvvR7HCEHXp0iWKo3+5NuigcARih0di4bR+DAtbn+bzDmX69u0bXXjhhVGsrEfxpFqHR7h+zjnnRJtttll0xRVX8DOTD3777TdfFzwcO2V8efsDr1FX27Zt7ZT//uijj6LY2PAfeAce//rrr/21WOGMeG/47/DDD49iZbLOvfpRGAIzi3eQJ/TptGnTolNPPdUf06K0Pv3xxx9zfU2fc/95553nXwL5hQwxXqAOKHZkRrEzJIqdfhH8scEGG+T4oxR+85XqT9EIJPFQofKd+Sh2MESxARrFDt8odnzlnp8mf7LmrtzN9Rxkyb3YuI1iJ5efyyZMmBDdfvvt9dSmy4UiAK9kRijSrBK8VyeccIJbb7313HbbbefwKEH33HOPu+GGG1ysxLhYALiYOdz333+fqwbLEE9rp06dvNWKZxXvxlFHHeViwyVX7uCDD3akH0FEH3r06OHWXntt7+3Eu5JPPLdPnz7+dKx0ea/JLbfc4jbddFN/bzwAcrc8/vjj3gNL+2699dbceQ7wnMTM6M999tlnvv0bb7yx98TQVvMi46XlfKxc+Xe2SnbddVefesU74r0ZMmSIXSroPXKFdVDzCOCZgxg/CyywgNtzzz3reOEMADxz8FnLli3dqquu6scVfMU4aNq0qR9PyyyzjI8QPPjgg/42PMnw50ILLeS9xhZlzHomkTkiINy31FJLeQ/xvPPO66j79NNPd4sttphbYYUV3IorrujwIkGxQe6WXXZZR7m11lrLxUaO++WXX1xslPh2tm7d2q255preG8QYFVUGgax+DJ+QxjuUIbq1yiqreB4iimR9yjXk+bhx41xsCPLTUxYfzD///C5WLN1qq61mxXPf8PcxxxyT+20HK620kn8+bRg9erQ77LDD3NJLL+0jYsjelVde2fNV586dc/OL3avv0hEol3di5cJHSZmz55prLnfEEUe42BHiG5TWp4ssskiur+EjeO+kk07y98TGhpch8AEf6oCQebHR4RZddFEvW5AvTzzxhL9WCr/5G/WnIggUKt8Z90St5ptvPq+HxQ4uFxuMvg1p8idt7uKmTz/91Ef01113XR/hIsqRRFlyD70Q3mMuQ15ZRCypHp0rHoGSDAoGOsoDA/yQQw7xqUI8mhSiG2+80QuA+++/3ys9Tz31lG8V4S4Ucjr0rrvu8iF10pRQRlDiUUSM+B17IfzP2FvqDQQMC4RNfkidQjyXchDGzsiRI32d1I8AGzRokL9mayYIoVIGYRUS121B9plnnukFHcrYOuus48PvvCvKXOxVcbfddptP/xgwYEDuHhie39dcc41PF2BwGBXyHlZW37WPwMcff+yVc3tTJlMzZu0c3yhXrVq1yp3iGD7DwMAYN35FQH777be5tCe7gZQTFDUo65nvvfeeW3/99R0GN+OatIKQeCYOgS+//NIb9lwjBerZZ5/1hhDpTrQBIyb2Rvu22P3LL5JH6R4AAAvDSURBVL+8Y2yJKoNAVj+GT0jjHcrsvvvuLo5Cudj76/uPtDuIfkf2kaaUzwNcT+IDzpdKyHnSE0ivgjCSSUXAiI0jFp4XMUpElUGgXN6Jo6O+ITgdoBYtWvi52uZrzuX3KeeMbr75Zu8EYd6HSIuZMmWKd0IiX0I9wO7hO46O1pGX4TUdNywCpch3HMvwxXLLLecbmyZ/wjcJ5y5kEcYrDgZ0QeaUOLoQFs8dZ8k95FeHDh18iqY5wnM36qBsBIo2KOhYJgDybhdffHGfG/vNN9/k8ijxcKKwo/Bw/Nprr/lGorCwNgFBxLVmzZrljICst8BzSz1zzDGHa9++fZ08vLT78IiQO473FKUnDm35og888IAXgDAmZXbaaae0KlycJuA9q0xwcXqB95JhaWOkkP+JtxjvK2168cUXc/WcffbZ/v323ntvBy4WoSnlPXKV6qDmEMAzh6fNCEUcD04+MeEuuOCCudNEMzjHvWussYZfK0FUEL6D4jSEXFm8ieSI4iWCsp6JwYszAAOBaAJrJkIip/2iiy7yvG/KBAYE/E+u84EHHugjetzDeEWoIyMuv/xyh3MBQ19UGQSy+jF8QhrvUAYPMDzE2hfWPxAVhuAlJlycKEmUxAdJ5Qo9R5QYfplzzjlzt7AmBwUSw4L5hmiyqDIIlMs7OO/MGLAW8dvmOc4l9SnncYAwf5JxYIROgB4Rp0j69YzMyaEMoxz6Bo4TlElR9REoRb7HqZM+Gm+8kyZ/7O3y5y4c0pbNsvDCC3u5RaQkidLknhnDrPshUkJUFceFqHIIFG1QoCQz4Fn0iaLNh47G8wE1adIk1zqMhjg/3P8mPYqwOooGCj7WaiGLn7kH5RyFhdQlBFp9FLaBVA3znuAlTZso8+tEWWMxGYrQ8OHDfZoUZfAio6TZu2PlWhiP6xg+EANn7rnnznlcSnkPX5H+1CQCGLShks04wajIJ4Sn8S/XWBDJOYhoWJx/7OK1Pz7lD57D6DW65JJLfKoSqXhQ1jNJX6BcnNvqFQL4mC2UjUhrIFqHUU50Drrgggt82iNRSMLbpEHgYUQ5JMqBJwujHqXVjBCrT9+lI5DVj2GtWbyDAcFCfvoOmRivVfBRJDzIRIIxKnGqkJoQLrZP4oPwmcUek+pKZMwIxZQICbKXD2kNYaTXyum7NATK5R2i+sz3IfE7jPbn96mVxbnI88OypAb369fPO/6I7NP/5oTkPvSNeK2PT3/CuSeqPgLFynciCvBEuKNmkvwJ3yx/7kK/RPcj9Rzdi/vNiGXeiddg+Q9zVJrcQx/DMCU9ng0pkHEsLk+KxIZt0XHhCPzfLVTgPXgTUNhJIyKfOiRyYdMIjz7pR6y9oA6EhCn+MGioXIV14BEj1YhcNwRNUj5uWD7rGEbD81UIbb311j6liWgLnhF2v4EwkjiHIlcMVfI9inmuys6aCODdD1OcCMVaalLYYkLEYboQx4wliAmW/HeIyAJhYCN2zEGpJ5/UxlnWMxmboeHC2CYdBsPaCOOcUPWIESN8pIK0QQwM2mG51KOfHu267dTNG0c4ASAmh5ZxVFJUGQSy+jF8QhrvIAPpayKsEIZFvADb7waG3CPVAMKjh4FI+TBKkM8HvnCJf+KF+z4iYrfDs+TLo3jyYZcYdnpiNzNR+QiUyzvM3ey6hTIHH5CWNs8889RxhuT3qbUaecK6qjTCIRI6ITFUMHR79uzpo1hp9+l8wyOA86sQ+Y4hgPJOeuUSSyzhG5omf3AewF9Jc1fz5s29IRpvBDLDy1J3SKz/Spoz0f9wuJmuiWGL44y5lzVbovIRKDpCwaBnUQxeesvfJne7PkKYwIQsHL3pppt8iNPuYXEM1yEsTPK0IQQXIVosUihMLfInivxDWJWIgk2YKGFpxFaXeGAfeeQRP6nx3hAeFcK2Zh0X8u6Vfo+0Nuv87IMAXlmUNUvHY10OyhxEZICoGETqEd4dFEBSol544QW/eJprtsCScchGAaTVQYSC+/Tt48+hlBllPZONBPA+0yY+ZkwMGzbMGybUgSeHMbjkkkv6KhHQto0t1/AgtVutnSNcbfmpbFnLGNLiN+uF8r+z+rEQ3iGFjhQ3JlIIwwE+IYrM1tn24TlsIYwRmcUHvpIS/iDbmdwxZo2Y5ElvQGZC8I8me0On/O9yeQfnAZuq2FbQpDNijBol9aldw4FisoNzyC2MRYt4IEuQIWzAgjzBCUe0DG+0aNZBIEu+h/IH3YhMFjbnwUlglCZ/GPtZcxd8ggMLgndMB7N67TtrzkSXJDLBO+Cgph7WAYkqg0C9EQr2m7b8VoQJ4W9yqdlXmF2U8E5gEGBgZBFCghA6CjkMxSTCXsDky7LOAU9Uly5d3Oqrr55LS+K5RANQlPBcYMiUQ+Tk4gFjNye8uYT6zXubXy/tZOcRymFMkL7BwMATi9XNRMs7wJCE5pPSVazOSr+H1avv2RcB+A7PMPzEeECoobhBTNYo9AhGohFEx9iBCSHI4lU8zxyzdoFJGkFLFM1yk/Hmwpd4kPiGCDdzPe2ZjEGMFYwaUqjIZWbM0jZ2xUDJZJJn8biFrgkdE33ASYBiyD1cRwnkHkLMCH3aowiF74aK/CmXd2hEvO2nl2eso6Dv4q08faQprYFt2rRJ5QNS78ibx+ilbchD1mIQ3ULZhAfhKXKvkeG2Wx4KBx5D0u2MWICNhxFeQqYy59j6ICuj79IRqATv4HFGUcQJgkyg742S+tSu4YG2RbmcwzuM4UgaC2vDkBfoFnip4Sn+WS3HGLrIO4wRNo0old+sHfouDwGiUmnyPZy7WJ+A4yLePtYbjjyVvmYuSZM/WXPXZZdd5uceIhKkCJO5QjptPqXNmZRDzqHXYVjgoGPzCdNv8+vR7+IRaBJ7p6KmQ8e5RXv+5x0tpgo8WwgBPJX10d133+3i/es9IzGBERY98cQTvfeViQPBhGc0zK+0OvF6IHDCiceulfLNoh2YiDqTiLZg7JC7iyHDRIknBaXPFvFwjk8xueGVfo+ktuvcrIdA3yNGuDNvSB5fTKjwIxOnEfyHkRDyJ2ODCTg8R3kUdgzecIG31ZP2nfRMK2sLw/PHNLwO5T+fc/A1Hm6UlZDIf0YJQCkUlYYA0am0xahJ/VgM79Ai+IfUlUIpiw8KraOQciiQjIuk+aCQ+1XG+bl1ZvIOxkMx819Wn7DTUxi9yCqraw2HQJb8SZLvSfInq7XFyh/qskgXumcWpc2Z3APvIlvqqyOrfl2riwC8Um+Eou4tdX9ZTlzds8m/8Fri7UTx4IM3FEPCFCGUjrTJI+188pPqP8vzs4iFryh0tI0oBIYTg4eIjBGKVZJyZdeTviv9HknP0LnZCwEM29CYoPWMhXzeSouAFaMMGjJJz7Rr+YaEnc9vj53nO42vk9aEhPfpuDwEkvqxGN7h6cXyTxYflPc2de/GOE3jq7ol9asUBCrBO5UyJmi/jIlSerG69yTJ9yT5k9XKYuUPdYVRrqy60+ZM7qkk72a1obFdK8ugKAYsUqT4/xWkXdDRpDbx/yhgwFmNaB9hXcJhGBcYFYR4SQsRCQEhIASEgBAQAkJACAgBIfB/BBrMoCBXlp2dZhci5YmPSAgIASEgBISAEBACQkAICIF0BIre5Sm9Kl0RAkJACAgBISAEhIAQEAJCoLEhIIOisfW43lcICAEhIASEgBAQAkJACFQQARkUFQRTVQkBISAEhIAQEAJCQAgIgcaGgAyKxtbjel8hIASEgBAQAkJACAgBIVBBBGRQVBBMVSUEhIAQEAJCQAgIASEgBBobAjIoGluP632FgBAQAkJACAgBISAEhEAFEZBBUUEwVZUQEAJCQAgIASEgBISAEGhsCDQZM2ZM1PyH6W5yswb7lxSNDWO9byNH4NM3p7uWa2p8NXI20OsLASEgBISAEKhZBOZs3769azp0nGvTfYuafUm9mBCoJgJj7x7h9j9G46uafTC7Pnvs2LGuc+fOs2vz1e4qIiDeqSL4NfJo8VCNdGQDvAa88j9gXYeY3OgEeQAAAABJRU5ErkJggg==)\n",
        "\n",
        "\n",
        "\n",
        "\n"
      ]
    },
    {
      "cell_type": "markdown",
      "metadata": {
        "id": "xRGPrR0bz4TL"
      },
      "source": [
        "![Captura de Pantalla 2021-10-25 a la(s) 19.42.03.png](data:image/png;base64,iVBORw0KGgoAAAANSUhEUgAAAwAAAAIhCAYAAAD5Bt2pAAAEGWlDQ1BrQ0dDb2xvclNwYWNlR2VuZXJpY1JHQgAAOI2NVV1oHFUUPrtzZyMkzlNsNIV0qD8NJQ2TVjShtLp/3d02bpZJNtoi6GT27s6Yyc44M7v9oU9FUHwx6psUxL+3gCAo9Q/bPrQvlQol2tQgKD60+INQ6Ium65k7M5lpurHeZe58853vnnvuuWfvBei5qliWkRQBFpquLRcy4nOHj4g9K5CEh6AXBqFXUR0rXalMAjZPC3e1W99Dwntf2dXd/p+tt0YdFSBxH2Kz5qgLiI8B8KdVy3YBevqRHz/qWh72Yui3MUDEL3q44WPXw3M+fo1pZuQs4tOIBVVTaoiXEI/MxfhGDPsxsNZfoE1q66ro5aJim3XdoLFw72H+n23BaIXzbcOnz5mfPoTvYVz7KzUl5+FRxEuqkp9G/Ajia219thzg25abkRE/BpDc3pqvphHvRFys2weqvp+krbWKIX7nhDbzLOItiM8358pTwdirqpPFnMF2xLc1WvLyOwTAibpbmvHHcvttU57y5+XqNZrLe3lE/Pq8eUj2fXKfOe3pfOjzhJYtB/yll5SDFcSDiH+hRkH25+L+sdxKEAMZahrlSX8ukqMOWy/jXW2m6M9LDBc31B9LFuv6gVKg/0Szi3KAr1kGq1GMjU/aLbnq6/lRxc4XfJ98hTargX++DbMJBSiYMIe9Ck1YAxFkKEAG3xbYaKmDDgYyFK0UGYpfoWYXG+fAPPI6tJnNwb7ClP7IyF+D+bjOtCpkhz6CFrIa/I6sFtNl8auFXGMTP34sNwI/JhkgEtmDz14ySfaRcTIBInmKPE32kxyyE2Tv+thKbEVePDfW/byMM1Kmm0XdObS7oGD/MypMXFPXrCwOtoYjyyn7BV29/MZfsVzpLDdRtuIZnbpXzvlf+ev8MvYr/Gqk4H/kV/G3csdazLuyTMPsbFhzd1UabQbjFvDRmcWJxR3zcfHkVw9GfpbJmeev9F08WW8uDkaslwX6avlWGU6NRKz0g/SHtCy9J30o/ca9zX3Kfc19zn3BXQKRO8ud477hLnAfc1/G9mrzGlrfexZ5GLdn6ZZrrEohI2wVHhZywjbhUWEy8icMCGNCUdiBlq3r+xafL549HQ5jH+an+1y+LlYBifuxAvRN/lVVVOlwlCkdVm9NOL5BE4wkQ2SMlDZU97hX86EilU/lUmkQUztTE6mx1EEPh7OmdqBtAvv8HdWpbrJS6tJj3n0CWdM6busNzRV3S9KTYhqvNiqWmuroiKgYhshMjmhTh9ptWhsF7970j/SbMrsPE1suR5z7DMC+P/Hs+y7ijrQAlhyAgccjbhjPygfeBTjzhNqy28EdkUh8C+DU9+z2v/oyeH791OncxHOs5y2AtTc7nb/f73TWPkD/qwBnjX8BoJ98VQNcC+8AAABWZVhJZk1NACoAAAAIAAGHaQAEAAAAAQAAABoAAAAAAAOShgAHAAAAEgAAAESgAgAEAAAAAQAAAwCgAwAEAAAAAQAAAiEAAAAAQVNDSUkAAABTY3JlZW5zaG90XczDWwAAAdZpVFh0WE1MOmNvbS5hZG9iZS54bXAAAAAAADx4OnhtcG1ldGEgeG1sbnM6eD0iYWRvYmU6bnM6bWV0YS8iIHg6eG1wdGs9IlhNUCBDb3JlIDUuNC4wIj4KICAgPHJkZjpSREYgeG1sbnM6cmRmPSJodHRwOi8vd3d3LnczLm9yZy8xOTk5LzAyLzIyLXJkZi1zeW50YXgtbnMjIj4KICAgICAgPHJkZjpEZXNjcmlwdGlvbiByZGY6YWJvdXQ9IiIKICAgICAgICAgICAgeG1sbnM6ZXhpZj0iaHR0cDovL25zLmFkb2JlLmNvbS9leGlmLzEuMC8iPgogICAgICAgICA8ZXhpZjpQaXhlbFhEaW1lbnNpb24+NzY4PC9leGlmOlBpeGVsWERpbWVuc2lvbj4KICAgICAgICAgPGV4aWY6VXNlckNvbW1lbnQ+U2NyZWVuc2hvdDwvZXhpZjpVc2VyQ29tbWVudD4KICAgICAgICAgPGV4aWY6UGl4ZWxZRGltZW5zaW9uPjU0NTwvZXhpZjpQaXhlbFlEaW1lbnNpb24+CiAgICAgIDwvcmRmOkRlc2NyaXB0aW9uPgogICA8L3JkZjpSREY+CjwveDp4bXBtZXRhPgpfuOnaAABAAElEQVR4Aey9CZgkR3XvezJr6b17lu6Z7lk1kmY0Asx4LNnwZCR8ARuDfQ0Yyxr4rGtfnvHyvH623/uuPy+XB8Y29n22v4vxs5+/JzB6CCEk0MYgCSG0S2iXRhrNotmXnpneau2uJZcXJ7OiKqu6qrvWrMysf3wqZVZmZMSJX+R0xYk4cY5iikRIIAACIAACIAACIAACIAACPUFA7YlWopEgAAIgAAIgAAIgAAIgAAIWASgAeBFAAARAAARAAARAAARAoIcIQAHooc5GU0EABEAABEAABEAABEAACgDeARAAARAAARAAARAAARDoIQJQAHqos9FUEAABEAABEAABEAABEIACgHcABEAABEAABEAABEAABHqIABSAHupsNBUEQAAEQAAEQAAEQAAEwo0guOXNo/T49CXK6HrZY/2hEN0wtYE+dfXOsutB+pI98VXSZp4iU88sa5YS6qfwxE9S347/suyely4YiXmiTIrIMJaLpQpdsH+Y1NF1y+/hShmBfFonfg0qQ2goikLiVaDIUKgsfy99iWVmaCmfIsMs/xuhKiEaiAzTmv6JXsKBtoIACIAACICAJwko9QYC48H/Q2enV2zEz2yZ6roScPHiRRobG6P+fjESa1PiwX/+wvdXLS0y+X7PKgHW4H8xsWobaHC0LUqApmmUy+WsflBZuQhI4sG/trRy7LzwgNIWJYAVDOYYDoeJlQuvJx78p3PxFcUcio5BCViREG6CAAiAAAiAQOcJ1D0y45n/1VJlHh68PPzwwxSPlw8KDh48SK+88spqxTV1/0Mf+hA98sgjTT1b6yGe+a8nVeaT7T969Oiyx5966il66aWXll2vdmH//v3067/+66RXrLxUy1vzGs/815Mq8vEgNJFIWJ9kMmkN6itnvrl/T548WZwRn5ubo8OHD9Pp06etAWw91XYyT6V8rdRVZQFoWXHOPJJfPp8vy2eIVRjmulKf8jNHjhzxBMMy4Wt84Zn/1VKtPJlMhubn5ykWi1nv2Grl1Lp/4cIF4kmAdiTuI+4f56cd5aIMEAABEAABEOg2gboVgEqzn2qCV+ZZXFyk3/md36Hjx4+XZf/6179OX/nKV8queflLNbOfavJW5pPt/8u//Muy7DxA+dSnPkX/8i//Una91hdezRgdHW1tFria2U+1Civy8QD2zJkzdOnSJWtgxcrMsWPHiNsmE89O8yy1TAsLCzQ5OUm7d++maDQqL3ftWClfK4JUKj/VynLm4bqZHQ9unYn5MdcgpUqzn2ptq5aHFUZ+p/i9YU78jvF5MykkzBHbteLEshw6dKjsw6taSCAAAiAAAiDgdwKlUZvfW+Jh+Xmm/+zZs7RlyxZLygcffLAhad/3vvcRf7qZNm3aRIODg9ZsKA9ceXZ/165d1mCLlRP+yJTNZj0x8JfyVMonr7t15Pp5tn/jxo3FKlOpFA0NDREPWHs9zczM0Pj4eJFPOp0uUygb4TMx0b49Bjzzz323efPmogh+MMUqCosTEAABEAABEKhBoO4VgBrPt+Uyz4j/4R/+IV111VX03ve+l7761a+Kfar2RlUeLH/2s5+lL33pS3TdddfRz/3cz9GLL75I3/jGN6y8v/iLv0hsTuNMzz77LN10001WeWw6Mz1t713gQesv/dIvWSZCXM9nPvMZ67G77rqLPvCBD1j5/+RP/mSZyZKz7GbO3/Wud9F3v/vd4qN33303XXvttcXvbBL1kY98pGj6wG3n79JMik2aPv3pTxfzM6/f//3ft+T94Ac/SA899JB1r1b7ig+24YQHrKzI8OCIzTU4sYnNqVOnrHN5ZObnz5+3rvFsN68CvfHGG3TixAliBYETz6bydTYtYlMX2U9cLs8Cc35WnOS7wPWwicfs7KyV/6233rIG1lZh4n9scnXu3LnijC0PLDk55ePvXD7LweUzMzY/kYln6+WsL5cl65b3mznyIJLb7Jw9ZoWAr3P5LCe3hevl9nE7aiWWnfOy7MzaWSa3ictlptLsrBZ7rpcVOS6H2UtW1erlcnmWXvYhm3tVmjRVe66ea7xawu+ScwWJFaO+vr7i47XeB/53wCsFsh3Mgq8521Kr/dwfsj2V75GsmOXiFSxeUZAfKACSDo4gAAIgAAJ+JuCKAsAD2Hvvvbf44R9emfhH9jd+4zesgct3vvMd+ou/+Av6/Oc/T9/85jetLDx4+9rXvmb9sLMSwDN8n/zkJ+mxxx6jf/qnf6Lt27fT3/3d38nirOPTTz9Nv/u7v0s80OZl/D/90z+1rvOg5cCBA/TXf/3X9LnPfY5+8zd/09qjwPXxd87Pg9B//Md/LCuv1S+sXNx5551WMTyY4gEUKzMy8QCYB3/OwSZ/X1pasrLwIIcHaZyY12//9m9bm2uZK5sS/d7v/Z418K3WPuuhNv+PB2s8SJODT5ZbnstZ7nXr1lmzuiwTt5k3Zu/cudOSmwds0kyG28iD3qmpKSs/D2Dl9yuuuMIaaPKgjhPXwwNRrouVkIGBASsv3+PyeDDPA7vLLruMtm3bVhxUOuXjvDzgX79+vSUPt0UqHjxY5MHj1q1b6fLLL7dkbceAj024IpEI8aw/J5afubACwHLzd15h4Tp59rvSXMh6SPyP2bBSwv8GmCUPSvldku8Nt53Zrl271vp3sRJ7roM5cDnMiuWrlbhczs/1cp/wO8hytCMxX5795z7nMrkPnGml94Hbx0omD9J37NhhHfmaVKBWaj/3ObeZV7H4na22EsPt5P5gJZTlcyqKThlxDgIgAAIgAAJ+I+CKAvDMM8/QfffdV/zwgFAmnuXmwe5f/dVf0ZVXXmnNxPO+AV4FkIntyXkVYO/evcQz/py++MUvWt/37dtnPc+Kgkx/9Ed/RNdffz1dffXV1kw518+DbJl4sH/DDTdYg87bbruNfu3Xfs0qiwcRvHIgZ9Rl/laP73nPe6yBJbeTVzR4dn+lAddK9b366qvWrC0rNTyI5bJ4wPr8888XH3O2r3ixzSc8cOYBVmWS3pd4BpcHZtwvbDrEg1J+hmXmAaXzWR78j4yMWEx4oMnKAz/Dz/O5s2+ZmzRH4rK4HP6wIsEfVgxYBllnpXz8nd8nHnzz4JPr4EEnD6J5QM2JB+RS1nYoAFwmK0DyHeQjKy9cBw882cSE5WUZWHaZj59zJmbDHLkslpuf47ZLxYLz8iCd86zGntvFA1x+nutcs2aNVRUrJCwHf6SSxjc2bNhg9RHn5XMeGHOediQegHO/8QCb/zbwh+XitNr7wNz4eT5WppXePW4/KwrcRn73WKGtTNxHfJ3v8zvL+xT4iAQCIAACIAACfifgyh6AP/uzP7MG2BIWz/LLQY6cSeRBnUysCPBsvxyAOAfLPOjjJAdr8jsPHnhgVJnkjLRzUyHPtMrEg3I2IfrKV74iL1kDouKXNpzwYPjjH/848QoHKxd/+7d/WzZgb6QKno3k9P73v7/sMblawBed7SvL1MYvPEiuNmiqrIIHTDzAlisYfJ8HvTx4lH3oNPfgflxpFtw5IJeztvyeyAEjD3xXSzww5Jl+fp4H4Zx4MMyDWx6I8ooDf/jd4gF1OxIPItl0idvN7758V1l2NjtimZgDf2dZqiVmw+XIxPy4vbLtfN3JciX2rFjxAJhXDJgD/zthpYhXUaRCwe1nZakyyX+P/Hw9vCufr/adefCH3xX+m8DvOSvkq70P3Ge10krtZ+WJZ/XZVIqVB/7742THZfLKhEzMhj1b8YpEu94JWTaOIAACIAACIOA2AVcUgJUaJX9M2c5XzkLysj7PajsHeyuVsdI9aZPOAxke7FQmNiHi/QB/8zd/U3mrrd95pp6VAG7Xj/7oj5YpAHIQxQNDHtBIxaeaAJLXt7/9bcvMw5mHZyjdSDwoY4VDyrJSnTxY5A+bmlT2JysRlYkHYczDufGyMk+171IZ4EGpHNRXy8eDQjm45IEfy8CDOpnkQJT7ggfDLIscrMs8zRx5Npll5LpYwZEKLyum/GGll+Xmc6cNu7MuZsPtk4mVCblaIa85jyux53w86Oc+ZLMq/rfB5jD872G1xAw5rcR5tTKc953KIPcJKx7SLKvZ94HLX639rOzx3wWui/ua39Faid9dfhdW+rdZ61lcBwEQAAEQAAGvEXDFBGilRu/Zs8f6Ef7CF75gzf7xLNstt9xCH/vYx1Z6bMV7jz76qLXRkwd6bCr04Q9/uOZM5S/8wi/Qt771LXrggQeswRQPhHhTYLvTO97xDrpM2Kb/8i//8rKBMG9+5nT//fdbg79Kt6FOWSSvv//7v6eTwv6bB4RPPPGEM0tHzrkeHmzyTDXXK00jVquMB888Q82z3zyzzYO9SjtvZxmcn5VBrkcOcOWA05mv8pwHjjzA5sEcP8fysvlIZZKz65yX8znzsFxcNw/yZHmcpx2JB5DcNp51loNaLpfrYll4Np85cf2VSQ46+XnmyHKyXHIVY3h4uPIR6/tK7FnR4HK4Xm4rJ1mP9aXif6wQMTt+B7henhGXKzgVWRv6ysoQrw5xu7nPWCbuE7m61Oz7wELUaj+3k9sglSdWuuV7IYVnOeQma87P7yMrvVIumQ9HEAABEAABEPAjgbpXAPrFIKXSz39lgzlPvUnOBvPg41//9V8tL0Bs48+J7fCl1xuZr1a51e7zQIo973Bibzt//ud/bp3LvPLIF7kuHpT9wR/8gZWH//eZz3zGmpGVF5SQmJV3RneSNyqOnG+ldM899xRnTXnwJOVgBrzvgU2D+PNbv/Vb1kpBtbI477/927/RH//xHxN7AOL09re/3frI8uSx7HlRnxg1ll2q+oXzVUly9YQHS2waIU2vqmQtu8SDXZ5p5YE5m7pw4pUeOejk70552X6d+0+aOvF93iPA5ayUmCdvZmXzkTfffNPKygNALs+ZuF42o5FKntPMQw6qpVkaD/a4DGdiWVcaKHNeZ3ucz3K9PLh1suPyeTDOMrMiIAet/BzPYPM1XhFj5VGykXto+D63mfNUSyux57byrLcc+DIHuRJVrSxWwthcjhMz5D6pTKoilCqzuvmSzMt5nInL4rr536CUha/JFSDZ5kbfB66jVvv5HeZ3THpKYn6V7eE8fF3m4fI4DxQAJoEEAiAAAiDgdwKKGMyY9TTiljeP0kNnp1fM+jNbpuhTV9deRl/xYXGTZ+X4B5YHAK0maTvsHGytVCYPCHhwxoORygFV9sRXKX/h+ys9bt2LTL6f+nb8l1Xz1crAs6FcNw8+nOmOO+6w9kSw5yNnYnk5f+Ug1ZlHnhsJMRu+WDJ1kdeXHQfFzO7oumWX23GBZ3h5oF7PzDG/ljwg5PbVGlDXkqmeerhspxLmLEsORCvfA86TT+ukLa38TyY8oFBkqHyg6yy/2jnLXM2kRnJw3uPBO3+c16qV6bxWi0mt685neeDPg19WYFaqN5aZoXSutBnfWYY8H4qO0Zr+6vsqmDv3dbX3Q3Jo5n3guqu1k8uU3Gu9Y9xelotZ18oj24YjCIAACIAACPiFQN0rAHJg//j0pWUrATzzf8PUhpYG/wysHpvyesHyILpyIL3SszybKjcMV+aTg3pt5qmqKwE88x+e+MmWBv9cZ7XZRd6MynEN2PSnMvFGznoTD+qt+f+McEUpBjXLEs/89w93bPDP9TUyYOXBViP5ne2p57lqg3tZxkr37IG9TrwgxANIZ2KZeRGo0cE/l1FL5moc6lWinLLVKr/Wdeez8ny1euXAfimfWrYSwDP/A5HhmoN/rmMl7tU4SLnqOVZrJ5fJ/+5XSqu1eaVncQ8EQAAEQAAEvEqg7hUArzYgyHLxisCP/diP0e7du634CM7gYUFuN9rmLQIct4OVc6cHIm9JCGlAAARAAARAAAQaIQAFoBFaXcjLJgjVTCK6IAqqBAEQAAEQAAEQAAEQCAABKAAB6EQ0AQRAAARAAARAAARAAATqJVDd5Uu9TyMfCIAACIAACIAACIAACICArwhAAfBVd0FYEAABEAABEAABEAABEGiNABSA1vjhaRAAARAAARAAARAAARDwFQEoAL7qLggLAiAAAiAAAiAAAiAAAq0RgALQGj88DQIgAAIgAAIgAAIgAAK+IgAFwFfdBWFBAARAAARAAARAAARAoDUCUABa44enQQAEQAAEQAAEQAAEQMBXBKAA+Kq7ICwIgAAIgAAIgAAIgAAItEYACkBr/PA0CIAACIAACIAACIAACPiKABQAX3UXhAUBEAABEAABEAABEACB1ghAAWiNH54GARAAARAAARAAARAAAV8RgALgq+6CsCAAAiAAAiAAAiAAAiDQGgEoAK3xw9MgAAIgAAIgAAIgAAIg4CsCUAB81V0QFgRAAARAAARAAARAAARaIwAFoDV+eBoEQAAEQAAEQAAEQAAEfEUACkCT3ZVOp+nIkSM0Nze3rITp6Wk6ceIEaZq27B4ugAAIgAAIgAAIgAAIgEA3CYS7Wblf6z5//jzt37+fhoaGKJVK0e7du+n666+3msPXWQGIRCLW93379lE0GvVrUyE3CIAACIAACIAACIBAwAhgBaCJDn3mmWdox44d9IlPfIJ+/ud/ng4dOkSJRMJaDTh37hzdeOONdPPNN1slHzhwoIka8AgIgAAIgAAIgAAIgAAIdIYAFIAmuOZyOVq7dq315NTUFIXDYTp9+jSdOnWKBgcHaXR0lBRFoW3btlnXm6gCj4AACIAACIAACIAACIBARwjABKgJrJdddhkdPHiQJicnLXMftvVPJpOUz+dpYGCgWOLw8LB1v3hBnLDysLi46LxUPOfnkUAABEAABEAABEAABECgkwSgADRBd8+ePbS0tEQPP/wwjY+PU39/vzXw13Wd+COTYRjWSoD8Lo+8SlAtxeNxmpiYqHYL10AABEAABEAABEAABECgLQSgADSBkQfw73vf+6wneZB/yy230Lp166zB/vHjx4slxmKxshUBvoENwUU8OAEBEAABEAABEAABEOgCAewBaAL67OwsXbhwwXryySefpFAoZNn779y5k7LZLPFG4EwmQ2fOnKFdu3Y1UQMeAQEQAAEQAAEQAAEQAIHOEMAKQBNcz549S88//7w146+qKn34wx+2SuGVgb1791ouQnkTMJsHsYtQJBAAARAAARAAARAAARDwCgHFFMkrwvhJDjb94WBgIyMjy8Tmzbz8qWXrv+yBwoWZmRnsAagFB9dBAARAAARAAARAAATaQgArAE1i5Jn/aoN/Lo6DgMlAYE0Wj8dAAARAAARAAARAAARAoCMEsAegI1hRKAiAAAiAAAiAAAiAAAh4kwAUAG/2C6QCARAAARAAARAAARAAgY4QgALQEawoFARAAARAAARAAARAAAS8SQAKgDf7BVKBAAiAAAiAAAiAAAiAQEcIQAHoCFYUCgIgAAIgAAIgAAIgAALeJAAFwJv9AqlAAARAAARAAARAAARAoCMEoAB0BCsKBQEQAAEQAAEQAAEQAAFvEoAC4M1+gVQgAAIgAAIgAAIgAAIg0BECUAA6ghWFggAIgAAIgAAIgAAIgIA3CUAB8Ga/QCoQAAEQAAEQAAEQAAEQ6AgBKAAdwYpCQQAEQAAEQAAEQAAEQMCbBKAAeLNfIBUIgAAIgAAIgAAIgAAIdIQAFICOYEWhIAACIAACIAACIAACIOBNAlAAvNkvkAoEQAAEQAAEQAAEQAAEOkIACkBHsKJQEAABEAABEAABEAABEPAmASgA3uwXSAUCIAACIAACIAACIAACHSEABaAjWFEoCIAACIAACIAACIAACHiTABQAb/YLpAIBEAABEAABEAABEACBjhCAAtARrCgUBEAABEAABEAABEAABLxJAAqAN/sFUoEACIAACIAACIAACIBARwhAAegIVhQKAiAAAiAAAiAAAiAAAt4kAAXAm/0CqUAABEAABEAABEAABECgIwSgAHQEKwoFARAAARAAARAAARAAAW8SgALgzX6BVCAAAiAAAiAAAiAAAiDQEQJQADqCFYWCAAiAAAiAAAiAAAiAgDcJQAHwZr9AKhAAARAAARAAARAAARDoCAEoAB3BikJBAARAAARAAARAAARAwJsEoAB4s18gFQiAAAiAAAiAAAiAAAh0hAAUgI5gRaEgAAIgAAIgAAIgAAIg4E0CUAC82S+QCgRAAARAAARAAARAAAQ6QiDckVJRKAg4COiL05Q/dx/p8QPW1dDo1RTZ9GEKDV/myIVTEAABEAABEAABEAABNwgopkhuVBS0OvL5PJ06dYpCoRBt376dVLW0mDI9PU2ZTIa2bt1K4XD9OtbMzAxNTEwECpWZPknpN/6OSE9XtEul/rf97xQee1vFdXwFARAAARAAARAAARDoJIH6R6edlMJnZfPg/rbbbqNoNEqsCEQiEfrkJz9pKQH79+8nVgD4Gqd9+/ZZ+XzWxLaJu3Ty9iqDfy7eoMzBL9Dw//IfbasLBYEACIAACIAACIAACKxOoDRtvXpe5CgQOHLkCCmKQr/yK79Cv/qrv2rN9p87d47m5uaIjzfeeCPdfPPNVu4DB2yzl16EZ+YWyEi8uWLTzcWzK97HTRAAARAAARAAARAAgfYSgALQBM+1a9eSruuUSCTIMAyrhIGBAcskaHBwkEZHRy0FYdu2bXT69OkmagjII0Zm1YYY+tKqeZABBEAABEAABEAABECgfQRgAtQES7btX7duHd1xxx3U19dHmzZtovHxcTp48CCxIiDT8PCwZQ4kv/NR0zTn10CfK30bV22f2r96nlULQQYQAAEQAAEQAAEQAIG6CUABqBtVKeOhQ4coHo/Te9/7XnrttdesQT6vBvBGYF4ZkIlXB9hUyJn4WjqVcl4qO+eNwEFK4bU3UGTh8apN0sZ+nGZjWXEvWG2u2lhcBAEQAAEQAAEQAAGPEIAC0ERHvPzyy/TOd76Tdu7caX1uv/12eumll4hNg44fP14sMRaLla0I8A3eOBwVqwfVUhC9ANHE/0qZ4yppFx8ta7I6tJXWvO13y67hCwiAAAiAAAgEnYCZnSWlbzzozUT7PE4ACkATHcSD+IsXL1pPshegxcVFa2DPCsFzzz1nbQRev349nTlzhq677romagjWI/2X/1fSN9xA2sIByp+9VzROrJIY8D4brF5Ga0AABEAABGoRMLVFyp29m/LTDxazRKY+SNEtHyUlPFi8hhMQcIsA4gA0QXp+fp7uu08EthLmPmzSMzIyQh/72McsJeCFF14gXiFg0x/eF/CRj3xkmRlQrSoDuQJQ0dj0S39MPPvBaeCdn6XQ0PaKHPgKAiAAAiAAAsEisPjG3wiveIeWNUoVgTEH3/7fll3HBRDoNAEoAC0QTglbfg701d/fX1YKrwrwhz0CNZJ6QQFYfO0vyUifsrBEtwilaetHG0GEvCAAAiAAAiDgKwLazJOUeevfa8rcf+WnKTzxnpr3cQMEOkEAbkBboMpefioH/1wcBwFrdPDfghi+elSNjhGpfZbM2tzzvpIdwoIACIAACIBAowTY/HWllDt7H+Ur9smtlB/3QKAdBKAAtIMiymiAgEpqZMTKbyydJT11rIFnkRUEQAAEQAAE/EMgL2b/tblnVxTYyFyg7PEv0+KB/w5FYEVSuNlOAtgE3E6aKKs+AqwAFPYBaPOvUmj4ivqeQy4QAAEQAAEQ8AmBzOEvkjb/Qt3SGqmTlE19mfKXfkCRDf+JIht/qu5nkREEGiWAFYBGiSF/ywTU0KgwA7L3TejzL7ZcHgoAARAAARAAAS8RSP/w06XBvxolpWD6WimjEhqg8OhVwi0oB8UMWbctRUCsCCwd/L/IzC1UPoLvINAWAlAA2oIRhTREQFVIcZoBJY809DgygwAIgAAIgIBXCSy+8mdkGjlLPCUyRuGRqyg0sosU3gPnSPw9NHylGPcPUGhwSigCO8viA+jx12jpjb8mPfmW4ymcgkB7CEABaA9HlNIgAakA8GPa/CsNPo3sIAACIAACIOA9ApnD/0S8v42T0j8pBvg7xIq3mNkXn9DQDgqv/VFSR3ZaR/5u3ZPNCPULRWALqcIslhUHTkbmEi29/jmxjwBOMyQmHNtDAApAeziilAYJqBGHGdDCqw0+jewgAAIgAAIg4C0C2ZNfExNaL1tCKaFhMbE/WVVANTxU9bq8yI4yWHFQImvkJcoc+eeyIGLFGzgBgSYJQAFoEhwea52A5RJUFGN5A4odbL1AlAACIAACIAACXSCgzT4tBugPWTUrPJM/Kkx7Wkyh4cvKlIDsydtIu/iDFkvF4yBgE4ACgDehewTCtjtQFkCLYRWgex2BmkEABEAABJolYOYTlDt7r/24EhZmPNuaLWrZc5VKQOb4V0hPYN/cMlC40DABKAANI8MD7SKgRoaJPSBw0qEAtAsrygEBEAABEHCRQO7cvWIle9qqURU2/BQebGvtrASofRPFMpfe+Dzp6TPF7zgBgWYIQAFohhqeaR8B3gsgEv/x1Bdea1+5KAkEQAAEQAAEOkxAE3vY8tPfs2pR+taTGi3Z7bezanVws/AQtKFY5NIbfytchM4Vv+MEBBolAAWgUWLI31YCoYKnAy4UZkBtRYvCQAAEQAAEOkrAoNy5+6waFGH6o0RLs/SdqDY0uEnUUVAw9BRlj/67+OFc6kRVKLMHCEAB6IFO9nQTeak0ZHtE4JkUMnVPiwvhQAAEQAAEQIAJZE/fQ0byqA2jb5zUsB3gspN0QkOXCdehtumslniTMseEEoAEAk0QgALQBDQ80l4CatQ2AzKzM6QtICZAe+miNBAAARAAgbYTyMdIm3nMLlYMyEMDHMnXnRQeuZwUxY4arM2/KBSRu9ypGLUEigAUgEB1pz8bY8UEKIiuxbAPwJ+9CKlBAARAoHcIZKd/IGzwF6wGq9bgX3Gv8WqEFF4JKKS82ISsLRyQX3EEgboIQAGoCxMydZSA8ATEQVM46cIMyDQyHa0OhYMACIAACIBA0wScs/+hkY5t/F1JPg4Wpg4Ij0OFlDsrVgHw2ylx4FgHASgAdUBCls4TUKQZkJhR0ecRE6DzxFEDCIAACIBAMwTKZv/71zdTRFueUfvHxabgtVZZRuoETIHaQrV3CoEC0Dt97emWOs2AdJgBebqvIBwIgAAI9CwBx+y/IhxYdMrtZ718Ldeghf0AHIlYm3u+3keRr8cJQAHo8RfAM80XodMVsaTJid2BmvmUZ0SDICAAAiAAAiDABJyz/0oXZ/9lb6jhAREkrBQfgDcEm7mYvI0jCNQkAAWgJhrccJuAErb9G5v5JOlxmAG5zR/1gQAIgAAIrECgbPa/X7j9tM1vVnjClVvWJuSCO20zMy1Mgb7lSr2oxN8EoAD4u/8CJT1vaiKyPSloiAocqL5FY0AABEDA7wTyl54oev6hyDrhj99Fzz+rwFMHSqsA7J5Um3thlSdwu9cJQAHo9TfAS+0PRYUZkB0TQJ8X8QDEbAsSCIAACIAACHSdgJGj3KUnbTGUCIX6urf5txoLNTImNgSXZMqJ/QBIILASASgAK9HBPdcJKNExq052BarBG5Dr/FEhCIAACIDAcgKaGPybmQvWDcvzjmoH4lqes3tXlH6xCiCUE05G8jBpFx7pnjCo2fMEoAB4vot6S0A1LMyAZIRDsRkYCQRAAARAAAS6TSA3U5j9F4JI15vdlqmyfjXUR2p/KSIxrwKY+XRlNnwHAYsAFAC8CN4iwBEOWQkQSeOgYNlZb8kHaUAABEAABHqKgDb3HBmpY1abFWFqw553vJqs2ACFwJqG2BCcv/A9r4oKubpMAApAlzsA1S8nIM2AyNSEEiD2AiCBAAiAAAiAQJcIaD6Y/XeiUfrFBuVCyk9/j/TFafkVRxAoEoACUESBE68QUMNiI7AStsTREBTMK90COUAABECg5who8det1WhuuKIK159R2121l0Go0XXFuDqmnhKrANgQ7OX+6pZsUAC6RR711iYgNlfJoGC6MAPSF8/Xzos7IAACIAACINAhArz5Vyav2v5L+ZxHp0cg7eIjpCeOOG/jHAQICgBeAk8SYDtLmYwYzIAkCxxBAARAAATcIaCnTpA2+0yhMtUXs/+SDK9UOH9H89MPyls4goBFAAoAXgRPErDNgGx3ZnmxCoAEAiAAAiAAAm4S0BdeKlansOmP8LLjpxTqGy+Kq82/QHr8QPE7TkAACgDeAW8SUHm2xV4FMBKHiGdikEAABEAABEDALQL5uZeLVVkKQPGbT04iI8JlaWnPQv7iEz4RHGK6QQAKgBuUUUdzBMQfL5l4LwASCIAACIAACLhBQFt4ncylM1ZVSmiA1EKUejfqbmcdSt9EsTht7oekJ48Wv+OktwlAAejt/vd069XQqPC6YC+55hdKMzGeFhrCgQAIgAAI+J6AHnP85jj2pPmtYWp4SKwCrC+K7XRpWryIk54kYPta7MmmN9/ohYUFymazZQUMDQ3RyIg9Yz09PU2ZTIa2bt1K4TAQl4Fq5IuqEPGsS3aGzPRJ0hJvUnj06kZKQF4QAAEQAAEQaIiAaeTKYtA4N9M2VJBHMof6x0nLzVnS5C8+TuGNP02hoS0ekQ5idIsARqdNkH/00UeJlQCZdF2nnTt30k/91E/R/v37iRWASMTewLpv3z6KRqMyK44NEmB3oKZQADixGRAUgAYBIjsIgAAIgEBDBPi3RkahV8QklJcj/9bVMDZh6ltPRpaVAEN4NnpSKAD76noUmYJLAApAE337sY99rPjUiRMn6JFHHqF3v/vdNDc3R+fOnaObbrrJWg249dZb6cCBA3TNNdcU8+OkMQJsd2mK4CumkSFt/hXq244/Wo0RRG4QAAEQAIFGCOgOk1MlPNbIo97NK4KDkaUAEPEqQHTyp0kRSgFS7xLAHoAW+55XA971rndRf38/nTp1igYHB2l0VNiuKwpt27aNTp8+3WINeNwyAxIYzMy0tQoAIiAAAiAAAiDQCQJmPk75uYL7TxGR3g+Rf+vhYO8FKHgE0tOUE0oAUm8TwApAC/1/7NgxMgyD3v72t1ulpFIpGhgYKJY4PDxsmQMVL4iTXC63bP+A8/7MjG3u4rwWpPO+7GLDzVGUKIndAFZKTj9BeW1Tw2XgARAAARAAARBYjUAo8RRFjSUrmyk20Oby5fv9Vnvey/cVdVj8lsYsEXOXfkDJ6I+RGRr0ssiQrYMEoAC0APfw4cO0adMma7afi1GF73reDyATKwe8ElCZVtoYPDFRctlV+VwQvmfmmvljM0h6fo5MfYkimWO0Zr1YklWxryII7wPaAAIgAAJeIrA0d5Lkr3hImMiokWZ+s7zUIqcs4rdUTxKvcijiM2a8SZHJn3VmwHkPEYAJUAudzbP1U1NTxRLYC9DSkj1zwBdjsVjZigBf4w3BvEpQ7cP3kWoQCAtvQCKZ2XmxF8Dhnq1GdlwGARAAARAAgUYImJmLwszU/n3xs+//ldqs8F6AQsqLzcDiV1V+xbHHCEABaKHD2Zxn7dq1xRLYExC7B+WNwOwG9MyZM7Rr167ifZw0TyBUiArMJWgLrzRfEJ4EARAAARAAgSoE9Njrpas+9v1fasTyM1X8lrJ3PU5G+ozYEMxKAFIvEoAJUJO9zoN/TrzpVyY+37t3r+UKlE1/xsfHaffu3fI2jq0QCAvOoSHhCzRtbwTOJ+wYAa2UiWdBAARAAARAoEBAi71WZMHuP4Oa2PuPmU9azdMXnqPIxuuD2lS0awUCUABWgLPSLTbl+fSnP70sy7XXXkt79uyhfD5fphwsy4gLDROwYgIIBcAUn7xwCRrZeEPDZeABEAABEAABEKgkYAoXmdrCAfuyKvzm86RTQJMaWUNGYUJNW3iN9MQRCo3CWiGg3V2zWTABqomm+RscBMy5MtB8SXjSSSDkmJHRYzADcrLBOQiAAAiAQPME7Nl/e/uvNJFpvjTvP6n2l2IAaHM/9L7AkLDtBKAAtB0pCuwYAWkGJCrgoGBm5lLHqkLBIAACIAACvUNAjxdm/0WTe0IB4M3Aap/VwawAmDnbPWjv9DhaCgUA74CvCJT+MOtiuRbegHzVeRAWBEAABDxIwMwtFM1/lFC/cP1pb5L1oKhtFUmJrrHK4/0A2ixWAdoK1weFQQHwQSdBxBIBpxkQvAGVuOAMBEAABECgOQJ6XHj/MWzHHhQebq4QHz6liL0AMuXnoQBIFr1yhALQKz0dlHY6zID0+EHhFOh0UFqGdoAACIAACHSBAG+ElUkJ98bsP7dXDQ+QUnCxbSSPIcaOfAl65AgFoEc6OkjNLJkBiUkbbAYOUteiLSAAAiDgLgHhUloqAIqIMK8Wgk66K0T3anOuAuhzz3VPENTsOgEoAK4jR4WtEnCaAeURFbhVnHgeBEAABHqWgBYTm3+NjNV+y/e/qvQUC5X3ARQ2A+fFZmB98XxPtb+XGwsFoJd7369td5gBGanjpAkfxkggAAIgAAIg0CgBOftvPRfpHfv/EielaAYkguwQVgFKZIJ+BgUg6D0c0PY5zYD0hVcC2ko0CwRAAARAoGMEtEXSY2IDMCclTEqod+z/7Ubb/w85NgNrs88SKwJIwScABSD4fRzIFjrNgDSYAQWyj9EoEAABEOgkAU04kjD1lFWFImb/FTXUyeq8W7ZYVbfMn4SERmaa8qwEIAWeABSAwHdxQBvoMAMyM+eLm7gC2lo0CwRAAARAoM0E9MSbxRLlALh4ocdOlPBYscUwAyqiCPQJFIBAd2+wG1dmBhQruXELdqvROhAAARAAgXYQ0OOHSsWEhkrnPXhmbQZWIlbLOcaOuXSmByn0VpOhAPRWfweqtUqkNGNRtpErUK1EY0AABEAABNpNQBd+742ls1axPJmkhvraXYW/yhPmTzIyMAuen33RX/JD2oYJQAFoGBke8AoBDmJCIdtrg5m9CDMgr3QM5AABEAABjxNwmv9Qj8/+y64qn1SDAiC5BPUIBSCoPdsj7XLabeowA+qRXkczQQAEQKA1AkbcYf8f7kX3n8v5qbwRujCpZqRPi8jA8LC3nFJwrkABCE5f9mRL7DDmduAWmAH15CuARoMACIBAQwTM3DxpBQVAEUGweOCLZBNQoqNFFNo8VgGKMAJ4AgUggJ3aS01iu035BwtmQL3U82grCIAACDRHgN1/EhV83WP2vwyiyjEBFHtoqMdeIjMfL7uPL8EhAAUgOH3Zsy1x2i3CDKhnXwM0HARAAATqImAkS95/nN7k6no46JlCURETwHawYeZTpM1hFSCoXQ4FIKg920PtUtl/sYjiyAlmQD3U8WgqCIAACDRBQIsftp/ime7QYBMlBPsR5946mAEFt6+hAAS3b3unZey+TLhx4wQzoN7pdrQUBEAABBoloKfeIjNzyXpMCQ8J95/RRosIfH57Us3mosdfJz11MvBt7sUGQgHoxV4PYJvlkiU3DWZAAexgNAkEQAAE2kDASBRm/7ksuP+sTlRVxd46R5yd+Req58NVXxOAAuDr7oPwkoDKf6wUe8YCZkCSCo4gAAIgAAJOAppDAZArx877OLcJOCfVYAYUzLcCCkAw+7UHW6UUZyzYDEiff6kHGaDJIAACIAACNQloaSquACgRUsOw/6/Fyo4JMGTdNpfOi5gA+E2txcqv16EA+LXnIPcyAtIdKN/Iw3/xMj64AAIgAAK9TEBLHCJTz1gIFMv3vx1DppeZrNT2cjMgeANaiZUf70EB8GOvQeaqBNSw2AgcHrDu6fMvk5mD/+KqoHARBEAABHqQgJ44Umy1jHhbvICTZQRUdgeqyECbL4rf1NiyPLjgXwJQAPzbd5C8CgE1LIKYiGTqaeES9OUqOXAJBEAABECgFwnoSccGYOEBCGkVAhxoM1yIDKwtCTMgrAKsQsxXt6EA+Kq7IOyqBCKlMOb6AmwWV+WFDCAAAiDQAwT0xfNkpE5YLVVCA8L+v78HWt16E51mQHrs1dYLRAmeIQAFwDNdAUHaQUAVJkAyiIm28CqZi2fbUSzKAAEQAAEQ8DEBI3m0JH14uHSOsxUJWKvqYsM0J+s3VTjZQAoGASgAwehHtMJBQInaZkB8KYcw5g4yOAUBEACB3iTgVAAUKAD1vwRWTIDSbyrcbNePzus5oQB4vYcgX8MEFN4MrISt5/QYzIAaBogHQAAEQCBgBPTiCkBImP9gBaCR7g1FHaa1sQONPIq8HiYABcDDnQPRmiOgqJFiTABDhDDX4280VxCeAgEQAAEQ8D0BM32SjMwFqx2W+0815Ps2udoAMammhOw9EzADcpV8RyuDAtBRvCi8WwSKnguEAIgJ0K1eQL0gAAIg0H0CWnH2nxeH4f2nmR6Re+v4WZgBNUPQe89AAfBen0CiNhBQo2PFGQuOCmwadvCXNhSNIkAABEAABHxEQE+UNgBb8WJ8JLtXRFUjwrS2kHSYAUkUvj5CAWih++bm5ujIkSOUTCbLSpmenqYTJ06Qpmll1/HFZQIFl6BmboF0+C92GT6qAwEQAAEvEDBJTxYCgKnCjKUQLNILkvlKBpgB+aq76hHW3ilZT07kKSPwyCOP0PHjx2lgYICWlpbogx/8IG3dupX2799PrABEIrbbrH379lE0Gi17Fl/cIaCIKIZm5pJVmSZWAcLjP+lOxagFBEAABEDAEwR48y9PAnFSHLPYnhDOZ0JYv6m6vZrOZkCRyZ/2WQsgrpMAFAAnjTrPL1y4QMeOHaOPf/zjtG7dOpqfn6e1a9cSrwicO3eObrrpJhoZGaFbb72VDhw4QNdcc02dJSNbOwmowtbTDIkPRwWee4H0zDSF+qfaWQXKAgEQAAEQ8DABQ87+CxmVCOz/W+kqVayqGxk7DgCbAUEBaIVm95+FCVATfXDw4EGamJiwBv+GYVhHRVHo1KlTNDg4SKOjo8Tft23bRqdPny6rwTRNqvUpy4gv7SHgiAxsiFUAJBAAARAAgd4hULT/V4TnHxUKQEs9LybVOIoyJ3gDaomkJx7GCkAT3ZBIJCyzn1tuuYVYAZicnKQPf/jDlEqlLJMgWeTw8LBlDiS/8zGfzxM/XyvNzMzUuhWI633ZRVfbYSp9JB2+LV58mnKRn3C1flQGAiAAAiDQJQJmhvrjh0gR1ZvC/l/T8mLkKj5ITRNQBEdFX7KeXzjzOOljP9V0WXiwuwSgADTBnwfx/GFTH1YAvvnNb1qbflURMU/X9WKJfI9XApyJ9wOMj487LxXPefDPKwtBTpm5QZebNyj+6IsgJvkEhTJnaW3fLIVHr3ZZBlQHAiAAAiDgNgE9/jotFTzAhYRnOLXP7d8ft1vsQn2hcaFD2XsqBrUz1B/wMYsLRLtWBUyAmkDPJj5s4z80NGQdedB+8uRJ65w3BMsUi8XKVgTkdRzdJaBGS2HM4Q3IXfaoDQRAAAS6RUCLHy5Vjei/JRatnFlmQLYiBTOgVkB2/1koAE30wVVXXWVt+L148aK1EjA7O2vtA9i5cydls1lrI3Amk6EzZ87Qrl27mqgBj7STAPt9VhR7sUubf5nIyLWzeJQFAiAAAiDgQQLsAchKSoTUMGb/29VFCArWLpLdLQcmQE3wv+yyy2jHjh107733WiY+Y2NjtGfPHmIToL1791quQNn0h019du/e3UQNeKStBFThkpU3A+fmyczOisjAL1Bk/Lq2VoHCQAAEQAAEPEQgHyejoAAg+m97+8X2BnTBKhTegNrL1s3SoAA0Sfv9738/XX/99VawL/b8I9O1115rKQO8R8B5Xd7HsTsEeMbCFAoAJ12sAkAB6E4/oFYQAAEQcIOAlhDBv8xCME7M/rcXueCpSBfbC6+KibWLpPRtbG8dKK3jBGAC1AJi3tBbbZDPQcCqXW+hKjzaIgElPCZcwNkB2TQRFdgs+DJusVg8DgIgAAIg4EECevKtolQK7P+LLNp14gyqpi283q5iUY6LBKAAuAgbVXWPgKIqIgiMUAI4mbrwYSz2AiCBAAiAAAgEkoCetDcA8/4v2P+3v4vZDEgmNgNC8h8BKAD+6zNI3CSBkMMbUF5EBkYCARAAARAIHgEzc4GM1Am7YcJrDVIHCLBZVdgOCqbH3xAmtrEOVIIiO0kACkAn6aJsbxGw3JfZPwa8OUxPOFzEeUtSSAMCIAACINAkAS1e8P7Dz0MBaJLi6o+pYXsVwBSe9bQ4VgFWJ+atHFAAvNUfkKbDBMrdl73U4dpQPAiAAAiAgNsEjHRJAYD9fwfpO/ZW6LE3OlgRiu4EASgAnaCKMr1LwGG3qM2JzcCICeDdvoJkIAACINAEAS0uPABxUkKw/7dJdOT/akTE2FH7rLI1EXWZjFIg1I5UiELbSgAKQFtxojCvE1CFzaJcBTCzM5ZLUK/LDPlAAARAAATqI6CnTwovb9NWZvj/r49ZS7mEEmClfFI414A3oJZYuvwwFACXgaO67hNQCnaLLIm2ADOg7vcIJAABEACB9hAwZfRfLi5UitHTntJRSiUBp4mVtQpQmQHfPUsACoBnuwaCdYyAZQYUsorXhDcgPTPTsapQMAiAAAiAgHsEtETJ/j8kZ6fdq77narI2AgtXq5ysfQCm0XMM/NpgKAB+7TnI3TQBNRQVZkCFZUsRKdLAKkDTLPEgCIAACHiJgJ4s2P+zUPAA1PmuUVWSqwCWWW0Cm4E7D709NUABaA9HlOIzAkpZTIAXfSY9xAUBEAABEKgkwNF/zdyCfTk0XHkb3ztEQImWgoJhH0CHIHegWCgAHYCKIr1PQBUKgPReYIiIkc6w8d6XHhKCAAiAAAhUEjBSx4qX2EMNkksEHMqWFsNGYJeot1wNFICWEaIA3xKIjBVF1+axGbgIAycgAAIg4EMCZRM5EawAuNWFtlmtvQpgLp0VQTYdZlhuCYF6GiYABaBhZHggKASUaEkB0LEPICjdinaAAAj0KAE9cajYchX2/0UWrpw4g4LFsQ/AFeYtVgIFoEWAeNy/BPgHQm4GNpamRUwArAL4tzchOQiAQC8TsOz/8wkLgYz10ss83G57yBlkM3bA7epRXxMEoAA0AQ2PBIhAuLQKkJ/HZuAA9SyaAgIg0EMEnPb/Smioh1rukaaG+kXgZZs794WZPuURwSBGLQJQAGqRwfWeIBBiMyDpw3j+ZeFBIt4T7UYjQQAEQCBIBJzmPwT7/650rVxR58rz2AzclT5opFIoAI3QQt7gEVAjwgzIXgUw9bSIDPxy8NqIFoEACIBAwAlosYNWCxUlRLD/71JnOzwvGXF4A+pSL9RdLRSAulEhY1AJWKsAhcZhM3BQexntAgEQCCoBy/uPkbGbh82/Xetma1+dMAXipMUPkp650DVZUPHqBKAArM4IOYJOgDcvhQesVmoLr5K5eDboLUb7QAAEQCAwBPTE4VJbHD7pSxdx5hqBcCn+ghF/07VqUVHjBKAANM4MTwSQgOLYDJybw2bgAHYxmgQCIBBQArqYbZYpFC0NQOU1HN0joDj2X5QpZu6JgJrqJAAFoE5QyBZsAiERGVgmPQZ3oJIFjiAAAiDgdQK6nGkW9v8UsldzvS5zUOVTeQWG+0EkPfEmmYYW1Kb6vl1QAHzfhWhAWwiwC7PCZmAjdZJ0BDJpC1YUAgIgAAKdJKBZwb90qwrFEYyqk3Wi7BUIqCHhWM+OwmzmYmSkHOZZKzyGW+4TgALgPnPU6FECimMVQENkYI/2EsQCARAAgRIBPVayM1cc9uelHDhzm4Di2Iitx0vRmd2WA/WtTAAKwMp8cLeHCKi8D0CJWC3WeB+Ake2h1qOpIAACIOA/AmbqraLQagQBwIowuniiOt2BOjdod1EmVL2cABSA5UxwpVcJqCqphVUAM7dAiAzcqy8C2g0CIOAXAnryaEFU2P97ps/EPgxFugMVCoCZmfGMaBCkRAAKQIkFzkCAyGEGpIvIwEggAAIgAALeJKCnT4lNpvZKrdP7jDel7TGpHO5YtSTMgLzY+1AAvNgrkKlrBKwIkiF7GVmff4nMLGYuutYZqBgEQAAEViBgFGf/hfWmw+58hUdwyyUCToUM+wBcgt5gNVAAGgSG7MEnoEbFXgCRTFMjbe654DcYLQQBEAABHxLQE9L8h8hpd+7DpgROZGsyjewhJuIBeLN7oQB4s18gVTcJsDvQgh/jPBSAbvYE6gYBEACBmgRg/18TTfdvqBHhU6PgDlSspEMJ6H6XVEoABaCSCL73PAE11Cf+cI1aHDgmgDaPyMA9/1IAAAiAgKcImLl5MnNzlkwKvP94qm+kMErBnJa/G9gHILF45ggFwDNdAUG8RECJlCIDa7M/9JJokAUEQAAEep5Aafaf7f/tmeaeh+IxAE6zLA3xADzWO8JsznMS+UAgwzDowoULZR/TNIuST09P04kTJ0jTEAK7CMVnJ9Y+gLAdUl6b+yHp6bM+awHEBQEQAIHgEtATR0qNwwbgEgsvnYUHSVH7LInYBMjMzntJup6XJdzzBJoAEI/H6b777qNQSPgdLqRPfvKT1N/fT/v37ydWACIRO6DUvn37KBqNymw4+oiAEl5DprZkScxKQGhoi4+kh6ggAAIgEFwCpRUAEb8FCoBnO1oRQcHMrHDVauqkJQ5RZOI6z8raa4JBAWiix5eWlkhRFPrUpz5V9vTc3BydO3eObrrpJhoZGaFbb72VDhw4QNdcc01ZPnzxB4FQ31rSMheFsIbwBvRD6tv60eLmYH+0AFKCAAiAQPAIsO9/Q8QA4CQ3mgavlQFpkVgFIDtUAxkpsWoDBcAzHQsToCa6ghUAnuFnM6DZ2dliCadOnaLBwUEaHR21FIRt27bR6dOni/dx4jMCapQU6RJUKALa3LM+awDEBQEQAIHgESjN/ou2hcQAE8mzBFRHQDDEA/BWN2EFoIn+yOVyxJ+HH36YWBkYHh62Zv1TqRQNDNh241wsX2dzIGfi5/L5vPOSpSzICzMzwQ481ZddlE31xVFRhA0jLViyLp57lLLmLl/IDSFBAARAIKgEwgsvkm1kS6SJM91nvytB7Zda7VJVMS4ylsR/0zR35jky+nfUyorrLhKAAtAE7Kuvvpq2b99uzfYnk0m6/fbb6eDBg6SqKum6XiyRNwuzqdBqybmBeGJiYrXsvr6fmfPbbM0gaXmxcUn88VIXj9C6/gSFRq7wdR9AeBAAARDwM4HMzCUx8OekUN/Aej83pSdk140xMjP2frrR0IzYB/ATPdFurzcSJkBN9hCb+nBiW3/e/MuKAJ/zioBMsVisbEWAr/OG4KGhoaof+RyO3iIgzYBYKt4LgAQCIAACINA9AtIECPb/3euDRmrmjcAyISCYJNH9IxSAJvrgoYcesuz/+VHe9JvJZGjz5s20c+dOyord7vLamTNnaNcumIw0gdhTj4Sia4vysAJg5lPF7zgBARAAARBwj4AuNv/yJmArOQJNuScBamqUgOWlSeyp42TFA8gnGy0C+TtAACZATUBl2/7777/fepLNd6666iriDb+c9u7da7kCZdOf8fFx2r17t3Ud//MxAY4MHBUuQXMx68NKQGTy/T5uEEQHARAAAX8SMBz+/xEAzD99yH3F0ZtJKG9a4k0Kr4cZULd7DwpAEz1w3XXX0bvf/W7L7IfNecLhEsZrr72W9uzZY230lWZCTVSBRzxGgFcBNKEAcMpDAfBY70AcEACBXiEgzX+4vWpkqFea7ft2srmWpQCIlnA8ACgA3e9SmAA12Qe84XdsbKxs8C+LYhehGPxLGgE5RsbEr02/1RhDRDTUE28EpGFoBgiAAAj4h4CetCMAK5b5z+pONvzTsoBL6jDX0uOHA95YfzQPCoA/+glSeoAAmwHJpM0+J09xBAEQAAEQcIGALuKxmDnbLbOC2X8XiLevCpVNacUqACdz6Szp6ZPWOf7XPQJQALrHHjX7jIBzM3B+5hkR3nzOZy2AuCAAAiDgXwJG8mhJ+DDMf0owfHKmlvqMV9KRuksArJ2MxAAAQABJREFUCkB3+aN2PxGwZjAKqwC8kWn2GT9JD1lBAARAwNcEyuz/HRFmfd2oHhLeuWqji30ASN0lAAWgu/xRu88IOM2AeDMwEgiAAAiAgDsE5KyxEhL7sdSQO5WilrYRUDkegGLHcOZ9AKa22LayUVDjBKAANM4MT/QwAZX3AXBYc5GM9GmxCvBsD9NA00EABEDAJQJaSgRkn7Yqg/tPl5i3vRpFjP9tMyBTTwtnGlgFaDviBgqEAtAALGQFASag9jkDg0EBwFsBAiAAAp0moDk9x8D+v9O4O1a+EkJU4I7BbbBgKAANAkN2EFA5MrBix37Q5l8mPfkWoIAACIAACHSQgHT/yVVYkWU7WBeK7hwBteAJiGvACkDnONdTMhSAeighDwg4CagRERnYuQqAzcBOPDgHARAAgXYTKCoAbEOuRttdPMpziwA70yjEBDCEK1Bz8ZxbNaOeCgJQACqA4CsI1EPA6RJUu/Rs0Td1Pc8iDwiAAAiAQAMETJ2M1HHrAQXmPw2A82ZWGQ+ApcMqQPf6CApA99ijZj8TCA+KVQARHVgkU0+JzcDwCOTn7oTsIAAC3iWgJx0+48N2MCnvSgvJViUQGixm0RAPoMjC7RMoAG4TR32BIaBESpGB87NPB6ZdaAgIgAAIeImAFj9SFAcrAEUUvj1RwyOkFNyBaomDwqVe1rdt8bPgUAD83HuQvasErM3ARZegp0ibe76r8qByEAABEAgiASNZUACUkNgAbLthDmI7e6ZNqhh6ilV0K+WTVObhqWcgdL+hUAC63weQwMcELCWgIL+GVQAf9yREBwEQ8CoBuQEYs/9e7aHG5VLEKoBM2AcgSbh7tH0ZulsnausxAscSSfrWsVP08tyCMJjfS1f1Jejnxi7QO/rSvifBMQGM7CXRLo20+ZdIFxvVQsOX+75daAAIgAAIeIGAnjohTETytigF7zFekAsytEaAXbkahSKgALTGstmnsQLQLDk8VxeBNxfi9BfPvUIvzs6TYZriH7xKb2bX0P+4tJuez4zWVYanM1W6BJ2FS1BP9xeEAwEQ8BUBI3m0KK/Te0zxIk78SYBNudR+S3YjdYzM7Jw/2+FjqaEA+Ljz/CD6144ctwb+1WT90szOapd9d63MJeiccAmaj/uuDRAYBEAABLxIwDk7jABgXuyh5mVymnRpcp9H88XhyQYJQAFoEBiy109gLpujt4T5z0rpRN6eAVgpj+fvOV2C5hLCJeiznhcZAoIACICAHwgU7f8dEWT9IDdkXJ2Ac0XHSL61+gPI0VYCUADaihOFOQnkNM35tep5xgjGK1juEhRmQFU7GxdBAARAoAECHCXWFF5irKSWfMc3UASyepmAMx6Aw9TLyyIHSbZgjL6C1CMBasvU0Op/sLdGM4FocZlLULFpDXEBAtGtaAQIgEAXCTgDgCmRoS5Kgqo7QUAN9Yl9ALZbVzN9iszMxU5UgzJrEIACUAMMLreHwC9dvr1mQW8fWKBhRfoBqJnNNzfUvvVFWbVLTxbPcQICIAACINA4AS1+qPiQGkIE4CKMAJ04zYAQD8DdjoUC4C7vnqvtl67YTj+/fUvVdqf1MMX0UNV7frxorwJELdH1+BukLbzmx2ZAZhAAARDwBAE9cdiSQ2FvMWpwfis8AdcjQjg3Ahtp7ANws1ugALhJu0fr+pVdl9M/XHct/ebbd9G24SGKqopF4mRuhO5LbgwOFfEDpUbXFdujzWAVoAgDJyAAAiDQAAE9c0HY/8fsJ4TPeKRgEnB6dtITJZevwWytt1oFBcBb/RFYaTaJ/QD/adMkjff30WUjpaXc7yen6JnFAMQDKPScpQCIcPWctLkfWoHBCrdwAAEQAAEQqJOAET9SzAn7/yKK4J1wLJ2CeZexdJ70zHTw2ujRFkEB8GjHBFms4UiENg3aG3+4nQ8mJymlB+RVDEVJia4tdh9WAYoocAICIAACdRPQkyX7f3J4i6m7AGT0DwHhSlsm07HvQ17DsTMEAjLq6gwclNo5ApNCARiOhK0K2BTo20IJCEoKRcs3A/NSNhIIgAAIgED9BPREYQVACQvz/wDEi6m/6T2X07nCo8l+7zkK7jcYCoD7zFFjgcBmxyoAmwK9kBkJBhsR4lyuAphGluARKBjdilaAAAi4Q8DMzZGZnbEqc24Sdad21OI2AcvDU8F01khhI7Bb/KEAuEUa9SwjMCRMgZxKwP3xKQpMYLC+is3A+dSy9uMCCIAACIDAcgLS+w/fgQKwnE/grggHGkrBDMjIXCJ98XzgmujFBkEB8GKv9JBMG8UqwGi0ZAp0VyIYXoHU8AgpEXtzs5lbEIHB4BGoh15rNBUEQKAFAnrcdv9pFRGCB6AWUPrmUcXRz0biTd/I7WdBoQD4ufcCIvvUQGkD0PeSm+jlgJgCKY5VgDy7BDWDE/QsIK8emgECIOBBAlqitAFYRQRgD/ZQB0RybATWHf3fgZpQZIEAFAC8Cl0nMCQ2A28R8QFkuic+STrZsQLkNT8e1cgaosKshpE+Q3lEB/ZjN0JmEAABFwmYuTiZBccJziixLoqAqrpAwHIFKjZ8c9KTJRewXRClZ6qEAtAzXe3thm4Q8QHGonYU3ZO5UbozKKZA/SWPQNYqgLe7AdKBAAiAQFcJ6EmH+Y9aWh3uqlCovOMEFFUVZrP2RKCZi5GePtvxOnu9AigAvf4GeKj9U4P9FFLsmf/vxjfT69lSwDAPidmQKCrHBOAw9iIZ4odNm3+xoeeRGQRAAAR6iUDZBmCY//RS15PiUPiMJPYBdLrzoQC0SHhhYYHi8XhZKdPT03TixAnSNK3sOr6sTGAwHKbJgZK/53uEVyD/J4VUx14AbeYJ/zcJLQABEACBDhFwrgBY7iE7VA+K9SCBcMkUWI9DAeh0D0EBaIHw7Ows3XnnnfToo48WS9m/fz/x54knnqDbbruNcrlc8R5OVifAXoHW9NmmQEezo3RHAEyBeBVAUe02afMvkx5/fXUQyAECIAACvUZAWyTeL8VJ4ZVT4R4SqXcIqJHh4m9lmSeo3kHgakuhADSJ2zRN+u53v0uhUIj4nNPc3BydO3eObrzxRrr55putawcOHLCO+F/9BKbEKoA0Bdof3yJMgUqzAvWX4qGcaoQoWooLkL/4uIeEgyggAAIg4A0Cztl/cswGe0O61qVI6yo9ml5n7XHjI39HqiBQ8AZk6imxD+B0xU18bScBvH1N0nzqqaesJy+//HJSCnbrp06dosHBQRodHbWubdu2jU6fxgvcKOIBYQo0NVTa/HVPfFOjRXguvyIUgOIqwNwPCW7OPNdFEAgEQKDLBPTk0aIEckNo8YLPT3gi608u/Ah9ZX4H3S8mtvjI359btOPF+Lx57RPfuQ8A8QDax7VKSbbPpSo3cKk2gZmZGTp06BB99KMfpTfeeKOYMZVK0cDAQPH78PAw8X4AZ2KToEQi4bxUds5lBzkt5rJ1NW9YqKbD4RClNJ3YFOjrC+P08UF/K1Ps5kwx5q32J09/l/IbSx6C6oKCTCAAAiAQYALRuddJGv3kDeEVJrsYiNamzRD98+weypjlQ64lI0y3CEVgk/IybVAzgWhrq40wKVx8B5YuvUCx8I+1WiSer0Gg/G2skQmXSwTY3OeBBx6gyclJyufzxIP+TCZD8/PzpAo3VrquFzMbhlFcHZAXI5EIrV9ffeDHewomJiZk1kAeB89erLtdW4X955F4knTB/MHUdvqRwSV6R1+67ue9ltEITxIva5pGjsLJV2jksl+g0PAVXhMT8oAACIBAVwik3rLt/0n4g+/rF3FUApK+vrBp2eBfNo2VgruXdtAvjFyk8VCeBtXSGELm6a3jIGnZCyJwZo7UzMnAj4m62bdQABqkv7hoz0iw95+HH37Y2uTLSsFzzz1HU1NTdPz48WKJsVisbEWAb0hzoWImnNQkIE2BzqbsQT+bAr1jQ2mJuOaDHr2hhqKk816AQpAbTewFgALg0c6CWCAAAq4S0JPHRH12tHQlIPb/zyyO0ROL43RwaWVl5oX0OPGH05Zomt4zNEvvHligNaHeVAY4+rPBDlTEZBm/F6ERTJRZL0eb/wcFoEGgQ0NDxQ2+/Ohjjz1GPND/2Z/9WWLlgBUB3gjMs/xnzpyh6667rsEakN1JgAOEpcRKSyybs0yB2CvQL4/Wv4rgLMsL57wXgHLz1ipA/tLjFJ58vwgWvM0LokEGEAABEOgaAcNp/+9zBYA3+D6ZXk9vCfPVRtPZ3BDdzp+F7XTN4CxdMxCnHx9MUKSgHDVani/zh9jxx4Ilui72AUAB6EwvQgFoI1feALx3717LDSjP9I+Pj9Pu3bvbWENvFsVegZK5vGUKxF6B3taX8q0pUPkqgEH5S49RaMfNvdmxaDUIgAAIFAjoKcfqrjUA9B+alzMjdFdsE53NlwexHBaOLVIrxAUaFxNd7Ewwb+iUyJfiB70oVg/4c0csR3sG5ulnRmZpc7i+fXT+o+eQ2KEAGvGDRJt/3nETp+0iAAWgRZLvfe97y0q49tprac+ePdb+AFYIkFonEDRTIOcqgH7pCTI3foCUwSAEPWu9r1ECCIBAbxLQk28VG84mIH5Ldyc20N3xrWVirxUxbdb39dFoNEKXMlmS5qzOTFMi9g1/ZDKEJjAnVrznshlazNsmQDE9So+lJumFxfX0s2PT9J+Hg+0sRA0PkKkKpcjIkoaAYPLVaPsRbkDbjpSIN/pi8N9esGwKFJQAYbwKIOMC8B+43Mzj7YWF0kAABEDARwTM7KzY8xmzJFZEMCg/pUtalP7n3GVlg3+e0b9qbJR2jAxbg39uD/+G7RoboXVCKRgRKwJ85O/OwT/nU4X1wITIu3tsjHaOjhCXxdc4pY0I3bWwjT5/aSe9JFYbAp0K8QB4X4gGd6Ad6WqsAHQEKwrtBIEgmQI5VwHyFx+jqNgLoPTZm8A6wQ5lggAIgIBXCejJIyXRHH7gSxe9efas2OR7Z3wzzWqlGfzLxKCfB/fV0rCYHORPvWlErBzwZ2qwny4tZa1VBHY6wq6xj86M0vXDF+k/C+9BG8L5eov0TT52m23KfQCxNyk8erVvZPeLoFgB8EtPQU6SpkAShZ8DhDlXAUS4Q2svgGwXjiAAAiDQSwSc5j9+CQD29OIa+te5K4uDf45ev3vNaM3Bfyv9GREusTeL4Ji7xIrAWLQ0b/tEaiN9/uJV9EAqgJNHjn0AevJQK/jwbA0CUABqgMFlbxIIkimQMzowewQys3aQMG+Sh1QgAAIg0BkCTgVAFTO/Xk88+P9/5kquKftDIXrn+rU0KEx7OpmGImG6YnSULhseogFRJ6e40Wd5DPrX+fL9B52Uw42y1XC/sIcSH5GMxGERF8DeD+FG3b1SBxSAXunpALWTTYF4toUTewU6kPHfhjGW3bkKwPavuQvf48tIIAACINA7BETAJyN9ymqvwgM+Mdvt5VQ5+B8SA/G3rR0j+xfJHcnXiX0BV4nVhknxWyj3Bzyb3kCfvbSLZrTOKiHutNCuxRkPQosJb0BIbSUABaCtOFGYGwQqTYHuEgHCOGy8H1OoT0R+Vm170fz0Q8IayP4h9GNbIDMIgAAINEpASzjs/x1mH42W40b+aoP/q8TgvxuJB/6bCmZBQxFbaTqeHaH/fvFt9Jo4BiE5N4TrCSgA7e5Tf46a2k0B5fmOgNMU6GRulL6RmPRdGyyBxWyX2rfRlt3USJvGKoA/OxJSgwAINENAT5Tcf3rZ/r9y8M+efLo1+HdyHhRmQVcKs6DRwt6AReEp6B/ESkAQ9gWo4ZI5mMbxAJDaSgAKQFtxojA3CWwaGKCIar/CDyen6LnFxqMuuilvrbrU/vUkZzryM0+QHn+9VlZcBwEQAIFAEXBGAKaQN2PnnM7309cXSjb2o9Eo7RQmOF5JbBLLSsA6EXNAJo4k/OWFzfKrP49qhJSQ7WHJTJ8UmwGW/NkOj0oNBcCjHQOxVifQHw5ZS6Ay57cSmymmedt+VMpaeVSiJS8OOWEKhAQCIAACvUCguAFYCQvzf3vTp9fafXtsCyUN21RzTAz+rxwtzUx7SdbLRoZoo9gXIBMHD/ubS1fIr/48OqJCa8IdKFL7CEABaB9LlNQFAuuFv2Xpc/lCfpDuSPgzoq4aXUOK+HDSF14lbfbpLtBElSAAAiDgHgE9fUbM6masCp0bPt2TYPWavh6booMZ285/WJjb7PDo4F+2hN2FcgAymQ5n19AXfKwEyNVxbg/2Achebc8RCkB7OKKULhLYPDRAfSH7VX46vZEeTa/tojTNV61ExYbgQrJXAUz5FUcQAAEQCBwBI3W02CYvKgBPiUBfDyY3WTKqws3P5sEB8sOgaa2YGHubw0TpTaEE/MPc5UXWfjpRw6UNzVgBaG/P+eFdbm+LUVrgCFhBUgZLtqN3C9eg5/PVIzF6ufFqZKgYDdhInaD8eZgCebm/IBsIgEBrBIrmP1yMw9SjtVLb8/Q5rU9E+S3Z/W8ZGqKhBqL4tkeK5kvpF5uU946vKxbw2uJa+uLc9uJ335wIRxnFfQBLZ8nMxX0jutcFhQLg9R6CfHURWCNmPKTtY0yP0p0+NQUK9W0gErawnKy4AHn8savrBUAmEAAB3xHQHS5AeQLES+kb8c20IJQATux1blx8/JY4NsGPri8pAS8ujpMfA4YpkdIqAKICt+8thALQPpYoqcsEpoTtIwdl4fSS+EO3P1naWNtl0eqvPhQVbkFtUyAzO0NZbAiunx1yggAI+IaAmZsX0c9nLHkVj0X/vSOxkXjGnNOIcK+5WUTe9Wti06UfWVeKVcABw25Z2OKr5qhOBQABwdrWd1AA2oYSBXWbAL/MrATIdI+YwTmWs12IyWt+OLICIJc8OS6Anj7rB7EhIwiAAAjUTcA5++8l//8Hc0Miwrxt9x8Wbqa3CPNSnkn3c2IzWeeegMdTG+nWmN1GX7RLLW1q1hLwBNSuPoMC0C6SKMcTBEajEZoquEHLmmG6K+GjP3KSoPjRkRuCTSMrgoM9IO/gCAIgAAKBIKAnD5fa4aEIwPcIrz8iPLslG2/65cjzQUi8J2C3Y2Pw90XsnNv9YiorljHkKpGZuShWjuaC0CVdbwMUgK53AQRoNwFeBZBREQ8uraFvieVcvyW1f50IDmbbPXJwMG3uOb81AfKCAAiAQE0CerzkAUj1iAnQt5Mb6XDWNpdhTzrrfWj3XxO4uDEolICdYyV7+gfESsfDqdIegZWe7fq9SGkVAPsA2tMbUADawxGleIzAlFi2lS/3vcIr0IGM/2w4Fd4QXEi5c/eSmU/LrziCAAiAgG8JmNqiCOoqYgCIZJk7FiK6d7NBR7ID9B1r9l84JBKRdadEpPkgphHhyejK0ZIS8P8t7KATOe9vcJYTYtwnWsyxehTETnKpTXKM5FJ1qAYE3CEwJGY6psTyrUx3if0A+aJKIK96+8gbn6QSYIiAObnz93tbYEgHAiAAAnUQ0BOlAZwSLs3s1vFox7LcLfz9a2Q7kdgkVpE50nxQE5vKOoOF/Z8X30Fx3dvtVR1mYmXmY0HtJBfaBQXABcioojsENgoFYI0I287pZG6Ebo9NdkeQFmoN9W8kRbVDu+fP7xeREN9ooTQ8CgIgAALdJ6Anj5SE8ID7z/tSG4jNRTmNCa8/EwEz/SnBLp2xidNkYb8cX/3cpatKN716VjAVMzMXxIo4XGS32k1QAFoliOc9TWDTYD9FCsvLvOnpmcVRT8u7TDgOgjJQ2sOQPXPfsiy4AAIgAAJ+IuCcwVW7HADsWK6f7i+Y/qjC9GdyoORJzk9Mm5GVVzpY4eE0qw3Ql+a2NVOMa884vUU5vUi5JkDAKoICELAORXPKCbDng00OU6BvJ0RwF91fXh3U6FrhFcj2SW0IF2h5mAKVdzK+gQAI+IeAqZORPGbJq6jC9lyNdFX2e4TpD3uM48Qz4kMRf/0+tApvm4hx0Beyh4LPL04Iz3mlCadWy273805zMacS2e56eqU8KAC90tM93E725CCjOF7KD9I34uzmzV8p1M8bgu1/rjmxCqCnTvqrAZAWBEAABASBsoFbuLuz7ewBRwb8Go6EaNIxWdQrncUxArY6Ap3dJ5xmeNUzkOrwBKQ5okj3Sl+1u51QANpNFOV5kgCbAvUXogRzJMRH0j5xfSZphgZIsZQAItPIiFUAmAJJNDiCAAj4h4Aed9j/d9H954LY9PpAqjQZ1EumP5Vvy6jwDLTFoQSwZ6AXM140lxXxAApKgJk+RaaWqWwKvjdAAApAA7CQ1b8EwmKWY9NQySvQt2Ob6Wze+67PnMRDvBegYC+rzb1A+QuPOm/jHARAAAQ8T8BwBABTHJ5d3Bb8vuQkzeZtBwvr+/pE7JjumiK53f7K+jaIlXLmINN/LGynY7nSb6a83vWjWnLpXbaZvOuC+U8AKAD+6zNI3CQB9gi0seD1IGlE6U6xH8BfSSF1wBEbQKwCmNlZfzUB0oIACPQ0AS1ecAGqhEkN2wNwt4FwXJhHhALASQSZ7QmvP/Uw3jo8SGwKxSmhRem22BbSDAHIQ6lsI7BDmfSQiL4RBQqAb7oKgraDAG8IHi5s8nplcS3dl5xoR7GulaFGxkRsgHGrPh78Z0/f6VrdqAgEQAAEWiGgJ98Sj+tWEd2c/d8vPMLJtFEE/BrssY2/su2VR/aCtGVoiMLiyOlYdpS+kSixqszfje8cH0cmeAKSJJo7QgFojhue8ikBRfxhYyWAj5zuEaZAh3Ld3YjWKMoQRwhm7xkiabPPUH76oUaLQH4QAAEQcJ2A5ggAJs0Z3RbiodQ4vZkZs6rtEy6iJ/q7swrhdrvrrW9QeM7bIlYCZPqe59xni30ABVNYQ8STME1DiopjgwSgADQIDNn9T2BYbHiaKpgCceTHb4kowb5KoagwBSrNyvAqgJ467qsmQFgQAIHeI8ADNpnkZk753Y1jWleFh5uSm8uJgT4Ksw0QUhmBdWIvgDMY2rcTW2le8457VOe7U+ZVqqwV+LIaASgAqxHC/UASYHdvY4UowUeEt4Ov+yxKsBpdI0yBCvsBjCzlYQoUyPcUjQKBIBEoDdbEfqYuuAB9YHEDXSps/GVT0A3C/AepOoHNIkjYUGE/ADPzkimQGh4uCm04vUoVr+KkHgJQAOqhhDyBJMCuQaWt44PJzfS8J92e1UYfGpwSS6H2H0It/gb2A9RGhTsgAAJdJmAunhU2i0uWFNKEw02Rzuej9H1HkKsNhVVgN2XwU128H2DTYMkU6IfCffZDqfXeaIIjerTTq5Q3hPOPFFAA/NNXkLTNBAY4SrDD1vEusR8gJnxD+ycJW0ihBMgAYflz95E2/5J/xIekIAACPUNASxwqttVpwlG82OGTB1MTtGjYZiy8+ste4ZBWJjAizGV5z5xM7D77RL70XV53/Sj2bsg9JHryqOvVB6VCKABN9mQ6naYjR47QuXPnlpUwPT1NJ06cIE3Tlt3DBW8RGBe2jtL38QUrSvAmbwm4ijSq8KOtDtju7Dhr9vRdZOYTqzyF2yAAAiDgLgHduQHYZf//7OjhsVTp7+RGYfuPVB8BNpeVytKSGaE74974jZRepEwjJ6JLYw9cfb1Znss7uzrK5fL0t5dffplefPFFGhLuslgRGBsboxtvvNGSef/+/cQKQERozpz27dtHUcw0WCy8+r/NYhUgLZS1jK7TM2KZ84q+RfrA0JxXxV0mlyoiBJv6Ipm5GJlLZyl35i7qu/y/LsuHCyAAAiDQLQJOBUAtRHN1S5aHHO6eecKHHUEg1U+AVwH4NzJvGPTG0hq6K7mRPj5ysf4COpCTV5HM7CWrZN5cHhq5vAO1BLtIrAA00b9bt26lj370o/SJT3yCPvShD1EsFqNEIkFzc3PWigArAzfffLNV8oEDB5qoAY+4SYD3ASxb5sz5yzVcqF+YAhVcg+YvPkr5899xEyHqAgEQAIGaBPTFabEyGbfu2/uW3PO880JmhF5atGOnhMTf+g2Y/a/ZT7Vu9IdDtHmoZPpznwgQ9kqmtBG31nOdvF4WDwABwZpCDQWgCWzj4+PEH0488Gef8sPDw3Tq1CkaFJtmRkdHrWvbtm2j06dPN1EDHnGbwJq+KE0WNoWljYiY4fCba9C+ctegp+4g7eLjbmNEfSAAAiCwjICZLtlpu23//3i6FOyRXVvy3i+kxglUugZl99mLRjf3zAklUrWVEt3hXrbxlvXuE1AAmux7Hux/9atfpSeffJJuuOEGUsWmlFQqRQMOt2KsFGQymbIacrkcLS0tVf2UZcQX1wlsEm7PRqL2j8Pri2KZ0+ExwnVhmqiQXYOq/SUf15nj/y/pcaxANYESj4AACLSRgB4vbQAmF91/vixmqV8TEd85RcVvNNx+ttapTtegp3PDXf+NVApRgc18iszF5fsxW2tt8J+GKtxkH09MTNC73/1uOnz4MD3xxBO0adMmSwnQhR25TIawl5MRZ+U1Pq60OXhmZsaZNXDni7msp9u0NhyhdE4jji14X3wLbVcX6J2RmKdlLhNOHROuQRdJ0ZPW5cVD/0zZbf8HmeHRsmz4AgIgAAJuEeiPvU7S6EfjWePsoitV/yCxrVjPmPBpn9NylCtewUkzBNaJ/RPpvD3O+b6IErw7PEt7uvQbqVCk+F4tnP8h6WPXN9Oknn0GCkCTXc+mPrt27bI+X/7yly1FYGRkhI4fL+1G570BzhUBroo3BNfaFMyrBaxYBDkNnu3uxqHV2A4Kz3CGmCk6m0pbWe9N76C3TbxFg2pJsVutjK7f77uC9MRRsTE4TYqRoYEL/0ZDe/+u62JBABAAgd4jYGbnxICxZP8f7RtyBcLrWTH7n7V/T/vE3/RNYkWe9wAgtUaAfyPzJtGFJdu64aHF7fTjG7qkVhn9pGXtmf9B8yL1B3z81FrPLX8aJkDLmax6hT39nDlzxsp3/vx5a0afB/87d+6kbDZrbQTmwTznYSUByV8ENgg70bViTwAnXub8epx97fsrhYYvF/aRtqcLM3ORFg981l8NgLQgAAKBIOD0/++m+c+jqXVFfhuEFxsM/os4Wj6ZEjyHCnspjmZH6dvJQlT6lktusACh2Cmhwj6AxJEGH0Z2rAA08Q6sW7eOHnzwQetJ0zRp8+bNxYH+3r17iRUENv3hjcK7d+9uogY80m0C7PEgndcoJ8y4nkhtpO3RJV+5BiU1ROHhK0j++BqpY5Q98R/Ut+NXu40W9YMACPQQAT1+uNhatzYAH8oN0QuL9uz/kDD94c2/SO0jwOMbVgLeStimpg8kNtE7+xJ0RbR8z2P7alyhpLDwRqQvCTfY88It6CwpfbaDlhWewK0CASgATbwKbPv/Ez/xE5RMJi0TH6dJz7XXXkt79uyhfD5veQRqong84gECUTGA5g1PJ5IpS5pvLoj9AJEl2hl1x3a1LQhC/bYSIAb/nPIXHhHRE0epb9vH2lI8CgEBEACB1QgYqdLMrFv+/x9NrS+KNdFfcl9ZvIiTlgmMRiO0UXjOuyhMgbJiX8d9yUn6w/UnWy630QIUoQCYWXvvpC6iTYcn3tNoET2bHyZATXY9e/3hAGDOwb8sioOA8R4BJH8TYDMg/gPHKWuG6RsiDHre8JkNqfCSoA5sLXZE/tzdIlrwt4vfcQICIAACnSLAvv+NpWm7eMtlY+eHHEdzA/RswfXnsJj9X1cw5+xUG3u5XI4S3B+y+/SVxfX0cLpkduUWF5VXAAoJ7kAlifqOnf/XWJ8cyAUCniTArkH5R4TTW8LW8Tax1Om3pPavJ6V/sig2lIAiCpyAAAh0kIDusMuWLhs7WJ1V9A8cs/8bMPvfUdy8r2LKMdn5ncQkzWguR1kWq/UyCKYWe7Oj7Q1a4VAAgtajaE9bCfB8/+ahIVIL3iN+IJY5H+nCLEerjQoNTJI6VHKJZykBIlgYEgiAAAh0igCbZMikRDrv/eeYmP1/Om3HQhkTHvc4wCNSZwnwSvl4YY/FgjZA94rfSLcTmwFxMrOXxF6ABber9219UAB823UQ3C0C7O2A9wPIdJcIg34sZ5sGyWt+OKrRdaSyd6BCyp//jtgY/BX5FUcQAAEQaCsBzbEBWC0EbWprBRWFfd8x+z/ej8F/BZ6OfZ0a7KdowRToidQGejYz1rG6qhWshEq/z06ls1peXCsRgAJQYoEzEKhJgL1IrC/McqSNCN0hlAAqhiCp+ZjnbqiRUaEEXFmUK3/hB5Q9+n+LmZP54jWcgAAIgEDLBDThmWXJdpctNiKJ4jo73HDO/nNEd14BQHKHQESY4ThNge6PT1LG6Gx/O1umOlaX9GTJ65QzD86XE3Cvh5bXjSsg4CsCm4Wto9zwdDg7RrcuuL/U2Q5g7IlDHdlJimr/QOZnn6XFg18gbe65dhSPMkAABEBAuCAuDcTccP9ZNvvf578VWr+/MuuFKZCMn3NWxM+5W7jPdi0Jj3ek2E4ttVjJ7My1+n1aERQAn3YcxHafQFhVaIvYDyDT91Ob6Ac+3A/A8qvhIQoN7yhunjIzFyhz5EuUPfk1EQo5I5uIIwiAAAg0RUB3uP9UxN+bTibn7D+bbMqBaCfrRNnLCUwKr3nhwn65B+Kb6FCuZJqzPHd7r8g9JmZmmsx8or2FB7Q0KAAB7Vg0qzME2PfxVME1KNdwh4gPwG7nfJlEBMXwyBXCgULJZ3Z++iFKv/G3pMVfr9okU/NRHISqLcBFEAABNwg4PQDxhEMnk3P2f/0Agn51kvVKZQ8I5WtyqLT68oCLEYIVtaRsYB/ASr1UugcFoMQCZyBQF4EpsSF4TcG+dMmM0NeFEuCmvWNdQtabSZgBqYNbhYeg7cIkyP7hNFMnKHPw7614AfrieaskSzF47n+j9PO/TalnfpUyb/07QRmoFzLygUCvETDJSB61Gm39XVE75xrSOfvPJprr+6AAdPNtY9er0nU2xwZ4anGNO+I4lEzdYX7mTuX+rAUKgD/7DVJ3mcCW4QHqE8HgOB3PjdLXxHKnn5MaXUuhytUAETRs6dU/o8VX/ptlGmTq6WITtZknafG1v4QSUCSCExAAAUnAaf9P4dLMrLzfzqNz9n98YMCHrhnaScMbZTnjLzyY3Ei6C73ijDKNgGD1vQdQAOrjhFwgUEYgKrwebBku/bA9ITY8PZAaL8vjuy9VVgPEhoBSJM+KBnH49ZwwGUICARAAAScBszD7z9eUUClSqzNPO86ds/9RMSEzDr//7cDachkcf0HGYDgtNgTfn5xoucy6CgjZpmZG+rSYnCpNWNX1bA9mggLQg52OJreHALuZ2zJcsm29M7aVXs927seuPVKvXoq9GnCl8NwnVjWUlZfu9dmnSRd/bJFAAARAQBIo9/9f+hsp77fr+Gi6NOnCwahkwMZ2lY9ymiewob+0F+B7IjjYBa3zblnL3IHCDGjVzoMCsCoiZACB2gQ2OOIDaKZKt4v4AHHddkdW+ykf3BE2u2r/hrINwtWkNjIXaem1v6DUC79PmcP/k/LTD5Iu9hCYRr5adlwDARDoAQJG8kihlSEidtHYgXQ6309PFVZd2fPMuMM5QweqQ5ENEhiOhInj53BK6RG6P+HCKoAzIJhjFapB0XsmewBGKj3TV2ioRwlsEZuCM7pG6bxOZ3NDdGtsE/3u+mDMiqvRMeEV9MLq5PNx0uZftD4ys9I/RaGhrdbH2mg8uIWUPhd+BKQAOIIACLhOQE+dFBMAWate6ZqxE0L8ILVOGCjac5gTDveTnagLZTZHgBWA+WyOdNOkJ9OT9K7BGP1If+dMc9jblFEQFQHBVu8zKACrM0IOEFiRQEjMPnGQsLcSSTJMohcWJ+iOSI5+ebSOgfOKJXvgpnAVqgglwMzFlwujhEiNrrM2Ajs3CMuM7I9Z448zwJjaLzwObbMVg4EpSyFQ+zaQMiAUg1XMjWS5OIIACHiXgPT+wxIqBZvsdkt7Ph+lp9P/P3vvAR3Zdd55fhWQUwMNdGQHdhLFKEo0SStQwcoiqURKlGXKZ8dnZmfPzs7x2bNzZs/Mjo/t9Z61PQ6zDmtbGit4JZqURCswZ7IZRVIkxdAMTTbZOTeARqpCpf1+r3CrHoACUAW8Al5VfV+f6iq8eu++e/+37n1f/vLKBPbf1a3Vdy8JegyN0F6rpgXFSn50Il9b5m6NlbuodV/1hq6Wa7JOIYBmR96SXE7Dj/U5ZVQaARMASuNiRw2BihDobGryioQdGM1rN+4c3ihrYwn5cMdQRe2E8eRY22bJRI4JQb+OIioYxJSRF33Pk6b9S43mA6+0kFguPaHxw3ktoLvGe9fvcA/gNdNJKEImInU7wkrAK6pCQUSFg1irPuiblimV3LTO2h+GgCFQKQL+DCz+zCyVtjPf+Y+MrZZkLs++4PtPUgajcCKwpr1NzkymJJnJyCsTvfLgWK98rGOwep0l69Rk/tnDcybW/e7q3avGWzYBoMYn0LofHgR4EE3qJndsSttx89AWWauWgPOaa7x4lj5cY+0bRVrXSZYqwVpyPRqbmWs7ItGmLmXU9VUgNYekleEvCAR6bUaFg+xk4Qz/h9zkoKT1JfK6/7D3OaIZikStDTGKljX3e7EJ0TYNAPSOqYCg75GIhTTNAs4OGALLjMA014sqpAA9k47L41Pa/4iOrc8y/yzzDFd2Oyw0a9RF6+CUcuxeTQt6ZduwtEeds05l7S10dkSfQTxLIBMA5kfLBID58bFvDYGKENhAPEA2K0Pq9ziRjcv3z2yS/zDwpvTEMhW1E8qTVRCIRivJ6KGP53ibeumqlUC1+45y2bTkVBDQXVoFgknPXJvTd89ikEu706a9e0KDxiKk54lHiCAEtCAcTL03daus0uG9JN6pQov2HYaEY1UsTDSt4/aHIdBACGR0fTp3wbz7Dyx6sPTQxGoZzeazk6F0ofqsUbgRIBZgMJmQUY2TO5bqkNtHB9RF9nh1Ou2vCKyBwPPnsatOF2qlVVs5tTJT1s+aQWCzpgZNptMykcnKoVSnfE8zA/371ftrpv/V7mgkGlcGfI50qSo8ZXEd8oQDfddsQvhz5jJ8RjiYW5DKTZ7Ry86o1qeMEaifaESFAi9IUQUD0seRr5y/cwgLnvCgAoRqk6JNPZ5lw4SGMnC1UxoagWn5/3UtBU2j2Zg8psyjo9XKWBrVBgIUBxtVN1HoEbUCfLj9jKyNz3QEXfpYovFWyaqVWv1QJT0025q89DvUTwsmANTPXNpIQoIAKek2qRDw1tlRL/vBc+P9crO6At3QfTQkPQxxN7SYTzRKXIG+SqhuPOuBuhBFcynJZvThoYKCZx3QLEy5XF5gKGt0CBXqJ5qbPO2dXpYxWq0ZkThCQc+UuxMWhu68sNDcnRcS4qs0MHqVHmcMRoZAYyGQGX61MGAysgRND471yWA6z/TD/Leb9j9oiKvWnlccbLLZs46PqQXn3pF+ubG3Os9ELL85zUzH84GsVLHOrVUbVy03bAJALc+e9T20COSDgttl/5Tf493DG2SNBgVXNfgptGgE17G89SC/bZX24tG4A3Unynp1CDJqOUhrEXq1Gmg2CIQHz4LAZz3uPvNdWaSBzQQ357T2wYICAxYGBAENXvYEAs2kxGfvGJ/1u6gKC5GmOSwhZXXITjIEwoVAaujlYodi/nig4uHFfprMRjSVZLHw12rz/V8slCt2Ha5AuMdCuzUt6Ic7B2VzUz5DUKCdoh4AAoCSFwdgAkBJeE0AKAmLHTQElo4AGqpJdWk5Oq4ZcZRuGdwi6+KTcn5LPlPQ0u9gLcxGQH2ONUC5EKRcwoow6xpyt4oKBDncjxAMiFFQwUFNyDliEgrCBBYHzuOcBQgLgwoKCwoLKihE29dr0bV1+trgffbqJ7Svs7SoC0BsX4cLgdzEwQLT5fn/qzUvSHpwfLWcSCljp9SrzD9KFqPaQqBL52x1S4ucTiYlpYUz79NCbr/TeyjwQaBYyU3JFWmtCNy0/pOB36MeGjQBoB5m0cYQWgTWawq0hGYGGlStRzIXk+8PnqNBwW9Jb6wMJjK0o6qzjkUJVMwzE2ULDioUeMLClECQU3ekCIIDGY4Krkll+LeqoJBVEzWvmUQl5kiLCgYqIMS0ZoK0rdNsTJvVvSh414qZ97a/DYFKEUgPvlS8RONogqbp2n/z/Q8a3+Vqb02bWgEm88XBHtW6AB/QWIDzWoLNlOcvCOavS7FcY6yV+5gAUCszZf2sWQTyQcEZGVdB4MhUUPDvrn6nZsdjHVcE1P8oWtoHyQePc0dSoUBjFvKZjqbiFrysRwgIczsTZRMnRPSVGX5xWs0Esh1RYTnSdk6+oBpCAWlaFyKtxplWF41cZlxrLFClefNCV9j3hkDZCKSHXimcG7Rr20PjfV6VdW7Q0xyX7mbT/hfArrEPZG3CFcily35ArQDntRwIfhRkfcuMebEAOc1OFVErq9F0BEwAmI6H/WUIBI4AeZAJCqZSMCXRX1BT9k1NSflNCwoOHOtwNTjDHalE57JOENAA5ryAgLCAFWEquLnENWQ6SutLBn9VFAy0BkKkXQWCtk1ewFu0e5cy+FsLV6dO/UKSe//fwt98iPe9T1p3/hsVZlqnHbc/DIHKEdBCgJpyEaLyqlcTpPJG5rziidHVhe9Wt9jvtQBGjX5Y09aWdwNS98tnxgfkxc4zcnFLPkNQUEPyAoFVAIAy+tuMmwAwC1oTAGZBYgcMgeAR6GiKyyatEfCOK4ZCUHA0KR/Xjc+ocRGIxrTAGS+Z7daT0/gRz6WI7EbqVpSjCJsrqjYzcFnjF3JjByTN69TjHqCRWKtEO3cpf98nqeMPzwI5feaXMv7qX0j7Bf9p1nd2wBCoBIHMsFqW1J3No4Bd1J4e75a9Sc2ypdSp+yjZZIxqG4G4ul2uaW2Vw1PxcfePrgleACCl89RPMj38usQHPlTboFWh9yYAVAFUa9IQKIVAn5o9k76g4Js0KLhP8yC/t3Wk1Ol2rMERiGgQZcTTzqvGc4bHQ9ari6ACgVZazmU0yNyrsDwV9TaFG8XWcB/K5JNhlEQzqwFyMG+xngtLfm8HDYFyEEgP7SmcRn2NIOmxiWLmn35lGo3qA4E1Gh9HbByusS+O98rTbd1yefvZwAYX1bouzsEyc/aNwNqtp4aCDdOvJ2RsLIZAFRAgKJgMFlBWa+R+5/RW2TtpOeOrAHVdN0mwMgXKom1rPZefWM95Eu+9RKJdqvHX2ADSjBKnUA5l/Kkby7nAzjEEZiCQOZt3/+FwkO4/Lyc7POaQdttiMekz7T9Q1AWRegEhwNEDagUIlLRyPVZQKJfUjGxTaUEDvUeNN2YCQI1PoHW/9hDYovEAXRrIBo1km+Ufz2yR4Uys9gZiPQ4ZAhGtLdCuLj/9nv9/vOcCFQjOU6fs+X9bk0fuksQbfyXpk3nXoZANyroTdgQmBzWL1ZQAEMWlrcjULbXrj435fP/bTPu/VDzDdj0CXffUs/D1ZI/sVktAoOSzRpkVYDayJgDMxsSOGAJVRSBKUHB7hzRP5ck+luqQvzm9rar3tMYbE4FovFWtAQs/VNOnfymJN78p4y//kcYQPNWYYNmoF4VA+qyv+m9TcMW/3k61ylNjA16fmmNRzR9vvv+LmqCQX7SmtSgwPjian++guuxPmZxRd0ej6QiYADAdD/vLEFgWBFrjMdnS1aG54/NEkNt/U3cgI0MgaARirWvVL2MO5kn9ZP0pG8nkktj7dzKx5881NsCX1z3oTll7dYNAZrjo/iMBBgDvHu0rYLS6uVnIpmZUfwiQ0tW5xb6T7JJ7ffO+1NFGSQU6RZlRiwNwWLh3EwAcEvZuCCwzAlRF3NJVDJgjPeg/Dm5a5l7Y7eoeAY0FiHftyMcF+AYbadsg8e4dGkOwQ7/fpd8XGS6Chyf2/JkKA3+vKfTe9F1lHw2B6QhkxnwCgI/hmn5WZX+dSDfLU5oeEoLx79e0kUb1i8Aan3vX7rE1kglqqGRYm1J+ZEf3e1nUgmq6HtoxAaAeZtHGULMI4AO53rf5PaqBULeeVY2tkSEQJAL6EKQuQLz3Pfq62HuPaaXhAmnsAIXBop3b1CKQT7nId+lTT8rEy/+nJN/5Z8mlxwun2wdDAARy44clO3bQAyOi1qRCJe0lwvOw+oJPZPNxUrj+NHnVupfYqF0eWgQ6tDjY6pZ8dedDkx1yn6/uw1I77XcDSg+bFcCPpwkAfjQq+Dw+Pi579+4V3mfS0aNH5e2335Z0Oj3zK/vbEJiFwHqtD0BlREe3DZ8jTyV63J/2bggEjMDc235Umf+YCgFRFQYivmDO1NG71SLwx0LtACNDwCGQ9luHVIgMgsYy0YLvP+2t9u2NQbRvbYQTgYG24jMQK0AqG4zLF4KpI4sDcEjk360OwHQ8yvrr2WeflRdeeEHa1Cw5MTEh559/vrz//e/3rr3zzjsFAaBJ3TugG264QZrVf9HIEJgPASoFT2YzMjyZFxr//uQO2bT+ZdkYn6pkMt/F9p0hEDACUdyB4qskO3lSshMntPWManr3S+L1v5Km9Z+W5nM+L5GAGL6Au27NLSMCmZGiRjWo38PDE6vlTDrPDML8t6l22Kj+EWifsgKcTiblyGS73KsZoD7XdWrpA/fFpWRctqqlt1oXLcytCqqL4VVnEDD0X/ziF+XrX/+6XHXVVbJnzx7J5XJy+vRpOXz4sFx//fVy4403ejd/6SULpKvOLNRfq9u7u6Vdc107+i9Hz3cf7d0QWH4ENEtVVAOIvfgBn1uQWQOWfyrCesdifIhqa2PBWAAe97l/WOafsM58dfo1zQow2i+J7NJZVDKhqbbC6zCFD42KCCwd3WJbDfPp4osvltWr8/mJ+/r6POY/lUrJ/v37pb29XbqVkYto4NLmzZvlwIEDDYOLDXTpCJzX2yOUSYcoFPbvj1609EatBUNgKQjE2zy3oEjr+kIrzhrgxQZkJwvH7UPjIJAZOyC5xLH8gDX4N0rA5RLpwbE+OaJpkaFV6vvfOWVJX2KzdnmNIOCsAHT3eFpjAXx1IJYyhEiTLxuQVQUuQGm2tQIUi/vw/PPPS2dnp+fmMzo66rkFuZY4jjuQnyYnJ2VMz5uLTp48OddXdXF8fNJcWhaayO2d7fL62THvtLOaDeMPj2+T/33VywtdZt8bAtVFINolkVatrjmpZvlswrsX1oDE0BuSGviy5JoteL26ExCu1mPDz4hj+XOaaWoyOTsertIe7x7dXrikXS1Q9rwowNEwH7riUTk9xSY8PNIvVzUdkrbI0vICRaSpkHL77LGnJZ1cuDZKIwBuAsASZvmtt96Sd955R66++mqvlahuWJlM8YeazWY9S4D/FpzTpRaCUjQ4OCgDA8EWwih1n5U81n7o+ErevmbufUFfXF45M+z1d99kr/zl8EXyH9e8VTP9t47WKwLq5tG2WuMCjqoMQGyAen5M7JP4iX+Slm3fkHjPhfU6cBvXDAQSQyfFpbmItaySaNPSXICeGF8l70yu8u5CpfR1mhzBqPEQYNZH0lkVApJyOtMuD6fOkc93LVExqp61aRQXSm3ZE9Ja53yWN9Ay/jMXoDJAKnXKsWPH5KGHHpLLLrtM1q/Pm8a7urq8oGB3/tDQ0DSLAMfjGugy18tdZ++GQEs0Jrt6ilU1X02ukj8/tc2AMQRCgEBEolpDINp5rkSmcmznEscl8epfSur4IyHon3VhORDIjuYVEpFITN1/Opd8y8e0Doqj/hb12zZqWASmxwIMyKhmhloSkbAgkm8jPfz6kpqqp4uXiGo9QVH+WI4fPy6333677Ny5Uy688ELB/x9tP38nVWolEDiRSMjBgwdl165d5TdsZxoCPgTwf/ULAS9N9Mr/c3qr7wz7aAisHALRph6JdKhQGpsSVHNpSe77tkweuHXlOmV3XhYEMqP7ChYggblShcVS6LlEl+yZyGv/OzQRgqsMu5Q27draRcAfC3A63Sb3jfcveTCFegDqvpihKJiRmAvQIn4E9957rxf4+8YbbwgvaPv27fKxj31MLr30UiEVKEHA/f39ct555y3iDnaJIZBHwAkBbwyPeAeeVy3Z32h48L9bfcAgMgRWHAEybES7t0lm/Ijkknkz/eThn2v60FPSsvUbmnzDKriu+CRVoQNZX/7/SADZfx7V4F9Hfb7CiO6YvTceAlgBcAOCdmuBzI+1n5aeWNHFumJEqFKdyj9Hc6Na3bxzS8VN1NsFJgAsYkZdis9Sl+ISdMkll3hWATICGRkCS0VgphDw7PiA/H0kJ/+27+BSm7brDYEAEIhoBsiNko22aGzAYW0vJ+mTT0g2edoTAmId5wRwD2siTAhkptx/vD758qwvpo97kh3y/JSGt1W1//2a/cfIEHBWAISAQa0Lcf9Yv3y5e/ExhNSpyE3Bmtb6FfF1v9HwIJsLUBV+AhQBM+a/CsA2cJNOCHAQPKWVEv9x0Bgrh4e9rzwC0dZ+rRmwTSsI5/23ybmdeP0vJT340sp3znoQKAKZkb359tT/P4JmdQm026f971ftP9ZzI0MABKbFAowMyGBm8TrraFMxTqVYv6KxcTYBoLHn30ZfQwjMFAIeHV0r3xvcWEMjsK7WPQJxTRWqcQERjQ+AcslTknhNg4PVImBUHwikz76m83raGwxa1cgS/P/3pdoEZQbUpBnyrPCXB4X9N4WAswLw53C2ZYl1AZTdjeZdEtmXcpODDY+zCQAN/xMwAGoJgZlCwEOj6+QHQ/ksVLU0Dutr/SJAQagYGYKa8kGdIhlJvvkPkjr2QP0OuoFGlnPafx1zJF7Uqi4Ggmnaf3X9iZn2fzEw1vU1fivAYyosLsUKUAgEVsQyZ6esWHWN3vyDMwFgfnzsW0MgdAjMFALuG9kgt5xdF7p+WocaG4FY51afECCSfPufJHXkjsYGpQ5Gnx5+rTiKJQgAR1LN8uRYvu4NjH+/Bn0aGQIzEcAK0N+a/21QGPPBJVQHnlYReNQEABMAZv7a7G9DoAYQmCkE3DW8US0BG2qg59bFRkJglhCw/4cyefAnjQRBfY01dVY1p/k86hEN+o4uIQD4EfX9T2bz6UNx/WlagitRfYFso5mJwOqWonD4qAqNw5lFpp31ZayyOAD1iJoJtP1tCBgCtYHATCHgvpH18ndnNtVG562XDYMAQkC0pVjhfPLQTyW5/+aGGX89DTQN859L5YdE/v9FEm4cT0xp/wn6XT2l4V1kc3ZZnSPQ0RTX+JC8EDCkGYEe9BWNq2To0VhLoXhhVmtZSG4JaUUruXFIzzUBIKQTY90yBMpBACHgXT3dhVN/oT6S//XU9sLf9sEQCAMCUU0TGm0txqqkjtwlybe+G4auWR8qQMBp/71LllD99yHV/o9k8+k+SfvZpm4eRobAfAg4NyDOeVTrAiy6OrBPcCUdaCOTCQCNPPs29rpAAO3IhX35rCsM6BWtqPl7x98l41lb3nUxwXUyiGjbWk3CUXRTS514SBJ7/6FORtcYw8j4GKaYL61iJaMfy0SFYE5HfT73DnfM3g2BmQjwnOubqhFxRq0ADyy2OnC0aLnK+QrazbxfI/xtHEIjzLKNse4RaFb/2YtX90p8KovGgclO+c/Hz5cjGjRlZAiEBYFo6xoVAopuaulTT8jE638Vlu5ZP+ZBIDN2SLJj+/NnkPtf3SkWQ7hvwMBBMP8wdkaGQDkITLMCqAvZ+FQMSTnXunP8gmujxwGYAOB+FfZuCNQ4AjD/F/b1SntTPkCK6om/f+wC2TO5tEI9NQ6LdT9kCERbV0u0Y0uhV5kzv9RaAX9e+Ns+hBOB3Eg++JfeRZsWt6ekshF5XCu6OrK8/w4Jey8HAVxee6esAKdSrfKAr4hcOdd753guQPlic+kGTwVqAkDZvxo70RAIPwJR3dfO6+mRnua8Vm0yF5U/PX6ePDHuclMseIIAAEAASURBVLKHfwzWw/pHINrcK1GtFeAoPfiiTOz5E/envYcQgfRZn7/0IrP/PKTa/2OpvAvGquZm6WpuCuFIrUthRmC6FaBfEotxdXXVqzNjkhk/EubhVrVvJgBUFV5r3BBYGQS2d3cXcifTg2+e3i53jhQ1byvTK7urIVBEIKrVgqOd2woHMsN7vKrBhQP2ITQI5LIJTf+5J9+fSFwiiwwA3u3L4W55/0MzvTXVkS6fFeCECpMPLCIjkN+C5S9sV1NABNBZEwACANGaMATCiMDmzg4Z8KXX++HQFqsaHMaJauA+RZu6VQgoZq1KD74giTf+toERCefQM0N7NPvnWa9zVFONLCJn/4NjvXJIY5OgHtX+dysjZ2QILAaBfl/g+KOj/ZKq1ArgywSUGWvcgmAmACzm12fXGAI1gsAmFQLWtrUWekvV4L88tVVOaR5uI0MgDAhEm7o0JsDnDnT6aUm8+c0wdM36MIUA1hlHkXiX+1jR+zTf/1ZLTlAReHbyNARwHcOFDMKl7IHxvmnfL/RH1GfBSg+bALAQXva9IWAI1CgCGzvaZb1PCPjVxGr5i1M75eXk4gL5ahQG63aIEYg24w60tdDD9MnHrU5AAY2V/5AZfqXYiXhei188sPCnxzUG6a1kvl5Jl2b9cczbwlfaGYZAaQT8sQC7NbA8I/nA3tJnzziqFqxINK8YyyWOqXVrdMYJjfGnWQAaY55tlA2OwHoVAraoNSA6lSb0yGS7/NXJXXL/aGWakwaH0YZfRQSiTaumZQeiTkDynZuqeEdruhwEMiN7JTuRD5TE9z8aL1oUy7mecx715Wz3M27lXm/nGQIzEehWKwCuZNARzXT3QKXPMl8gu7++xcz71PPfJgDU8+za2AwBHwKrNR5ge1entMTyy54MQd8fPNfiAnwY2ceVRYDsQBFfnYDU0XskeeBHK9upBr97Wv3/C7SI9J/PJLrltYl8ocIOTVHc6/PfLrRrHwyBRSAw4HMl2611ASqiWLEgWHZ0X0WX1svJJgDUy0zaOAyBMhDAd3JnT5d0T6UJ5RKLCygDODtl2RCIUSeg7ZzC/VKHb5fk4dsKf9uH5UUgc7bo/uMvolRuL3ZrkKaj/tY299HeDYElI9CtFgCX8vqQWgHu92WZWqhxgtkdpUfech8b6t0EgIaabhusISBC1WDShK72aeIsLsB+GWFCINraL9HW9YUupQ78WFLHdxf+tg/Lg0Bm/Khkz+YLgEWi6m5Rof//c4kueWmi1+tseyyme07eZWN5em93aQQE+luLLmm7R1eXPWTPlS2SL5qZGzUBoGzg7ERDwBCobQQIl9rS1SEb2osaORcXcLdPY1fbo7Te1zIC0ba1EmlZWxhCct8/CmlCjZYPgey04F80phUEWurZfreM1b5EBMs3ArtTvSNAHEDXlEX7wGSXPFRBdWBnBchlk5IZO1TvUM0an1kAZkFiBwyBxkFgnQoA52pcgAsOJi7g5sEt8tenN8uxtGnrGueXEM6RxtrXS6S5qNVLvPaXkhl9O5ydrcNeZYZfLowqojUbKqEXk53ywnhe+9+qcUf+miSVtGPnGgILIeC3Zj+mGYHKpci0OIDGswKYAFDuL8XOMwTqFIFeNcvv6O6UtqngYIb5y/EB+RPNErR76gFep0O3YdUAArGOTRLRqsGOJl76fclNnnZ/2nuVEMhNnpH00JQAoNV/o/HKBICHfe4Y/sJNVequNdvACPSpO2u7BphDbyW75NGxVeWh4SsIlh1rPAHAqgGV9zOxswyBukagU6ty7lrVI8fHJ+TYRMIb62C6Rb59eptuqMdlVXxSHh1dI2f0GHRlx0m5seeQdMSy3t/2nyFQTQRinedK5uxeyWXGvNuM/fJ/lY4rvqW5vM1KVS3cvdz/uZTXfESLtUkF1X9f0Rojz02l/iTrWL+5/1RrmqzdKQT6WlplPJXfHx5VBdaHOoYWxCYa6xD3BEuffUvyT7cFL6ubE8wCUDdTaQMxBJaGQExrBGzQegE7u6dnCXpkdK38bGhTgfnnLk9pyrX/cuJ8GcvYFrI01O3qchGIde9UJrTI8I89/W/LvdTOWwQCBe2/Xlup+88jPjeMgba2govhIrphlxgCZSFAgHlTNP88ekNTzz45XrQaztmAvyDYhMYAZPPKrznPr7Mv7OldZxNqwzEElooAqUJ3aJagc7RwGELBXIQ14I6xNXN9bccNgcARiPecr21OPbZyGRn75e8Gfg9rULzKqOnBl/JQVOj+85oWGXx6SgBoVobM3H/sF7UcCPCs8heZ86efne/+EV9ti0ZLB2oCwHy/DPvOEGhgBNZo4bCFAvf2apo/I0NgORGI915UuF1uclDGXvy9wt/2IRgEvODfKXerSt1/pvn+6x4SnVuHEExnrRVDYAqB1VoYzCW0eDW5SihCtxDlosWCYLkGKwhmAsBCvw773hBoYAQi81gAgGU4W3TJaGCYbOjLikBE4t0XFO6YG9sviT1/UvjbPiwdgfTQlPZfm6rE/WfvZJu6B+atgrhjmO//0ufCWigfAWrc+GtNPOpzRZurlYgvEDgz8uZcp9XlcRMA6nJabVCGQDAIrFJ3oPnoRKpV/vDELnmk3KwL8zVm3xkC5SIQa5Jo17sKZ6eH9wgpQo0CQCA3KV4AME1V6P7zkC/zD9bD+AIKhAB6a00YAtMQWK2/O0cvaha7PRqQPh9F41oLZ6ogGIHAjUQmADTSbNtYDYEKEWiLx2XVAtU792nate+c2S5/dGKnPDZeZvq1CvthpxsCMxHgwR3t3F44TJGwxBt/XfjbPiwOAXz/ca2CKnH/eUu1/0+M5Qu3mfZ/cdjbVUtHoF2fWX4h4LHxvgUbLVgBMiOSS55Y8Px6OcEEgHqZSRuHIVAlBLZoMHDfDCGgLRbTAmId02IE3kx2y38/vV3+7xM75AkTBKo0G9asH4GopqeMdm4rHEqfflYSe/+h8Ld9qByB9CKLfz1g2v/KwbYrqoKAvzAYAemHUkWrQKkbRjQdqKNGcgOyOgBu1u3dEDAESiJAdoWtWi14U2dOJtJpaY5EpTmeL7rSqwVYKMJyIpGQweSkd/3ryR7h9ejYsHy466Rc2Tpcsl07aAgEgUCUCrUdWyU79o7XXPrUE5KINEnrjn8VRPMN10ZmEcW//Nr/Zsv733C/mbANuLMpLhS45JmU1ur2uyf65Debjs7dTdyApiijgcDx/ve7P+v63SwAdT29NjhDIDgEEAQoGOaYf9dyh26256qAsLOnS1Y1F4OCX030yN+f3CH/9dT2srIxuPbs3RCoFIFo8yqJdmwpXJY++Ygk3/6nwt/2oTwE0meek1wi7wJRifvPNO2/KgTM9788vO2s6iHgtwI8pVaA4UxeaVXqjtFYZ+FwI1kATAAoTHvlH8bGxmRwMO8r6b/66NGj8vbbb0tataVGhkCjINClwsG27k7ZpsJAd3PRuPjKxCr525M7PdegB8d6JZW1vICN8ptYznFGm3sl0rapcMvUsQck+c7Nhb/tw8IIIAA4ijSVUUhJT/Zr/1s088+AVf11ENr7CiLQrQkseqYUUmfTzbJ7vlgAryBY3k0oO/q29jq3gj1fvlsXn9LLd8+6uNOtt94qZ86ckVWrVsn1119fGNOdd94pCABNygxBN9xwgzT7tKKFE+2DIVCnCBA0zAvz60l1DRpN5QVh5xp0d1NCrug4LR9oOyPr4nm3oTqFwoa1zAjEWldLVh/eWap6KqWO3qV1w+LSsvm6Ze5J7d0ulzor6TPPex2PRFs0AVB5AoBf+08hJpeHvfYQsB7XGwL9WhdgeDL/jHlyvF+u6TqlQ5yDuY9rHMBk0oMgM/KWxLp21Bscs8ZjFoBZkJR34Morr5QNGzZMO/n06dNy+PBhTyC48cYbve9eeqmYT3nayfaHIVDnCOCDuaunWzZrEHFnU9H8SurQ24Y2yu8dO1++ObhJXl4gTVudw2TDCxiBaGu/RNuKe3Pq8G2SOnJHwHepv+Y85j8zmh+Yav8jZVTw8mv/WzUxgGn/6+93UcsjwgLQNWWNPqIVqh9SC/ScFCsWBMs2SD0AEwDm/DXM/8XGjRulq2t6FdT9+/dLe3u7dHd3CwWUNm/eLAcOHJi/IfvWEKhzBNAK7urpkR3qHtSnn50D0GQuJk+MrpE/O3Ge/MmJ7fKwbs6ZOsfChrc8CERb10ikdV3hZsn9P5T08UcKf9uH2QikB33uP82Va/9h/k37PxtXO7KyCPS3tBY68OT46sLnmR8iWACmKDPaGPUAzAXIzXgA76Ojo9LWVowm7+zs9NyB/E1PTpmj/MfssyHQCAh0qzaG17rWVjmTTMqgroVkJusNnbLtvO4eGVf3oDPqHjQoa8w9qBF+FlUbY6xtnboDiWQTx7x7JPZ9W1qbOiTed1nV7lmrDefGj0hG6yhABP9GfczQXGOiwJLL+9+uFj4EfSNDIGwIYIk+MRGXMY3JfCPRLc+Od8ll7SOzukldkaygE89KZmTvrO/r8YAJAAHOalQDoDKZog4zm816loCZtxgfH595qPD3yZMnC5/r8cP4lI9dPY7NxlQ+AquUYehpalP/zLSc1RiB8al1cyzVLj8bape7h9fJe9tOyJUtJ+XdTWfLb9jONAT8CETVGtuUlEhq0DuaeP2vJbnx30i2bZf/rIb/HD/zkLia39lIq2SScz+jHFh3D292H6U7FpcJ29sLeNiHcCHQpWmrEQCgR0b75OLY8ZId9GJfshNeIbxTR16TXNPcFoOSDdTYQRMAApwwXIL27dtXaHFoaGiaRYAvCAieKygY5n9gYKBwfT1+aD9UeuHV41htTAsj0NHcInhrj0ymPIsAloGsxmglc3F5cnyD9zq/bUjObxmWi1tHZLMyc0aGQEUItGyRzFhMH+oEAIq0HP6mtF38RxLr2FRRM/V88vixtzxrSSQSl2jrgERjxXS+pcb9lKb4fTGZf1Z1aOXVDRrnY2QIhBWBtiZNSqHPmKQqZV9K9ssbMiAXtozN6m4m062VgCe846uah7QewHmzzqmnAxYDEOBs7ty5U5LKwBAInNDsJwcPHpRdu0zTFCDE1lSdItClKdsIFj6/t0fWqy8xAYWO9mga0R8PbdGg4QvlD4/vlH85u0b2ThZd7dx59m4IzIVArOMcibQUtXkTL/4fnpZvrvMb6Xjm7GuSdT7PGvy7EPMPNg/oGnRkgb8OCXsPKwLEZK72uajtHivuBf4+R5qKgcCZ0Tf9X9XlZ7MALGJa9+zZI48//njhym9961tCVqCLLrpILr30UiEVKD+4/v5+Oe+8+pYgCyDYB0MgAASaNR/z+o52WdeekyHV2JxOJuSsugk52jfZLbx+rsWFz2kalQu0yvBFbSMltTnuGns3BEAg1r5JMrmMMv5DHiBjv/xd6bziW5omdH5td72j51J/Ms5Is1ZVXoDuV+ZpbzJ/Xpdq//vUx9rIEAg7Aqs1JeiJiYRWBs7J02MD8qnOk7K9Oa/td32nIFg+Kk0aIg4gklNyg7f3YBBIpVLCi4xAlVAjuAD96fMvVwKJnWsIyGQ2k48VUIHA5XSeCcuapnG5oOWsXNh2Vt7TOirq8DHzFPvbEPAQyGihn1xKJcgp6rzy28r5Fi1O7nhDvGeTMvbCf1K3h1MKQZvEut8177AnMlH5g5PvEmJ1ICqAE2RpZAjUAgKHx8bluAoB0Ic7j8n/0Ht4VrfTw69qHHDe1bTzyv9OVPysc+rlgFkAqjCTFAFzhcCq0Lw1aQg0FAJYBQZaebVoFWEsA5MyogL2sBYac2z+CWVIeD00uk5640l5t1oGLmwZUWFgRNqjxcD8hgLOBlsSgVjnuZIZ3adCQD64fPSpfyWdv/Z3IvHKFDYlG6+xg6mTT3nMv9ftMir/3j0+UGD+qfZtzH+NTXiDdxdrlRMAnlQrwCe1MNhGfV74KaL7QG4qoD199k2J97zb/3VdfbYYgLqaThuMIVDfCDRpcSIEgW2qebxwda8XN0DVYf9GNphu8eoLfPP0dvkPRy+Qvzq9Ve4c6Ze3tQCZkSEAArHObarx7iyAMfrM/9SQMQGpU78oYBBpXlX4XOrDoVSL3He2WFuhX9P5GhkCtYRAGy5rU7EA1KF5ZLxvVvf9+0KuzuMAzAIwa/rtgCFgCNQCAk3E2ehmzivdmfMsAmexDKirUHbKs3Es2yTPafEXXtCapoTsUFehC7AO6HtHzHl81sKIrY9BIhDr3iEZ1fDlpqrfEhPQcemfTCsgFuT9wtZW5uzrkj37itetaEufBv/Oz9DfPrJWxrN5lqFHtf+rNKOdkSFQawj06e/2TCKv9X9iZEA+3X5C+uI+K7HPEpjRisD16wCkRs9amzzrryFgCBgCMxGIT2V5INNDRpl/YgW8GgP6zt+OTqgVgBcViKGtLaNyfuuQ7Gwek3c1j6u7kAkEDqtGeJ8lBDz/HzVF6B9qitAtdT/89Omi9l+a5tf+PzneI0+pywSkS03WtTWeu1Td/yAaZIDdmnEO9zWSS4yqguiRiX75YtfxwujzBcGICcpI+mx9FwQzAaAw7fbBEDAE6gGBmHIofS0t3iuTa5dRLTQ2qpYBag24gmNunO8kO4WXo3VNY7KteVR2to7LLhUKZvqHuvPsvX4QmCkETLz4e9J2wX/WgNhd9TPIGSMhE1L69NPe0UisQ6JNc2f/SWUjctdI0fVnrbr+dDQZ6zADUvuzhhBY3dKqAsCo1+PHx/rlUx0npyl/SAeaS42oDDAmucRRtQqur6HRld9VW8XlY2VnGgKGQI0hgDDQoxofXqK1iggixjpAEPGICgZpLQzjp2OpDg1y7JAnpmrEtEfTsk3dhbarpQArwY6mCWk1K4Efsrr4PEsIeOX/ktbz/jeJ915UF+ObOQiYf4/B4Yvm3plfT/v752Nr5MBkXkhujUU1Ra9p/6cBZH/UHAIErx8fj3kKoVNqEX5orE8+pwHBBYrpbxwBQCk9vFeaTAAoQGMfDAFDwBCoSQQIInZxAwxgQsvDj6YznoVgTAWCyRkCAT7PL0/0ei834HWacnSrCgO8tqvb0M4ZuaTdefZeWwjMFAISr/2ZtO76dxJf/Wu1NZAyeps6/ZR3ViTapFkOe+a84q3JVrlnuKj9XK/Mvy4hI0Og5hHo04KT46N5Tc/jWtvCLwBE4h2FDHNeHMDaq2p+vKUGYBaAUqjYMUPAEGgIBMgKwYvMQhBFYsbUOoDb0BjCgb7PJHKg83I+0Xy/Wd2GzkUoaBmX7epGtLlpemq5mW3Y3+FEwBMCfHUCEm/8jbTu+NcSH/hgODu8iF5lBl+Q7Mhb3pUR9f2PxuYOc7xNXX/IlgKhNbW0nx4U9l8dILBaf88nxic8pc+RVKfsHu+Vq9oHvZFF1S3O2YazdZwJyASAOvgh2xAMAUMgGAQIJu7RLBG8HDmBgPiBUlYCzsNFgtcjebdSaY5kZIsKBJsRCtRisK1lwuIJHKAhf/fqBIwf0fz4J7yeJt78lrSkJ6Rp/SdC3vPyupc68XDxxHncf+4f7ZMXprJnofVfpxpTI0OgXhDIx4o1y7GpwmBP6u/dCQAqFWuFcP29ZxOSnTgsufS4UB+g3sgEgHqbURuPIWAIBIpAhxb24+UorZWJxzNZGfesBAgFKc9y4L7nHa3p3mS393LHW1QoQCAwocAhEt73WPsGyUab9eF/yOtk8p3vS06rgzZvvDq8nS6jZ2j/02ee987E9Sc6B1NzMh3X2hkbCi2ub2vzLGWFA/bBEKgDBPrbWuSEpgQlbfSryVXyUqJDLmrNuwV5bkCT+arBuAHFey+ugxFPH4IJANPxsL8MAUPAEJgXgbhqh7p5+YSCSYSClL7UbWgsoy/97GoRuMaSJhQ4KGriPdrar1rAqGTHDnj9nTzwI9UEjkjLlq/VRP9LddKv/Y+05GtjlDrv5+r6c0YL6kGkTFzb3lbqNDtmCNQ0AlSZxxXo5FRdgMe1MFhBANBA4Jyc9saXHdV0oCYA1PRcW+cNAUPAEKgKAjxImltiQlViR0mfUIBgMK7Bxv6aBJxnQoFDK5zv0WYqhUZUCNjvdTB15G51DTqlwcH/Szg7PE+vpmn/tervXKk/n9ac/4+OrvVaiqpL3HrL+T8PqvZVrSNA7RgnADw73i+Huk7IOcRwNWnauIn86NJaMLC4s9f6iIv9NwtAEQv7ZAgYAoZAYAi0qFDQokKBP3DSbynwrAUrIBRMal735mixOFpgA67ThqL4yUdikh1Xd6DspObPf1bGX/oDadn+rwVXoVqhadr/5tLa/0Q2Kj8/W8z5j9+/5fyvlRm2fi4GgXZNAtGnipszSV3buag8NtEnNzQd9SpjZ3Xda6lwDZqvz4JgJgAs5hdj1xgChoAhsAgESlkKUup/SjyBsxKQmnRmOtKSloJoRjVV4/oak01an+BcDTTe2pSQWCGBXbGDZ9Sn++azG+VpLXrj6Ibe/fLpTl/ua/eFvc9CAG15tHOb1gU6pPzAqGRH90ni1T+Wlq3f0DShl806P2wHpmv/e1X731Wyiz9Vzf8hzYgC4fqzzlx/SuJkB+sLAVJDIwBAv9CUoNd2ntDCYBkN/NV0oKmzKgSkJKdWwEidVQg3AaC+fsc2GkPAEKgxBJr8xcqm+o6rEEJBQusSIBBMqKVgQrMQ+eMKktmYvJXs8l7+IVOnYBOpSLU+wblap2AgNil/fmqXnNCCN366eXCLDKpg8LVVx/yH7fNcCMRatTowQsBByU0O6mtYEm/8tQYGXyPNm6+b66pQHJ+u/S8Kgf7OPZfokruH8xYNUv2v08BfI0OgERDo1Hgu3DeHVAgY1NiX3eOrVDmi/v9eQTAVAJQyagWImwDQCD8HG6MhYAgYAiuHACnqurR6cV5Pmw/GpDdJFQQQCsY18xDBxsQVpLW6sZ9cnYJnxv1HS3++Z2SjvL9jSLao5cCoHASiElMmwMsQlDjuXTB5+DbPItC05Sv63dZyGlnWc9InHytm/lHXnyi+zTPoSKpZbhraXDiK6w9MkZEh0CgI9GnqZwQA6Cm1AiAA+AuCpc++IfF1H68rOKJ1NRobjCFgCBgCdYxASzymNQqaZH1Hu+zo7paL+3rlwr4eObe7U9aoGbujKaYhq5XRbWfXyJF0PYa4VYZDJWdH29ZLFG1gJM8kp4dfkYlX/lRSxx6spJmqn0v+8snDdxXuM1fmn+8Pb5JTUxYiXH/4fRkZAo2EABaAzqa8U8w7k11CMDwFwRxlyARUZ2QuQHU2oTYcQ8AQaCwEvLiCZg029hUv8+IJKFw2mVbf1mSJqIAiRs+ODwiv9mha4whGZLvWKtjRMia7NK6gVf1gjUojQHBwNNYmmYmj6iI8rD4CY5J8+3uS0UrCLVuuV9mgu/SFy3h08sidhVoGkZY1JfP+f3doo+yZWOX1qlnTnm7uLDI9y9hVu5UhsOII9Le2avX3Ua8fT0yslsvbhzX+X+MAdG3nkme8V6SFzGD1QSYA1Mc82igMAUPAECggQGYLXv0tLV6RsuHJvGm7cEKJD+PZuLwy0eu93NfrNZbg3OZRFQjGZZcKBl56PPelvauPsMYFdJ6rTPYxLRqaj6VIn9xdEALivZesGEq5sXckffRu7/4R+tmaT+3p79CdI/3ysOb8h7AcwfwjUBoZAo2IANmATozHtNBjRqtg98rernbZTiCwCgBQZuQ1ibe8v26gMQGgbqbSBmIIGAKGwGwE1mi1y7kEgNZYzEuBN6qxBFQ0nlmn4GiqQ3g9kX/+SUskLdtUIDi3dVTfx2VbfFz64mYliLYpE63WgOzEEU0VqhaXiYOSeO0vpGnjF6R5/SfUGpDPrDN7dqp3JHn4Tq1enPJuEGldo0XNpjP2BP3+cEjdmKboHGX+u9W9zMgQaGQEVmv8y/hofsN7bKxXtmMR07IAUGZYA4H7TQDIo2H/GwKGgCFgCIQagS4N5jy3q1PeHsmbtl1ne9RlaGtXhxBw7ChBwbJM1hMGRjULEZmH/JTMxeXV5Crv5Y53xydls5d1aKyhhYJoMz7D6hKUOKIZgoY8eFKHfyqZ009IkwYPxtd+TCLR5WGwiUVIn/6F14dIkxb98gqauRkTOayZTvxBv8SPDOjLyBBodASoDHx8fMJLxfy0Fgb7fGeXOGe+zFh9xQGYBaDRf+02fkPAEKh7BChGtkp91s+qlp+kQfh6lyrw1KpuQ636VMAUDpF2dEwFgTEVDMamrARpPeansxpA/DIvdR9y1LBCQazZywSUjZ3IWwMUkGzihCTfuUlSmo2nae3H9fVhB1NV3jNao4BYBCiihYxmuv5Q7Ou7Z4pBv6tUEET7b2QIGAJqKFOFCHUBjqgQMKFukQ9PrJPPx95QN6CEVgQ/WFcQmQBQV9NpgzEEDAFDoDQCEa/eQGXZfngYeulIfa4hpCIdJwVpSt2G9J0aBTNdhxYSCjbFE17xsnOaFo5NKD2acB+N4nIT79SgwZNezQB6mx07IMl93/YEAdyC4qsvr8IgspLY86fFdlsGtB/T8/l/a3CT7E32eOe0qQvYJmP+i3jZJ0NAEehrVSvARMLb157QBAnXqKU0ogIAlDm7R+uBnO99rvX/TACo9Rm0/hsChoAhsIwIkIqUV6/PY2QySwxB5UJBVLKyQQuWbdDiZRu1FgEVjTfFJ2Qgnl7GEVXnVtG4ptKMa80Adb/JJU/lMwXprbIjb0hCX/Hex9Sf+EqJrbpU841PZ9IX26PxF/9ANZUT3uVk/YkRm+Cjb545R36pbg1QUzQiW5Sx4d3IEDAEiggQCI8V9GQi6aXHfSUzIBeKFgZTSg+9YgJAESr7ZAgYAoaAIdDICHipSFsqFwqyEpVDkx3ey48fwcYbVTDYqAIBr3P0tVUFhM4aTEsabdJybrw0VWgmeVoFgXxl0fTgr4SXphFSYeBiifW+R5r6r/DDMO0zrj2pI/doJpI3vOPxvvd6VYgjzaskM35ENf9/XBAyIqr5j7VvmHb9/ze0QYO585mAsOxs1bgQMkUZGQKGwGwE+jSDGgIA9Fhik1zY9Jr3OTfypvdeD/9Fckr1MJB6GMPJkydlYEBNtnVMf/r8y3U8OhuaIWAIzIdA3lKgLkQEG+sL96GZMQXzXU9swTlqIdioQcebmvMWg3ObeEjXzmMsOzkouYRaBKZSC04brwoDTX2XSnzg1yXWc0Hhq/SZX0ni9b8o/O0+wOjHBz4gqUM/dYckorEeVCv20w/PrpU7h88pHNqmzD+Fj4wMAUNgbgT2nR2VIU2hjKXyb7tukqYce01UOn/9O3NfVEPfmPhfQ5NlXTUEDAFDoJYRKFoKiswnQsFEOqsxBSkvtoDPk9lsyWESW7CHVyLvw+5OWqcCwTlTFoPNailYrzEGa6OTEgthrXsKiIm+PEFArQK51IjKL1PZljKjGiPwqPdSTl4i7es0iHedZvR52g112jsxBvMx/2fSMfnjU7vkRErdkaaIXP/G/Ds07N0QmBsB3IAQALBUvpntl3dHDuvJWc+lL9KSd6Wb++rwf2MCQPjnyHpoCBgChkDdIuAJBVrJuMcXaIxVYAIrAXEFmoqUz0lNTzqXnv+Y1irg9ewMlPriSRmIJWSNWgn6EQo06HhtLCnrVDhoi5UWMmY0UbU/nSAAQ5HVtKG5SRUG0ggDU/3KTUpOA4fT+lqQNNtPtHW9vopMyR2jA/Kjwc3TLt3Y3uZlOJl20P4wBAyBkgggKHckYhrflJHnU+vk3c0IABoHoK57Tet+o+Q1tXTQBIBami3rqyFgCBgCDYBAnOxDWr+Al5+SCAKaxzSRTUtCLQUJLwtRdlYWInfNGc13z+v1qUI+7jjvndGUCgUTnnCwRgWFNepexPv62KT0xJYzCDmaz9Pv5erPSRarQFIFAoJ5s2RJmkvsKY4mqi4/0aZ8tvLhTFxuGV5X8PfnrLgG+m5obzfmvwiZfTIEykKAFMpjqQk5lF1dOD8z/LIJAAU07IMhYAgYAoaAIVBlBFo0aJXkQ90yXTAgDWlC4wkS6k6UUG1dUrXouBZxjLoHpWg02ySjk03yTolMpAQhYzEYUMvBgFoMVmlWoq6ovlQw6Nbv+NytAcmt0aCtCBFl5Fdp0LC+piirLkLZ0bfcnyXfHfN/92i/3DeyRk6ni1mFyPO/vr1V2izgtyR2dtAQmA+B/pZWLQyWlCOZ1ZIQrZMiaa8i8HzX1Mp3ZgGolZmyfhoChoAhYAiURIBqxhQ269AHtCch+M7CnSipbkTEFVDDIKnvTjhIzSEdUPH4cKrTe/mamvWxOZKRDhUKOtSa0KWCQWcspZYFFQ7iGU9I6JwSGLoRHvTVE5teWXlWgyUOkEXoYGStbMwdL/GtyNGmrXJovEfuG10r+5KabchHuPys1ZeRIWAILA4BMmYRC3B8ol1e03Sg74kdVeucuurVAZkAUAeTaEMwBAwBQ8AQKI0A7kRx1X57tW6LscfeyRgHnDCAa9GkCgq4FRFvMKl/L5QkbzIXk0kNtB2cKXWU7op3FKGhWS0HzRFe+llfrdFc4TPHsSw0a2wA79FITu4YuVj+57Z75MLYdCHgnvS75Cdj79dMStOjnXtU67+2rVU6VSgyMgQMgaUhsFpTglIY7GCmzxMAaC09+JKm771oaQ2v8NW2O6zwBNjtDQFDwBAwBFYGAUpgtWjRnxYNQi5FCAeTKgxgKUipJSGtAgLv3t8qKPBeSRpT7uEJDZnS9yvVB3fsv01cLefF98uW6CnJaFaSvZl1sj+z3n3tvcP492sVU96NDAFDIBgEWr3Ch81y0B8HMPScCQDBwFtfrRw9elQSCc1RvWmTp3mqr9HZaAwBQ8AQaAwEvAxFKiAsRGkVFDyhYEogSKmggGCQFxxUiNCAZf4mVmEp9Fp6i7wmW2Y10a2a/gHV+BvjPwsaO2AIBIJAf2uLpMejMphrk97IhKSOPSjDJ56Ttm1fl66BywO5x3I3YhaAgBG/8847BQGgaSp7xQ033CDNpo0JGGVrzhAwBAyB8CAQVyEhrl44C3nb41KECOC99D/N+aP/NNmP/pfVwOXicb7Tb/UA+YgOjozOOdhWLXawoyefAWjOk+wLQ8AQWBIC6+Jjcl3z49IRSRXaac8Oibz5t3J07Jis33pt4XitfJjuOFgrvQ5pP0+fPi2HDx+W66+/Xm688Uavly+99FJIe2vdMgQMAUPAEFhOBCIaj0BQIUHLpOZswv1IX23qYtChSqNOUp9qPYRufaHNJwXhgL7WzxPIu17TexoZAoZAdRF4T+Leacy//27xo7f5/6yZzyYABDhV+/fvl3bdjLu7u4WNfvPmzXLgwIEA72BNGQKGgCFgCDQaAggAG0oIAVu7OjwhodHwsPEaAsuNwCWR/XPesk0m5eCx5+b8PqxfmAtQgDMzOjoqbW1FI3BnZ6fnDuS/xaSWlSY+YC46efLkXF/VxfFu1XoZGQKGgCFgCFSGQHdnu+zQ14hWR0Zz12UZfioD0M42BKqIwKnhQWmN1Rb/ZgJAgD+IaDQqGQ3+cpRVx04sATOpRVNKlSKOz/VdqfNr7dj4+LjcuGOrdHR4CflqrfvWX0XgzJkznoWLtIpGtYdAKpWSsbExWbWqWGiq9kbR2D0eGRnxkkv4lU2NjUjtjR5F38DAQO11vIF7/OQTW+SieawA52y8VAY6+2oKIXMBCnC6urq6ZGJCy7dP0dDQ0DSLAIcJCHaMfql3d629GwKGgCFgCBgChoAhYAisPAKJdVfP2YndsctrjvlnMCYAzDmllX+xc+dOSSaTXiAwbj4HDx6UXbt2Vd6QXWEIGAKGgCFgCBgChoAhEAoEPrrtcnmw67fkRK7owTCea5I75APy4Uv/x1D0sdJOmB2/UsTmOZ8A4EsvvVRIBYrrT39/v5x33nnzXGFfGQKGgCFgCBgChoAhYAiEHYFrL/yE7Dnza3Lf8bdEMmPS2/cu+eqGtWHv9pz9MwFgTmgW98Vll10ml1xyieBri0BgZAgYAoaAIWAIGAKGgCFQ+wic37dKtrVfICR0IeNjLZMJAFWYPYqAuUJgVWjemjQEDAFDwBAwBAwBQ8AQMAQWjYDFACwaOrvQEGg8BGbntGo8DGzEhoAhYAgsBYF4LLaUy+1aQyAQBCJampzq40aGgCFgCBgChoAhYAgYAoaAIdAACJgFoAEm2YZoCBgChoAhYAgYAoaAIWAIOARMAHBI2LshYAgYAoaAIWAIGAKGgCHQAAiYANAAk2xDNAQMAUPAEDAEDAFDwBAwBBwCJgA4JOzdEDAEDAFDwBAwBAwBQ8AQaAAETABogEm2IRoChoAhYAjUDwLkIB8fH6+fAdlIDAFDYNkRsDoAyw55497w8OHD8uKLL0pzc7O85z3vkdWrVzcuGDU68qeeekreeOMNb/4uvvjiGh1F43Z7ZGREnn76aa+IDVXKzz333MYFo0ZHvmfPHnnmmWfkgx/8oGzfvr1GR9G43U6n0978nT59WjZu3OjtpZGIJViupV/E2bNnhWdhV1eXXHHFFRKN1qYuvTZ7XUu/FOurh8Dbb78tDzzwgGzatMn7+yc/+YnHSBo8tYMAc7h//355//vfL7/61a/kZz/7mVgW4dqZv7GxMfnxj38sPT09nvD94IMPysMPP1w7A7Ceelp/GI+vfe1rHvOfzWY9Yc6gqR0EWINYb3gWvvzyy3LLLbcI82hUGwgkEgmBf+nv75cTJ07I9773PUEgqEWK/b5SLXbc+hxuBE6dOiXt7e2FTt57773yoQ99SHbu3Cnbtm3zmJBHHnlELrzwQolZUZQCTmH4cObMGWlra5vWFSw3e/fulQ984AOyefNmefe73y0vvPCCIBS8613vEtNgTYMrFH8wjy0tLYW5efbZZ6W3t1d+/dd/3dM87tixQx599FHvQYZQYBR+BGA0XnvtNenr6/O0yOyhCOOs14GBgfAPoMF6ODo66jH38Xje2QIr+IEDB+Taa6+VdevWyUUXXeQJAcPDw7Jly5YGQ6c2h/vEE0/IOeecI+973/u8uUT7/9xzz3kCOfttLZFZAGpptmqkr8eOHfMkZEydjtAU47fqCNN1Z2ensCEahQuBf/mXf5nVIdy2mFfnd8zf119/vfCAu/POO2edbwdWHgHmEWbDEevRvwa7u7tl165dsm/fPneKvYccAdwmzz//fPnlL3/pWXG+8Y1vyEc+8hHPtTLkXW/I7t1zzz2eq4gbPGswlUq5Pz3XEZQq/nVa+NI+hBKBrVu3eorLI0eOePvpl770JU/4xrLD87CWyGIAamm2Qt5XmMPW1lZPs3HjjTdKMpmU48ePe9pGGA20jRs2bChYBtgIEQKMwoVAKYsM/uIQblyf+tSnPPO1EwKOHj0argFYbzwEWIPMETEbrD8Yx5/+9KfCfK1fv947hzWIH6tReBF48803PSaSuSJmA99/rDiOEODYV43CgwCMIM+2a665RtD+M4covfD5Zx4R4NAgQwjlMy2u4RmJ9cTNEeuMfRQLOITl7YILLvA+YwFnTcL/1BKZC1AtzVbI+4q245VXXvFcQpqamjytxv333+9JxzCQMB5PPvmkDA0NeSYzNshLL7005KNqvO7x8MIcjX8qAaO4c61Zs8YT7HDreuihh7w5xW0EYWHVqlWNB1INjBjGg7m86667PGEcVy3M1biNIJi/9dZb3vsnPvEJc8ML6XxidXtY4zQ+85nPCC5brEmCgHGdRAOJL3JHR4d89KMfLbh6hXQoDdOtwcFB+dGPfuS51uGqBeECixCAEI7wjTIM90l8yGEkf+M3fsOUYSH9heDz/4Mf/MCzgD///PPecxClycGDB709FLc83C0//OEP11wwsAkAIf3R1WK3MI2xmcFYwGxgrvYzjJdddpnHOE5MTHiaLL8WqxbHW699hvmHSWSDI2YD8zSCANpHfB+ZU5gSi98I/y8An1Tmbffu3Z4Q8Gu/9mvCOuWhhgAH44GwbrTyCOAeAoPh1+YTt4GvOJpHFCYoUoi9QbhjLRKLw8ticFZ+/lwP0OajCWaPJFAUBQnzRhwVQgDPQQQBAn8RyGEcnaDg2rD3cCDAmmS98UxEUcK6QwHGmmTdocwkfoPvsLbWGpkAUGszFuL+og2G8ScgxgWHEpjmFwLIfMDLUoCGZyLRWMHk87ByhOXmhhtuKGx0bHJshDD9nMcDrdbMnW5s9f6OiwECG5pimEl8/f1CAMwkrgg8xGo1fV09ziHMBBZSmEM3L1gAeLHeII6jQGHNIpyb8BbOX4ILyH7ssccKlgC/EMA+iiWAdVhrgaPhRLw6vbr77rs9hSaZ75intWvXeu8IAcwd88g6rEXmH8QsCLg6v5uGbJW8xqQ0g+ngIYW/MVoONj78VnER4mFmFC4EDh065GX4cb1yKekymYw75M0f7iRoRCCEOqNwIoBbCH7FzNFNN93kCeNk/yFYDaGANJJG4UMALfBv/dZveW5ZCHAQtTZwwcMS4AhXSoQ3o/AiQIrd119/3RO8cf9BwYKwdt1113nWt5///Ofh7bz1rIAAmn32UWLfXMpr/P6vvPJKT8lSOLFGP5gFoEYnLozdRlpGIsa1B6bf7w6ERgStv2kdwzdzaDXQChOYBtOPyZoHFuZql+IThvKll17yzNfhG4H1yCFAnQb8ij/96U97jAaWm1dffdVL/4nG0VkC0GYR12EUPgRYg7jgkUSBlMnMG6kHcSHhhf8xmWOMwonAyZMnvRStCHPMn98dCCGPZyPuXJZ6N5zzh6ILgRsrm3P1ce5bzB3uduydfK51MgGg1mcwRP1n0WAOg4HEHYgFgjsQ0fMwkmghnWk7RN22rkwhQDCTC/C95JJLPJcfNj6YSBgQqjeXo3nEEnT77bfLL37xC0+QwFe5Vk2ktfbjQEuFix3aRrRWpGplLTpXBOaPF/7J733ve+ccHsIf6V0RCpl/5tDW7pxwBfoFPuROUEMIwNeYtYcggIKF3PELEdeheSbYlCxQ7L24ghlVHwEsNAjhbp5QfuE7ThwO7pMIAcb8V38eFnMHmP9bb73VU1aiBGP/g3dhLmcKAYtpP2zXmAAQthmp4f4gMfOwwYcVKRnGg79JmwXTYQxEOCeXjQ7XHubJxWvAbOC2haYY7T/MIsLdQoT/ORkwsAIRcEq2GYQHNlETAhZCr7zvSbcLQ+ECP/kb6wzYs86YQ9wPWG8wkrjdwXAwv2gjCdInCBjGshRxPgJCqcwzpc63Y0tHAIELoZl5Yw5hEv1CAEIdWuNy425wMYHZJMgblz4EAdq0jF1Ln6uFWiArE8ow8HeMPgIZgrQTABZqw75fGQSYN1yYr7jiCo9/wZqD0I1CBYUmzzP20XrhZUwAWJnfWV3clYqUPGjIXDEyMiIEyhAoCjPCw4qUoDAn+NHVy4Kpi4nzDQItMUIaGl5cC3hAOSEAMye5q2E+5soV71wSXDAimYNIiYaLAsID17NpvvPOO2UJEL6u2cc5ECCWBl9+HkhjY2Ne3A1CGikiHc6sO9YiFgGOf/KTn/TWJE0yV2i0ENBLEQ9BmNBSmWfMbagUYks7ho8/PuNXX321J2yjKYZZ97tsMb+s0VLEnCPQsedCMPwI3Z///Oc9oRuGhrX4+OOPW9rlUgAu8RhzQ7wbAdy427FfImghRPNcxKULC9xVV13lMY9LvJ1dXgUE2EdZNzy/UKywf8LXEDeFsgUBHUsOQnk98TIWBFyFH1MjNImpjEC1r371q96LBQIj+bWvfc17cPGwYeNDi2gUTgTIOoL2/ytf+Yo3Z66XMJZo/3Eh4OE2HyEA4DrkCA0lmi4XSMxx3BcQCoyCQYBCbDB8MB0w67hrfeELXxBXfO++++7zHlSkG2R+EcBhAB0RizOfNYY5xI3BEQ9AhAEL4HeIBPvOHGIxg+kHd+YTwZxMai54G2UKjH4pQhFDTQBHjkHxrzkCF9mPXRC/O9fel44AjD7C2e/8zu94Pv933HGHpzX++Mc/7q0Z5hflGAKdUfgQgPmnajrafrwXWGu4LsP8oyxBgcJarEcyC0A9zuoyjAlJmUw/PFgwL6PxcGYzAp94iG3VfONOM7wMXbJbVIgADB2MA5lG/ITWihRnCAKlXA4Q/tgs8SnmWhgOtJZoR7AU4MZA3AeFi/gOwRCBoBwXIn8/7HNpBFx8DcIXc0gecRh8jrP20P6yLtH8ModOM1y6tfxR5gjGhTXLdcRvMGd8hp555hkvF7ZZAPJ4Bfk/GmMsbzDyEMwi7pQwIawphAD2URgT57bF3Ozdu9fzVWadYbHBikBAP8KdU9Dwe+C3wXplTc4X9xHkmBqpLTT/aPcd5lhyiONg3nAf4YVwZ7SyCKCowtrmj4VhXZA1DeEYhRjKKvZRhO3Dhw97aw4lyuc+9znPErCyIwj+7iYABI9pQ7SIVhALAAGfmMzwNYV++MMfFmIAGgKIGh4kDymCnGAa3KYI849bF4z9XMIbmWaoE+D3cYVBxAoEw4nbDy4q/D4QBgiIwxI0V3s1DOGKdd0JAWDOAwrcWYcwf2TfgpHHlasc4iFI8PcXv/hFz2eZeUJbiSCBkOHcvCzzTDlolj4HZoI5c5YX1hCaY7BH2AZzhC6YeRhHtMZYdZwPOQL2+973Pu877gAzQ9Y15xrE3MPgw4xiraEd9mZcT1iDrEcsQW6dl+6lHV0MAqw/3BxxGfnsZz/rMfsIa8y5af0Xg2h1rmGecItkr3SEFRWLKnsb6wTXH4Rk9k8XU/Wxj32ssG7ddfXybgJAvczkMoyDhw2aQh5QMI88vHiQEezJww2zNRpgtE5G4UQARgDGjjmEuYDxgBEhSA23EuaQDdAVsik1ClxIsAxwnQtqY1OFUYQhxb8crRe/AzZSciY7xqdUe3asfAR4KIEzWn3WoB93mD6Yfxg/MIcpnEm4gMysNoummd8DjKMj1nGlmWfctfY+GwEwxi0SjJkf3LQIjIdJRHhGaGZ/pUYDawiLKu4IjrjOXzyR9Ud1UqyvTghgvdG2EwJon98H1gGsChYA7NBc+juWU5hF1iH4MrdYx1iDuIswpy4Oaul3sxaCQIBnHPPmFwBQUqHsYi/l+cc5WOSwmuHWhXLMudQF0YewtWECQNhmJKT94SHz/e9/32P6YSDY7GAQWDBsdmg8YAY/+tGPlmQ8QjqshuoWjAGmTZhy8oyz4eEnzrzBdLA5omX0b5BzAUSmC87HP7KUEEAbbKqcV4oRnatdOz43Alhnbr75Zs81hwcXwgAZKcAaoYB1COOORgsLXSnCtcS5CLkHG9pLXImcewnXYSpHowxTWcoNrFTbdmxuBFhzjjnH1QAhGcYDJh+smT8CtVlLzCExAX5CwTKTmBfcMNl7+S3AsMwUAlh/tOfmemYb9nflCLCPYq1BGYYSjHWDMEYAMBZV1hP+/36BrfK72BVBI4ASCqsozyXWE88lLGnspcStsd/Bv+DejGWAZCbMbam1F3TfVqo9EwBWCvkauy/+qUjF1157rafNxWUAIQBN76WXXuppjXn4GLMXzomFQUBjT154tFaYQwk4JAAKZgQmEr/xch5aMKKk+uQafMRdjnn8XB0zyjloUoyCQ+Cuu+7yBDa0+8wfwhxaSPzEwR3MP/KRj8zJ/NMTHoDE5zD3MDDMH9p/hAesA7ijQPiTozFGA2YUDAKOOafyNvFSMCIQ8+fcf9hTeS1EZHei6joMPooY5m+mJQBrEPuzUbAI8OyjyBfYYtlBeYLVlH2UdwQ7hC6jlUeAdUI1dPYynm3sdSS3QGhmz2Tt8R2Wcfz8mUsEAvgchDtoPmv4yo9waT0wAWBp+NX91Wit8DWF4UAaZhHxgOLh5YpGOT/VugejRgcIk48G0GnqCfZEQ8V84lvszJ7lDg83BTZNtJT4uJZyB0IbaVrHchGd/zzmB809QYYwGPiqItChrcIFxAkBPMzmIx6GCOi8cz1WIJh+tNPO5x/rHn6yCIlkgjIKFgGEAOYSJgO3HucaB7OONQAlSznEfoz7JYwKgncpdyDuZXE35aBZ3jnse7j6sK8hRGNlw80KTTGMIwylKcDKw3K5zmI+mCeUXzz/4FXY75y7KnPGs4xz4HPgd6677jovVgalJ98jZNcrmQBQrzMb0LhIj8WCQbuExpBMLjy0kIoRAtj8WCRG4UMAJu/HP/6x93BCK8VGhzCAtoO4DcdYwohUIsTBeHAt/q4QvwWXAQONMm0Z8x/c7wFtPPh+6EMf8hqlDgBuPjDpFPViPcL8z8d8oPHCUoMFgOuZf5hGBECEANaw3+ef34tRMAjgKsccMj8wIc4SgCsJQbkIcbyjQS6XcFnA1xxGFGJeaRv3LtYeAp0x/+WiufB5PPvYN3n+IXw5awvuIQgBrC+UY6b5XxjL5T6D5xPrA4WlU4Kx3/mFAM5hPyR1LoI4lh0UK+yJ9UwmANTz7C5hbPz40Qbin0pmAxYMi4OHll8IMOZ/CSBX+VK0HjDjzJ8j0gfip4oWGLeDyy+/vGJXHRhPNJhOo0LbaKVxIcLtx5h/h/bS3t0ckUUJ/3DH4DN/mLIJIMUHHGHAfTfXHbHa8cCDieH3wAORl18IwGoDA+NcU+Zqy46XjwBzRGA9TAXzhsAGw0jQL9pGrC0EiyKQVUKsQfZn4nicqx1uXcxdJZaESu7ZqOeybki5ilCMkIZCDMHZLwTgDmTMfzh/IfAwCMZY14jTmEsIYO3wTGSdQuyr9f4sMwEgnL/ZUPQKcyfEpgeDgebKCQF+83UoOmudmIUAmxkPLb92H1Mnft1shDDsTos/62LfAR50/kqXXMPDjoeg8yXnd0G6tHoOmPJBUrWPCGisNeeugxmaAF2YDhh2CEsOWmMw5yFVrqaXgG3mH400TCj38QsB/nSwVRtggzV85513enOEoIWQjLWFd9zvEAJYmwu5bjnIEOgRJnAXwi0BppM9mvYQEplf0jFbqk+HWDDvuGyxXzJfuFvBKLIenfXMxc0EczdrJWgEiFfDeoqgXcpdlaBtkinw7OJ5ybpCsVnvzD84mwAQ9K+tTtpjMbAI2Pj8/o0IARCuHo2wQGp5OjFVk3GEB5cjGEeYB/z3MXuWQzAdaJCvueYaz4UIX1gYTzTGMKG4G+CPbsx/OWjOf84PfvADj4HDPx9mnSxNMCAEeTqhG+0/pmkeVOUw//wO0ICR5x/G0/ksOyEALTKB/OUEgM/fe/vWIeDiK1gbaOhZM3z+iAZpk+MfSwCa+nILRMHkk52Eqt2u6BdzhnIGay1rDysRlgGjYBFAY8yeCcPPnonQ5oQAhOhy5zDYXllr5SCAGywafZRTEPM3UwhAAHe8DPPZSM8xEwDK+RU1yDkw+misWDD4mKK14iHl95VjgfAgcwumQaCpmWHiUoC/KnMHowDjB4PAZzTJMJIw/zCX5RJuX6UqXcJsIBDStv0eykVz/vPQ7pOlAoaD3O2Q32fcCQHzt1L8FkYTLTFtYbVxgj1CAOua1HdowBAMjIJBAC0/8RZUaIZ5hIgBoBAX+IM5AlwlAhdaf7SUXEMMB1mE0DwT/8Fa51WOMBjMCOu7FeKbWIMoS9hLEbhZg1jL/IkvEAKM+Q/3b4H15ixmbr0hBBCzQVxVo1enNwEg3L/fZesdzCEmZiq24uKBORl/YYLMsATALFhqx2WbjkXfiIcUzAdzBbMI04BQgM8+GkSYEB5olRAaZJhEfI6t0mUlyFV+LnOEwIZlhQcWAgHkhAAeZmj+yyXWNJrireqygICP9hkhHnM48QMIBQh3HDNaOgJY3EjPiZbRH9QLw4EvMhZV5rXS4EKYFZhR2uFarDescQqKsc6NgkOASugIbrhT4ZKHIACjz3OR/ZU1xRpsJE1xcOhWvyXibrC48ZxDSHPWG9wqUVahBENY/vSnP139zoT8DiYAhHyClqvNAJ1tAAAqkklEQVR7MAYsDh4maHZh+mEc0RRznL8tteNyzUbl90FrxVwR6ITLjxMC0OzysKLAF8JcOYFqFEfhoceGyYOP+UeLjBsQD0GrdFn5/JR7BRhjdXOMhhMCYCxZg8xtJZpeLHlY9BDeCDpF+8UDkHlE+8WaNua/3NkpfR64Ml+sG+cegrDl3EW4CgGM7FmsP4SvhTAn7gahnRgb3C35XZCZhDXJOmZe0VLz2bTQpedlMUdh+LGafv7zn/esK2DPnsr+hyCNYMA6RMAzCh8CCNnUS4H5x3IN8fxDCGA9sQ9mMhnPZbWSfTR8Iw2mRyYABINjzbaCbykLAg0TVgA2NwiXDjSE+B+jfUTbYW4e4ZhmrDM8kJwPNwVLCHRC2w8jMlMIwD2gXILB+OEPf+j5oXMfNNJoMmkD7SXMpFW6LBfNxZ8Ho+GEAOYXph3mvxwBjgcdAhwPQ1xF8EFHa0wNAT5j2cPvlYei0dIQQAtPqmRXV4E1iYskc+d3F2FNInSxjhZi/ukROcmxBDGHrDmENdYh2k1+C7h2MafmurW0+XNXM3+sG/ZQBC0ENrTHEMIXc0CAKM9AYxwdauF6Z62wt/n3Oqw1PNNYO+x/JL5AILA5zM+dCQDh+g0ve29uu+02b0Gg6SBrDBoQPkM8aHhgsQEahQcB3EJwBXEpBbHY4HdM4KFfCIBZwJUEX2H3MFtoFAiC72iFWQJ+0URzH7SZbJ5uE+VBWA4jutC97HvxBG+sbwjaaIz9zCFCANYXNMwU5XI+rPPhBhNDlh/8z9E4s4bx/4cB5QHpgouZT6OlIwCuKFCwlmJlcyk5nQDnFwIquRt7MQWJYFjI8IM201nzmDu00ValuRJE5z+XfY41iJDGHsg6QvHF/CKAE7dha2Z+DJf7W9Yc+xkMPcSc4SaHVQwBHAUHz0MnBMDXVBL7ttzjWYn7mQCwEqiH4J64FKBlIoiMjQ2JGM0V5k/8/Xk5c3UIumtd8CGANQZLDRp68lOjdcSVwwkBMI2cg7nzN3/zN8ti/hEU0Pwz77gU4ApGG7TtssZwTz+D6uuSfVwEAjAat956q8fYE2fhNL1+7RRrEEak3OwuZCrBt5XzYWpgSmFGIZhImEaEA6PgEEDQYs3BkDiXLVp3QoBzpVvojqxffg/swaw9BG3WG5YfhDfmj3XJnm0UHAJkOcP6jYID5QpMI0I3bpRYyNEqEztl6VWDwzyIlmDyWXesB9YLVs2ZGdM4h/lEiHPCeRD3rpc2TACol5mscBz4MB46dMjb+GDyWEQwG5jPEASQqtkQjcKJAC5ACHG4CbyjGnsnBKCxeljNnjDtMH/lagnxJ4bBR+OIEOAvckPbLleyuYEt7vcAs89DyM9EoPlHK4WbDg8wvmfd8XmxhAbM/QZYy8wdFgF8ySk2xQPTKFgEYCwQwGE2WHsI0DCSrCOsaOVYbugRAhuxPDCbaJydhc8JAfyGECrM/zzY+SNuA+ENQQ1hG7x5Zz9kvWBBc8H4wd7ZWlsKAuxz7Kc8uwiOZ74QlhHe/MIy69KY/9JImwBQGpe6PcoDBr9VXELY5ND8+hcLmx/aQ3vIhPcngEYK5uCrX/2qxzDCODhmAYbfCW/lFKjhofeTn/zEC2B0GYLwf0WT7BcC+K0Y87/43wRa4vvvv99j4GA4IIKpWW8IcVhrvvSlL3kmalyuymUaaQf/ZVz3EBwwe+N2gtaLGgK0TdpIBAFz2wKt6hHMOfgjBGCdI4YKpqQcQgvN7wEhDQUM7j7O8sbc8TvBHdP25XLQLO8cGEWsbTzvwJbMMVhh3L7Jd6wZ2/fKw3OlzuJ5hbDNvjlTCEChtRSFykqNabnuawLAciEdgvtQVfT222/3gjkxbbLp8aCZKTGHoKvWhXkQgFlEy8jGx+bGpucXAvBzLNfXEcaCF1YEYj1cFhPaRghAUMQ33WhpCMDQw7zBHMIogjPMIsG6rL8vf/nLHjPiAq/RZJVDPPR+9rOfecwi7ePDjDUP5pEXvwssebiOGAWDAMI26TdZM6wNf3wNc8scMN/U2yiX+D0w97SFNcGta+YQ6w1tGgWDAEw+7o5gi+afvwmy5nnInucXAoK5o7VSTQTcWpkpBGAdsGfX/MibADA/PnX1LUW+rr/+ek8ziLsBmn8kZDY/mBDS2DntR10NvM4GMzY25vmmOh9hNkCXMQQGpFxNL/ONlotNEjOpP2DRWYjQRpoGLJgfEAw/7jgwesyTwxZGkoBtzNjEAnzuc58rW4C74447vJSFCGzMH8wLMT38Nmj/yiuvNPN3MNPntQIzTuAhFX0J/kWggznHHcERn8tNzcm6xQrHmoUBRSB0DKhjbHBD8bfv7mPvi0MA1zv2Nypjs0aIucCChtDNHBBMilIF/I1qAwG3VvxCQLlrsDZGWJ1emgBQHVxD1Sq+4j/96U89pgOfVBg6XDrQHrqKv/xtzH+opm1aZ3goudSO+HbjBoRFBx9y3LoQ5niglbPpEVD44x//2GM4SXmHqw9tzhQC0Cgb8z9tGhb9B253pGqFsWDOCDBECMC9A+YdNx4YPUrWlxPkCSOKBpN2L7/88gID6TSY+LzCVJZrCVr0wOr4QoQxLKX+fZFAbfZKmH7WH/nGF5OKkzVHwC/WPLTQCIbszbTt5pD7wtgY8x/cjwxXK557BMqzNlgjrDswR2jGHYh3Y/6DwzzIllBaIYCTGYv1gfXakRMCLF7NIbLwuwkAC2NU82fAyJHlAC2jP4sEWg8CgRfzAKt5UGpoADD//tSOaLC+8pWveIGCMCQEfhLw62dU5hsejAcaTF74isOMwoC69GkwljCqRsEhgH8xgYS4haB19LsDwYAwd8RvlCNw8YDDmocGGgEeQQIXEgQ458ZAW/6A4+BG0jgtoYmHMXSxMIwcxoNMI/jrQ1SLZe2QtrOSQMMHH3zQEx4oOAXjj1UIxpR1bFpoD9qq/Mc6oZ4J5PZLhABc5dgLsdIZhROBRCLhKa7I9oMChD0Vq41fQEYI4Pty9tFwjnJ5e2UCwPLivWJ3Q7Pk9/XH9YMFBDOCz6lReBGACZmZ2hEGD8GNgN9Ksv3A1CA0fPSjH/UGDNPIbwDrAq4jMJPG/Af/WyAIGEuN8+XG7crlG8cigOaxHHLFbmiHdJ64MuCG4hcCmL9KgojLuW8jnuMEKtaGEwLQ+DuBmVoZCGG4Xjnf/XJxwmJHwC/zjiYaxQxCBEwoc2la6HKRLH0eApW/WKI7y82p38qCOyyWHtzljHF0SIXvHVcteBWed1jnmCss2DOFgPD1PLw9ioa3a9azoBH4+Mc/7mmpbrnlFrnpppu8hw/uA0bhRgCXECw1VBz1p3Z0KR/9ZtC5RuIqlsJssHGibXSEBhpCODCqDgLE2lBVmQeXIzRapBiE4SuXYGyo/eCC2xACP/ShD3mp8FzbMDlGwSCAkAaeWMVQmPD5s5/9rJfh5zvf+Y5897vf9dZNufsobmD4/WMNIubDEQoZjrFOjZaOAAIVOOP6iqXbTwjHX/jCF7w5/cEPfiBYY5xLkP88+xwuBHCVROGFNRyBnKxp7IO4s7JOjSpHwCwAlWMW+ivw+Yc5hKGb6QbgLAG4Dnzyk58sy9849AOu8w5ill5Kakd+B5i4efCh7YeJQQNGuxzjOxgPtI5G1UEAzDFPgzvma9YnKXjx+a/E35iHIC4oWHGcOx8CBHOJa1AlbijVGWn9tAqjQerWq6++2rOKOUsAQheCOC4kVOSFKVlICCfQl3l3Baew4KGhRghEAEcLjUCAQGhxG0v/DTl/cCcwu1SqrmXWI65WfM93ZvV0yITrnYQXCN9YSXHfYm1ggcNtDmscyhCeW+W6T4ZrdCvfGxMAVn4OAu0BgWmkqEPrAWOHphdGwc9kIARYZclAYa9qY2gGl5LakYrPaIdxG4Hhh2HE7xWNJvEE5CtHq1lO8GlVB1rnjcPoYcKG8UcQww3Lvy7nGj5MCnEgrFlStbKe/e58zBtzasz/XAgu7jguOcwTeDuG0QkBYI37jt//eL67wNzDuKCxZP8lBgQGlCDgZ555RnARc3U45mvHvisfgVLFEv2CmptTvztQ+a3bmcuBAAIyyi8UVKwXCEsqqXgJCGYvxRXSXLcWNxsR1UzkFnepXRVGBL797W97AaI8nAhOo8gTn2HwZhK+wzzckK6NwoEAvqgEGqJlnOkagiYfTSGZfsplPBgVvwPMpGhPrrvuugW1leFAojZ7gZ8/mUbQ9KKV/+AHP1gINlzMiMh4AeOPhhKrAdp/TN8IhWineRh+/etfN+FtMeAucA0CMlYA8HaEIEaqwc985jMVzyvzhSBOAT9+G0bVQ4AsaWiOSXvNvonrFXEauP7MZBYRprGoYRE3Ch8CMPo8v1BgXXXVVd7zjLWJUADzb2tp8XNmFoDFY7fiV952220eQ0jgGMRGh0YJf1Q0HWgXcRkg4AyTtV/7wfl8hybYKBwIIJCRXQTmDu0VhAbSEQ8u5qscFwH8X2FU+E0gMMBAoknGIsTnmb8Fdw97XxoCP//5zz3BjewwWOHQGIM/c7oQkaWLOfZbYmAab7jhBs9NBKEQ1z3SRuJ2gibZit0shOriv2fe0M7jhoDGnzUD4wHzj8vBQsT8s+bQUuKuAAMz03KzUBv2/eIQWKhYon//wxJQbuG9xfXGrqoEAZ5ZFGrDYsrcoOxifrCgwfSz72ENoH6Rf6+s5B52bh4BCwKu4V/CZZdd5vm/uQAYGEO0HGipHLGAIP+G576z95VDAG3uzOA0mH809MwrWg03d5X2kt/DzTff7GmHcQcjeJj5p21MqgTGmeGvUlRnnw8z6A/kZD5h9vDjZv7IVkHaT0zY5RDWHzSVbj273weZZhxhUeB7HpKQMS4OmeDfWX9YTvEz/t73vicE/SKA40ZXDpFsAZdM3OwINsV64xIxwOAgWBhVBwGYx3e0wJ7b52AUWStY6LDOGYUTAdYEextMPs8prJ8Qig7ibXhuYtkxCgYBEwCCwXFFWkE7zAOJvO5o+aFPfepTntbp3nvv9fxKyRfutFcr0km76SwEeChhcvZnqIDZ4zjZDfzZftAKV8IosHnS9gc+8AHP3H3jjTd6Dz1+D2QaQQggmMrPVM7qoB0oCwGYCtzrHDnXAoQAR2T/AWvHsLvjpd4JCCZGwAkBtIcb2F133VVgZGgHYa4cK1Cpe9ix0giw/nA1mEnssd/4xjcK66kcNxHWMT7KCAq4oLAGmVcstswfQgDaS1zzjIJDgCBrl+PfBWYjaLEeSYyBIEfdBXN5DQ7zIFviOcezDzdXvBgI7uUZyd8QwgD8DZZQo2AQMBegYHBcsVZgBjCHEciEdoOMBpiaSRvJQ4jNDr85swCs2BTNujFzwTwRpM0c8RlmD/9gtMpsfhyDWYBpYMMr19RJwC8BhR/5yEc8FzDcwNCmkEOZhyLtWKGUWVNS9gG076y1reo+5zJTYG3BxQfBiu+xwIE5pmseXvv27fNqLJRzE9rATQvLAkwiMTq4/ODOhfsP84g7HxpOo2AQgGm8/fbbverauI4wl7jsOGJtwsxjXS2HXMAvhfWctYDfA3OIZYhjuG0SCGwUDAK4T4I7mbDYV9njYCBZeyhE0BxjkXPFv4K5q7USFALsk8QroixBWGPfQ2jmWYkFlflDQMcCWk7ihKD6Ve/tmABQozOMLxyBTmSV4KHChueEAAQAzJ1oH90iqtFh1m232cRgKHARgGGH4WcO2ej4mw0R/3EeYi77QTlgwJjCQOJO5Hz9YfphPvhusW5F5dy7Uc6BwfcLblhWeEixFi+66CLPzxt/VVx6WKNkd5mZjrcUVswbOclxG0IjjTCI8AfjgjCBdYhibQgGRsEggNbxnnvu8eIsELxZHzCTzrq6mLuQqQmtM/7/MDJOeMeah+XGNNCLQbV4DXskAppTahFXgeD2ta99zROMWXO82FMRllF8sIbKidso3sU+LScCaPrR7mO5Zt8kho11wjp0vv7lZk1bzn7X+r1MAKjBGYRRwKUDjT9MApshC8UJAa5qZQ0OrWG6DJOBjypFnNBSwVAisMHwO80gDEmlzB6CBYw/DD+/E4RBNGI8JKl06R6aDQN0wAN1+OKHCr4wGTD+MI4IATB/MB3MAVp64gHKCQCmm6xpzncCPCZv1je/AR6GuPJZ0H6wE0oWJXzz0dZDuFyxf2IVWIqrARp/F/DL/OF3zprEGltJBq9gR1v7reFeRVyTW3vsZ+DMWsOygsWUrE1Y4nCLRRGGgsz2vXDPPUoVnn0oxYhTg7dhv0MRwvPQ8vxXZ/5MAKgOrlVrlQ0Qc/WXv/xl7wGFtOw0In4hgPNM01S1aVhSw8wNqSLJ7uIy9Dh3IBhHmEgsN37/8kpu6JhUGA42VtqxSpeVIDj/uVjfcDUgXStuWzOFAAQCGEmYdRcXMH+L+W8RKriO6yGYF9Y3vw2EQ+bVKBgEYCDBG4xxEfFr6rHosKfCkCyFnBCAJQ/3BeIHyhUGl3Lfer4WRp715vZLPoMp+yhWT2qaILgRX4EQgEud352rnrGp5bGxPnhW4eaIQgxtP8I5lgHWKXNq+1/wM2xBwMFjWtUW3QYHU4fGEY0hWiUYSjZANjtyHeM3zAZoFD4EXAAumkYIFwGCBXEbQIMVBLmAX34naDidG0IQbTdyG8wZgWow5L/927/tMRwumBvhDR9VGMrFENej8UfA8JMVafOjsfTPxNbAQOIagmsW/vjMKUIdGkfmrxK3u/l6RMAvllnWoLPszXe+fbcwAuxlWEfZL93a4yrcucCZ488995yQihfsjcKHAFYbArTx+4f5J2aNnP64yX3uc5/zFB8IzvAy8DQI7EbBI2AWgOAxrUqLmMTY4NAqEsgEI0KOaph/mDxcSDAtuyAnAqJc0GdVOmSNLhoBtMJoN8hKgXsAf2P2pOgQDCQm6yDIbwlgA12KS0MQ/amHNnDbwjXHBaPBtPu1kWjvObYYwoJHJhOEABgZNGK4NSxVE72YvtTrNVjfSMnJeiPdLmsETT0+x7iMwDiCeZCJE5wlgPbRWCOcGy0egVLuk84Kh0WOtKusmaCEuMX31K6cC4Gf/exn3vOImBiKHeLChcsPf5PIAgGBjHUI6MTJsacG9Vycq0+NeNwEgBDOOg9/V/kObQcLwGWpwCWAjQ1NFS4eLBqKRsFIkicXwozGQ8xcgEI4uVNdQjOFlYbgNTS+BI3CkLiibkH13AkBCBnOtSSothuxHQRvhGsYDDAFX/xTEQKc3+pScGEdI9CjxcQvneBFo+AQwIUE9zp8/LEEsH9yjHf2T4KsYdiD9hmnTRh/9uSg2w4OnfC1xHMOpt65Ti3kPokgwBxalqzwzSU9QtBmr+T9I6r153mH4hJvBuaMdQJ/w/53/vnnewI55xJXZRQ8AiYABI/pklskEIYsMGiMYAiQiCkfD4PIcTSEPKzYHMn8g5SMK5AjAhLxJTYKBwJseGiOYTwcoenAjQTCsoP5EyakGgSTasz/4pGF6cA6AyFYY7nBosKDCqaObC/MHeszCOaOexAIbL7Li5+zmVdiISV4lHXIvMEo4mKAEOCspjOvCfpvYnuC+H0E3a+wtsfzDRcfXFmJ1YBwn0RxAnPI2nMKDp6JpL5erPUtrBjUY79QdrHu8FBgPbAuUHQiBLCPsv/94he/KLhSkh0IZYtR8AhE9OGWC75ZazEIBO6//35P+wEj8MUvfrHQJIWCcBfADcEo3AhgruYBhktBOakgwz2axusdDyqscTyAmEeEOIRtLHL8jV83DzEEdIQ6o/AhgFsVeyk+4TCJWE6/8pWveIGiMJikbsWn3Cg8CDjmH2vYzOJruI8gCFx77bXemnOpXMmoZoqO8MzhXD0hQJs9lb0TH38nFBPDiADAPgpbynkWuzYXisEcNwtAMDhWpRXnO0q2EX+WCjZHHmTm010V2ANtFMaDtHRsZDAevMhMYfn4A4W5ao3hooWJmsA03DcIEEX7iGsOVratWlsBQdw0VFWbgiU3zJyxl2JVwZ0ShQp7J2sQawAxHdWyvi258w3aAMGhaPdZdxDMIHuny3S3HO6TDQp94MNmfcHwE5tB7BvWHKzfzCeWVKw2CAGsS7eP8jfzb1RdBEwAqC6+i2qdzQ6/NxgPJwTgDoQQgNkTcycbod+lZFE3souqjgBaDZhIXghuuHc5F66q39xusGQEYBhJMYgAR8Goa665xvNHRvuPthFhzijcCKBAIa6KtQhhCWCPxc0AVyBj/sM3fzz/cNtiblh7t956q/eOwL2c7pPhQ6b2ekSGLdYcRb7YTxECYPp5IQQQA2drcGXm1WzWK4P7nHclyPeJJ57wmEUCRQmUIZUcmuRbbrnF01rhM2cm6zkhXPEvcDkgVgMBDe0//uMwizzICBTlwWZUGwiwBvEVJxc16TgRBkhVR4Yev1tebYymcXoJgw+hMMHX+J//+Z+9LCK4auHWhb+xCW/h/T244HfcfVCasJcSJ+VoaGjIAuQdGCF+Z62xFrGeUluDzyhRINYmmX6cC1CIh1G3XTMLQIimFq0H1UDxT0U6JlgGrRXmasxmpMbCInDFFVfYognRvPm7Qj0GmEUYfdK04p+KjzGmTbJZEIjI31hwjMKHAGsM/34EcR5aZKaA4SdX9f/f3rm/SlV+cfj1WxZFPxQlRFpp2c0uWmZXOcbRiEPSQczSwh+E/qzKQrqQpSiUFWVmJGSe0i4KUl5ISowuR0sTkvJZfN9pPOw5l5k5M3vczws5c/bMvszztmfWWu9an0XO6uHDhyNyTF6yaVzlmz+uiLQCDEfuQ+aMeeR+I/qYV+OQFCS4ovFRzjnkqpg3csGJGJPfn2UgMSQJiPG7aN1NeeePK+N3j3QtZHf5TiUghuGPnYMDPtFmieX+tL13dToAJZkz5AUxELkhWOYk3YDcYrbxw5WdAKL/jnIQYM7q8xQxHsk3Xr16daRr4bQh0Urkn/xGIskLFiwI564cn8CrGEmARmyk2hF13Ha2gJuVm6wXz8oNESyWs1GqcJSTwNtvv50GBwfje5RIP1FIAipICaL4g4JaViAp5yfwqjKB7ARwL5ImgjPOdyrFo/xWOspBgJRIgpVF6oMESgiGcc/xfUqvDeaRQKajuwRMAeou/zg7RgXNaViexvigIyUDjVzUDvjy27t3b9xA8YL/dJ0AEQ2ijMxZHixLU7eRBxEOFGOQAaXoCaPEUU4COHOkbWEs5n4aaI/jiCNDh+6/DbnKOXf5qki9wwghKkyqFgNDEaUfBmmT9Gxw9BaB+nQgAi65O2xvfYrz+2rJ4yfAhS2DoV8/qLNhpY3aN4x/7k0UnBzdJ6AD0OU5IEUEb5gcx5xSwA8Zy2QMmg4NDAzY2KTL81R/enTfKSykqLd+EF0k4sh8Zm1xpD9V2q2nVL7n3IOvv/567cKIZiE/yKobIxf/ajzWEJXuCUGTLVu2xEob88nKKQEUVmqyE8A9me/L0n0AL2hUAjgBOHbMKaupjnIRIMUOO4V7kDHSCSCwyX+OchEwBajL88EPFa2wyW+k6RcDoxGFCrxlnueIZJcv1dOfJcB8oVzAnJDOQ3oWDgFL1eQb8yPFfObiJ57zXpY+HeUjwDyRF05qHVEp0riIVHEvkrrFvGFEYvxnibryfYpqXxEyg6yQIvNJoWhO3yIdgVU4AiukAJm21dv/n1CPw9w6ykkAW4XvSTIW+O6sT1feunVrOnXqlL+DJZs6HYAOTwgFahQxEcUgWsyyND9QRPoxNvjBIvpPvioa1XPnzu3wFXq60QiQ4sMKDUY9qT0YHhj9KDfxA4URwjySL85KAO/D+HCUkwBdtkkbIR+VqD91G7Shz124+SEjFUjjv5zzx1WhyER3Zu415pD7j4AK36/ZCcgrquX9FF6ZBHqfQJETgPFPeiWF3H6PlmuO7QTc4flAHebVV1+NtBB0ccmPYxBJRvWHfGM1cTs8KU2cDieASDGNajASWQXgb6QiWQ1w9AYBclaLulKi5kRdAMvajnISwKggkIIDjioMajEoqGW1GFRHWNGhDschAQl0jgDBr5ySxyrr8uXL4z7t3BV4pvEQcAVgPJTa+B5+rIgaY3jgLedmXkSqWAkgaoUBSSTLUU4C5PQjFUnhE7mpFDix3MnqAPPHSoAKFeWcu3xVSO4yjzhvrNCM7EqJ3C6rAcpEZmLle0RSF8ebIAorbxj7uWEi88p3qsGU8s2bV3T+E8grAfTAoQYHu8dRPgKuAHRhTigyZCUAdQrUYR544IG4CgwScswpVPOG6cLENDgltRjknuaiUN7WKHJMKheOAAaJo3wEiOpz31EoisIWzhqa/hj6RSsB5fsEXlEmQGSRLqMM9MXrVwKeffbZcO7ye32UgAQkIIFzCegAnMujo38RscIYIdcfaSy85aVLl3b0GjzZ6ARwytauXRtpBThtaMLPmTMndmrkBIx+RF/tJgGixhRrk4+KlOvmzZvDcMSAZD6Rsuvr69MB7+YkjXJuUguGh4dr92CRE0D9Das3DglIQAISaEzgf41f8pXJJoAqBblxFB1SiEhnSke5CBAZRtKMdIIlS5ZEqsjLL78cqQdEHGllng3Jcl25V1NEALnIrLaFI7Bs2bL022+/JZRkKBTt7+/X+C8C16VtdGBet25dYtWUgfQuBfestDG4B3HeSMdjNQCHXeM/0PiPBCQggVEJWAMwKp7WX8SwILVg165dUaQ2a9ascwwMjBDSgIgqk7fqKB8BpM22b98eKiPk/B84cCBUR8gbZ86IJpPzj4KTo5wE1q9fn7j3KN7G4CfHn0FjIZxvnHH1xcs3d6TTEfFHIAHHDYUf/tt2VmqQ16i9wSlgZeCee+5xDss3hV6RBCRQUgI6AG2cGKJUI414olKLFy9OKP6g9INSRY5AtvHUHmoSCSBdRvoPqiIYGugZr1q1KtKChoaGYnWABjWO8hEgIozRf/To0XTnnXeGTvWnn34aqzbk/6MkQzQZpRjrbso3f1wRKZJE+IucAAIsu3fvTjQiYn4dEpCABCQwPgLWAIyP05jvwtB46aWXolA0F/WSn8ry9Zo1a0L7n4ZDLFerST0mztK9gfxwUn+IEpM2op5x6aao8IJQicFJQ20LR5xB7Q21ADjsRJHZrnRrIb6ubDx8+HCiXwqpPMxbdsxYhSO/f8WKFaGShpITTgGrN/QA8J7synR5UglIoEcJqM3UpokjV5xOohT1MnAC8g8X0nSo+2Tj//3334/lavLKHb1BAKeNVC1yyDU0emPOuErqN4j+Y1Si/INGPAbjypUre+dDVOxKcdBIsyO6Tz8GJJFZYUOFixXWt956K2pvmEsUnBwSkIAEJDBxAqYATZxZwz3Q8WcpmhQD5AaJXrHt888/D0OE3FUkJUkjofOoo7cIkDKCM4e2eG421FufoBpXS44/3SfJ7WfFBidgpEZ8NUj05qfkO5Rx5MiRWG2jBgdngBVUHHBy/umlgkNODYdDAhKQgAQmTkAHYOLMGu6xb9++kBGkwJB8cZyAefPmRYEohj8/YKSS5O6xDQ/kC6UkgLHB/JE2cvnll5fyGqt+UdxzRIhxvpkrujPjBFC8rRPQO/93kJKFoU+x79y5c6NZ21133RVGP02GWD2lX4pDAhKQgASaI2ANQHPcCvd6/vnn09NPPx0GP8bGyEZfhTu5UQISaAsBUnwo6KXB14MPPhjHxBFH2/+ZZ56J1ThyxlkR0IFrC/JJPwj1G3v27ImVAFWaJh23J5CABCpEwD4AbZpsoo0UAtMxlkGeMS2wv/7664hCtuk0HkYCEmhAALUfjEVyxvO45ZZbEhFjikoZCxcu1PjPcHrgkZUbVgA2btwY8q09cMleogQkIIGeIKAD0KZpokiUfP+dO3fWjoguPPrwpIw4JCCBySUwe/bs6Mnw2WefhdxuPhuFozjnjt4kkJ0AVnMcEpCABCTQHgKmALWHYxyFQjXSfoj+05SGnH8KR7MsaBtP5aEkIIEGBOi3QaoP2v6k4lEMTApQVuVqsJubJSABCUhAApUhoAPQ5FQTUURHnAh//UCB5OOPP47GNXT3VZ+6no7PJdBeAsePH48Un5FHxQkg95+C/EWLFmn8jwTk3xKQgAQkUGkCOgBNTD/dQ7ds2RIdfXOxYROHcRcJSKBJAqj9kBdOeg+N2YpGXgl47LHHQrq16D1uk4AEJCABCVSRgA5AE7NOd98lS5aE5j+7nz592jz/Jji6iwSaJfDBBx9EsW9Or2t0D2YnYNWqVfZuaBa2+0lAAhKQwHlHwE7ATUwp0cdff/01cosxMNCrnjlzZjgFTRzOXSQggQkSIP2Ojsyo/qC09ddff4UCFzK89bn+t956azjqNm6bIGDfLgEJSEAC5zUBVYDGOb3IfJ44cSLe/cgjj6RvvvkmGn09+eSTafXq1enQoUPjPJJvk4AEmiVAjQ2DvH6e01W7v78/Pffcc6H0Q6fYkQM1LocEJCABCUhAAv8RcAXgPxYNnyE/t2PHjoj0z5o1K+EA3HjjjbX38/rIYuDaiz6RgARaJoCazzvvvBPdfWni9eijj6bly5fXjoszgJM+bdq02jafSEACEpCABCRQTMAagGIuta0nT55M69evTytWrAgD44033ohGQhgff//9d9qwYUOaMmVKevzxx89pQFQ7gE8kIIGWCbz22mvRxOvaa69Na9eujWg/q280+Xr33XfTsWPH0uLFi9P06dNbPpcHkIAEJCABCZzvBHQARplhcv1J7fn999/TfffdlzZt2hSynqwGXHDBBRGBHB4eTraoHwWiL0mgBQLcg0T2KfodHBxMQ0ND6cyZMyHBy72JE8DfrArgiDskIAEJSEACEhibgDUADRj99NNPEfm/+eabw/jPucXXXXdduv/++8MA2bt3r8Z/A35ulkCrBDD8X3nllTDsMf4ptt+3b19asGBB6uvri+044zjgGv+t0nZ/CUhAAhKoEgFrAApmm46+33//fRga+WUcgqlTp8af3377bRoYGIguv/l1HyUggfYR+PPPP6PAd8aMGenSSy+NA1OET7SfwT1422232WU7aPiPBCQgAQlIYGIEXAEo4IXCD/KeRCDzYCWAVYAXXngh5Aevvvrq/JKPEpBAmwngcG/fvv2cexA1H4rtX3zxxZD/nD9/fpvP6uEkIAEJSEAC1SBgDUCDeSbn+IcffkhPPfVUrYHQP//8E/r/V155ZYO93CwBCbSLQG7iNbKTLz04yPmnD4BDAhKQgAQkIIGJE9AB+D8z9MS/+uqrdNFFF6V58+YljPwiJ2DiiN1DAhIYDwFSfHbu3Bn9NWjgheRuIydgPMfzPRKQgAQkIAEJFBMwhHaWy8GDB9OHH36YkBhkbNy4Me3fvz86+7IN6U/USBwSkMDkECDn/80330yk+eB8b926NW3bti3hCCxcuDC999576ejRo5Nzco8qAQlIQAISqBgBi4DPTjhRR5p7ofBzxx13RAHwRx99lGbOnBlOAAXBrAw4JCCBySGwZ8+eNHv27HTvvffGCTD8cbxvuOGGcAIuueSSdNVVV03OyT2qBCQgAQlIoGIEKrcCQKSRjqI08cqD3P76CD9dfi+77LJQIeE99V1/8z4+SkACzROgeRfde/Pgfqy/B2nwReH9gQMH4i3XX399uvBC4xWZl48SkIAEJCCBVghUzgG4+OKLQ8OfdIPsBGBofPLJJ4muv3mgAIQT4JCABNpPAGlPUu2yEzBnzpxIxUP9Jw/uwSwBmrf5KAEJSEACEpBA6wQqWQSM4b9hw4ZoLEQnUSKLrApgfFB4iFGCo7B06dLWCXsECUigkAAyn999911atmxZNPPavXt32rVrV5o+fXo09vr555/TypUra/03Cg/iRglIQAISkIAEJkygEg7AH3/8EUYERn0eaPpv3rw5dMWzE4Ds55EjRyLX+Kabbspv9VECEmiRAF18h4eHz+mcTYR/3bp1ceTsBCDxiVNAzQ31OKb9tAje3SUgAQlIQAIFBCrhAKDw8+OPP4amP07AL7/8kjZt2pQefvjhaCiEcZKdgAJGbpKABFokgFGPqs/g4GCaNm1aNPgiDe+aa66JaH/9SkCLp3J3CUhAAhKQgATGIFAJB4AiX6L96Iz39/cnChD7+vpCdaQoHWgMZr4sAQk0QWBoaCh9+eWXaWBgILr8YvwvWrQojjQyHaiJw7uLBCQgAQlIQALjJFAJBwAW2Qk4duxYeuihh9Ltt99eQ4QTsGPHjthuykENi08k0HYCOAFffPFFmjFjRjgC9SdAjpfUuyuuuKJ+s88lIAEJSEACEmgzgco4AHDLTsDx48dr6UBt5unhJCCBMQjklYCcDjTG231ZAhKQgAQkIIE2E6iUDOiUKVPSE088kdAYp8nQ6dOn24zTw0lAAmMRmD9/frr77rujDgelH4cEJCABCUhAAp0lUCkHALT1TgDa/w4JSKDzBLITQD2OQwISkIAEJCCBzhKoVApQPVrSgc6cOaPMYD0Un0ugwwSQAp06dWqHz+rpJCABCUhAAtUmUFkHoNrT7qeXgAQkIAEJSEACEqgqgX8B0VWQq8cpqacAAAAASUVORK5CYII=)"
      ]
    },
    {
      "cell_type": "code",
      "metadata": {
        "colab": {
          "base_uri": "https://localhost:8080/",
          "height": 161
        },
        "id": "H5RKP3YxnUXq",
        "outputId": "e2cfb6d5-626d-4dc0-e4d9-ce8e38997e82"
      },
      "source": [
        "#Proceso para sacar las medias y las diferencias de medias\n",
        "#names(df_enigh)\n",
        "promedios_sx <- ddply(df_enigh, \"sex_factor\", summarise, hrs_trab_prom=mean(hrs_trab), educ_prom=mean(escolaridad_yrs),\n",
        "hrs_qh_prom=mean(hrs_qh), num_trabaj_prom=mean(num_trabaj), edad_prom=mean(edad), leng_indg=mean(habla_ind))\n",
        "promedios_sx"
      ],
      "execution_count": null,
      "outputs": [
        {
          "output_type": "display_data",
          "data": {
            "text/plain": [
              "  sex_factor hrs_trab_prom educ_prom hrs_qh_prom num_trabaj_prom edad_prom\n",
              "1 Hombre     44.54575      12.62057   4.851119   1.123947        39.51685 \n",
              "2 Mujer      35.93138      13.39622  17.458205   1.108630        39.13740 \n",
              "  leng_indg \n",
              "1 0.09206389\n",
              "2 0.08431178"
            ],
            "text/latex": "A data.frame: 2 × 7\n\\begin{tabular}{lllllll}\n sex\\_factor & hrs\\_trab\\_prom & educ\\_prom & hrs\\_qh\\_prom & num\\_trabaj\\_prom & edad\\_prom & leng\\_indg\\\\\n <chr> & <dbl> & <dbl> & <dbl> & <dbl> & <dbl> & <dbl>\\\\\n\\hline\n\t Hombre & 44.54575 & 12.62057 &  4.851119 & 1.123947 & 39.51685 & 0.09206389\\\\\n\t Mujer  & 35.93138 & 13.39622 & 17.458205 & 1.108630 & 39.13740 & 0.08431178\\\\\n\\end{tabular}\n",
            "text/markdown": "\nA data.frame: 2 × 7\n\n| sex_factor &lt;chr&gt; | hrs_trab_prom &lt;dbl&gt; | educ_prom &lt;dbl&gt; | hrs_qh_prom &lt;dbl&gt; | num_trabaj_prom &lt;dbl&gt; | edad_prom &lt;dbl&gt; | leng_indg &lt;dbl&gt; |\n|---|---|---|---|---|---|---|\n| Hombre | 44.54575 | 12.62057 |  4.851119 | 1.123947 | 39.51685 | 0.09206389 |\n| Mujer  | 35.93138 | 13.39622 | 17.458205 | 1.108630 | 39.13740 | 0.08431178 |\n\n",
            "text/html": [
              "<table class=\"dataframe\">\n",
              "<caption>A data.frame: 2 × 7</caption>\n",
              "<thead>\n",
              "\t<tr><th scope=col>sex_factor</th><th scope=col>hrs_trab_prom</th><th scope=col>educ_prom</th><th scope=col>hrs_qh_prom</th><th scope=col>num_trabaj_prom</th><th scope=col>edad_prom</th><th scope=col>leng_indg</th></tr>\n",
              "\t<tr><th scope=col>&lt;chr&gt;</th><th scope=col>&lt;dbl&gt;</th><th scope=col>&lt;dbl&gt;</th><th scope=col>&lt;dbl&gt;</th><th scope=col>&lt;dbl&gt;</th><th scope=col>&lt;dbl&gt;</th><th scope=col>&lt;dbl&gt;</th></tr>\n",
              "</thead>\n",
              "<tbody>\n",
              "\t<tr><td>Hombre</td><td>44.54575</td><td>12.62057</td><td> 4.851119</td><td>1.123947</td><td>39.51685</td><td>0.09206389</td></tr>\n",
              "\t<tr><td>Mujer </td><td>35.93138</td><td>13.39622</td><td>17.458205</td><td>1.108630</td><td>39.13740</td><td>0.08431178</td></tr>\n",
              "</tbody>\n",
              "</table>\n"
            ]
          },
          "metadata": {}
        }
      ]
    },
    {
      "cell_type": "code",
      "metadata": {
        "colab": {
          "base_uri": "https://localhost:8080/",
          "height": 1000
        },
        "id": "jwGYxDlpcIuc",
        "outputId": "d18b8b9b-5289-477d-ae00-8f295038eff0"
      },
      "source": [
        "###########################\n",
        "#Proceso para sacar los valores-p de la diferencia de medias.\n",
        "###########################\n",
        "## p-value hrs de trabajo\n",
        "t.test(df_hombres$hrs_trab, y =df_mujeres$hrs_trab ,\n",
        "       alternative = c(\"two.sided\"),\n",
        "       mu = 0, paired = FALSE, var.equal = FALSE,\n",
        "       conf.level = 0.95)\n",
        "## p-value numero de trabajo\n",
        "t.test(df_hombres$num_trabaj, y =df_mujeres$num_trabaj ,\n",
        "       alternative = c(\"two.sided\"),\n",
        "       mu = 0, paired = FALSE, var.equal = FALSE,\n",
        "       conf.level = 0.99)\n",
        "mean(df_hombres$num_trabaj)\n",
        "mean(df_mujeres$num_trabaj)\n",
        "\n",
        "## p-value escolaridad\n",
        "t.test(df_hombres$escolaridad_yrs, y =df_mujeres$escolaridad_yrs ,\n",
        "       alternative = c(\"two.sided\"),\n",
        "       mu = 0, paired = FALSE, var.equal = FALSE,\n",
        "       conf.level = 0.95)\n",
        "\n",
        "## p-value hrs de qh\n",
        "\n",
        "t.test(df_hombres$hrs_qh, y =df_mujeres$hrs_qh ,\n",
        "       alternative = c(\"two.sided\"),\n",
        "       mu = 0, paired = FALSE, var.equal = FALSE,\n",
        "       conf.level = 0.95)\n",
        "\n",
        "       ## p-value hrs de edad\n",
        "\n",
        "t.test(df_hombres$edad, y =df_mujeres$edad ,\n",
        "       alternative = c(\"two.sided\"),\n",
        "       mu = 0, paired = FALSE, var.equal = FALSE,\n",
        "       conf.level = 0.95)\n",
        "\n",
        "       ## p-value hrs de habla_ind\n",
        "\n",
        "t.test(df_hombres$habla_ind, y =df_mujeres$habla_ind ,\n",
        "       alternative = c(\"two.sided\"),\n",
        "       mu = 0, paired = FALSE, var.equal = FALSE,\n",
        "       conf.level = 0.95)"
      ],
      "execution_count": null,
      "outputs": [
        {
          "output_type": "display_data",
          "data": {
            "text/plain": [
              "\n",
              "\tWelch Two Sample t-test\n",
              "\n",
              "data:  df_hombres$hrs_trab and df_mujeres$hrs_trab\n",
              "t = 70.851, df = 91412, p-value < 2.2e-16\n",
              "alternative hypothesis: true difference in means is not equal to 0\n",
              "95 percent confidence interval:\n",
              " 8.376064 8.852672\n",
              "sample estimates:\n",
              "mean of x mean of y \n",
              " 44.54575  35.93138 \n"
            ]
          },
          "metadata": {}
        },
        {
          "output_type": "display_data",
          "data": {
            "text/plain": [
              "\n",
              "\tWelch Two Sample t-test\n",
              "\n",
              "data:  df_hombres$num_trabaj and df_mujeres$num_trabaj\n",
              "t = 7.7624, df = 98594, p-value = 8.412e-15\n",
              "alternative hypothesis: true difference in means is not equal to 0\n",
              "99 percent confidence interval:\n",
              " 0.01023407 0.02039952\n",
              "sample estimates:\n",
              "mean of x mean of y \n",
              " 1.123947  1.108630 \n"
            ]
          },
          "metadata": {}
        },
        {
          "output_type": "display_data",
          "data": {
            "text/plain": [
              "[1] 1.123947"
            ],
            "text/latex": "1.12394667337442",
            "text/markdown": "1.12394667337442",
            "text/html": [
              "1.12394667337442"
            ]
          },
          "metadata": {}
        },
        {
          "output_type": "display_data",
          "data": {
            "text/plain": [
              "[1] 1.10863"
            ],
            "text/latex": "1.10862987716763",
            "text/markdown": "1.10862987716763",
            "text/html": [
              "1.10862987716763"
            ]
          },
          "metadata": {}
        },
        {
          "output_type": "display_data",
          "data": {
            "text/plain": [
              "\n",
              "\tWelch Two Sample t-test\n",
              "\n",
              "data:  df_hombres$escolaridad_yrs and df_mujeres$escolaridad_yrs\n",
              "t = -30.378, df = 93407, p-value < 2.2e-16\n",
              "alternative hypothesis: true difference in means is not equal to 0\n",
              "95 percent confidence interval:\n",
              " -0.8257030 -0.7256132\n",
              "sample estimates:\n",
              "mean of x mean of y \n",
              " 12.62057  13.39622 \n"
            ]
          },
          "metadata": {}
        },
        {
          "output_type": "display_data",
          "data": {
            "text/plain": [
              "\n",
              "\tWelch Two Sample t-test\n",
              "\n",
              "data:  df_hombres$hrs_qh and df_mujeres$hrs_qh\n",
              "t = -188.59, df = 59918, p-value < 2.2e-16\n",
              "alternative hypothesis: true difference in means is not equal to 0\n",
              "95 percent confidence interval:\n",
              " -12.73811 -12.47606\n",
              "sample estimates:\n",
              "mean of x mean of y \n",
              " 4.851119 17.458205 \n"
            ]
          },
          "metadata": {}
        },
        {
          "output_type": "display_data",
          "data": {
            "text/plain": [
              "\n",
              "\tWelch Two Sample t-test\n",
              "\n",
              "data:  df_hombres$edad and df_mujeres$edad\n",
              "t = 4.2534, df = 101561, p-value = 2.107e-05\n",
              "alternative hypothesis: true difference in means is not equal to 0\n",
              "95 percent confidence interval:\n",
              " 0.2046009 0.5543133\n",
              "sample estimates:\n",
              "mean of x mean of y \n",
              " 39.51685  39.13740 \n"
            ]
          },
          "metadata": {}
        },
        {
          "output_type": "display_data",
          "data": {
            "text/plain": [
              "\n",
              "\tWelch Two Sample t-test\n",
              "\n",
              "data:  df_hombres$habla_ind and df_mujeres$habla_ind\n",
              "t = 4.4335, df = 97606, p-value = 9.282e-06\n",
              "alternative hypothesis: true difference in means is not equal to 0\n",
              "95 percent confidence interval:\n",
              " 0.004325001 0.011179227\n",
              "sample estimates:\n",
              " mean of x  mean of y \n",
              "0.09206389 0.08431178 \n"
            ]
          },
          "metadata": {}
        }
      ]
    },
    {
      "cell_type": "markdown",
      "metadata": {
        "id": "yB_0Zwv52-cp"
      },
      "source": [
        "b) (Puntos extra) ¿Se te ocurre una manera de evaluar de forma conjunta las diferencias entre todos los promedios? Realiza este test siendo muy claro acerca de la estimación que estás realizando, la prueba de hipótesis que estas evaluando y sus resultados."
      ]
    },
    {
      "cell_type": "markdown",
      "metadata": {
        "id": "dVjTzCxQm_zD"
      },
      "source": [
        "# RESPUESTA P_2b):\n",
        "\n",
        "# Para esta preba lo que nos interesa conocer es si existe una diferencia significativa entre géneros de los valores promedio de las variables de interes. Usamos una prueba F donde la Yi es la dummy de ser mujer y las variables Xi son las 6 varaibles mencionadas al inicio del problema.\n",
        "\n",
        "# El resutado de la prueba F conjunta es que el valor-p es muy pequeño 2.2e-16 *** por lo tanto no podemos rechazar la hipotesis alternativa de que existen diferencias significativas en los coeficientes."
      ]
    },
    {
      "cell_type": "code",
      "metadata": {
        "colab": {
          "base_uri": "https://localhost:8080/",
          "height": 334
        },
        "id": "QTxxHNzrkCjC",
        "outputId": "c1766aec-08e7-4eca-86c9-a1e905c9c765"
      },
      "source": [
        "#Hacemos una prueba F conjunta donde la hipotesis nula es que las betas o los coeficientes son iguales\n",
        "reg_p2b <- lm(mujer ~ escolaridad_yrs+hrs_trab + hrs_qh +num_trabaj+habla_ind +edad \n",
        "                 , data = df_enigh)\n",
        "reg_p2b                 \n",
        "\n",
        "pf_p2b <- linearHypothesis(reg_p2b , c(\"escolaridad_yrs\", \"hrs_trab\", \"hrs_qh\", \n",
        "\"num_trabaj\",\"habla_ind\" ,\"edad \" ), c(0,0,0,0,0,0), test = \"F\")\n",
        "pf_p2b"
      ],
      "execution_count": null,
      "outputs": [
        {
          "output_type": "display_data",
          "data": {
            "text/plain": [
              "\n",
              "Call:\n",
              "lm(formula = mujer ~ escolaridad_yrs + hrs_trab + hrs_qh + num_trabaj + \n",
              "    habla_ind + edad, data = df_enigh)\n",
              "\n",
              "Coefficients:\n",
              "    (Intercept)  escolaridad_yrs         hrs_trab           hrs_qh  \n",
              "       0.218532         0.009454        -0.001760         0.022349  \n",
              "     num_trabaj        habla_ind             edad  \n",
              "      -0.022048        -0.012032        -0.001437  \n"
            ]
          },
          "metadata": {}
        },
        {
          "output_type": "display_data",
          "data": {
            "text/plain": [
              "  Res.Df RSS      Df Sum of Sq F        Pr(>F)\n",
              "1 107895 26109.13 NA      NA         NA NA    \n",
              "2 107889 18140.08  6 7969.05   7899.383  0    "
            ],
            "text/latex": "A anova: 2 × 6\n\\begin{tabular}{r|llllll}\n  & Res.Df & RSS & Df & Sum of Sq & F & Pr(>F)\\\\\n  & <dbl> & <dbl> & <dbl> & <dbl> & <dbl> & <dbl>\\\\\n\\hline\n\t1 & 107895 & 26109.13 & NA &      NA &       NA & NA\\\\\n\t2 & 107889 & 18140.08 &  6 & 7969.05 & 7899.383 &  0\\\\\n\\end{tabular}\n",
            "text/markdown": "\nA anova: 2 × 6\n\n| <!--/--> | Res.Df &lt;dbl&gt; | RSS &lt;dbl&gt; | Df &lt;dbl&gt; | Sum of Sq &lt;dbl&gt; | F &lt;dbl&gt; | Pr(&gt;F) &lt;dbl&gt; |\n|---|---|---|---|---|---|---|\n| 1 | 107895 | 26109.13 | NA |      NA |       NA | NA |\n| 2 | 107889 | 18140.08 |  6 | 7969.05 | 7899.383 |  0 |\n\n",
            "text/html": [
              "<table class=\"dataframe\">\n",
              "<caption>A anova: 2 × 6</caption>\n",
              "<thead>\n",
              "\t<tr><th></th><th scope=col>Res.Df</th><th scope=col>RSS</th><th scope=col>Df</th><th scope=col>Sum of Sq</th><th scope=col>F</th><th scope=col>Pr(&gt;F)</th></tr>\n",
              "\t<tr><th></th><th scope=col>&lt;dbl&gt;</th><th scope=col>&lt;dbl&gt;</th><th scope=col>&lt;dbl&gt;</th><th scope=col>&lt;dbl&gt;</th><th scope=col>&lt;dbl&gt;</th><th scope=col>&lt;dbl&gt;</th></tr>\n",
              "</thead>\n",
              "<tbody>\n",
              "\t<tr><th scope=row>1</th><td>107895</td><td>26109.13</td><td>NA</td><td>     NA</td><td>      NA</td><td>NA</td></tr>\n",
              "\t<tr><th scope=row>2</th><td>107889</td><td>18140.08</td><td> 6</td><td>7969.05</td><td>7899.383</td><td> 0</td></tr>\n",
              "</tbody>\n",
              "</table>\n"
            ]
          },
          "metadata": {}
        }
      ]
    },
    {
      "cell_type": "markdown",
      "metadata": {
        "id": "o84KTnCa2-2q"
      },
      "source": [
        "#3. Estimación de regresiones. \n",
        "En este inciso utilizaremos las caracter ́ısticas mencio- nadas en la pregunta anterior y las agregaremos como controles. Llena la Tabla 1 que encontrar ́as al final de la tarea.\n",
        "\n",
        "\n",
        "####**Ojo: Las líneas horizontales en algunas variables (—) significan que NO debes incluir esta variable en la estimación de dicha columna. **\n",
        "\n",
        "La primera y segunda columna la debes estimar solo con las observaciones de mujeres y hombres, respectivamen- te. Es importante que para propósitos de comparabilidad, el número de observaciones que utilices en tus estimaciones sea homogeneo. Es decir, la suma del número de observaciones de las columnas 1 y 2 debe ser igual al nu ́mero de observaciones de las demás columnas y al nu ́mero de observaciones empleado en las preguntas anteriores. Para esto, debes filtrar tu base de datos para no tener missing values. Utiliza errores heterocedásticos y agrega los asteriscos que indiquen nivel de significancia: * 10%, ** 5% y *** 1%.  [Tip de R: Para estimar errores heteroced ́asticos, utiliza el comando vcovHC de la librer ́ıa sandwich. En dicho comando deberás indicar el nombre con el que guardaste tu estimación lm y errores del tipo HC1 (i.e. vcovHC(nombre modelo,type=’HC1’)). Para crear tablas con resultados de regresiones puedes utilizar el comando stargazer de la librería homónima.]\n",
        "\n"
      ]
    },
    {
      "cell_type": "code",
      "metadata": {
        "id": "Jodtx6hIcmVC"
      },
      "source": [
        "#Aqui dividimos la base para responder la P3\n",
        "df_mujeres <-subset(df_enigh, mujer == 1)\n",
        "df_hombres <-subset(df_enigh, hombre == 1)\n"
      ],
      "execution_count": null,
      "outputs": []
    },
    {
      "cell_type": "code",
      "metadata": {
        "id": "4WtOMnwzc6XC"
      },
      "source": [
        "#### Regresion 1  ###########\n",
        "reg1_p3 <-lm(ing_tri~escolaridad_yrs + habla_ind + hrs_trab + edad +\n",
        "           I(edad^2)+num_trabaj+hrs_qh,data=df_mujeres)\n",
        "se1<-sqrt(diag(vcovHC(reg1_p3,type = 'HC1')))\n",
        "\n",
        "\n",
        "#### Regresion 2  ###########\n",
        "reg2_p3 <-lm(ing_tri~escolaridad_yrs + habla_ind + hrs_trab + edad +\n",
        "           I(edad^2)+num_trabaj+hrs_qh,data=df_hombres)\n",
        "se2<-sqrt(diag(vcovHC(reg2_p3,type = 'HC1')))\n",
        "\n",
        "#### Regresion 3  ###########\n",
        "\n",
        "reg3_p3 <-lm(ing_tri~ mujer + escolaridad_yrs + habla_ind + hrs_trab + edad +\n",
        "           I(edad^2)+ num_trabaj + hrs_qh,data=df_enigh)\n",
        "se3<-sqrt(diag(vcovHC(reg3_p3,type = 'HC1')))\n",
        "\n",
        "#### Regresion 4  ###########\n",
        "\n",
        "\n",
        "reg4_p3 <-lm(log(ing_tri)~ mujer + escolaridad_yrs + habla_ind + log(hrs_trab) \n",
        "         + edad + num_trabaj + hrs_qh,data=df_enigh)\n",
        "se4<-sqrt(diag(vcovHC(reg4_p3,type = 'HC1')))\n",
        "\n",
        "\n",
        "#### Regresion 5  ###########\n",
        "\n",
        "reg5_p3 <-lm( tm_40hrs ~ mujer + escolaridad_yrs + habla_ind + log(hrs_trab) \n",
        "          + edad + num_trabaj + hrs_qh,data=df_enigh)\n",
        "se5<-sqrt(diag(vcovHC(reg5_p3,type = 'HC1')))\n",
        "\n",
        "\n",
        "\n",
        "\n",
        "\n"
      ],
      "execution_count": null,
      "outputs": []
    },
    {
      "cell_type": "markdown",
      "metadata": {
        "id": "4wahSy0S1IsX"
      },
      "source": [
        "## RESPUESTA_P3: Cuadro de abajo:"
      ]
    },
    {
      "cell_type": "code",
      "metadata": {
        "colab": {
          "base_uri": "https://localhost:8080/"
        },
        "id": "1dYleEaYjLMX",
        "outputId": "91b5ec7d-356f-4de4-bc41-bec329fa2899"
      },
      "source": [
        "#Cuadro de la 3\n",
        "stargazer(reg1_p3, reg2_p3, reg3_p3, reg4_p3, reg5_p3,\n",
        "          se=list(se1,se2,se3,se4,se5), \n",
        "          type = \"text\",\n",
        "          out = \"pregunta_3_tabla.txt\")"
      ],
      "execution_count": null,
      "outputs": [
        {
          "output_type": "stream",
          "name": "stdout",
          "text": [
            "\n",
            "========================================================================================================================================================================\n",
            "                                                                                    Dependent variable:                                                                 \n",
            "                    ----------------------------------------------------------------------------------------------------------------------------------------------------\n",
            "                                                            ing_tri                                                 log(ing_tri)                     tm_40hrs           \n",
            "                                (1)                          (2)                           (3)                           (4)                           (5)              \n",
            "------------------------------------------------------------------------------------------------------------------------------------------------------------------------\n",
            "mujer                                                                                 -3,779.392***                   -0.237***                     -0.030***           \n",
            "                                                                                        (107.193)                      (0.007)                       (0.003)            \n",
            "                                                                                                                                                                        \n",
            "escolaridad_yrs             1,720.053***                 1,599.153***                 1,653.485***                    0.091***                      -0.006***           \n",
            "                              (20.528)                     (19.426)                     (14.117)                       (0.001)                       (0.0003)           \n",
            "                                                                                                                                                                        \n",
            "habla_ind                  -2,315.206***                -5,111.190***                 -4,042.224***                   -0.387***                     -0.019***           \n",
            "                             (180.951)                    (170.436)                     (126.154)                      (0.012)                       (0.004)            \n",
            "                                                                                                                                                                        \n",
            "hrs_trab                     145.605***                   129.241***                   136.871***                                                                       \n",
            "                              (3.493)                      (3.382)                       (2.442)                                                                        \n",
            "                                                                                                                                                                        \n",
            "log(hrs_trab)                                                                                                         0.427***                       0.427***           \n",
            "                                                                                                                       (0.005)                       (0.002)            \n",
            "                                                                                                                                                                        \n",
            "edad                         745.333***                   932.370***                   864.527***                     0.016***                      -0.002***           \n",
            "                              (20.287)                     (17.432)                     (13.372)                      (0.0002)                       (0.0001)           \n",
            "                                                                                                                                                                        \n",
            "I(edad2)                     -5.791***                    -8.201***                     -7.339***                                                                       \n",
            "                              (0.249)                      (0.214)                       (0.165)                                                                        \n",
            "                                                                                                                                                                        \n",
            "num_trabaj                    329.148                     -463.591**                    -191.690                      -0.061***                     -0.018***           \n",
            "                             (214.464)                    (190.387)                     (143.215)                      (0.010)                       (0.003)            \n",
            "                                                                                                                                                                        \n",
            "hrs_qh                      -106.102***                   -69.120***                   -99.960***                     -0.008***                     -0.002***           \n",
            "                              (5.183)                      (9.453)                       (4.466)                      (0.0004)                       (0.0001)           \n",
            "                                                                                                                                                                        \n",
            "Constant                   -29,101.960***               -25,354.460***               -25,503.840***                   6.414***                      -0.757***           \n",
            "                             (527.960)                    (452.554)                     (344.362)                      (0.029)                       (0.010)            \n",
            "                                                                                                                                                                        \n",
            "------------------------------------------------------------------------------------------------------------------------------------------------------------------------\n",
            "Observations                   44,288                       63,608                       107,896                       107,896                       107,896            \n",
            "R2                             0.291                        0.224                         0.262                         0.272                         0.471             \n",
            "Adjusted R2                    0.291                        0.224                         0.262                         0.272                         0.471             \n",
            "Residual Std. Error   13,347.960 (df = 44280)      15,044.100 (df = 63600)      14,382.550 (df = 107887)         0.962 (df = 107888)           0.362 (df = 107888)      \n",
            "F Statistic         2,598.374*** (df = 7; 44280) 2,618.078*** (df = 7; 63600) 4,786.382*** (df = 8; 107887) 5,754.478*** (df = 7; 107888) 13,720.700*** (df = 7; 107888)\n",
            "========================================================================================================================================================================\n",
            "Note:                                                                                                                                        *p<0.1; **p<0.05; ***p<0.01\n"
          ]
        }
      ]
    },
    {
      "cell_type": "markdown",
      "metadata": {
        "id": "XKa5cv52RQcb"
      },
      "source": [
        "## 4. Interpretación de Coeficientes. \n",
        "Considerando tus respuestas de la pregunta an- terior, interpreta los siguientes coeficientes de la forma m ́as espec ́ıfica posible. (Nota: lleva a cabo la interpretaci ́on del valor estimado de los coeficientes a pesar de que algunos no sean significativos):\n",
        "\n",
        "# R_P4_a)Un año más de educación aumenta el ingreso en   1,720.053  pesos trimestrales.\n",
        "\n",
        "\n",
        "\n",
        "# 4_b)Hablar una lengua indigena ceteris paribus reduce tu salario en 2,315.206 pesos trimestrales.\n",
        "\n",
        "\n",
        "\n",
        "# 4_c) Un aumento marginal(un año) de edad incrementa en promedio tu ingreso en  745.333.\n",
        "\n",
        "\n",
        "\n",
        "# 4_d)Un aumento de una hora de trabajo incrementa el  ingreso promedio trimestral de las mujeres en  129.241 pesos.\n",
        "\n",
        "\n",
        "# 4_e)Un aumento de un año de edad incrementa el  ingreso promedio trimestral de las mujeres en  733.851 pesos.\n",
        "\n",
        "\n",
        "\n",
        "# 4_f)En México las mujeres ganan en promedio trimestral 3,779.392 pesos menos que los hombres. \n",
        "\n",
        " \n",
        "# 4_g)En México las mujeres ganan en promedio trimestral 23.7% menos que los hombres. \n",
        " \n",
        "\n",
        "# 4_h) Un increcento de 1% de trabajo es equivalente a un incremento   de 42.7% en el ingreso trimestral.\n",
        "\n",
        "# 4_i) Un increcento de 1 unidad en el numero de trabajos es equivalente a una disminución de 6.7 puntos porcentuales  en el ingreso trimestral.\n",
        "\n",
        "\n",
        " \n",
        "# 4_j) Un increcento de 1 unidad en el numero de trabajos es equivalente a una disminución de 1.8% en la probabilidad de trabajar más de 40 horas a la semana. \n",
        "\n",
        "\n",
        "#4_k) Un increcento de 1% en las horas de trabajo se traduce en un incremento de 42.7% en la probabilidad de trabajar más de 40 horas a la semana. \n",
        "\n",
        "\n",
        "#4_l) Las mujeres en Méxcio tienen en promedio un 3% menos de probabilidad de trabajar más de 40 horas a la semana que los hombres. "
      ]
    },
    {
      "cell_type": "markdown",
      "metadata": {
        "id": "quWmwCvZRoDy"
      },
      "source": [
        "# 5. En la pregunta anterior, se te pedía directamente la interpretación del valor estimado de los coeficientes. \n",
        "\n",
        "Dicha interpretación está asociada a un incremento de una unidad de la variable X. Sin embargo, este aumento podría ser muy grande o muy pequen ̃o dependiendo de la variable.\n",
        " \n",
        "\n",
        " a) Para el caso de edad en la columna (3), da una interpretación que est ́e asociada a un aumento de edad que consideres razonable. Explica cómo elegiste este cambio de edad e indica el cambio de ingreso asociado. Si tuviste que hacer algún supuesto adicional, indica cu ́al fue y justifícalo. Haz una descripción del aumento asociado en ingreso que sea f ́acil de entender, incluso para alguien sin mucho conocimiento de econometría. Calcula un intervalo de confianza para este cambio.\n",
        "\n",
        " b) Repite el calculo del inciso anterior, pero utilizando la estimaci ́on de la colum- na (4). Si empleaste algu ́n supuesto indica claramente cu ́al fue y justif ́ıcalo. Asegu ́rate que el resultado de ambos incisos sea comparable. (Nota: piensa en qu ́e debes hacer para que el resultado sea comparable dado que en un caso la variable dependiente utiliza logaritmo y en el otro caso no)\n",
        "\n",
        "\n",
        "##RESPUESTA P_5_Ay B):\n",
        "Para dar un valor razonable de cambio de edad podemos apoyarnos de la desviación estandar, en el caso se la regresión 3 la desviación para edad es de 13.372. Podemos mejor ajustar a que el cambio sea de 12 años. Ahora ademas del cambio de la desviación suponemos valores para todas las Xi del modelo de tal forma que podamos estimar el cambio salarial a partir del cambio de una desviación estandar en la edad.\n",
        "\n",
        "Para comparar vamos a suponer que trata de un hombre con 12 años de escolaridad, que trabaja 10 horas diarias, un solo trabajo, dedica 0 y no habla lenguas indigenas.\n",
        "\n",
        "#Modelo de la regresión 3 y 4 un hombre de 30 años:\n",
        "\n",
        " $M_3= 1653.485(12) +   136.871(10) + 30(864.527)+(30^2)(-7.339)-191.690-25503.839=$14845.711\n",
        "\n",
        " $M_4= 0.090766(12)-0.008444  (10)+ 0.015946(30)+0.427100(10)+6.413576   = $12.167708 \n",
        "\n",
        "#Modelo de la regresión 3 y4 un hombre de 18 años:\n",
        "\n",
        " $M_3= 1653.485(12) +   136.871(10) + 18(864.527)+(18^2)(-7.339)-191.690-25503.839=$8698.651 \n",
        "\n",
        "$M_4= 0.090766(12)-0.008444  (10)+ 0.015946(18)+0.427100(10)+6.413576   = $11.976356\n",
        "\n",
        "Lo que nuetras estimaciones nos dicen es que para un hombre en México con las caracteristicas que mencionamos anteriormente  esperariamos que despúes de 12 años de vida su ingreso esperado ,,,según el modelo 3, aumentara en promedio $6147.06 y, con nuestro modelo 4, decimos que su ingreso despues de 12 años incrementara en un 19.13% respecto al ingreso que percibío cuando tenia 18 años. \n"
      ]
    },
    {
      "cell_type": "markdown",
      "metadata": {
        "id": "an_KEA1KpWm0"
      },
      "source": [
        "\n"
      ]
    },
    {
      "cell_type": "code",
      "metadata": {
        "id": "dCxQ0UwDq4uy"
      },
      "source": [
        "confint(reg3_p3 , level=0.95)\n",
        "Coefficients:\n",
        "    (Intercept)            mujer  escolaridad_yrs        habla_ind  \n",
        "     -25503.839        -3779.392         1653.485        -4042.224  \n",
        "       hrs_trab             edad          edad_ct       num_trabaj  \n",
        "        136.871          864.527           -7.339         -191.690  \n",
        "         hrs_qh  \n",
        "        -99.960  \n",
        "\n",
        "1653.485*(12) +   136.871*(10) + 18*(864.527)+(18^2)*(-7.339)-191.690-25503.839\n",
        "\n",
        "0.090766(12)-0.008444  (10)+ 0.015946(30)+0.427100(10)+6.413576   = 12.167708\n",
        "\n",
        "Coefficients:\n",
        "    (Intercept)            mujer  escolaridad_yrs        habla_ind  \n",
        "       6.413576        -0.236752         0.090766        -0.387076  \n",
        "  log(hrs_trab)             edad       num_trabaj           hrs_qh  \n",
        "       0.427100         0.015946        -0.060553        -0.008444  \n"
      ],
      "execution_count": null,
      "outputs": []
    },
    {
      "cell_type": "markdown",
      "metadata": {
        "id": "p8xwXz2xRvAc"
      },
      "source": [
        "## 6. Al comparar los resultados de las columnas (1) y (2) nos percatamos que los hombres y las mujeres pudieran tener distintos rendimientos a las caracter ́ısticas que estamos utilizando en nuestro análisis (i.e. distintos coeficientes).\n",
        "\n",
        "\n",
        "\n",
        "a) Modifica la especificaciòn de la columna (3) para poder obtener exactamente los mismos coeficientes de las columna (1) y (2) en una sola estimación. Reporta tu resultado con formato de ecuación.\n",
        "\n",
        "## RESPUESTA_P6: \n",
        "\n",
        "## Los coeficientes los tuve que multiplicar por la dummy de tal forma que la interacción forzara a que la nueva regresión nos diera los mismos coeficientes que los de la regresión de la columna 2 de la pregunta 3. Si quisiera hacer lo mismo para hombres multiplicaria por la dummy de hombres:\n",
        "\n",
        "$ ing\\_tri = \\beta_{0} + \\beta_{1}{escolaridad\\_yrs} + \\beta_{2}({escolaridad\\_yrs})(mujer)+\\beta_{3}habla\\_ind+\\beta_{4}(habla\\_ind)(mujer)+ \\beta_{5}hrs\\_trab+\\beta_{6}(hrs\\_trab)(mujer)+\\beta_{7}edad+\\beta_{8}(edad)(mujer)+\\beta_{9}(edad)^{2}+\\beta_{10}(edad)^{2}(mujer)+\\beta_{11}num\\_trab+\\beta_{12}(num\\_trab)(mujer)+\\beta_{13}hrs\\_qh+\\beta_{14}(hrs\\_qh)(mujer)$\n",
        "\n",
        "##Abajo se muestra la regresión y sus resultados. "
      ]
    },
    {
      "cell_type": "code",
      "metadata": {
        "id": "rszENDm8A3QL"
      },
      "source": [
        "edad_cm <-(df_mujeres$edad)^2\n",
        "edad_ch <-(df_hombres$edad)^2\n",
        "edad_ct <-(df_enigh$edad)^2"
      ],
      "execution_count": null,
      "outputs": []
    },
    {
      "cell_type": "code",
      "metadata": {
        "id": "mpN01UqkCRmh"
      },
      "source": [
        "#paquete para devolver en formato de regresión tipo latex\n",
        "install.packages('equatiomatic')"
      ],
      "execution_count": null,
      "outputs": []
    },
    {
      "cell_type": "code",
      "metadata": {
        "id": "aioFsvU2CKWL"
      },
      "source": [
        "library('equatiomatic')"
      ],
      "execution_count": null,
      "outputs": []
    },
    {
      "cell_type": "code",
      "metadata": {
        "colab": {
          "base_uri": "https://localhost:8080/",
          "height": 1000
        },
        "id": "tvlVPwMMAoLY",
        "outputId": "2c6d5c68-3613-4fa4-a767-501bb00992e8"
      },
      "source": [
        "#codigo de la regresión de la P_6\n",
        "reg1_p6 <- lm(ing_tri~ escolaridad_yrs + escolaridad_yrs*mujer + habla_ind + habla_ind*mujer + hrs_trab+ hrs_trab*mujer + edad + edad*mujer + edad_ct+ edad_ct*mujer + num_trabaj + num_trabaj*mujer + hrs_qh + hrs_qh*mujer, df_enigh )\n",
        "se6 <- sqrt(diag(vcovHC(reg1_p6 ,type=\"HC1\")))\n",
        "reg1_p6 \n",
        "\n",
        "stargazer(reg1_p3 , reg2_p3 , reg1_p6 , type = \"text\",\n",
        "          dep.var.labels=c(\"ingreso\",\"ingreso\",\"ingreso\"), out=\"tablap6reg.txt\",\n",
        "          se = list(se1, se2, se6))\n",
        "\n",
        "summary(reg1_p6)\n",
        "extract_eq(reg1_p6, wrap = TRUE, intercept = \"beta\")\n",
        "\n"
      ],
      "execution_count": null,
      "outputs": [
        {
          "output_type": "display_data",
          "data": {
            "text/plain": [
              "\n",
              "Call:\n",
              "lm(formula = ing_tri ~ escolaridad_yrs + escolaridad_yrs * mujer + \n",
              "    habla_ind + habla_ind * mujer + hrs_trab + hrs_trab * mujer + \n",
              "    edad + edad * mujer + edad_ct + edad_ct * mujer + num_trabaj + \n",
              "    num_trabaj * mujer + hrs_qh + hrs_qh * mujer, data = df_enigh)\n",
              "\n",
              "Coefficients:\n",
              "          (Intercept)        escolaridad_yrs                  mujer  \n",
              "           -25354.456               1599.153              -3747.505  \n",
              "            habla_ind               hrs_trab                   edad  \n",
              "            -5111.190                129.241                932.370  \n",
              "              edad_ct             num_trabaj                 hrs_qh  \n",
              "               -8.201               -463.591                -69.120  \n",
              "escolaridad_yrs:mujer        mujer:habla_ind         mujer:hrs_trab  \n",
              "              120.900               2795.984                 16.364  \n",
              "           mujer:edad          mujer:edad_ct       mujer:num_trabaj  \n",
              "             -187.037                  2.410                792.739  \n",
              "         mujer:hrs_qh  \n",
              "              -36.982  \n"
            ]
          },
          "metadata": {}
        },
        {
          "output_type": "stream",
          "name": "stdout",
          "text": [
            "\n",
            "==============================================================================================================\n",
            "                                                        Dependent variable:                                   \n",
            "                      ----------------------------------------------------------------------------------------\n",
            "                                                              ingreso                                         \n",
            "                                  (1)                          (2)                           (3)              \n",
            "--------------------------------------------------------------------------------------------------------------\n",
            "escolaridad_yrs               1,720.053***                 1,599.153***                  1,599.153***         \n",
            "                                (20.528)                     (19.426)                      (19.426)           \n",
            "                                                                                                              \n",
            "mujer                                                                                   -3,747.505***         \n",
            "                                                                                          (695.372)           \n",
            "                                                                                                              \n",
            "habla_ind                    -2,315.206***                -5,111.190***                 -5,111.190***         \n",
            "                               (180.951)                    (170.436)                     (170.438)           \n",
            "                                                                                                              \n",
            "hrs_trab                       145.605***                   129.241***                    129.241***          \n",
            "                                (3.493)                      (3.382)                       (3.382)            \n",
            "                                                                                                              \n",
            "edad                           745.333***                   932.370***                    932.370***          \n",
            "                                (20.287)                     (17.432)                      (17.433)           \n",
            "                                                                                                              \n",
            "I(edad2)                       -5.791***                    -8.201***                                         \n",
            "                                (0.249)                      (0.214)                                          \n",
            "                                                                                                              \n",
            "edad_ct                                                                                   -8.201***           \n",
            "                                                                                           (0.214)            \n",
            "                                                                                                              \n",
            "num_trabaj                      329.148                     -463.591**                    -463.591**          \n",
            "                               (214.464)                    (190.387)                     (190.389)           \n",
            "                                                                                                              \n",
            "hrs_qh                        -106.102***                   -69.120***                    -69.120***          \n",
            "                                (5.183)                      (9.453)                       (9.453)            \n",
            "                                                                                                              \n",
            "escolaridad_yrs:mujer                                                                     120.900***          \n",
            "                                                                                           (28.262)           \n",
            "                                                                                                              \n",
            "mujer:habla_ind                                                                          2,795.984***         \n",
            "                                                                                          (248.578)           \n",
            "                                                                                                              \n",
            "mujer:hrs_trab                                                                            16.364***           \n",
            "                                                                                           (4.862)            \n",
            "                                                                                                              \n",
            "mujer:edad                                                                               -187.037***          \n",
            "                                                                                           (26.748)           \n",
            "                                                                                                              \n",
            "mujer:edad_ct                                                                              2.410***           \n",
            "                                                                                           (0.329)            \n",
            "                                                                                                              \n",
            "mujer:num_trabaj                                                                          792.739***          \n",
            "                                                                                          (286.777)           \n",
            "                                                                                                              \n",
            "mujer:hrs_qh                                                                              -36.982***          \n",
            "                                                                                           (10.781)           \n",
            "                                                                                                              \n",
            "Constant                     -29,101.960***               -25,354.460***                -25,354.460***        \n",
            "                               (527.960)                    (452.554)                     (452.559)           \n",
            "                                                                                                              \n",
            "--------------------------------------------------------------------------------------------------------------\n",
            "Observations                     44,288                       63,608                       107,896            \n",
            "R2                               0.291                        0.224                         0.263             \n",
            "Adjusted R2                      0.291                        0.224                         0.263             \n",
            "Residual Std. Error     13,347.960 (df = 44280)      15,044.100 (df = 63600)       14,372.150 (df = 107880)   \n",
            "F Statistic           2,598.374*** (df = 7; 44280) 2,618.078*** (df = 7; 63600) 2,567.310*** (df = 15; 107880)\n",
            "==============================================================================================================\n",
            "Note:                                                                              *p<0.1; **p<0.05; ***p<0.01\n"
          ]
        },
        {
          "output_type": "display_data",
          "data": {
            "text/plain": [
              "\n",
              "Call:\n",
              "lm(formula = ing_tri ~ escolaridad_yrs + escolaridad_yrs * mujer + \n",
              "    habla_ind + habla_ind * mujer + hrs_trab + hrs_trab * mujer + \n",
              "    edad + edad * mujer + edad_ct + edad_ct * mujer + num_trabaj + \n",
              "    num_trabaj * mujer + hrs_qh + hrs_qh * mujer, data = df_enigh)\n",
              "\n",
              "Residuals:\n",
              "   Min     1Q Median     3Q    Max \n",
              "-41548  -8844  -2201   5622  89151 \n",
              "\n",
              "Coefficients:\n",
              "                        Estimate Std. Error t value Pr(>|t|)    \n",
              "(Intercept)           -2.535e+04  4.546e+02 -55.768  < 2e-16 ***\n",
              "escolaridad_yrs        1.599e+03  1.514e+01 105.629  < 2e-16 ***\n",
              "mujer                 -3.748e+03  7.550e+02  -4.964 6.92e-07 ***\n",
              "habla_ind             -5.111e+03  2.004e+02 -25.499  < 2e-16 ***\n",
              "hrs_trab               1.292e+02  3.090e+00  41.821  < 2e-16 ***\n",
              "edad                   9.324e+02  1.874e+01  49.746  < 2e-16 ***\n",
              "edad_ct               -8.201e+00  2.189e-01 -37.462  < 2e-16 ***\n",
              "num_trabaj            -4.636e+02  1.750e+02  -2.649 0.008086 ** \n",
              "hrs_qh                -6.912e+01  8.856e+00  -7.805 6.02e-15 ***\n",
              "escolaridad_yrs:mujer  1.209e+02  2.335e+01   5.177 2.26e-07 ***\n",
              "mujer:habla_ind        2.796e+03  3.202e+02   8.732  < 2e-16 ***\n",
              "mujer:hrs_trab         1.636e+01  4.711e+00   3.473 0.000514 ***\n",
              "mujer:edad            -1.870e+02  3.200e+01  -5.845 5.08e-09 ***\n",
              "mujer:edad_ct          2.410e+00  3.770e-01   6.394 1.62e-10 ***\n",
              "mujer:num_trabaj       7.927e+02  2.822e+02   2.809 0.004967 ** \n",
              "mujer:hrs_qh          -3.698e+01  1.053e+01  -3.513 0.000443 ***\n",
              "---\n",
              "Signif. codes:  0 ‘***’ 0.001 ‘**’ 0.01 ‘*’ 0.05 ‘.’ 0.1 ‘ ’ 1\n",
              "\n",
              "Residual standard error: 14370 on 107880 degrees of freedom\n",
              "Multiple R-squared:  0.2631,\tAdjusted R-squared:  0.263 \n",
              "F-statistic:  2567 on 15 and 107880 DF,  p-value: < 2.2e-16\n"
            ]
          },
          "metadata": {}
        },
        {
          "output_type": "stream",
          "name": "stderr",
          "text": [
            "Warning message in mapply(...):\n",
            "“longer argument not a multiple of length of shorter”\n"
          ]
        },
        {
          "output_type": "display_data",
          "data": {
            "text/plain": [
              "$$\n",
              "\\begin{aligned}\n",
              "\\operatorname{ing\\_tri} &= \\beta_{0} + \\beta_{1}(\\operatorname{escolaridad\\_yrs}) + \\beta_{2}(\\operatorname{mujer}) + \\beta_{3}(\\operatorname{habla\\_ind})\\ + \\\\\n",
              "&\\quad \\beta_{4}(\\operatorname{hrs\\_trab}) + \\beta_{5}(\\operatorname{edad}) + \\beta_{6}(\\operatorname{edad\\_ct}) + \\beta_{7}(\\operatorname{num\\_trabaj})\\ + \\\\\n",
              "&\\quad \\beta_{8}(\\operatorname{hrs\\_qh}) + \\beta_{9}(\\operatorname{escolaridad\\_yrs} \\times \\operatorname{mujer}) + \\beta_{10}(\\operatorname{mujer} \\times \\operatorname{habla\\_ind}) + \\beta_{11}(\\operatorname{mujer} \\times \\operatorname{hrs\\_trab})\\ + \\\\\n",
              "&\\quad \\beta_{12}(\\operatorname{mujer} \\times \\operatorname{edad}) + \\beta_{13}(\\operatorname{mujer} \\times \\operatorname{edad}_{\\operatorname{\\_ct}} \\times \\operatorname{edad\\_ct}_{\\operatorname{mujer}}) + \\beta_{14}(\\operatorname{mujer} \\times \\operatorname{num\\_trabaj}) + \\beta_{15}(\\operatorname{mujer} \\times \\operatorname{hrs\\_qh})\\ + \\\\\n",
              "&\\quad \\epsilon\n",
              "\\end{aligned}\n",
              "$$"
            ],
            "text/latex": "'\\textbackslash{}\\textbackslash{}begin\\{aligned\\}\\textbackslash{}n\\textbackslash{}\\textbackslash{}operatorname\\{ing\\textbackslash{}\\textbackslash{}\\_tri\\} \\&= \\textbackslash{}\\textbackslash{}beta\\_\\{0\\} + \\textbackslash{}\\textbackslash{}beta\\_\\{1\\}(\\textbackslash{}\\textbackslash{}operatorname\\{escolaridad\\textbackslash{}\\textbackslash{}\\_yrs\\}) + \\textbackslash{}\\textbackslash{}beta\\_\\{2\\}(\\textbackslash{}\\textbackslash{}operatorname\\{mujer\\}) + \\textbackslash{}\\textbackslash{}beta\\_\\{3\\}(\\textbackslash{}\\textbackslash{}operatorname\\{habla\\textbackslash{}\\textbackslash{}\\_ind\\})\\textbackslash{}\\textbackslash{} + \\textbackslash{}\\textbackslash{}\\textbackslash{}\\textbackslash{}\\textbackslash{}n\\&\\textbackslash{}\\textbackslash{}quad \\textbackslash{}\\textbackslash{}beta\\_\\{4\\}(\\textbackslash{}\\textbackslash{}operatorname\\{hrs\\textbackslash{}\\textbackslash{}\\_trab\\}) + \\textbackslash{}\\textbackslash{}beta\\_\\{5\\}(\\textbackslash{}\\textbackslash{}operatorname\\{edad\\}) + \\textbackslash{}\\textbackslash{}beta\\_\\{6\\}(\\textbackslash{}\\textbackslash{}operatorname\\{edad\\textbackslash{}\\textbackslash{}\\_ct\\}) + \\textbackslash{}\\textbackslash{}beta\\_\\{7\\}(\\textbackslash{}\\textbackslash{}operatorname\\{num\\textbackslash{}\\textbackslash{}\\_trabaj\\})\\textbackslash{}\\textbackslash{} + \\textbackslash{}\\textbackslash{}\\textbackslash{}\\textbackslash{}\\textbackslash{}n\\&\\textbackslash{}\\textbackslash{}quad \\textbackslash{}\\textbackslash{}beta\\_\\{8\\}(\\textbackslash{}\\textbackslash{}operatorname\\{hrs\\textbackslash{}\\textbackslash{}\\_qh\\}) + \\textbackslash{}\\textbackslash{}beta\\_\\{9\\}(\\textbackslash{}\\textbackslash{}operatorname\\{escolaridad\\textbackslash{}\\textbackslash{}\\_yrs\\} \\textbackslash{}\\textbackslash{}times \\textbackslash{}\\textbackslash{}operatorname\\{mujer\\}) + \\textbackslash{}\\textbackslash{}beta\\_\\{10\\}(\\textbackslash{}\\textbackslash{}operatorname\\{mujer\\} \\textbackslash{}\\textbackslash{}times \\textbackslash{}\\textbackslash{}operatorname\\{habla\\textbackslash{}\\textbackslash{}\\_ind\\}) + \\textbackslash{}\\textbackslash{}beta\\_\\{11\\}(\\textbackslash{}\\textbackslash{}operatorname\\{mujer\\} \\textbackslash{}\\textbackslash{}times \\textbackslash{}\\textbackslash{}operatorname\\{hrs\\textbackslash{}\\textbackslash{}\\_trab\\})\\textbackslash{}\\textbackslash{} + \\textbackslash{}\\textbackslash{}\\textbackslash{}\\textbackslash{}\\textbackslash{}n\\&\\textbackslash{}\\textbackslash{}quad \\textbackslash{}\\textbackslash{}beta\\_\\{12\\}(\\textbackslash{}\\textbackslash{}operatorname\\{mujer\\} \\textbackslash{}\\textbackslash{}times \\textbackslash{}\\textbackslash{}operatorname\\{edad\\}) + \\textbackslash{}\\textbackslash{}beta\\_\\{13\\}(\\textbackslash{}\\textbackslash{}operatorname\\{mujer\\} \\textbackslash{}\\textbackslash{}times \\textbackslash{}\\textbackslash{}operatorname\\{edad\\}\\_\\{\\textbackslash{}\\textbackslash{}operatorname\\{\\textbackslash{}\\textbackslash{}\\_ct\\}\\} \\textbackslash{}\\textbackslash{}times \\textbackslash{}\\textbackslash{}operatorname\\{edad\\textbackslash{}\\textbackslash{}\\_ct\\}\\_\\{\\textbackslash{}\\textbackslash{}operatorname\\{mujer\\}\\}) + \\textbackslash{}\\textbackslash{}beta\\_\\{14\\}(\\textbackslash{}\\textbackslash{}operatorname\\{mujer\\} \\textbackslash{}\\textbackslash{}times \\textbackslash{}\\textbackslash{}operatorname\\{num\\textbackslash{}\\textbackslash{}\\_trabaj\\}) + \\textbackslash{}\\textbackslash{}beta\\_\\{15\\}(\\textbackslash{}\\textbackslash{}operatorname\\{mujer\\} \\textbackslash{}\\textbackslash{}times \\textbackslash{}\\textbackslash{}operatorname\\{hrs\\textbackslash{}\\textbackslash{}\\_qh\\})\\textbackslash{}\\textbackslash{} + \\textbackslash{}\\textbackslash{}\\textbackslash{}\\textbackslash{}\\textbackslash{}n\\&\\textbackslash{}\\textbackslash{}quad \\textbackslash{}\\textbackslash{}epsilon\\textbackslash{}n\\textbackslash{}\\textbackslash{}end\\{aligned\\}'",
            "text/markdown": "'\\\\begin{aligned}\\n\\\\operatorname{ing\\\\_tri} &amp;= \\\\beta_{0} + \\\\beta_{1}(\\\\operatorname{escolaridad\\\\_yrs}) + \\\\beta_{2}(\\\\operatorname{mujer}) + \\\\beta_{3}(\\\\operatorname{habla\\\\_ind})\\\\ + \\\\\\\\\\n&amp;\\\\quad \\\\beta_{4}(\\\\operatorname{hrs\\\\_trab}) + \\\\beta_{5}(\\\\operatorname{edad}) + \\\\beta_{6}(\\\\operatorname{edad\\\\_ct}) + \\\\beta_{7}(\\\\operatorname{num\\\\_trabaj})\\\\ + \\\\\\\\\\n&amp;\\\\quad \\\\beta_{8}(\\\\operatorname{hrs\\\\_qh}) + \\\\beta_{9}(\\\\operatorname{escolaridad\\\\_yrs} \\\\times \\\\operatorname{mujer}) + \\\\beta_{10}(\\\\operatorname{mujer} \\\\times \\\\operatorname{habla\\\\_ind}) + \\\\beta_{11}(\\\\operatorname{mujer} \\\\times \\\\operatorname{hrs\\\\_trab})\\\\ + \\\\\\\\\\n&amp;\\\\quad \\\\beta_{12}(\\\\operatorname{mujer} \\\\times \\\\operatorname{edad}) + \\\\beta_{13}(\\\\operatorname{mujer} \\\\times \\\\operatorname{edad}_{\\\\operatorname{\\\\_ct}} \\\\times \\\\operatorname{edad\\\\_ct}_{\\\\operatorname{mujer}}) + \\\\beta_{14}(\\\\operatorname{mujer} \\\\times \\\\operatorname{num\\\\_trabaj}) + \\\\beta_{15}(\\\\operatorname{mujer} \\\\times \\\\operatorname{hrs\\\\_qh})\\\\ + \\\\\\\\\\n&amp;\\\\quad \\\\epsilon\\n\\\\end{aligned}'",
            "text/html": [
              "'\\\\begin{aligned}\\n\\\\operatorname{ing\\\\_tri} &amp;= \\\\beta_{0} + \\\\beta_{1}(\\\\operatorname{escolaridad\\\\_yrs}) + \\\\beta_{2}(\\\\operatorname{mujer}) + \\\\beta_{3}(\\\\operatorname{habla\\\\_ind})\\\\ + \\\\\\\\\\n&amp;\\\\quad \\\\beta_{4}(\\\\operatorname{hrs\\\\_trab}) + \\\\beta_{5}(\\\\operatorname{edad}) + \\\\beta_{6}(\\\\operatorname{edad\\\\_ct}) + \\\\beta_{7}(\\\\operatorname{num\\\\_trabaj})\\\\ + \\\\\\\\\\n&amp;\\\\quad \\\\beta_{8}(\\\\operatorname{hrs\\\\_qh}) + \\\\beta_{9}(\\\\operatorname{escolaridad\\\\_yrs} \\\\times \\\\operatorname{mujer}) + \\\\beta_{10}(\\\\operatorname{mujer} \\\\times \\\\operatorname{habla\\\\_ind}) + \\\\beta_{11}(\\\\operatorname{mujer} \\\\times \\\\operatorname{hrs\\\\_trab})\\\\ + \\\\\\\\\\n&amp;\\\\quad \\\\beta_{12}(\\\\operatorname{mujer} \\\\times \\\\operatorname{edad}) + \\\\beta_{13}(\\\\operatorname{mujer} \\\\times \\\\operatorname{edad}_{\\\\operatorname{\\\\_ct}} \\\\times \\\\operatorname{edad\\\\_ct}_{\\\\operatorname{mujer}}) + \\\\beta_{14}(\\\\operatorname{mujer} \\\\times \\\\operatorname{num\\\\_trabaj}) + \\\\beta_{15}(\\\\operatorname{mujer} \\\\times \\\\operatorname{hrs\\\\_qh})\\\\ + \\\\\\\\\\n&amp;\\\\quad \\\\epsilon\\n\\\\end{aligned}'"
            ]
          },
          "metadata": {}
        }
      ]
    },
    {
      "cell_type": "markdown",
      "metadata": {
        "id": "DrJKdBMzuxAQ"
      },
      "source": [
        "# b) Utilizando los resultados de tu nueva estimación evalua si el rendimiento a la educación es distinto entre hombres y mujeres. Deberás indicar claramente tu prueba de hipótesis y el resultado que obtienes al evaluarla.\n",
        "\n",
        "#RESPUESTA P6_b):\n",
        "Para conocer si el rendimiento de la educación es diferente entre hombres y mujeres evaluamos una prueba de hipótesis :$\\beta_{1}(educación)$\n",
        "\n",
        "\n",
        "$H_0: \\beta_{1}=0$  vs  $H_a: \\beta_{1} \\neq  0$\n",
        "\n",
        "\n",
        "\n",
        "El p-value < 2e-16 es muy pequeño por lo que no rechazamos la hipotesis alternativa de que los rendimientos en educación son diferentes. De hecho con esta prueba ya podemos confirmar lo que ya habiamos sospechabamos en la gráfica pregunta 2_a). Las mujeres tienen un rendimiento promedio en educación mejor que los hombres.\n"
      ]
    },
    {
      "cell_type": "markdown",
      "metadata": {
        "id": "HnUnmLDduzL2"
      },
      "source": [
        "# c) Evaluá si hay evidencia que el rendimiento de alguna de las caracter ́ısitcas es distinta entre hombres y mujeres. Nuevamente deber ́as indicar claramente tu prueba de hip ́otesis y los resultados obtenidos al evaluarla.\n",
        "\n",
        "##RESPUESTA P6_C):\n",
        "\n",
        "En esta parte hacemos una prueba de hipotesis multidimensional y para ello le pedimos a R que utilice una preuba F que diga que la hipótesis nula es que todas las betas son iguales y la alternativa que son diferentes.\n",
        "\n",
        "\n",
        "$H_0: \\beta_i=0$ vs.$ H_a: \\beta_i=0 | i=0,1,...,15$\n",
        "\n",
        "\n",
        "El resultados es el valor-F donde el resultado arrojado es muy pequeño (< 2.2e-16), por lo que no podemos rechazar la hipótesis nula de que las betas son diferentes. "
      ]
    },
    {
      "cell_type": "markdown",
      "metadata": {
        "id": "mujXlACiR2qJ"
      },
      "source": [
        "\n",
        "## 7. Haz una comparación de la diferencia de medias de salarios entre hombres y mujeres que obtuviste en:  \n",
        "\n",
        "1.   (i) la primera pregunta (comparación simple de medias de salarios)\n",
        "2.   Elemento de la lista, (ii) la columna (3) de la Tabla 1 \n",
        "3. (iii) La especificaci ́on de la prergunta anterior. \n",
        "\n",
        "De todas estas comparaciones, ¿cúal consideras que describe de mejor manera la dscriminación de género en el mercado laboral? Haz una gráfica en la que compares los intervalos de confianza de la diferencia salarial promedio entre hombres y mujeres que obtienes de estas tres estimaciones.\n"
      ]
    },
    {
      "cell_type": "code",
      "metadata": {
        "colab": {
          "base_uri": "https://localhost:8080/",
          "height": 805
        },
        "id": "HYV6mWWIwQdH",
        "outputId": "ee4649ac-1410-4ce7-9b1a-8cbaf45d3997"
      },
      "source": [
        "#names(reg3_p3 )\n",
        "## IC (i)\n",
        "reg3_p3_7 <- lm(ing_tri~mujer, df_enigh)\n",
        "reg3_p3_7\n",
        "confint(reg3_p3_7 , level=0.95)\n",
        "\n",
        "#IC (ii)\n",
        "reg3_p3 \n",
        "#confint(reg3_p3 , level=0.95)\n",
        "\n",
        "#IC (iii)\n",
        "reg1_p6\n",
        "#confint(reg1_p6 , level=0.95)\n"
      ],
      "execution_count": null,
      "outputs": [
        {
          "output_type": "display_data",
          "data": {
            "text/plain": [
              "\n",
              "Call:\n",
              "lm(formula = ing_tri ~ mujer, data = df_enigh)\n",
              "\n",
              "Coefficients:\n",
              "(Intercept)        mujer  \n",
              "      21357        -4656  \n"
            ]
          },
          "metadata": {}
        },
        {
          "output_type": "display_data",
          "data": {
            "text/plain": [
              "            2.5 %     97.5 %   \n",
              "(Intercept) 21228.564 21486.316\n",
              "mujer       -4857.629 -4455.319"
            ],
            "text/latex": "A matrix: 2 × 2 of type dbl\n\\begin{tabular}{r|ll}\n  & 2.5 \\% & 97.5 \\%\\\\\n\\hline\n\t(Intercept) & 21228.564 & 21486.316\\\\\n\tmujer & -4857.629 & -4455.319\\\\\n\\end{tabular}\n",
            "text/markdown": "\nA matrix: 2 × 2 of type dbl\n\n| <!--/--> | 2.5 % | 97.5 % |\n|---|---|---|\n| (Intercept) | 21228.564 | 21486.316 |\n| mujer | -4857.629 | -4455.319 |\n\n",
            "text/html": [
              "<table class=\"dataframe\">\n",
              "<caption>A matrix: 2 × 2 of type dbl</caption>\n",
              "<thead>\n",
              "\t<tr><th></th><th scope=col>2.5 %</th><th scope=col>97.5 %</th></tr>\n",
              "</thead>\n",
              "<tbody>\n",
              "\t<tr><th scope=row>(Intercept)</th><td>21228.564</td><td>21486.316</td></tr>\n",
              "\t<tr><th scope=row>mujer</th><td>-4857.629</td><td>-4455.319</td></tr>\n",
              "</tbody>\n",
              "</table>\n"
            ]
          },
          "metadata": {}
        },
        {
          "output_type": "display_data",
          "data": {
            "text/plain": [
              "\n",
              "Call:\n",
              "lm(formula = ing_tri ~ mujer + escolaridad_yrs + habla_ind + \n",
              "    hrs_trab + edad + I(edad^2) + num_trabaj + hrs_qh, data = df_enigh)\n",
              "\n",
              "Coefficients:\n",
              "    (Intercept)            mujer  escolaridad_yrs        habla_ind  \n",
              "     -25503.839        -3779.392         1653.485        -4042.224  \n",
              "       hrs_trab             edad        I(edad^2)       num_trabaj  \n",
              "        136.871          864.527           -7.339         -191.690  \n",
              "         hrs_qh  \n",
              "        -99.960  \n"
            ]
          },
          "metadata": {}
        },
        {
          "output_type": "display_data",
          "data": {
            "text/plain": [
              "\n",
              "Call:\n",
              "lm(formula = ing_tri ~ escolaridad_yrs + escolaridad_yrs * mujer + \n",
              "    habla_ind + habla_ind * mujer + hrs_trab + hrs_trab * mujer + \n",
              "    edad + edad * mujer + edad_ct + edad_ct * mujer + num_trabaj + \n",
              "    num_trabaj * mujer + hrs_qh + hrs_qh * mujer, data = df_enigh)\n",
              "\n",
              "Coefficients:\n",
              "          (Intercept)        escolaridad_yrs                  mujer  \n",
              "           -25354.456               1599.153              -3747.505  \n",
              "            habla_ind               hrs_trab                   edad  \n",
              "            -5111.190                129.241                932.370  \n",
              "              edad_ct             num_trabaj                 hrs_qh  \n",
              "               -8.201               -463.591                -69.120  \n",
              "escolaridad_yrs:mujer        mujer:habla_ind         mujer:hrs_trab  \n",
              "              120.900               2795.984                 16.364  \n",
              "           mujer:edad          mujer:edad_ct       mujer:num_trabaj  \n",
              "             -187.037                  2.410                792.739  \n",
              "         mujer:hrs_qh  \n",
              "              -36.982  \n"
            ]
          },
          "metadata": {}
        }
      ]
    },
    {
      "cell_type": "code",
      "metadata": {
        "colab": {
          "base_uri": "https://localhost:8080/",
          "height": 472
        },
        "id": "vzVd2jRwpGR6",
        "outputId": "dc42ecfe-3a9e-44db-e10c-90f5c93b10ce"
      },
      "source": [
        "#IC_1(-4857.629,\t-4455.319) | IC_2(-3569.29372, -3989.49028) | IC_3(-5110.43412, -2384.57588)\n",
        "# Medias 4656.47 | 3779.392 | 3747.505 \n",
        "\n",
        "\n",
        "\n",
        "int_conf.df <- data.frame(Etiquetas = c(\"IC_1\", \"IC_2\", \"IC_3\"), \n",
        "\t\t\t\t\t\t\t\t\t\t\t\t\t\t\t\tmean = c(-4656.47, -3779.392, -3747.505  ), \n",
        "                                lower = c(-4857.629, -3569.29372, -5110.43412), \n",
        "\t\t\t\t\t\t\t\t\t\t\t\t\t\t\t\tupper = c(-4455.319, -3989.49028, -2384.57588))\n",
        "\n",
        "ggplot() + geom_errorbarh(data = int_conf.df, \n",
        "\t\t\t\t\t\t\t\t\t\t\t\t\tmapping = aes(y = Etiquetas, x = upper, xmin= lower, xmax = upper), #En x puedes poner upper/lower\n",
        "\t\t\t\t\t\t\t\t\t\t\t\t\theight = 0.2) + \n",
        "geom_point(data = int_conf.df, \n",
        "\t\t\t\t\tmapping = aes(y = Etiquetas, x = mean)) \n",
        "\n"
      ],
      "execution_count": null,
      "outputs": [
        {
          "output_type": "stream",
          "name": "stderr",
          "text": [
            "Warning message:\n",
            "“Ignoring unknown aesthetics: x”\n"
          ]
        },
        {
          "output_type": "display_data",
          "data": {
            "image/png": "[encoded data removed]",
            "text/plain": [
              "plot without title"
            ]
          },
          "metadata": {
            "image/png": {
              "width": 420,
              "height": 420
            }
          }
        }
      ]
    },
    {
      "cell_type": "markdown",
      "metadata": {
        "id": "BRUIsuS4NRbS"
      },
      "source": [
        "# RESPUESTA P_7:\n",
        "\n",
        "##Pienso que el modelo que muestra de forma más explicita y correcta la desigualdad salarial de género en México es la de la pregunta 3 columnas 3 que podemos ver en el IC2. Aquí vemos como el intervalo no es tan amplio y que al final con un 95% de certeza las mujeres ganan menos que los hombres. El IC3 no es tan confiable porque es demasiado amplio. \n"
      ]
    },
    {
      "cell_type": "markdown",
      "metadata": {
        "id": "Brtm72KQR4k2"
      },
      "source": [
        "##8. Agrega la variable hijos a tu especificación de la comuna (3). Reporta el resultado de tu estimación con formato de ecuación. ¿Por qué crees que el resultado cambia tanto respecto a lo que obtendrías en la columna (3)? \n",
        "\n",
        "Argumenta (en la medida de lo posible respaldado con evidencia) cuál de las dos especificaciones es más correcta.\n",
        "\n",
        "#RESPUESTA P_8:\n",
        "##El resultado cambia demasiado porque para la variable hijos solo aplica para las mujeres, entonces estamos frente a una regresión que aisla de facto a los hombres. Ahora la variabilidad se hace más fuerte porque sin importar los niveles de ingreso en promedio las mujeres en México tienen un numero de hijos bastante similar."
      ]
    },
    {
      "cell_type": "code",
      "metadata": {
        "id": "0nz4lLEER6sl"
      },
      "source": [
        "#descargamos la base otra vez pero porq la que tenemos ya esta filtrada y no queremos romperla\n",
        "df_enigh_p8 <- as.data.frame(datos_enigh)\n",
        "names(df_enigh_p8)"
      ],
      "execution_count": null,
      "outputs": []
    },
    {
      "cell_type": "code",
      "metadata": {
        "colab": {
          "base_uri": "https://localhost:8080/",
          "height": 467
        },
        "id": "-cOj56YJPdb4",
        "outputId": "d16b3652-6f64-4e16-ee8f-6f6b8d9b68f6"
      },
      "source": [
        "#Creamos una dummy para hombre y mujer otra vez\n",
        "df_enigh_p8  <- df_enigh_p8 %>% mutate(hombre = ifelse(sexo ==1,1,0) ) %>% mutate(mujer = ifelse(sexo ==2,1,0) )\n",
        "names(df_enigh_p8 )\n",
        "################################################\n",
        "#Ajustamos la base a las variables que vamos a usar ahora le vamos a meter hijos\n",
        "df_enigh_p8 <- df_enigh_p8  %>% \n",
        "  dplyr::select(sexo, ing_tri, habla_ind, hrs_trab, edad, num_trabaj, \n",
        "                escolaridad_yrs, hrs_qh, hombre, mujer, tm_40hrs, hijos)\n",
        "\n",
        "summary(df_enigh_p8) "
      ],
      "execution_count": null,
      "outputs": [
        {
          "output_type": "display_data",
          "data": {
            "text/plain": [
              " [1] \"v1\"                 \"id\"                 \"id_2\"              \n",
              " [4] \"sexo\"               \"edad\"               \"hijos\"             \n",
              " [7] \"parentesco\"         \"vive_pareja\"        \"escolaridad_yrs\"   \n",
              "[10] \"integrt_hog\"        \"sexo_jefe\"          \"ubica_geo\"         \n",
              "[13] \"estado\"             \"zona\"               \"habla_ind\"         \n",
              "[16] \"int_habla_ind_porc\" \"hrs_qh\"             \"hrs_trab\"          \n",
              "[19] \"log_hrs_trab\"       \"tm_40hrs\"           \"num_trabaj\"        \n",
              "[22] \"trabajos\"           \"ing_tri\"            \"factor\"            \n",
              "[25] \"upm\"                \"est_dis\"            \"hombre\"            \n",
              "[28] \"mujer\"             "
            ],
            "text/latex": "\\begin{enumerate*}\n\\item 'v1'\n\\item 'id'\n\\item 'id\\_2'\n\\item 'sexo'\n\\item 'edad'\n\\item 'hijos'\n\\item 'parentesco'\n\\item 'vive\\_pareja'\n\\item 'escolaridad\\_yrs'\n\\item 'integrt\\_hog'\n\\item 'sexo\\_jefe'\n\\item 'ubica\\_geo'\n\\item 'estado'\n\\item 'zona'\n\\item 'habla\\_ind'\n\\item 'int\\_habla\\_ind\\_porc'\n\\item 'hrs\\_qh'\n\\item 'hrs\\_trab'\n\\item 'log\\_hrs\\_trab'\n\\item 'tm\\_40hrs'\n\\item 'num\\_trabaj'\n\\item 'trabajos'\n\\item 'ing\\_tri'\n\\item 'factor'\n\\item 'upm'\n\\item 'est\\_dis'\n\\item 'hombre'\n\\item 'mujer'\n\\end{enumerate*}\n",
            "text/markdown": "1. 'v1'\n2. 'id'\n3. 'id_2'\n4. 'sexo'\n5. 'edad'\n6. 'hijos'\n7. 'parentesco'\n8. 'vive_pareja'\n9. 'escolaridad_yrs'\n10. 'integrt_hog'\n11. 'sexo_jefe'\n12. 'ubica_geo'\n13. 'estado'\n14. 'zona'\n15. 'habla_ind'\n16. 'int_habla_ind_porc'\n17. 'hrs_qh'\n18. 'hrs_trab'\n19. 'log_hrs_trab'\n20. 'tm_40hrs'\n21. 'num_trabaj'\n22. 'trabajos'\n23. 'ing_tri'\n24. 'factor'\n25. 'upm'\n26. 'est_dis'\n27. 'hombre'\n28. 'mujer'\n\n\n",
            "text/html": [
              "<style>\n",
              ".list-inline {list-style: none; margin:0; padding: 0}\n",
              ".list-inline>li {display: inline-block}\n",
              ".list-inline>li:not(:last-child)::after {content: \"\\00b7\"; padding: 0 .5ex}\n",
              "</style>\n",
              "<ol class=list-inline><li>'v1'</li><li>'id'</li><li>'id_2'</li><li>'sexo'</li><li>'edad'</li><li>'hijos'</li><li>'parentesco'</li><li>'vive_pareja'</li><li>'escolaridad_yrs'</li><li>'integrt_hog'</li><li>'sexo_jefe'</li><li>'ubica_geo'</li><li>'estado'</li><li>'zona'</li><li>'habla_ind'</li><li>'int_habla_ind_porc'</li><li>'hrs_qh'</li><li>'hrs_trab'</li><li>'log_hrs_trab'</li><li>'tm_40hrs'</li><li>'num_trabaj'</li><li>'trabajos'</li><li>'ing_tri'</li><li>'factor'</li><li>'upm'</li><li>'est_dis'</li><li>'hombre'</li><li>'mujer'</li></ol>\n"
            ]
          },
          "metadata": {}
        },
        {
          "output_type": "display_data",
          "data": {
            "text/plain": [
              "      sexo          ing_tri           habla_ind          hrs_trab    \n",
              " Min.   :1.000   Min.   :    0.48   Min.   :0.00000   Min.   :  1.0  \n",
              " 1st Qu.:1.000   1st Qu.: 6971.54   1st Qu.:0.00000   1st Qu.: 25.0  \n",
              " Median :1.000   Median :14942.92   Median :0.00000   Median : 42.0  \n",
              " Mean   :1.415   Mean   :18779.09   Mean   :0.09603   Mean   : 40.1  \n",
              " 3rd Qu.:2.000   3rd Qu.:24749.99   3rd Qu.:0.00000   3rd Qu.: 50.0  \n",
              " Max.   :2.000   Max.   :99963.92   Max.   :1.00000   Max.   :168.0  \n",
              "                                                                     \n",
              "      edad          num_trabaj   escolaridad_yrs     hrs_qh         hombre     \n",
              " Min.   : 12.00   Min.   :1.00   Min.   : 1.00   Min.   : 0.0   Min.   :0.000  \n",
              " 1st Qu.: 28.00   1st Qu.:1.00   1st Qu.:10.00   1st Qu.: 0.0   1st Qu.:0.000  \n",
              " Median : 39.00   Median :1.00   Median :12.00   Median : 7.0   Median :1.000  \n",
              " Mean   : 40.11   Mean   :1.12   Mean   :12.92   Mean   :10.2   Mean   :0.585  \n",
              " 3rd Qu.: 51.00   3rd Qu.:1.00   3rd Qu.:15.00   3rd Qu.:14.0   3rd Qu.:1.000  \n",
              " Max.   :104.00   Max.   :2.00   Max.   :26.00   Max.   :95.0   Max.   :1.000  \n",
              "                  NA's   :3763   NA's   :4441                                  \n",
              "     mujer          tm_40hrs          hijos      \n",
              " Min.   :0.000   Min.   :0.0000   Min.   : 0.00  \n",
              " 1st Qu.:0.000   1st Qu.:0.0000   1st Qu.: 2.00  \n",
              " Median :0.000   Median :1.0000   Median : 2.00  \n",
              " Mean   :0.415   Mean   :0.5238   Mean   : 2.82  \n",
              " 3rd Qu.:1.000   3rd Qu.:1.0000   3rd Qu.: 3.00  \n",
              " Max.   :1.000   Max.   :1.0000   Max.   :16.00  \n",
              "                                  NA's   :79240  "
            ]
          },
          "metadata": {}
        }
      ]
    },
    {
      "cell_type": "code",
      "metadata": {
        "id": "aPWPT7UaQPcl"
      },
      "source": [
        "#agregamos edad al cuadrado con la nueva base \n",
        "edad_ct_p8 <- df_enigh_p8$edad^2"
      ],
      "execution_count": null,
      "outputs": []
    },
    {
      "cell_type": "code",
      "metadata": {
        "colab": {
          "base_uri": "https://localhost:8080/",
          "height": 451
        },
        "id": "nKFcuYmyP4LU",
        "outputId": "461abccd-f768-45ed-ed0d-1347d476811c"
      },
      "source": [
        "reg3_p8 <- lm(ing_tri~ mujer + escolaridad_yrs + habla_ind+ hrs_trab + edad + edad_ct_p8  + num_trabaj+ hrs_qh+hijos, df_enigh_p8)\n",
        "se3 <- sqrt(diag(vcovHC(reg3_p8,type=\"HC1\")))\n",
        "reg3_p8\n",
        "reg3_p3"
      ],
      "execution_count": null,
      "outputs": [
        {
          "output_type": "display_data",
          "data": {
            "text/plain": [
              "\n",
              "Call:\n",
              "lm(formula = ing_tri ~ mujer + escolaridad_yrs + habla_ind + \n",
              "    hrs_trab + edad + edad_ct_p8 + num_trabaj + hrs_qh + hijos, \n",
              "    data = df_enigh_p8)\n",
              "\n",
              "Coefficients:\n",
              "    (Intercept)            mujer  escolaridad_yrs        habla_ind  \n",
              "     -36539.566        11868.577         1731.275        -2035.376  \n",
              "       hrs_trab             edad       edad_ct_p8       num_trabaj  \n",
              "        145.856          545.539           -3.691          372.553  \n",
              "         hrs_qh            hijos  \n",
              "        -97.906         -121.645  \n"
            ]
          },
          "metadata": {}
        },
        {
          "output_type": "display_data",
          "data": {
            "text/plain": [
              "\n",
              "Call:\n",
              "lm(formula = ing_tri ~ mujer + escolaridad_yrs + habla_ind + \n",
              "    hrs_trab + edad + I(edad^2) + num_trabaj + hrs_qh, data = df_enigh)\n",
              "\n",
              "Coefficients:\n",
              "    (Intercept)            mujer  escolaridad_yrs        habla_ind  \n",
              "     -25503.839        -3779.392         1653.485        -4042.224  \n",
              "       hrs_trab             edad        I(edad^2)       num_trabaj  \n",
              "        136.871          864.527           -7.339         -191.690  \n",
              "         hrs_qh  \n",
              "        -99.960  \n"
            ]
          },
          "metadata": {}
        }
      ]
    },
    {
      "cell_type": "code",
      "metadata": {
        "colab": {
          "base_uri": "https://localhost:8080/",
          "height": 472
        },
        "id": "dVIFGbmzZBWF",
        "outputId": "80ee381d-522b-4265-e018-8b153dd75d26"
      },
      "source": [
        "\n",
        "int_conf.df <- data.frame(Etiquetas = c(\"IC_1\", \"IC_2\"), \n",
        "\t\t\t\t\t\t\t\t\t\t\t\t\t\t\t\tmean = c(11868.577   , -3779.392), \n",
        "                                lower = c(-14647.936356, -3569.29372), \n",
        "\t\t\t\t\t\t\t\t\t\t\t\t\t\t\t\tupper = c(38385.08978, -3989.49028))\n",
        "\t\n",
        "ggplot() + geom_errorbarh(data = int_conf.df, \n",
        "\t\t\t\t\t\t\t\t\t\t\t\t\tmapping = aes(y = Etiquetas, x = upper, xmin= lower, xmax = upper), #En x puedes poner upper/lower\n",
        "\t\t\t\t\t\t\t\t\t\t\t\t\theight = 0.2) + \n",
        "geom_point(data = int_conf.df, \n",
        "\t\t\t\t\tmapping = aes(y = Etiquetas, x = mean)) \n"
      ],
      "execution_count": null,
      "outputs": [
        {
          "output_type": "stream",
          "name": "stderr",
          "text": [
            "Warning message:\n",
            "“Ignoring unknown aesthetics: x”\n"
          ]
        },
        {
          "output_type": "display_data",
          "data": {
            "image/png": "[encoded data removed]",
            "text/plain": [
              "plot without title"
            ]
          },
          "metadata": {
            "image/png": {
              "width": 420,
              "height": 420
            }
          }
        }
      ]
    },
    {
      "cell_type": "code",
      "metadata": {
        "colab": {
          "base_uri": "https://localhost:8080/",
          "height": 712
        },
        "id": "vGHW985rYtfu",
        "outputId": "ac9eb141-2742-4c4d-8bed-611c3be7ed80"
      },
      "source": [
        "confint(reg3_p3 , level=0.95)\n",
        "confint(reg3_p8 , level=0.95)"
      ],
      "execution_count": null,
      "outputs": [
        {
          "output_type": "display_data",
          "data": {
            "text/plain": [
              "                2.5 %         97.5 %       \n",
              "(Intercept)     -26212.939360 -24794.738172\n",
              "mujer            -3988.884679  -3569.898633\n",
              "escolaridad_yrs   1631.030626   1675.938753\n",
              "habla_ind        -4348.744351  -3735.704392\n",
              "hrs_trab           132.299782    141.441981\n",
              "edad               834.830807    894.223087\n",
              "I(edad^2)           -7.687405     -6.990757\n",
              "num_trabaj        -460.856493     77.475821\n",
              "hrs_qh            -109.093161    -90.825890"
            ],
            "text/latex": "A matrix: 9 × 2 of type dbl\n\\begin{tabular}{r|ll}\n  & 2.5 \\% & 97.5 \\%\\\\\n\\hline\n\t(Intercept) & -26212.939360 & -24794.738172\\\\\n\tmujer &  -3988.884679 &  -3569.898633\\\\\n\tescolaridad\\_yrs &   1631.030626 &   1675.938753\\\\\n\thabla\\_ind &  -4348.744351 &  -3735.704392\\\\\n\thrs\\_trab &    132.299782 &    141.441981\\\\\n\tedad &    834.830807 &    894.223087\\\\\n\tI(edad\\textasciicircum{}2) &     -7.687405 &     -6.990757\\\\\n\tnum\\_trabaj &   -460.856493 &     77.475821\\\\\n\thrs\\_qh &   -109.093161 &    -90.825890\\\\\n\\end{tabular}\n",
            "text/markdown": "\nA matrix: 9 × 2 of type dbl\n\n| <!--/--> | 2.5 % | 97.5 % |\n|---|---|---|\n| (Intercept) | -26212.939360 | -24794.738172 |\n| mujer |  -3988.884679 |  -3569.898633 |\n| escolaridad_yrs |   1631.030626 |   1675.938753 |\n| habla_ind |  -4348.744351 |  -3735.704392 |\n| hrs_trab |    132.299782 |    141.441981 |\n| edad |    834.830807 |    894.223087 |\n| I(edad^2) |     -7.687405 |     -6.990757 |\n| num_trabaj |   -460.856493 |     77.475821 |\n| hrs_qh |   -109.093161 |    -90.825890 |\n\n",
            "text/html": [
              "<table class=\"dataframe\">\n",
              "<caption>A matrix: 9 × 2 of type dbl</caption>\n",
              "<thead>\n",
              "\t<tr><th></th><th scope=col>2.5 %</th><th scope=col>97.5 %</th></tr>\n",
              "</thead>\n",
              "<tbody>\n",
              "\t<tr><th scope=row>(Intercept)</th><td>-26212.939360</td><td>-24794.738172</td></tr>\n",
              "\t<tr><th scope=row>mujer</th><td> -3988.884679</td><td> -3569.898633</td></tr>\n",
              "\t<tr><th scope=row>escolaridad_yrs</th><td>  1631.030626</td><td>  1675.938753</td></tr>\n",
              "\t<tr><th scope=row>habla_ind</th><td> -4348.744351</td><td> -3735.704392</td></tr>\n",
              "\t<tr><th scope=row>hrs_trab</th><td>   132.299782</td><td>   141.441981</td></tr>\n",
              "\t<tr><th scope=row>edad</th><td>   834.830807</td><td>   894.223087</td></tr>\n",
              "\t<tr><th scope=row>I(edad^2)</th><td>    -7.687405</td><td>    -6.990757</td></tr>\n",
              "\t<tr><th scope=row>num_trabaj</th><td>  -460.856493</td><td>    77.475821</td></tr>\n",
              "\t<tr><th scope=row>hrs_qh</th><td>  -109.093161</td><td>   -90.825890</td></tr>\n",
              "</tbody>\n",
              "</table>\n"
            ]
          },
          "metadata": {}
        },
        {
          "output_type": "display_data",
          "data": {
            "text/plain": [
              "                2.5 %         97.5 %     \n",
              "(Intercept)     -63118.314149 -9960.81730\n",
              "mujer           -14647.936356 38385.08978\n",
              "escolaridad_yrs   1691.742153  1770.80685\n",
              "habla_ind        -2572.667622 -1498.08523\n",
              "hrs_trab           138.414887   153.29752\n",
              "edad               477.809713   613.26895\n",
              "edad_ct_p8          -4.434572    -2.94700\n",
              "num_trabaj         -80.774273   825.88043\n",
              "hrs_qh            -109.449801   -86.36235\n",
              "hijos             -232.045887   -11.24351"
            ],
            "text/latex": "A matrix: 10 × 2 of type dbl\n\\begin{tabular}{r|ll}\n  & 2.5 \\% & 97.5 \\%\\\\\n\\hline\n\t(Intercept) & -63118.314149 & -9960.81730\\\\\n\tmujer & -14647.936356 & 38385.08978\\\\\n\tescolaridad\\_yrs &   1691.742153 &  1770.80685\\\\\n\thabla\\_ind &  -2572.667622 & -1498.08523\\\\\n\thrs\\_trab &    138.414887 &   153.29752\\\\\n\tedad &    477.809713 &   613.26895\\\\\n\tedad\\_ct\\_p8 &     -4.434572 &    -2.94700\\\\\n\tnum\\_trabaj &    -80.774273 &   825.88043\\\\\n\thrs\\_qh &   -109.449801 &   -86.36235\\\\\n\thijos &   -232.045887 &   -11.24351\\\\\n\\end{tabular}\n",
            "text/markdown": "\nA matrix: 10 × 2 of type dbl\n\n| <!--/--> | 2.5 % | 97.5 % |\n|---|---|---|\n| (Intercept) | -63118.314149 | -9960.81730 |\n| mujer | -14647.936356 | 38385.08978 |\n| escolaridad_yrs |   1691.742153 |  1770.80685 |\n| habla_ind |  -2572.667622 | -1498.08523 |\n| hrs_trab |    138.414887 |   153.29752 |\n| edad |    477.809713 |   613.26895 |\n| edad_ct_p8 |     -4.434572 |    -2.94700 |\n| num_trabaj |    -80.774273 |   825.88043 |\n| hrs_qh |   -109.449801 |   -86.36235 |\n| hijos |   -232.045887 |   -11.24351 |\n\n",
            "text/html": [
              "<table class=\"dataframe\">\n",
              "<caption>A matrix: 10 × 2 of type dbl</caption>\n",
              "<thead>\n",
              "\t<tr><th></th><th scope=col>2.5 %</th><th scope=col>97.5 %</th></tr>\n",
              "</thead>\n",
              "<tbody>\n",
              "\t<tr><th scope=row>(Intercept)</th><td>-63118.314149</td><td>-9960.81730</td></tr>\n",
              "\t<tr><th scope=row>mujer</th><td>-14647.936356</td><td>38385.08978</td></tr>\n",
              "\t<tr><th scope=row>escolaridad_yrs</th><td>  1691.742153</td><td> 1770.80685</td></tr>\n",
              "\t<tr><th scope=row>habla_ind</th><td> -2572.667622</td><td>-1498.08523</td></tr>\n",
              "\t<tr><th scope=row>hrs_trab</th><td>   138.414887</td><td>  153.29752</td></tr>\n",
              "\t<tr><th scope=row>edad</th><td>   477.809713</td><td>  613.26895</td></tr>\n",
              "\t<tr><th scope=row>edad_ct_p8</th><td>    -4.434572</td><td>   -2.94700</td></tr>\n",
              "\t<tr><th scope=row>num_trabaj</th><td>   -80.774273</td><td>  825.88043</td></tr>\n",
              "\t<tr><th scope=row>hrs_qh</th><td>  -109.449801</td><td>  -86.36235</td></tr>\n",
              "\t<tr><th scope=row>hijos</th><td>  -232.045887</td><td>  -11.24351</td></tr>\n",
              "</tbody>\n",
              "</table>\n"
            ]
          },
          "metadata": {}
        }
      ]
    },
    {
      "cell_type": "markdown",
      "metadata": {
        "id": "742QQknpR60t"
      },
      "source": [
        "9. ¿Cómo se relaciona este ejercicio a un ejercicio de descomposición de Oaxaca-Blinder? Utilizando el capítulo de Fortin et al. (2011), estima el efecto estructural (∆μS) y el efecto de composici ́on (∆μX) descritos en la pp. 37, ecuaciones 14-16. Reporta el porcentaje de la diferencia de salarios que es explicado y el porcentaje no explicado.\n",
        "\n",
        "\n",
        "\n",
        "#RESPUESTA P_8:\n",
        "\n",
        "#Explicado: 47.57 %\n",
        "#No Explicado: 52.42% \n"
      ]
    },
    {
      "cell_type": "code",
      "metadata": {
        "colab": {
          "base_uri": "https://localhost:8080/",
          "height": 294
        },
        "id": "N7bJV5QbT-rD",
        "outputId": "e67ab063-c0e6-410b-9fac-0cc355ab1cf2"
      },
      "source": [
        "## Pregunta 9\n",
        "#¿Cómo se relaciona este ejercicio a un ejercicio de descomposición de Oaxaca-Blinder?\n",
        "\n",
        "#structure: 18222.9\n",
        "#composition: 13752.36\n",
        "\n",
        "#Explicado: 47.57 %\n",
        "#No Explicado: 52.42%\n",
        "\n",
        "\n",
        "#```{r}\n",
        "\n",
        "reg_h <- lm( log(df_enigh$ing_tri) ~ df_enigh$hombre) \n",
        "reg_m <- lm( log(df_enigh$ing_tri) ~ df_enigh$mujer)\n",
        "\n",
        "reg_h\n",
        "reg_m\n",
        "\n",
        "structure_effect <- mean(df_enigh$ing_tri)*(0.4108+0.4108)\n",
        "composition_effect <- mean(df_hombres$ing_tri)-mean(df_mujeres$ing_tri)*(0.4108)\n",
        "\n",
        "\n",
        "structure_effect \n",
        "composition_effect\n",
        " #suma 15976.9157932892 + 14496.6832581616\n",
        "\n",
        " #Explicado: 15976.9157932892/30473.5990514508\n",
        "  #No explicado: 14496.6832581616/30473.5990514508"
      ],
      "execution_count": null,
      "outputs": [
        {
          "output_type": "display_data",
          "data": {
            "text/plain": [
              "\n",
              "Call:\n",
              "lm(formula = log(df_enigh$ing_tri) ~ df_enigh$hombre)\n",
              "\n",
              "Coefficients:\n",
              "    (Intercept)  df_enigh$hombre  \n",
              "         9.1902           0.4108  \n"
            ]
          },
          "metadata": {}
        },
        {
          "output_type": "display_data",
          "data": {
            "text/plain": [
              "\n",
              "Call:\n",
              "lm(formula = log(df_enigh$ing_tri) ~ df_enigh$mujer)\n",
              "\n",
              "Coefficients:\n",
              "   (Intercept)  df_enigh$mujer  \n",
              "        9.6010         -0.4108  \n"
            ]
          },
          "metadata": {}
        },
        {
          "output_type": "display_data",
          "data": {
            "text/plain": [
              "[1] 15976.92"
            ],
            "text/latex": "15976.9157932892",
            "text/markdown": "15976.9157932892",
            "text/html": [
              "15976.9157932892"
            ]
          },
          "metadata": {}
        },
        {
          "output_type": "display_data",
          "data": {
            "text/plain": [
              "[1] 14496.68"
            ],
            "text/latex": "14496.6832581616",
            "text/markdown": "14496.6832581616",
            "text/html": [
              "14496.6832581616"
            ]
          },
          "metadata": {}
        }
      ]
    }
  ]
}